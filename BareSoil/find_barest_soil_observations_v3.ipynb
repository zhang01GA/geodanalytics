{
 "cells": [
  {
   "cell_type": "markdown",
   "metadata": {
    "collapsed": true
   },
   "source": [
    "# Barest Soil \n",
    "\n",
    "### Fei Zhang @Geoscience Australia\n",
    "\n",
    "Last Updated  Sept 2016"
   ]
  },
  {
   "cell_type": "markdown",
   "metadata": {},
   "source": [
    "## Introduction"
   ]
  },
  {
   "cell_type": "markdown",
   "metadata": {},
   "source": [
    "Find the barest soil Earth observations from time series analysis. The result data  will be used as input for the mineral resources uncover project:  machine-learning application.\n",
    "\n",
    "Here are the centre point locations for 3 study aread with different vegetation/bareness relationships;\n",
    "\n",
    "1. Edge of fire scar (NT) 19:36:10.24S//132:34:55.72E\n",
    "\n",
    "2. Farming land (crops (green and fallow paddocks - Western NSW)30:5:45.33S/148:11:29.75E\n",
    "\n",
    "3. Woodland (remain greenish most of the time - the understory should change in response to seasonal drying out)22:52:35.4S/147:24:11.25E\n",
    "\n",
    "extract a 5X5 km or 10X10km tile for each area. Then select only tiles with < 10% poor quality pixels (e.g. noise , cloud etc.). From that subset we run NDVI and then run a median kernel (3*3 ?) to smooth out noisy pixels. The kernel needs to accommodate crappy pixels as no data values. After that we calculate the average NDVI response for whole the tile. We should try a keep the tiles in chronological order because when we process all the tiles through time series and plot up the average NDVI value for each tile we will want to see trends of drying out (increased bareness) due to seasonal effects or recovery from fire scars. I suggest we look at the image tiles along each step of the work flow. There are lots of parameters (size of tile, size and shape of the kernel etc) we can change  - but as a first step this might be a good start. \n",
    "\n",
    "Fei we might want to have further discussions when you have selected a sub-group of tiles with good pixel quality. I suppose this first step assumes that we have a very good pixel quality mask or flag?\n",
    "We have significant temporal depth - so if in doubt exclude problematic tiles.\n",
    "\n",
    "\n",
    "\n"
   ]
  },
  {
   "cell_type": "markdown",
   "metadata": {},
   "source": [
    "## Interactive Computing Environment"
   ]
  },
  {
   "cell_type": "code",
   "execution_count": 1,
   "metadata": {
    "ExecuteTime": {
     "end_time": "2016-06-06T18:30:48.818824",
     "start_time": "2016-06-06T18:30:46.587169"
    },
    "collapsed": true
   },
   "outputs": [],
   "source": [
    "%matplotlib inline\n",
    "import matplotlib.pyplot as plt\n",
    "from scipy import stats\n",
    "import numpy as np\n",
    "import math\n",
    "import pandas\n",
    "\n",
    "import sys\n",
    "sys.path.insert(0, '/g/data/u46/fxz547/Githubz/agdc-v2')#'/home/547/fxz547/myGithub/agdc-v2')  #prepend a path"
   ]
  },
  {
   "cell_type": "code",
   "execution_count": 2,
   "metadata": {
    "ExecuteTime": {
     "end_time": "2016-06-06T18:31:05.667416",
     "start_time": "2016-06-06T18:31:05.633562"
    },
    "collapsed": false
   },
   "outputs": [],
   "source": [
    "# import AGDC Python API modules\n",
    "\n",
    "import datacube\n",
    "from datacube.storage import masking\n",
    "\n",
    "# Create an API data access object\n",
    "# dc = datacube.Datacube(app='BarestSoil')\n",
    "\n",
    "# dc"
   ]
  },
  {
   "cell_type": "markdown",
   "metadata": {
    "collapsed": true
   },
   "source": [
    "We can access the Postgres Database (metadata index) and its associated imagery data."
   ]
  },
  {
   "cell_type": "code",
   "execution_count": 3,
   "metadata": {
    "collapsed": true
   },
   "outputs": [],
   "source": [
    "\"\"\"\n",
    "Description:\n",
    "    find low NDVI images for bare soil observation (Llandsat 5,7,8)\n",
    "    For an given spatial-temporal area of interest bounding box,\n",
    "    retrieve images calculate NDVI, filter and mean the NDVI images,\n",
    "    in order to find the low NDVI images for further processing.\n",
    "    The ultimate purpose is to develop high-quality datasets for the mineral uncover machine-learning application.\n",
    "\n",
    "Inputs: configuration file\n",
    "\n",
    "Outputs: a list of datetimes, each of which identifies a low NDVI image.\n",
    "\n",
    "Fei Zhang @Geoscience Australia\n",
    "\n",
    "Sept 2016\n",
    "\n",
    "Below are the centre point locations for 3 study areas with different vegetation/bareness relationships;\n",
    "\n",
    "1. Edge of fire scar (NT) 19:36:10.24S//132:34:55.72E\n",
    "\n",
    "2. Farming land (crops (green and fallow paddocks - Western NSW)30:5:45.33S/148:11:29.75E\n",
    "\n",
    "3. Woodland (remain greenish most of the time - the understory should change in response to seasonal drying out)22:52:35.4S/147:24:11.25E\n",
    "\n",
    "extract a 5X5 km or 10X10km tile for each area. Then select only tiles with < 10% poor quality pixels (e.g. noise , cloud etc.). From that subset we run NDVI and then run a median kernel (3*3 ?) to smooth out noisy pixels. The kernel needs to accommodate crappy pixels as no data values. After that we calculate the average NDVI response for whole the tile. We should try a keep the tiles in chronological order because when we process all the tiles through time series and plot up the average NDVI value for each tile we will want to see trends of drying out (increased bareness) due to seasonal effects or recovery from fire scars. I suggest we look at the image tiles along each step of the work flow. There are lots of parameters (size of tile, size and shape of the kernel etc) we can change  - but as a first step this might be a good start.\n",
    "\n",
    "\"\"\"\n",
    "\n",
    "import os\n",
    "import sys\n",
    "import matplotlib.pyplot as plt\n",
    "from scipy import stats\n",
    "import numpy as np\n",
    "\n",
    "import pandas as pd\n",
    "import rasterio\n",
    "\n",
    "sys.path.insert(0, '/g/data/u46/fxz547/Githubz/agdc-v2')  # '/home/547/fxz547/myGithub/agdc-v2')  #prepend a path\n",
    "\n",
    "import datacube\n",
    "from datacube.storage import masking\n",
    "\n",
    "\n",
    "class NDVI_Image_Stack:\n",
    "    def __init__(self, confile=None):\n",
    "\n",
    "        if confile is None:\n",
    "            # default values:\n",
    "\n",
    "            # When? a time range\n",
    "            self.tp = ('2013-01-01', '2013-12-31')\n",
    "\n",
    "            # Where?\n",
    "\n",
    "            # xp=(149.00, 149.20); yp=(-35.25, -35.35)  # Lake Burley Griffin x=(149.07, 149.17), y=(-35.25, -35.35),\n",
    "            # xp=( 149.160,  149.170); yp=(-35.34 , -35.35 )  #a small area cover GA water pond\n",
    "\n",
    "\n",
    "            # Edge of fire scar (NT) 19:36:10.24S//132:34:55.72E\n",
    "            # 0.1degree =~ 10km\n",
    "            # self.AOI_NAME='FireScarNT'; self.xp=(132.50, 132.60); self.yp=(-19.65, -19.55)\n",
    "\n",
    "            # Farming land (crops (green and fallow paddocks - Western NSW)30:5:45.33S/148:11:29.75E\n",
    "            #self.AOI_NAME='Farmland'; self.xp=(148.14, 148.24); self.yp=(-30.15, -30.05) # North of Dubbo, inside NSW border\n",
    "\n",
    "            # Woodland (greenish most of the time. the understory should change in response to seasonal drying out)22:52:35.4S/147:24:11.25E\n",
    "            self.AOI_NAME = 'Woodland'; self.xp = (147.35, 147.45); self.yp = (-22.92, -22.82)  # west of Rockhampton\n",
    "            # woodland has a blank image in 2016-05? with NDVI=0. how to exclude it?\n",
    "\n",
    "\n",
    "            #self.prod_type = 'ls5_nbar_albers'\n",
    "\n",
    "            #self.pq_prod_type = self.prod_type.replace('nbar', 'pq')\n",
    "\n",
    "        else:\n",
    "            self.parse_config()\n",
    "\n",
    "        # Create an API data access\n",
    "\n",
    "        self.dc = datacube.Datacube(app='GetData')\n",
    "\n",
    "    def parse_config(self, conf_file):\n",
    "        \"\"\"\n",
    "        Initialize the object self attributes from a config file\n",
    "        :param conf_file: path2afile\n",
    "        :return:\n",
    "        \"\"\"\n",
    "        print(\"parsing configuration file  to get input parameters for this run\")\n",
    "\n",
    "        return \"AOI\"\n",
    "\n",
    "    def get_valid_data(self, prod_type):\n",
    "        \n",
    "        query = {\n",
    "            'time': ('1990-01-01', '1991-01-01'),\n",
    "            'lat': (-35.2, -35.4),\n",
    "            'lon': (149.0, 149.2),\n",
    "        }\n",
    "\n",
    "        mslist=['red', 'nir']  #,'green', 'blue']\n",
    "        data = dc.load(product=prod_type, measurements=mslist, group_by='solar_day', **query )\n",
    "        data =  masking.mask_valid_data(data)\n",
    "        \n",
    "        return data\n",
    "\n",
    "\n",
    "    def get_ndvi(self, prod_type, cloudfreeRatio=0.5):\n",
    "        \"\"\"\n",
    "        get NDVI images for the prod_type, select cloud free ratio better.\n",
    "        \"\"\"\n",
    "\n",
    "        blist = ['red', 'nir']  # , 'green', 'swir1']\n",
    "        bands = self.dc.load(product=prod_type, x=self.xp, y=self.yp, time=self.tp, measurements=blist,\n",
    "                             group_by='solar_day')\n",
    "\n",
    "        # mask off nodata pixels\n",
    "        # red = bands.red.where(bands.red != bands.red.attrs['nodata'])\n",
    "        # nir = bands.nir.where(bands.nir != bands.nir.attrs['nodata'])\n",
    "        # green = bands.green.where(bands.green != bands.green.attrs['nodata'])\n",
    "        # swir1 = bands.swir1.where(bands.swir1 != bands.swir1.attrs['nodata'])\n",
    "        # Or equivalently\n",
    "        #     red= masking.mask_valid_data(bands.red)\n",
    "        #     nir= masking.mask_valid_data(bands.nir)\n",
    "\n",
    "        \n",
    "        bands = masking.mask_valid_data(bands)\n",
    "        red = bands.red\n",
    "        nir = bands.nir\n",
    "\n",
    "        # Retrieve the associated Pixel Quality datasets ls8_pq_albers\n",
    "        pq_prod_type = prod_type.replace('nbar', 'pq')\n",
    "        pq = self.dc.load(product=pq_prod_type, x=self.xp, y=self.yp, time=self.tp, group_by='solar_day')\n",
    "\n",
    "        print (\"NBAR and PQ slices: %s %s\" % (len(bands.time), len(pq.time)))\n",
    "\n",
    "        # to get perfect good pixels, how about cloud shadows?\n",
    "        cloud_free = masking.make_mask(pq, cloud_acca='no_cloud', cloud_fmask='no_cloud',\n",
    "                                       cloud_shadow_acca='no_cloud_shadow', cloud_shadow_fmask='no_cloud_shadow',\n",
    "                                       contiguous=True).pixelquality\n",
    "        # cloud_free = masking.make_mask(pq, cloud_acca='no_cloud', cloud_fmask='no_cloud', contiguous=True).pixelquality\n",
    "        print(cloud_free)\n",
    "\n",
    "        ndvi = ((nir - red) / (nir + red)).where(cloud_free)  # mask off the cloud etc (again after mask_valid_data()?)\n",
    "\n",
    "        # red1 = red.where(cloud_free)\n",
    "        # nir1 = nir.where(cloud_free)\n",
    "        # ndvi = ((nir1 - red1) / (nir1 + red1))  # .where(cloud_free)  ?\n",
    "\n",
    "        # Normalized Differenc Water Index: Green and Shortwave Infrared Bands\n",
    "\n",
    "        # ndwi = ((swir1- green)/(green + swir1)).where(cloud_free)\n",
    "\n",
    "        # ndwi = ((green- swir1)/(green + swir1)).where(cloud_free)\n",
    "\n",
    "        print(\"NDVI shape \", str(ndvi.shape))\n",
    "\n",
    "        # xarray.Dataset.sum to reduce the datasets by selecting the time slices with high percentage cloud-free pixels\n",
    "        #  Weed out the low quality images\n",
    "        # cloudfreeRatio = 0.8  # threshold of cloud pixel 80%\n",
    "\n",
    "        mostly_cloud_free = cloud_free.sum(dim=('x', 'y')) > (cloudfreeRatio * cloud_free.size / cloud_free.time.size)\n",
    "\n",
    "        print(mostly_cloud_free)\n",
    "\n",
    "        print(\"How many cloudless images selected?\", mostly_cloud_free.sum().values)\n",
    "\n",
    "        # Apply the time-dim mask to the 3D-array (time, x, y)\n",
    "        mostly_good_ndvi = ndvi.where(mostly_cloud_free).dropna('time', how='all')\n",
    "        # mostly_good_ndvi.plot(col='time', col_wrap=5)\n",
    "\n",
    "        print(mostly_good_ndvi)\n",
    "\n",
    "        return mostly_good_ndvi\n",
    "\n",
    "    def get_ndvi_mean(self, ndvimg):\n",
    "        \"\"\"\n",
    "        nanmean?\n",
    "        \"\"\"\n",
    "\n",
    "        ndvi_mean = ndvimg.mean(dim=['x', 'y'])  # average over the image pixels\n",
    "\n",
    "        pdser = ndvi_mean.to_pandas()  # pd.Series\n",
    "\n",
    "        df = pdser.to_frame(name='NDVI')  # convert to dataframe\n",
    "\n",
    "\n",
    "        return df.sort_index()\n",
    "\n",
    "    @staticmethod\n",
    "    def filter_center(A, size=3, no_data_val=None, func=np.nanmean):\n",
    "        \"\"\"\n",
    "        Parameters\n",
    "        ----------\n",
    "        A = input data\n",
    "        size = odd number uniform filtering kernel size\n",
    "        no_data_val = value in matrix that is treated as no data value\n",
    "        func: function to use, choose from np.nanmean/median/max/min etc.\n",
    "        Returns: nanmean of the matrix A filtered by a uniform kernel of size=size\n",
    "        -------\n",
    "        Adapted from: http://stackoverflow.com/questions/23829097/python-numpy-fastest-method-for-2d-kernel-rank-filtering-on-masked-arrays-and-o?rq=1\n",
    "        Notes\n",
    "        -----\n",
    "        This function `centers` the kernel at the target pixel.\n",
    "        This is slightly different from scipy.ndimage.uniform_filter application.\n",
    "        In scipy.ndimage.uniform_filter, a convolution approach is implemented.\n",
    "        An equivalent is scipy.ndimage.uniform_filter like convolution approach with\n",
    "        no_data_val/nan handling can be found in filter_broadcast_uniform_filter in\n",
    "        this module.\n",
    "        Change function to nanmedian, nanmax, nanmin as required.\n",
    "        \"\"\"\n",
    "\n",
    "        from numpy.lib.stride_tricks import as_strided\n",
    "\n",
    "        assert size % 2 == 1, 'Please supply an odd size'\n",
    "        rows, cols = A.shape\n",
    "\n",
    "        padded_A = np.empty(shape=(rows + size - 1,\n",
    "                                   cols + size - 1),\n",
    "                            dtype=A.dtype)\n",
    "        padded_A[:] = np.nan\n",
    "        rows_pad, cols_pad = padded_A.shape\n",
    "\n",
    "        if no_data_val:\n",
    "            mask = A == no_data_val\n",
    "            A[mask] = np.nan\n",
    "\n",
    "        padded_A[size // 2:rows_pad - size // 2, size // 2: cols_pad - size // 2] = A.copy()\n",
    "\n",
    "        N, M = A.shape\n",
    "\n",
    "        B = as_strided(padded_A, (N, M, size, size),\n",
    "                       padded_A.strides + padded_A.strides)\n",
    "        B = B.copy().reshape((N, M, size ** 2))\n",
    "\n",
    "        return func(B, axis=2)\n",
    "\n",
    "    def pipeline(self, prod):\n",
    "        \"\"\"\n",
    "        For the given prod_type, compute average NDVI time series, both original DNVI and spatially-filtered\n",
    "        return a merged pandas df\n",
    "        \"\"\"\n",
    "        \n",
    "        # original NDVI stack timeseries (nir-red/nir+red)\n",
    "        ndvi_stack = self.get_ndvi(prod, cloudfreeRatio=0.5)\n",
    "\n",
    "        print (ndvi_stack.shape)\n",
    "\n",
    "        # imshow a few of the ndvi images\n",
    "        # ndvi_stack[:20].plot(col='time', col_wrap=5, add_colorbar=False)\n",
    "        \n",
    "        spdf= self.get_ndvi_mean(ndvi_stack) # original ndvi mean time-series\n",
    "\n",
    "        pdf5 = filtered_ndvi_nanmean(ndvi_stack, ndisk=5)\n",
    "        spdf5 = pdf5.sort_index()\n",
    "        \n",
    "        pdf10 = filtered_ndvi_nanmean(ndvi_stack, ndisk=11)\n",
    "        spdf11 = pdf10.sort_index()\n",
    "        #pdf10.plot(figsize=(20, 10), marker='*')\n",
    "\n",
    "        #fsize = 21\n",
    "        pdf21 = filtered_ndvi_nanmean(ndvi_stack, ndisk=21)\n",
    "        spdf21 = pdf21.sort_index()\n",
    "\n",
    "\n",
    "        for irow in xrange(0, spdf.shape[0]):\n",
    "            dtime = spdf.index[irow]\n",
    "            print(dtime, spdf.iloc[irow][0], spdf5.iloc[irow].NDVI, spdf11.iloc[irow].NDVI, spdf21.iloc[irow].NDVI)\n",
    "\n",
    "\n",
    "        ndvidf5 = pd.merge(spdf, spdf5, left_index=True, right_index=True, how='outer')\n",
    "\n",
    "        ndvidf11 = pd.merge(ndvidf5, spdf11, left_index=True, right_index=True, how='outer')\n",
    "\n",
    "        ndvidf21 = pd.merge(ndvidf11, spdf21, left_index=True, right_index=True, how='outer')\n",
    "\n",
    "        ndvidf21.head()\n",
    "\n",
    "        # Rename columns\n",
    "        new_cols = ['NDVI0', 'NDVIS5', 'NDVIS11', 'NDVIS21']\n",
    "        ndvidf21.columns = new_cols\n",
    "\n",
    "        ndvidf21['PROD_TYPE'] = prod  # add a new column of prod_type = ls5_nabr_albers\n",
    "        \n",
    "        return ndvidf21  #a merged pdf\n",
    "\n",
    "    def main(self, confile=None):\n",
    "        \"\"\"\n",
    "        main function to run the pipeline\n",
    "        :return:\n",
    "        \"\"\"\n",
    "        prod='ls8_nbar_albers'\n",
    "        pdframe=self.pipeline(prod)\n",
    "        \n",
    "        pdframe.plot(figsize=(20, 10), marker='o')\n",
    "\n",
    "        outcsvfile='%s_%s_NDVI.csv'%(self.AOI_NAME,prod) # construct a suitable file name\n",
    "        pdframe.to_csv(outcsvfile) \n",
    "\n",
    "        return pdframe"
   ]
  },
  {
   "cell_type": "code",
   "execution_count": 4,
   "metadata": {
    "collapsed": true
   },
   "outputs": [],
   "source": [
    "def filtered_ndvi_nanmean(ndvi_imgs, ndisk=5):\n",
    "    \"\"\"\n",
    "    New spatial filter to the input ndvi_imgs array, which may have nan pixel values,\n",
    "    ndisk=5 is the default size of the  filter\n",
    "    return a pandas dataframe of mean NDVI for the images.\n",
    "\n",
    "    See http://scikit-image.org/docs/stable/api/skimage.filters.html?highlight=local%20median%20filter\n",
    "    \"\"\"\n",
    "\n",
    "    mydict = {}\n",
    "    for it in xrange(0, len(ndvi_imgs.time)):\n",
    "        # apply median filter to get an image meds for this timeslice\n",
    "        img = ndvi_imgs.isel(time=it)\n",
    "        acqdate = ndvi_imgs.time[it].values\n",
    "\n",
    "        meds = NDVI_Image_Stack.filter_center(img, size=ndisk, func=np.nanmedian)\n",
    "        # plt.imshow(meds)\n",
    "        mydict.update({acqdate: np.nanmean(meds)})\n",
    "\n",
    "    # convert mydict to pandas dataframe, with proper column names and index\n",
    "    pdf = pd.DataFrame(mydict.items(), columns=['Date', 'NDVI'])\n",
    "    pdf.set_index('Date', inplace=True)\n",
    "\n",
    "    return pdf.sort_index()\n"
   ]
  },
  {
   "cell_type": "code",
   "execution_count": 5,
   "metadata": {
    "collapsed": false,
    "scrolled": false
   },
   "outputs": [
    {
     "name": "stdout",
     "output_type": "stream",
     "text": [
      "NBAR and PQ slices: 27 27\n",
      "<xarray.DataArray 'pixelquality' (time: 27, y: 494, x: 458)>\n",
      "array([[[False, False, False, ..., False, False, False],\n",
      "        [False, False, False, ..., False, False, False],\n",
      "        [False, False, False, ..., False, False, False],\n",
      "        ..., \n",
      "        [False, False, False, ..., False, False, False],\n",
      "        [False, False, False, ..., False, False, False],\n",
      "        [False, False, False, ..., False, False, False]],\n",
      "\n",
      "       [[ True,  True,  True, ..., False, False, False],\n",
      "        [ True,  True,  True, ..., False, False, False],\n",
      "        [ True,  True,  True, ..., False, False, False],\n",
      "        ..., \n",
      "        [False, False,  True, ..., False, False, False],\n",
      "        [False, False,  True, ..., False, False, False],\n",
      "        [False, False, False, ..., False, False, False]],\n",
      "\n",
      "       [[ True,  True,  True, ...,  True,  True,  True],\n",
      "        [ True,  True,  True, ...,  True,  True,  True],\n",
      "        [ True,  True,  True, ...,  True,  True,  True],\n",
      "        ..., \n",
      "        [ True,  True,  True, ...,  True,  True,  True],\n",
      "        [ True,  True,  True, ...,  True,  True,  True],\n",
      "        [ True,  True,  True, ...,  True,  True,  True]],\n",
      "\n",
      "       ..., \n",
      "       [[ True,  True,  True, ...,  True,  True,  True],\n",
      "        [ True,  True,  True, ...,  True,  True,  True],\n",
      "        [ True,  True,  True, ..., False,  True,  True],\n",
      "        ..., \n",
      "        [ True,  True,  True, ...,  True,  True,  True],\n",
      "        [ True,  True,  True, ...,  True,  True,  True],\n",
      "        [ True,  True,  True, ...,  True,  True,  True]],\n",
      "\n",
      "       [[ True,  True,  True, ...,  True,  True,  True],\n",
      "        [ True,  True,  True, ...,  True,  True,  True],\n",
      "        [ True,  True,  True, ...,  True,  True,  True],\n",
      "        ..., \n",
      "        [ True,  True,  True, ...,  True,  True,  True],\n",
      "        [ True,  True,  True, ...,  True,  True,  True],\n",
      "        [ True,  True,  True, ...,  True,  True,  True]],\n",
      "\n",
      "       [[ True,  True,  True, ...,  True,  True,  True],\n",
      "        [ True,  True,  True, ...,  True,  True,  True],\n",
      "        [ True,  True,  True, ...,  True,  True,  True],\n",
      "        ..., \n",
      "        [ True,  True,  True, ...,  True,  True,  True],\n",
      "        [ True,  True,  True, ...,  True,  True,  True],\n",
      "        [ True,  True,  True, ...,  True,  True,  True]]], dtype=bool)\n",
      "Coordinates:\n",
      "  * y        (y) float64 -2.552e+06 -2.552e+06 -2.552e+06 -2.552e+06 ...\n",
      "  * x        (x) float64 1.556e+06 1.556e+06 1.556e+06 1.556e+06 1.556e+06 ...\n",
      "  * time     (time) datetime64[ns] 2013-03-26 2013-04-24 2013-05-01 ...\n",
      "('NDVI shape ', '(27, 494, 458)')\n",
      "<xarray.DataArray 'pixelquality' (time: 27)>\n",
      "array([False, False,  True,  True, False,  True, False, False,  True,\n",
      "       False,  True,  True,  True,  True,  True,  True,  True,  True,\n",
      "        True,  True,  True, False,  True,  True,  True,  True,  True], dtype=bool)\n",
      "Coordinates:\n",
      "  * time     (time) datetime64[ns] 2013-03-26 2013-04-24 2013-05-01 ...\n",
      "('How many cloudless images selected?', array(20))\n",
      "<xarray.DataArray (time: 20, y: 494, x: 458)>\n",
      "array([[[ 0.54012802,  0.56686519,  0.57942974, ...,  0.66634241,\n",
      "          0.66423358,  0.62803532],\n",
      "        [ 0.55689223,  0.57135497,  0.58551308, ...,  0.67251462,\n",
      "          0.68177435,  0.66949153],\n",
      "        [ 0.56647399,  0.58794947,  0.58684083, ...,  0.66794626,\n",
      "          0.67227723,  0.65831202],\n",
      "        ..., \n",
      "        [ 0.62350021,  0.6209607 ,  0.62456316, ...,  0.61014534,\n",
      "          0.55710549,  0.45883675],\n",
      "        [ 0.66401341,  0.66524419,  0.62692477, ...,  0.60623557,\n",
      "          0.56016598,  0.51184699],\n",
      "        [ 0.64170692,  0.66928361,  0.64951085, ...,  0.5718093 ,\n",
      "          0.53423831,  0.55165228]],\n",
      "\n",
      "       [[ 0.5699422 ,  0.58778626,  0.61009667, ...,  0.7167382 ,\n",
      "          0.68904188,  0.66748466],\n",
      "        [ 0.55455568,  0.57042254,  0.59653179, ...,  0.72306034,\n",
      "          0.71382979,  0.69848661],\n",
      "        [ 0.57604167,  0.58700441,  0.59187923, ...,  0.70010672,\n",
      "          0.70899471,  0.69950468],\n",
      "        ..., \n",
      "        [ 0.62260343,  0.65125241,  0.64365782, ...,  0.58943728,\n",
      "          0.59113608,  0.46051349],\n",
      "        [ 0.65638348,  0.63941527,  0.6455455 , ...,  0.60737327,\n",
      "          0.58117794,  0.5342723 ],\n",
      "        [ 0.64075067,  0.66121495,  0.61606726, ...,  0.57066077,\n",
      "          0.5378124 ,  0.5645314 ]],\n",
      "\n",
      "       [[ 0.51148021,  0.54782609,  0.55427373, ...,  0.6644433 ,\n",
      "          0.65625   ,  0.61427677],\n",
      "        [ 0.50610728,  0.55955056,  0.574045  , ...,  0.67911201,\n",
      "          0.67898627,  0.6498829 ],\n",
      "        [ 0.52195609,  0.54108527,  0.56439582, ...,  0.67696203,\n",
      "          0.66736842,  0.65955176],\n",
      "        ..., \n",
      "        [ 0.56433904,  0.57588899,  0.59029928, ...,  0.47405045,\n",
      "          0.4786081 ,  0.3675307 ],\n",
      "        [ 0.60714286,  0.62171785,  0.57588899, ...,  0.47923231,\n",
      "          0.46461187,  0.43640898],\n",
      "        [ 0.6121024 ,  0.62124939,  0.58718573, ...,  0.45329513,\n",
      "          0.43796884,  0.44953085]],\n",
      "\n",
      "       ..., \n",
      "       [[ 0.38328076,  0.39651681,  0.40273973, ...,  0.32227343,\n",
      "          0.33036849,  0.33757535],\n",
      "        [ 0.37450826,  0.38950715,  0.40885927, ...,  0.34918085,\n",
      "          0.3561008 ,  0.36300417],\n",
      "        [ 0.38025954,  0.39326733,  0.42546584, ...,         nan,\n",
      "          0.3596785 ,  0.37530777],\n",
      "        ..., \n",
      "        [ 0.38155275,  0.39221341,  0.37120948, ...,  0.24760077,\n",
      "          0.24100622,  0.232455  ],\n",
      "        [ 0.38203425,  0.38224852,  0.39505247, ...,  0.24816126,\n",
      "          0.24823848,  0.23382046],\n",
      "        [ 0.36652542,  0.38401048,  0.38068182, ...,  0.24824229,\n",
      "          0.25149051,  0.23727906]],\n",
      "\n",
      "       [[ 0.38991597,  0.42714405,  0.42719228, ...,  0.50663616,\n",
      "          0.48724954,  0.46292948],\n",
      "        [ 0.37412731,  0.40827922,  0.43717796, ...,  0.51765245,\n",
      "          0.51067781,  0.4919019 ],\n",
      "        [ 0.39869281,  0.42295345,  0.44240531, ...,  0.5       ,\n",
      "          0.48349163,  0.48251121],\n",
      "        ..., \n",
      "        [ 0.3736911 ,  0.45075485,  0.42725173, ...,  0.23568575,\n",
      "          0.23705867,  0.23053528],\n",
      "        [ 0.44306418,  0.45536048,  0.41672835, ...,  0.2233677 ,\n",
      "          0.22559096,  0.22716748],\n",
      "        [ 0.41118095,  0.43502002,  0.41684822, ...,  0.22537829,\n",
      "          0.22244692,  0.22250252]],\n",
      "\n",
      "       [[ 0.36171906,  0.39305892,  0.40446841, ...,  0.46642632,\n",
      "          0.44520548,  0.42661805],\n",
      "        [ 0.3671275 ,  0.377402  ,  0.39731286, ...,  0.48171276,\n",
      "          0.47217235,  0.45655172],\n",
      "        [ 0.37207488,  0.39891135,  0.40295119, ...,  0.46804836,\n",
      "          0.46264744,  0.45919283],\n",
      "        ..., \n",
      "        [ 0.33626761,  0.38831291,  0.36608558, ...,  0.22732301,\n",
      "          0.22467922,  0.21957743],\n",
      "        [ 0.37388025,  0.39806812,  0.37754569, ...,  0.23021978,\n",
      "          0.22729774,  0.2141339 ],\n",
      "        [ 0.38079927,  0.36914894,  0.37770734, ...,  0.23348736,\n",
      "          0.23320378,  0.2204126 ]]])\n",
      "Coordinates:\n",
      "  * time     (time) datetime64[ns] 2013-05-01 2013-05-17 2013-06-18 ...\n",
      "  * y        (y) float64 -2.552e+06 -2.552e+06 -2.552e+06 -2.552e+06 ...\n",
      "  * x        (x) float64 1.556e+06 1.556e+06 1.556e+06 1.556e+06 1.556e+06 ..."
     ]
    },
    {
     "name": "stderr",
     "output_type": "stream",
     "text": [
      "/g/data/u46/fxz547/anaconda2/lib/python2.7/site-packages/numpy/lib/nanfunctions.py:739: RuntimeWarning: All-NaN slice encountered\n",
      "  warnings.warn(\"All-NaN slice encountered\", RuntimeWarning)\n",
      "/g/data/u46/fxz547/anaconda2/lib/python2.7/site-packages/numpy/lib/nanfunctions.py:689: RuntimeWarning: All-NaN slice encountered\n",
      "  warnings.warn(\"All-NaN slice encountered\", RuntimeWarning)\n"
     ]
    },
    {
     "name": "stdout",
     "output_type": "stream",
     "text": [
      "\n",
      "(20, 494, 458)\n",
      "(Timestamp('2013-05-01 00:00:00'), 0.58579775840919224, 0.58664171859091563, 0.58707096791837099, 0.58734299956060998)\n",
      "(Timestamp('2013-05-17 00:00:00'), 0.58926888219405982, 0.5899856838390497, 0.59033088306939407, 0.59045460318351251)\n",
      "(Timestamp('2013-06-18 00:00:00'), 0.52677480031865564, 0.52687030274911306, 0.52699149549828495, 0.52698501515569929)\n",
      "(Timestamp('2013-07-13 00:00:00'), 0.47972398162889568, 0.47887602746299912, 0.47916185229593394, 0.47967064990199365)\n",
      "(Timestamp('2013-07-29 00:00:00'), 0.38849800118447209, 0.38095565780214491, 0.37518442574057637, 0.37084607018463367)\n",
      "(Timestamp('2013-08-05 00:00:00'), 0.45826679257579295, 0.45799054239388354, 0.45787702693561977, 0.45774072826190793)\n",
      "(Timestamp('2013-08-14 00:00:00'), 0.43482397735865308, 0.43454349309535212, 0.43439969044364279, 0.43425547266325654)\n",
      "(Timestamp('2013-08-21 00:00:00'), 0.42877469540850111, 0.42842559279317188, 0.42828639127343004, 0.42807853861788525)\n",
      "(Timestamp('2013-08-30 00:00:00'), 0.40779705475070799, 0.40740438451573779, 0.40718041519718934, 0.40694129011268115)\n",
      "(Timestamp('2013-09-06 00:00:00'), 0.40231977284037657, 0.39912589233863327, 0.39888718441256499, 0.40065425669641808)\n",
      "(Timestamp('2013-09-15 00:00:00'), 0.3886938182707243, 0.3884342501922789, 0.38825675535591292, 0.38797676176444734)\n",
      "(Timestamp('2013-09-22 00:00:00'), 0.38313407985112413, 0.38292386978535253, 0.38281178766599228, 0.38256608540770021)\n",
      "(Timestamp('2013-10-24 00:00:00'), 0.35749967015137013, 0.35718519377636182, 0.3568987005934236, 0.35657078093228012)\n",
      "(Timestamp('2013-11-02 00:00:00'), 0.36824083402912511, 0.36802604562543817, 0.36775544985458525, 0.36744520335687092)\n",
      "(Timestamp('2013-11-09 00:00:00'), 0.36532420558027334, 0.36512275705398073, 0.36480963812283063, 0.3644215651179481)\n",
      "(Timestamp('2013-11-25 00:00:00'), 0.39574574706831334, 0.39537921045229801, 0.3947210514216592, 0.39415676177699055)\n",
      "(Timestamp('2013-12-04 00:00:00'), 0.3714401167304216, 0.37104416074115493, 0.37042704770671497, 0.36988297823596056)\n",
      "(Timestamp('2013-12-11 00:00:00'), 0.33995114484471561, 0.33899358334357294, 0.33823787481270812, 0.337782904339334)\n",
      "(Timestamp('2013-12-20 00:00:00'), 0.36204632320065078, 0.36087466138279356, 0.36020859055642518, 0.36009132288079548)\n",
      "(Timestamp('2013-12-27 00:00:00'), 0.34573790151802414, 0.34499574062188954, 0.34405486820099718, 0.34325217638724098)\n"
     ]
    },
    {
     "data": {
      "text/html": [
       "<div>\n",
       "<table border=\"1\" class=\"dataframe\">\n",
       "  <thead>\n",
       "    <tr style=\"text-align: right;\">\n",
       "      <th></th>\n",
       "      <th>NDVI0</th>\n",
       "      <th>NDVIS5</th>\n",
       "      <th>NDVIS11</th>\n",
       "      <th>NDVIS21</th>\n",
       "      <th>PROD_TYPE</th>\n",
       "    </tr>\n",
       "    <tr>\n",
       "      <th>time</th>\n",
       "      <th></th>\n",
       "      <th></th>\n",
       "      <th></th>\n",
       "      <th></th>\n",
       "      <th></th>\n",
       "    </tr>\n",
       "  </thead>\n",
       "  <tbody>\n",
       "    <tr>\n",
       "      <th>2013-05-01</th>\n",
       "      <td>0.585798</td>\n",
       "      <td>0.586642</td>\n",
       "      <td>0.587071</td>\n",
       "      <td>0.587343</td>\n",
       "      <td>ls8_nbar_albers</td>\n",
       "    </tr>\n",
       "    <tr>\n",
       "      <th>2013-05-17</th>\n",
       "      <td>0.589269</td>\n",
       "      <td>0.589986</td>\n",
       "      <td>0.590331</td>\n",
       "      <td>0.590455</td>\n",
       "      <td>ls8_nbar_albers</td>\n",
       "    </tr>\n",
       "    <tr>\n",
       "      <th>2013-06-18</th>\n",
       "      <td>0.526775</td>\n",
       "      <td>0.526870</td>\n",
       "      <td>0.526991</td>\n",
       "      <td>0.526985</td>\n",
       "      <td>ls8_nbar_albers</td>\n",
       "    </tr>\n",
       "    <tr>\n",
       "      <th>2013-07-13</th>\n",
       "      <td>0.479724</td>\n",
       "      <td>0.478876</td>\n",
       "      <td>0.479162</td>\n",
       "      <td>0.479671</td>\n",
       "      <td>ls8_nbar_albers</td>\n",
       "    </tr>\n",
       "    <tr>\n",
       "      <th>2013-07-29</th>\n",
       "      <td>0.388498</td>\n",
       "      <td>0.380956</td>\n",
       "      <td>0.375184</td>\n",
       "      <td>0.370846</td>\n",
       "      <td>ls8_nbar_albers</td>\n",
       "    </tr>\n",
       "    <tr>\n",
       "      <th>2013-08-05</th>\n",
       "      <td>0.458267</td>\n",
       "      <td>0.457991</td>\n",
       "      <td>0.457877</td>\n",
       "      <td>0.457741</td>\n",
       "      <td>ls8_nbar_albers</td>\n",
       "    </tr>\n",
       "    <tr>\n",
       "      <th>2013-08-14</th>\n",
       "      <td>0.434824</td>\n",
       "      <td>0.434543</td>\n",
       "      <td>0.434400</td>\n",
       "      <td>0.434255</td>\n",
       "      <td>ls8_nbar_albers</td>\n",
       "    </tr>\n",
       "    <tr>\n",
       "      <th>2013-08-21</th>\n",
       "      <td>0.428775</td>\n",
       "      <td>0.428426</td>\n",
       "      <td>0.428286</td>\n",
       "      <td>0.428079</td>\n",
       "      <td>ls8_nbar_albers</td>\n",
       "    </tr>\n",
       "    <tr>\n",
       "      <th>2013-08-30</th>\n",
       "      <td>0.407797</td>\n",
       "      <td>0.407404</td>\n",
       "      <td>0.407180</td>\n",
       "      <td>0.406941</td>\n",
       "      <td>ls8_nbar_albers</td>\n",
       "    </tr>\n",
       "    <tr>\n",
       "      <th>2013-09-06</th>\n",
       "      <td>0.402320</td>\n",
       "      <td>0.399126</td>\n",
       "      <td>0.398887</td>\n",
       "      <td>0.400654</td>\n",
       "      <td>ls8_nbar_albers</td>\n",
       "    </tr>\n",
       "    <tr>\n",
       "      <th>2013-09-15</th>\n",
       "      <td>0.388694</td>\n",
       "      <td>0.388434</td>\n",
       "      <td>0.388257</td>\n",
       "      <td>0.387977</td>\n",
       "      <td>ls8_nbar_albers</td>\n",
       "    </tr>\n",
       "    <tr>\n",
       "      <th>2013-09-22</th>\n",
       "      <td>0.383134</td>\n",
       "      <td>0.382924</td>\n",
       "      <td>0.382812</td>\n",
       "      <td>0.382566</td>\n",
       "      <td>ls8_nbar_albers</td>\n",
       "    </tr>\n",
       "    <tr>\n",
       "      <th>2013-10-24</th>\n",
       "      <td>0.357500</td>\n",
       "      <td>0.357185</td>\n",
       "      <td>0.356899</td>\n",
       "      <td>0.356571</td>\n",
       "      <td>ls8_nbar_albers</td>\n",
       "    </tr>\n",
       "    <tr>\n",
       "      <th>2013-11-02</th>\n",
       "      <td>0.368241</td>\n",
       "      <td>0.368026</td>\n",
       "      <td>0.367755</td>\n",
       "      <td>0.367445</td>\n",
       "      <td>ls8_nbar_albers</td>\n",
       "    </tr>\n",
       "    <tr>\n",
       "      <th>2013-11-09</th>\n",
       "      <td>0.365324</td>\n",
       "      <td>0.365123</td>\n",
       "      <td>0.364810</td>\n",
       "      <td>0.364422</td>\n",
       "      <td>ls8_nbar_albers</td>\n",
       "    </tr>\n",
       "    <tr>\n",
       "      <th>2013-11-25</th>\n",
       "      <td>0.395746</td>\n",
       "      <td>0.395379</td>\n",
       "      <td>0.394721</td>\n",
       "      <td>0.394157</td>\n",
       "      <td>ls8_nbar_albers</td>\n",
       "    </tr>\n",
       "    <tr>\n",
       "      <th>2013-12-04</th>\n",
       "      <td>0.371440</td>\n",
       "      <td>0.371044</td>\n",
       "      <td>0.370427</td>\n",
       "      <td>0.369883</td>\n",
       "      <td>ls8_nbar_albers</td>\n",
       "    </tr>\n",
       "    <tr>\n",
       "      <th>2013-12-11</th>\n",
       "      <td>0.339951</td>\n",
       "      <td>0.338994</td>\n",
       "      <td>0.338238</td>\n",
       "      <td>0.337783</td>\n",
       "      <td>ls8_nbar_albers</td>\n",
       "    </tr>\n",
       "    <tr>\n",
       "      <th>2013-12-20</th>\n",
       "      <td>0.362046</td>\n",
       "      <td>0.360875</td>\n",
       "      <td>0.360209</td>\n",
       "      <td>0.360091</td>\n",
       "      <td>ls8_nbar_albers</td>\n",
       "    </tr>\n",
       "    <tr>\n",
       "      <th>2013-12-27</th>\n",
       "      <td>0.345738</td>\n",
       "      <td>0.344996</td>\n",
       "      <td>0.344055</td>\n",
       "      <td>0.343252</td>\n",
       "      <td>ls8_nbar_albers</td>\n",
       "    </tr>\n",
       "  </tbody>\n",
       "</table>\n",
       "</div>"
      ],
      "text/plain": [
       "               NDVI0    NDVIS5   NDVIS11   NDVIS21        PROD_TYPE\n",
       "time                                                               \n",
       "2013-05-01  0.585798  0.586642  0.587071  0.587343  ls8_nbar_albers\n",
       "2013-05-17  0.589269  0.589986  0.590331  0.590455  ls8_nbar_albers\n",
       "2013-06-18  0.526775  0.526870  0.526991  0.526985  ls8_nbar_albers\n",
       "2013-07-13  0.479724  0.478876  0.479162  0.479671  ls8_nbar_albers\n",
       "2013-07-29  0.388498  0.380956  0.375184  0.370846  ls8_nbar_albers\n",
       "2013-08-05  0.458267  0.457991  0.457877  0.457741  ls8_nbar_albers\n",
       "2013-08-14  0.434824  0.434543  0.434400  0.434255  ls8_nbar_albers\n",
       "2013-08-21  0.428775  0.428426  0.428286  0.428079  ls8_nbar_albers\n",
       "2013-08-30  0.407797  0.407404  0.407180  0.406941  ls8_nbar_albers\n",
       "2013-09-06  0.402320  0.399126  0.398887  0.400654  ls8_nbar_albers\n",
       "2013-09-15  0.388694  0.388434  0.388257  0.387977  ls8_nbar_albers\n",
       "2013-09-22  0.383134  0.382924  0.382812  0.382566  ls8_nbar_albers\n",
       "2013-10-24  0.357500  0.357185  0.356899  0.356571  ls8_nbar_albers\n",
       "2013-11-02  0.368241  0.368026  0.367755  0.367445  ls8_nbar_albers\n",
       "2013-11-09  0.365324  0.365123  0.364810  0.364422  ls8_nbar_albers\n",
       "2013-11-25  0.395746  0.395379  0.394721  0.394157  ls8_nbar_albers\n",
       "2013-12-04  0.371440  0.371044  0.370427  0.369883  ls8_nbar_albers\n",
       "2013-12-11  0.339951  0.338994  0.338238  0.337783  ls8_nbar_albers\n",
       "2013-12-20  0.362046  0.360875  0.360209  0.360091  ls8_nbar_albers\n",
       "2013-12-27  0.345738  0.344996  0.344055  0.343252  ls8_nbar_albers"
      ]
     },
     "execution_count": 5,
     "metadata": {},
     "output_type": "execute_result"
    },
    {
     "data": {
      "image/png": "[encoded data removed]",
      "text/plain": [
       "<matplotlib.figure.Figure at 0x7fdf5ca40e90>"
      ]
     },
     "metadata": {},
     "output_type": "display_data"
    }
   ],
   "source": [
    "ndviobj = NDVI_Image_Stack()\n",
    "ndviobj.main()\n"
   ]
  },
  {
   "cell_type": "code",
   "execution_count": null,
   "metadata": {
    "collapsed": true
   },
   "outputs": [],
   "source": []
  },
  {
   "cell_type": "code",
   "execution_count": null,
   "metadata": {
    "collapsed": true
   },
   "outputs": [],
   "source": []
  },
  {
   "cell_type": "code",
   "execution_count": 6,
   "metadata": {
    "collapsed": false
   },
   "outputs": [
    {
     "ename": "SyntaxError",
     "evalue": "invalid syntax (<ipython-input-6-b93ab9704721>, line 1)",
     "output_type": "error",
     "traceback": [
      "\u001b[1;36m  File \u001b[1;32m\"<ipython-input-6-b93ab9704721>\"\u001b[1;36m, line \u001b[1;32m1\u001b[0m\n\u001b[1;33m    stop and review below\u001b[0m\n\u001b[1;37m                        ^\u001b[0m\n\u001b[1;31mSyntaxError\u001b[0m\u001b[1;31m:\u001b[0m invalid syntax\n"
     ]
    }
   ],
   "source": [
    "stop and review below\n",
    "pick up useful codes"
   ]
  },
  {
   "cell_type": "code",
   "execution_count": null,
   "metadata": {
    "collapsed": false
   },
   "outputs": [],
   "source": [
    "# Where?\n",
    "\n",
    "# xp=(149.00, 149.20); yp=(-35.25, -35.35)  # Lake Burley Griffin x=(149.07, 149.17), y=(-35.25, -35.35), \n",
    "# xp=( 149.160,  149.170); yp=(-35.34 , -35.35 )  #a small area cover GA water pond\n",
    "\n",
    "\n",
    "# Edge of fire scar (NT) 19:36:10.24S//132:34:55.72E\n",
    "# 0.1degree =~ 10km \n",
    "# AOI_NAME='FireScarNT'; xp=(132.50, 132.60); yp=(-19.65, -19.55)\n",
    "\n",
    "#Farming land (crops (green and fallow paddocks - Western NSW)30:5:45.33S/148:11:29.75E\n",
    "#AOI_NAME='Farmland'; xp=(148.14, 148.24); yp=(-30.15, -30.05) # North of Dubbo, inside NSW border\n",
    "\n",
    "#Woodland (greenish most of the time. the understory should change in response to seasonal drying out)22:52:35.4S/147:24:11.25E\n",
    "AOI_NAME='Woodland'; xp=(147.35, 147.45); yp=(-22.92, -22.82)  # west of Rockhampton \n",
    "# woodland has a blank image in 2016-05? with NDVI=0. how to exclude it?\n",
    "                \n",
    "# When? a time range\n",
    "tp=('1980-01-01', '2016-12-31')\n",
    "\n",
    "\n",
    "#To see the function signature?\n",
    "#dc.load?\n"
   ]
  },
  {
   "cell_type": "code",
   "execution_count": null,
   "metadata": {
    "collapsed": false
   },
   "outputs": [],
   "source": [
    "prod_type='ls5_nbar_albers'\n",
    "\n",
    "pq_prod_type = prod_type.replace('nbar','pq')\n",
    "\n",
    "good_ndvi=get_ndvi(prod_type, xp,yp,tp,cloudfreeRatio = 0.5)\n",
    "\n",
    "print (good_ndvi.shape)"
   ]
  },
  {
   "cell_type": "code",
   "execution_count": null,
   "metadata": {
    "collapsed": false
   },
   "outputs": [],
   "source": [
    "good_ndvi[:20].plot(col='time', col_wrap=5, add_colorbar=False)"
   ]
  },
  {
   "cell_type": "code",
   "execution_count": null,
   "metadata": {
    "collapsed": false
   },
   "outputs": [],
   "source": []
  },
  {
   "cell_type": "code",
   "execution_count": null,
   "metadata": {
    "collapsed": false
   },
   "outputs": [],
   "source": [
    "img1=good_ndvi[7]\n",
    "#mask = ~np.isnan(img1); img1f = median(img1,disk(5), mask=mask)\n",
    "img1f = filter_center(img1, size=3, func=np.nanmedian )"
   ]
  },
  {
   "cell_type": "code",
   "execution_count": null,
   "metadata": {
    "collapsed": false
   },
   "outputs": [],
   "source": [
    "plt.imshow(img1f)\n"
   ]
  },
  {
   "cell_type": "code",
   "execution_count": null,
   "metadata": {
    "collapsed": false
   },
   "outputs": [],
   "source": [
    "plt.imshow(img1)"
   ]
  },
  {
   "cell_type": "code",
   "execution_count": null,
   "metadata": {
    "collapsed": false
   },
   "outputs": [],
   "source": [
    "np.nanmean(img1f)"
   ]
  },
  {
   "cell_type": "code",
   "execution_count": null,
   "metadata": {
    "collapsed": false
   },
   "outputs": [],
   "source": [
    "img1.mean()"
   ]
  },
  {
   "cell_type": "code",
   "execution_count": null,
   "metadata": {
    "collapsed": false
   },
   "outputs": [],
   "source": [
    "\n",
    "ndvi578.plot( figsize=(20,10),  marker='*' )"
   ]
  },
  {
   "cell_type": "code",
   "execution_count": null,
   "metadata": {
    "collapsed": false
   },
   "outputs": [],
   "source": [
    "#ndvi_mean"
   ]
  },
  {
   "cell_type": "code",
   "execution_count": null,
   "metadata": {
    "collapsed": false
   },
   "outputs": [],
   "source": [
    "outcsvfile='meanNDVI578_%s.csv'% (AOI_NAME)\n",
    "\n",
    "ndvi578.to_csv(outcsvfile)  #('/tmp/meanNDVI578_FireScarNT.csv')"
   ]
  },
  {
   "cell_type": "code",
   "execution_count": null,
   "metadata": {
    "collapsed": false
   },
   "outputs": [],
   "source": [
    "ndvi578.hist(bins=100)"
   ]
  },
  {
   "cell_type": "code",
   "execution_count": null,
   "metadata": {
    "collapsed": false
   },
   "outputs": [],
   "source": [
    "p10= ndvi578.quantile(0.1)\n",
    "p90= ndvi578.quantile(0.9)\n",
    "\n",
    "bot_tenperc=ndvi578[(ndvi578['NDVI'] <= p10[0])].dropna()\n",
    "top_tenperc=ndvi578[(ndvi578['NDVI'] >= p90[0])].dropna()"
   ]
  },
  {
   "cell_type": "code",
   "execution_count": null,
   "metadata": {
    "collapsed": false
   },
   "outputs": [],
   "source": [
    "outcsvfile2='meanNDVI578_%s_bot10pc.csv'% (AOI_NAME)\n",
    "bot_tenperc.to_csv(outcsvfile2)\n",
    "\n",
    "outcsvfile3='meanNDVI578_%s_top10pc.csv'% (AOI_NAME)\n",
    "top_tenperc.to_csv(outcsvfile3)"
   ]
  },
  {
   "cell_type": "code",
   "execution_count": null,
   "metadata": {
    "collapsed": false
   },
   "outputs": [],
   "source": [
    "top_tenperc.head"
   ]
  },
  {
   "cell_type": "code",
   "execution_count": null,
   "metadata": {
    "collapsed": false
   },
   "outputs": [],
   "source": [
    "p10"
   ]
  },
  {
   "cell_type": "code",
   "execution_count": null,
   "metadata": {
    "collapsed": false
   },
   "outputs": [],
   "source": [
    "bot_tenperc.head(100)"
   ]
  },
  {
   "cell_type": "code",
   "execution_count": null,
   "metadata": {
    "collapsed": false
   },
   "outputs": [],
   "source": [
    "ndvidf21.plot(figsize=(20,10), marker='o' )"
   ]
  },
  {
   "cell_type": "code",
   "execution_count": null,
   "metadata": {
    "collapsed": false
   },
   "outputs": [],
   "source": [
    "stop\n"
   ]
  },
  {
   "cell_type": "code",
   "execution_count": null,
   "metadata": {
    "collapsed": false
   },
   "outputs": [],
   "source": [
    "#http://scikit-image.org/docs/stable/api/skimage.filters.html?highlight=local%20median%20filter\n",
    "\n",
    "from skimage import data\n",
    "from skimage.morphology import disk\n",
    "from skimage.filters.rank import median\n",
    "# >>> img = data.camera()\n",
    "# >>> med = median(img, disk(5))"
   ]
  },
  {
   "cell_type": "code",
   "execution_count": null,
   "metadata": {
    "collapsed": true
   },
   "outputs": [],
   "source": [
    "def filtered_ndvi_mean(ndvi_imgs, ndisk=5):\n",
    "    \"\"\" apply a spatial filter to the input ndvi_imgs array\n",
    "    return a pandas dataframe of mean NDVI for the images.\n",
    "    ndisk=5 is the default size of the disk filter\n",
    "    See http://scikit-image.org/docs/stable/api/skimage.filters.html?highlight=local%20median%20filter\n",
    "    \"\"\"\n",
    "\n",
    "    mydict={}\n",
    "    for it in xrange(0, len(ndvi_imgs.time)):\n",
    "        # apply median filter to get an image meds for this timeslice\n",
    "        img=ndvi_imgs.isel(time=it)\n",
    "        imask= ~np.isnan(img)\n",
    "        meds = median(img,disk(ndisk), mask=imask)  \n",
    "        #plt.imshow(meds)\n",
    "        mydict.update({ndvi_imgs.time[it].values: meds.mean()})\n",
    "\n",
    "    # convert mydict to pandas dataframe, with proper column names and index\n",
    "    pdf=pandas.DataFrame(mydict.items(), columns=['Date', 'NDVI'])\n",
    "    pdf.set_index('Date', inplace=True)\n",
    "    \n",
    "    return pdf"
   ]
  },
  {
   "cell_type": "code",
   "execution_count": null,
   "metadata": {
    "collapsed": false
   },
   "outputs": [],
   "source": [
    "scaled_good_ndvi = 128*(1+good_ndvi) # to unint8 or uint16 for scikit-image filter input\n",
    "\n",
    "uint8_good_ndvi=scaled_good_ndvi.astype('uint8')\n",
    "\n",
    "pdf5 = filtered_ndvi_mean( uint8_good_ndvi, ndisk=5)\n",
    "\n",
    "pdf5.head()"
   ]
  },
  {
   "cell_type": "code",
   "execution_count": null,
   "metadata": {
    "collapsed": false
   },
   "outputs": [],
   "source": [
    "pdf0=filtered_ndvi_mean( uint8_good_ndvi, ndisk=0)"
   ]
  },
  {
   "cell_type": "code",
   "execution_count": null,
   "metadata": {
    "collapsed": false
   },
   "outputs": [],
   "source": [
    "# plt.figure( )\n",
    "pdf0.plot(figsize=(20,10), marker='*' )"
   ]
  },
  {
   "cell_type": "code",
   "execution_count": null,
   "metadata": {
    "collapsed": false
   },
   "outputs": [],
   "source": [
    "pdf5.plot(figsize=(20,10), marker='*' )"
   ]
  },
  {
   "cell_type": "code",
   "execution_count": null,
   "metadata": {
    "collapsed": false
   },
   "outputs": [],
   "source": [
    "pdf10 = filtered_ndvi_mean( uint8_good_ndvi, ndisk=10)\n",
    "\n",
    "print(pdf10.shape)\n",
    "pdf10.plot(figsize=(20,10), marker='*' )"
   ]
  },
  {
   "cell_type": "code",
   "execution_count": null,
   "metadata": {
    "collapsed": false
   },
   "outputs": [],
   "source": [
    "pdf15 = filtered_ndvi_mean( uint8_good_ndvi, ndisk=15)\n",
    "\n",
    "print(pdf15.shape)\n",
    "pdf15.plot(figsize=(20,10), marker='*' )"
   ]
  },
  {
   "cell_type": "code",
   "execution_count": null,
   "metadata": {
    "collapsed": false
   },
   "outputs": [],
   "source": [
    "pdf20 = filtered_ndvi_mean( uint8_good_ndvi, ndisk=20)\n",
    "\n",
    "print(pdf15.shape)\n",
    "pdf20.plot(figsize=(20,10), marker='*' )"
   ]
  },
  {
   "cell_type": "code",
   "execution_count": null,
   "metadata": {
    "collapsed": false
   },
   "outputs": [],
   "source": [
    "# no filter, original ndvi images\n",
    "ndvi578.sort_values('NDVI').head(40)"
   ]
  },
  {
   "cell_type": "code",
   "execution_count": null,
   "metadata": {
    "collapsed": false
   },
   "outputs": [],
   "source": [
    "\n",
    "for irow in xrange (0, pdf5.shape[0]):\n",
    "    dtime=ndvi578.index[irow]\n",
    "    print(dtime,ndvi578.iloc[irow][0], pdf5.iloc[irow].NDVI, pdf10.iloc[irow].NDVI, pdf15.iloc[irow].NDVI, pdf20.iloc[irow].NDVI)"
   ]
  },
  {
   "cell_type": "code",
   "execution_count": null,
   "metadata": {
    "collapsed": false
   },
   "outputs": [],
   "source": [
    "bot_tenperc.head()"
   ]
  },
  {
   "cell_type": "code",
   "execution_count": null,
   "metadata": {
    "collapsed": false
   },
   "outputs": [],
   "source": [
    "(147.901603-128)/128"
   ]
  },
  {
   "cell_type": "code",
   "execution_count": null,
   "metadata": {
    "collapsed": false
   },
   "outputs": [],
   "source": [
    "pdf15.sort_values('NDVI').head(40)"
   ]
  },
  {
   "cell_type": "code",
   "execution_count": null,
   "metadata": {
    "collapsed": false
   },
   "outputs": [],
   "source": [
    "top_tenperc.head(5)"
   ]
  },
  {
   "cell_type": "code",
   "execution_count": null,
   "metadata": {
    "collapsed": false
   },
   "outputs": [],
   "source": [
    "done"
   ]
  },
  {
   "cell_type": "markdown",
   "metadata": {},
   "source": [
    "## Normalised Difference Water Index"
   ]
  },
  {
   "cell_type": "code",
   "execution_count": null,
   "metadata": {
    "collapsed": false
   },
   "outputs": [],
   "source": [
    "# images after removed invalid pixels. \n",
    "#ndwi.plot(col='time', col_wrap=6)\n"
   ]
  },
  {
   "cell_type": "markdown",
   "metadata": {},
   "source": [
    "### Weed out the low quality images."
   ]
  },
  {
   "cell_type": "code",
   "execution_count": null,
   "metadata": {
    "collapsed": false
   },
   "outputs": [],
   "source": [
    "# apply the cloud_threshold mask, which will select a subset images with good pixels. \n",
    "\n",
    "mostly_good_ndwi = ndwi.where(mostly_cloud_free).dropna('time', how='all')\n",
    "\n",
    "mostly_good_ndwi.plot(col='time', col_wrap=5)"
   ]
  },
  {
   "cell_type": "markdown",
   "metadata": {},
   "source": [
    "## Statistics Median and Mean Images\n",
    "\n",
    "### Normalised Vegetation Index vs Water Index"
   ]
  },
  {
   "cell_type": "code",
   "execution_count": null,
   "metadata": {
    "collapsed": false
   },
   "outputs": [],
   "source": [
    "plt.figure( figsize=(16,12) )\n",
    "    \n",
    "plt.subplot( 2,2,1 )\n",
    "mostly_good_ndvi.median(dim='time').plot()\n",
    "plt.title(\"Median Normalised Difference Vegetation Index - NDVI\"); plt.xlabel('easting'); plt.ylabel('northing')\n",
    "\n",
    "\n",
    "plt.subplot( 2,2,2 )\n",
    "mostly_good_ndvi.mean(dim='time').plot()\n",
    "# ndvi.mean(dim='time').plot()\n",
    "plt.title(\"Mean Normalised Difference Vegetation Index - NDVI\"); plt.xlabel('easting'); plt.ylabel('northing')\n",
    "\n",
    "#------------------------------\n",
    "plt.subplot( 2,2,3 )\n",
    "mostly_good_ndwi.median(dim='time').plot()\n",
    "plt.title(\"Median Normalised Difference Water Index - NDWI\"); plt.xlabel('easting'); plt.ylabel('northing')\n",
    "\n",
    "\n",
    "plt.subplot( 2,2,4 )\n",
    "mostly_good_ndwi.mean(dim='time').plot()\n",
    "# ndwi.mean(dim='time').plot()\n",
    "plt.title(\"Mean Normalised Difference Water Index - NDWI\"); plt.xlabel('easting'); plt.ylabel('northing')"
   ]
  },
  {
   "cell_type": "markdown",
   "metadata": {
    "collapsed": true
   },
   "source": [
    "# Water Observation from Space\n",
    "\n",
    "http://eos-test.ga.gov.au/geoserver/www/remote_scripts/WOfS_v1.6.htm\n"
   ]
  }
 ],
 "metadata": {
  "kernelspec": {
   "display_name": "Python 2",
   "language": "python",
   "name": "python2"
  },
  "language_info": {
   "codemirror_mode": {
    "name": "ipython",
    "version": 2
   },
   "file_extension": ".py",
   "mimetype": "text/x-python",
   "name": "python",
   "nbconvert_exporter": "python",
   "pygments_lexer": "ipython2",
   "version": "2.7.11"
  },
  "toc": {
   "toc_cell": false,
   "toc_number_sections": false,
   "toc_threshold": 6,
   "toc_window_display": true
  },
  "widgets": {
   "state": {},
   "version": "1.1.1"
  }
 },
 "nbformat": 4,
 "nbformat_minor": 0
}
