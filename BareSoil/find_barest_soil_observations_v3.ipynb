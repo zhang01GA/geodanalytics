{
 "cells": [
  {
   "cell_type": "markdown",
   "metadata": {
    "collapsed": true
   },
   "source": [
    "# Barest Soil \n",
    "\n",
    "### Fei Zhang @Geoscience Australia\n",
    "\n",
    "Last Updated  Sept 2016"
   ]
  },
  {
   "cell_type": "markdown",
   "metadata": {},
   "source": [
    "## Introduction"
   ]
  },
  {
   "cell_type": "markdown",
   "metadata": {},
   "source": [
    "Find the barest soil Earth observations from time series analysis. The result data  will be used as input for the mineral resources uncover project:  machine-learning application.\n",
    "\n",
    "Here are the centre point locations for 3 study aread with different vegetation/bareness relationships;\n",
    "\n",
    "1. Edge of fire scar (NT) 19:36:10.24S//132:34:55.72E\n",
    "\n",
    "2. Farming land (crops (green and fallow paddocks - Western NSW)30:5:45.33S/148:11:29.75E\n",
    "\n",
    "3. Woodland (remain greenish most of the time - the understory should change in response to seasonal drying out)22:52:35.4S/147:24:11.25E\n",
    "\n",
    "extract a 5X5 km or 10X10km tile for each area. Then select only tiles with < 10% poor quality pixels (e.g. noise , cloud etc.). From that subset we run NDVI and then run a median kernel (3*3 ?) to smooth out noisy pixels. The kernel needs to accommodate crappy pixels as no data values. After that we calculate the average NDVI response for whole the tile. We should try a keep the tiles in chronological order because when we process all the tiles through time series and plot up the average NDVI value for each tile we will want to see trends of drying out (increased bareness) due to seasonal effects or recovery from fire scars. I suggest we look at the image tiles along each step of the work flow. There are lots of parameters (size of tile, size and shape of the kernel etc) we can change  - but as a first step this might be a good start. \n",
    "\n",
    "Fei we might want to have further discussions when you have selected a sub-group of tiles with good pixel quality. I suppose this first step assumes that we have a very good pixel quality mask or flag?\n",
    "We have significant temporal depth - so if in doubt exclude problematic tiles.\n",
    "\n",
    "\n",
    "\n"
   ]
  },
  {
   "cell_type": "markdown",
   "metadata": {},
   "source": [
    "## Interactive Computing Environment"
   ]
  },
  {
   "cell_type": "code",
   "execution_count": 1,
   "metadata": {
    "ExecuteTime": {
     "end_time": "2016-06-06T18:30:48.818824",
     "start_time": "2016-06-06T18:30:46.587169"
    },
    "collapsed": true
   },
   "outputs": [],
   "source": [
    "%matplotlib inline\n",
    "import matplotlib.pyplot as plt\n",
    "from scipy import stats\n",
    "import numpy as np\n",
    "import math\n",
    "import pandas\n",
    "\n",
    "import sys\n",
    "sys.path.insert(0, '/g/data/u46/fxz547/Githubz/agdc-v2')#'/home/547/fxz547/myGithub/agdc-v2')  #prepend a path"
   ]
  },
  {
   "cell_type": "code",
   "execution_count": 2,
   "metadata": {
    "ExecuteTime": {
     "end_time": "2016-06-06T18:31:05.667416",
     "start_time": "2016-06-06T18:31:05.633562"
    },
    "collapsed": false
   },
   "outputs": [],
   "source": [
    "# import AGDC Python API modules\n",
    "\n",
    "import datacube\n",
    "from datacube.storage import masking\n",
    "\n",
    "# Create an API data access object\n",
    "# dc = datacube.Datacube(app='BarestSoil')\n",
    "\n",
    "# dc"
   ]
  },
  {
   "cell_type": "markdown",
   "metadata": {
    "collapsed": true
   },
   "source": [
    "We can access the Postgres Database (metadata index) and its associated imagery data."
   ]
  },
  {
   "cell_type": "code",
   "execution_count": 3,
   "metadata": {
    "collapsed": true
   },
   "outputs": [],
   "source": [
    "\"\"\"\n",
    "Description:\n",
    "    find low NDVI images for bare soil observation (Llandsat 5,7,8)\n",
    "    For an given spatial-temporal area of interest bounding box,\n",
    "    retrieve images calculate NDVI, filter and mean the NDVI images,\n",
    "    in order to find the low NDVI images for further processing.\n",
    "    The ultimate purpose is to develop high-quality datasets for the mineral uncover machine-learning application.\n",
    "\n",
    "Inputs: configuration file\n",
    "\n",
    "Outputs: a list of datetimes, each of which identifies a low NDVI image.\n",
    "\n",
    "Fei Zhang @Geoscience Australia\n",
    "\n",
    "Sept 2016\n",
    "\n",
    "Below are the centre point locations for 3 study areas with different vegetation/bareness relationships;\n",
    "\n",
    "1. Edge of fire scar (NT) 19:36:10.24S//132:34:55.72E\n",
    "\n",
    "2. Farming land (crops (green and fallow paddocks - Western NSW)30:5:45.33S/148:11:29.75E\n",
    "\n",
    "3. Woodland (remain greenish most of the time - the understory should change in response to seasonal drying out)22:52:35.4S/147:24:11.25E\n",
    "\n",
    "extract a 5X5 km or 10X10km tile for each area. Then select only tiles with < 10% poor quality pixels (e.g. noise , cloud etc.). From that subset we run NDVI and then run a median kernel (3*3 ?) to smooth out noisy pixels. The kernel needs to accommodate crappy pixels as no data values. After that we calculate the average NDVI response for whole the tile. We should try a keep the tiles in chronological order because when we process all the tiles through time series and plot up the average NDVI value for each tile we will want to see trends of drying out (increased bareness) due to seasonal effects or recovery from fire scars. I suggest we look at the image tiles along each step of the work flow. There are lots of parameters (size of tile, size and shape of the kernel etc) we can change  - but as a first step this might be a good start.\n",
    "\n",
    "\"\"\"\n",
    "\n",
    "import os\n",
    "import sys\n",
    "import matplotlib.pyplot as plt\n",
    "from scipy import stats\n",
    "import numpy as np\n",
    "\n",
    "import pandas as pd\n",
    "import rasterio\n",
    "\n",
    "sys.path.insert(0, '/g/data/u46/fxz547/Githubz/agdc-v2')  # '/home/547/fxz547/myGithub/agdc-v2')  #prepend a path\n",
    "\n",
    "import datacube\n",
    "from datacube.storage import masking\n",
    "\n",
    "\n",
    "class NDVI_Image_Stack:\n",
    "    def __init__(self, confile=None):\n",
    "\n",
    "        if confile is None:\n",
    "            # default values:\n",
    "\n",
    "            # When? a time range\n",
    "            self.tp = ('2015-01-01', '2015-12-31')\n",
    "\n",
    "            # Where?\n",
    "\n",
    "            # xp=(149.00, 149.20); yp=(-35.25, -35.35)  # Lake Burley Griffin x=(149.07, 149.17), y=(-35.25, -35.35),\n",
    "            # xp=( 149.160,  149.170); yp=(-35.34 , -35.35 )  #a small area cover GA water pond\n",
    "\n",
    "\n",
    "            # Edge of fire scar (NT) 19:36:10.24S//132:34:55.72E\n",
    "            # 0.1degree =~ 10km\n",
    "            # self.AOI_NAME='FireScarNT'; self.xp=(132.50, 132.60); self.yp=(-19.65, -19.55)\n",
    "\n",
    "            # Farming land (crops (green and fallow paddocks - Western NSW)30:5:45.33S/148:11:29.75E\n",
    "            #self.AOI_NAME='Farmland'; self.xp=(148.14, 148.24); self.yp=(-30.15, -30.05) # North of Dubbo, inside NSW border\n",
    "\n",
    "            # Woodland (greenish most of the time. the understory should change in response to seasonal drying out)22:52:35.4S/147:24:11.25E\n",
    "            self.AOI_NAME = 'Woodland'; self.xp = (147.35, 147.45); self.yp = (-22.92, -22.82)  # west of Rockhampton\n",
    "            # woodland has a blank image in 2016-05? with NDVI=0. how to exclude it?\n",
    "\n",
    "\n",
    "            #self.prod_type = 'ls5_nbar_albers'\n",
    "\n",
    "            #self.pq_prod_type = self.prod_type.replace('nbar', 'pq')\n",
    "\n",
    "        else:\n",
    "            self.parse_config()\n",
    "\n",
    "        # Create an API data access\n",
    "\n",
    "        self.dc = datacube.Datacube(app='GetData')\n",
    "\n",
    "    def parse_config(self, conf_file):\n",
    "        \"\"\"\n",
    "        Initialize the object self attributes from a config file\n",
    "        :param conf_file: path2afile\n",
    "        :return:\n",
    "        \"\"\"\n",
    "        print(\"parsing configuration file  to get input parameters for this run\")\n",
    "\n",
    "        return \"AOI\"\n",
    "\n",
    "    def get_valid_data(self, prod_type):\n",
    "        \n",
    "        query = {\n",
    "            'time': ('1990-01-01', '1991-01-01'),\n",
    "            'lat': (-35.2, -35.4),\n",
    "            'lon': (149.0, 149.2),\n",
    "        }\n",
    "\n",
    "        mslist=['red', 'nir']  #,'green', 'blue']\n",
    "        data = dc.load(product=prod_type, measurements=mslist, group_by='solar_day', **query )\n",
    "        data =  masking.mask_valid_data(data)\n",
    "        \n",
    "        return data\n",
    "\n",
    "\n",
    "    def get_ndvi(self, prod_type, cloudfreeRatio=0.5):\n",
    "        \"\"\"\n",
    "        get NDVI images for the prod_type, select cloud free ratio better.\n",
    "        \"\"\"\n",
    "\n",
    "        blist = ['red', 'nir']  # , 'green', 'swir1']\n",
    "        bands = self.dc.load(product=prod_type, x=self.xp, y=self.yp, time=self.tp, measurements=blist,\n",
    "                             group_by='solar_day')\n",
    "\n",
    "        # mask off nodata pixels\n",
    "        # red = bands.red.where(bands.red != bands.red.attrs['nodata'])\n",
    "        # nir = bands.nir.where(bands.nir != bands.nir.attrs['nodata'])\n",
    "        # green = bands.green.where(bands.green != bands.green.attrs['nodata'])\n",
    "        # swir1 = bands.swir1.where(bands.swir1 != bands.swir1.attrs['nodata'])\n",
    "        # Or equivalently\n",
    "        #     red= masking.mask_valid_data(bands.red)\n",
    "        #     nir= masking.mask_valid_data(bands.nir)\n",
    "\n",
    "        \n",
    "        bands = masking.mask_valid_data(bands)\n",
    "        red = bands.red\n",
    "        nir = bands.nir\n",
    "\n",
    "        # Retrieve the associated Pixel Quality datasets ls8_pq_albers\n",
    "        pq_prod_type = prod_type.replace('nbar', 'pq')\n",
    "        pq = self.dc.load(product=pq_prod_type, x=self.xp, y=self.yp, time=self.tp, group_by='solar_day')\n",
    "\n",
    "        print (\"NBAR and PQ slices: %s %s\" % (len(bands.time), len(pq.time)))\n",
    "\n",
    "        # to get perfect good pixels, how about cloud shadows?\n",
    "        cloud_free = masking.make_mask(pq, cloud_acca='no_cloud', cloud_fmask='no_cloud',\n",
    "                                       cloud_shadow_acca='no_cloud_shadow', cloud_shadow_fmask='no_cloud_shadow',\n",
    "                                       contiguous=True).pixelquality\n",
    "        # cloud_free = masking.make_mask(pq, cloud_acca='no_cloud', cloud_fmask='no_cloud', contiguous=True).pixelquality\n",
    "        print(cloud_free)\n",
    "\n",
    "        ndvi = ((nir - red) / (nir + red)).where(cloud_free)  # mask off the cloud etc (again after mask_valid_data()?)\n",
    "\n",
    "        # red1 = red.where(cloud_free)\n",
    "        # nir1 = nir.where(cloud_free)\n",
    "        # ndvi = ((nir1 - red1) / (nir1 + red1))  # .where(cloud_free)  ?\n",
    "\n",
    "        # Normalized Differenc Water Index: Green and Shortwave Infrared Bands\n",
    "\n",
    "        # ndwi = ((swir1- green)/(green + swir1)).where(cloud_free)\n",
    "\n",
    "        # ndwi = ((green- swir1)/(green + swir1)).where(cloud_free)\n",
    "\n",
    "        print(\"NDVI shape \", str(ndvi.shape))\n",
    "\n",
    "        # xarray.Dataset.sum to reduce the datasets by selecting the time slices with high percentage cloud-free pixels\n",
    "        #  Weed out the low quality images\n",
    "        # cloudfreeRatio = 0.8  # threshold of cloud pixel 80%\n",
    "\n",
    "        mostly_cloud_free = cloud_free.sum(dim=('x', 'y')) > (cloudfreeRatio * cloud_free.size / cloud_free.time.size)\n",
    "\n",
    "        print(mostly_cloud_free)\n",
    "\n",
    "        print(\"How many cloudless images selected?\", mostly_cloud_free.sum().values)\n",
    "\n",
    "        # Apply the time-dim mask to the 3D-array (time, x, y)\n",
    "        mostly_good_ndvi = ndvi.where(mostly_cloud_free).dropna('time', how='all')\n",
    "        # mostly_good_ndvi.plot(col='time', col_wrap=5)\n",
    "\n",
    "        print(mostly_good_ndvi)\n",
    "\n",
    "        return mostly_good_ndvi\n",
    "\n",
    "    def get_ndvi_mean(self, ndvimg):\n",
    "        \"\"\"\n",
    "        nanmean?\n",
    "        \"\"\"\n",
    "\n",
    "        ndvi_mean = ndvimg.mean(dim=['x', 'y'])  # average over the image pixels\n",
    "\n",
    "        pdser = ndvi_mean.to_pandas()  # pd.Series\n",
    "\n",
    "        df = pdser.to_frame(name='NDVI')  # convert to dataframe\n",
    "\n",
    "\n",
    "        return df.sort_index()\n",
    "\n",
    "    @staticmethod\n",
    "    def filter_center(A, size=3, no_data_val=None, func=np.nanmean):\n",
    "        \"\"\"\n",
    "        Parameters\n",
    "        ----------\n",
    "        A = input data\n",
    "        size = odd number uniform filtering kernel size\n",
    "        no_data_val = value in matrix that is treated as no data value\n",
    "        func: function to use, choose from np.nanmean/median/max/min etc.\n",
    "        Returns: nanmean of the matrix A filtered by a uniform kernel of size=size\n",
    "        -------\n",
    "        Adapted from: http://stackoverflow.com/questions/23829097/python-numpy-fastest-method-for-2d-kernel-rank-filtering-on-masked-arrays-and-o?rq=1\n",
    "        Notes\n",
    "        -----\n",
    "        This function `centers` the kernel at the target pixel.\n",
    "        This is slightly different from scipy.ndimage.uniform_filter application.\n",
    "        In scipy.ndimage.uniform_filter, a convolution approach is implemented.\n",
    "        An equivalent is scipy.ndimage.uniform_filter like convolution approach with\n",
    "        no_data_val/nan handling can be found in filter_broadcast_uniform_filter in\n",
    "        this module.\n",
    "        Change function to nanmedian, nanmax, nanmin as required.\n",
    "        \"\"\"\n",
    "\n",
    "        from numpy.lib.stride_tricks import as_strided\n",
    "\n",
    "        assert size % 2 == 1, 'Please supply an odd size'\n",
    "        rows, cols = A.shape\n",
    "\n",
    "        padded_A = np.empty(shape=(rows + size - 1,\n",
    "                                   cols + size - 1),\n",
    "                            dtype=A.dtype)\n",
    "        padded_A[:] = np.nan\n",
    "        rows_pad, cols_pad = padded_A.shape\n",
    "\n",
    "        if no_data_val:\n",
    "            mask = A == no_data_val\n",
    "            A[mask] = np.nan\n",
    "\n",
    "        padded_A[size // 2:rows_pad - size // 2, size // 2: cols_pad - size // 2] = A.copy()\n",
    "\n",
    "        N, M = A.shape\n",
    "\n",
    "        B = as_strided(padded_A, (N, M, size, size),\n",
    "                       padded_A.strides + padded_A.strides)\n",
    "        B = B.copy().reshape((N, M, size ** 2))\n",
    "\n",
    "        return func(B, axis=2)\n",
    "\n",
    "    def pipeline(self, prod):\n",
    "        \"\"\"\n",
    "        For the given prod_type, compute average NDVI time series, both original DNVI and spatially-filtered\n",
    "        return a merged pandas df\n",
    "        \"\"\"\n",
    "        \n",
    "        # original NDVI stack timeseries (nir-red/nir+red)\n",
    "        ndvi_stack = self.get_ndvi(prod, cloudfreeRatio=0.5)\n",
    "\n",
    "        print (ndvi_stack.shape)\n",
    "\n",
    "        # imshow a few of the ndvi images\n",
    "        # ndvi_stack[:20].plot(col='time', col_wrap=5, add_colorbar=False)\n",
    "        \n",
    "        spdf= self.get_ndvi_mean(ndvi_stack) # original ndvi mean time-series\n",
    "\n",
    "        pdf5 = filtered_ndvi_nanmean(ndvi_stack, ndisk=5)\n",
    "        spdf5 = pdf5.sort_index()\n",
    "        \n",
    "        pdf10 = filtered_ndvi_nanmean(ndvi_stack, ndisk=11)\n",
    "        spdf11 = pdf10.sort_index()\n",
    "        #pdf10.plot(figsize=(20, 10), marker='*')\n",
    "\n",
    "        #fsize = 21\n",
    "        pdf21 = filtered_ndvi_nanmean(ndvi_stack, ndisk=21)\n",
    "        spdf21 = pdf21.sort_index()\n",
    "\n",
    "\n",
    "        for irow in xrange(0, spdf.shape[0]):\n",
    "            dtime = spdf.index[irow]\n",
    "            print(dtime, spdf.iloc[irow][0], spdf5.iloc[irow].NDVI, spdf11.iloc[irow].NDVI, spdf21.iloc[irow].NDVI)\n",
    "\n",
    "\n",
    "        ndvidf5 = pd.merge(spdf, spdf5, left_index=True, right_index=True, how='outer')\n",
    "\n",
    "        ndvidf11 = pd.merge(ndvidf5, spdf11, left_index=True, right_index=True, how='outer')\n",
    "\n",
    "        ndvidf21 = pd.merge(ndvidf11, spdf21, left_index=True, right_index=True, how='outer')\n",
    "\n",
    "        ndvidf21.head()\n",
    "\n",
    "        # Rename columns\n",
    "        new_cols = ['NDVI0', 'NDVIS5', 'NDVIS11', 'NDVIS21']\n",
    "        ndvidf21.columns = new_cols\n",
    "\n",
    "        ndvidf21['PROD_TYPE'] = prod  # add a new column of prod_type = ls5_nabr_albers\n",
    "        \n",
    "        return ndvidf21  #a merged pdf\n",
    "\n",
    "    def main(self, confile=None):\n",
    "        \"\"\"\n",
    "        main function to run the pipeline\n",
    "        :return:\n",
    "        \"\"\"\n",
    "        prod='ls8_nbar_albers'\n",
    "        pdframe=self.pipeline(prod)\n",
    "        \n",
    "        pdframe.plot(figsize=(20, 10), marker='o')\n",
    "\n",
    "        outcsvfile='%s_%s_NDVI.csv'%(self.AOI_NAME,prod) # construct a suitable file name\n",
    "        pdframe.to_csv(outcsvfile) \n",
    "\n",
    "        return pdframe"
   ]
  },
  {
   "cell_type": "code",
   "execution_count": 4,
   "metadata": {
    "collapsed": true
   },
   "outputs": [],
   "source": [
    "def filtered_ndvi_nanmean(ndvi_imgs, ndisk=5):\n",
    "    \"\"\"\n",
    "    New spatial filter to the input ndvi_imgs array, which may have nan pixel values,\n",
    "    ndisk=5 is the default size of the  filter\n",
    "    return a pandas dataframe of mean NDVI for the images.\n",
    "\n",
    "    See http://scikit-image.org/docs/stable/api/skimage.filters.html?highlight=local%20median%20filter\n",
    "    \"\"\"\n",
    "\n",
    "    mydict = {}\n",
    "    for it in xrange(0, len(ndvi_imgs.time)):\n",
    "        # apply median filter to get an image meds for this timeslice\n",
    "        img = ndvi_imgs.isel(time=it)\n",
    "        acqdate = ndvi_imgs.time[it].values\n",
    "\n",
    "        meds = NDVI_Image_Stack.filter_center(img, size=ndisk, func=np.nanmedian)\n",
    "        # plt.imshow(meds)\n",
    "        mydict.update({acqdate: np.nanmean(meds)})\n",
    "\n",
    "    # convert mydict to pandas dataframe, with proper column names and index\n",
    "    pdf = pd.DataFrame(mydict.items(), columns=['Date', 'NDVI'])\n",
    "    pdf.set_index('Date', inplace=True)\n",
    "\n",
    "    return pdf.sort_index()\n"
   ]
  },
  {
   "cell_type": "code",
   "execution_count": 5,
   "metadata": {
    "collapsed": false,
    "scrolled": false
   },
   "outputs": [
    {
     "name": "stdout",
     "output_type": "stream",
     "text": [
      "NBAR and PQ slices: 40 39\n",
      "<xarray.DataArray 'pixelquality' (time: 39, y: 494, x: 458)>\n",
      "array([[[False, False, False, ..., False, False, False],\n",
      "        [False, False, False, ..., False, False, False],\n",
      "        [False, False, False, ..., False, False, False],\n",
      "        ..., \n",
      "        [False, False, False, ..., False,  True,  True],\n",
      "        [False, False, False, ..., False,  True,  True],\n",
      "        [False, False, False, ...,  True,  True,  True]],\n",
      "\n",
      "       [[False, False, False, ...,  True,  True,  True],\n",
      "        [False, False, False, ...,  True,  True,  True],\n",
      "        [ True,  True, False, ...,  True,  True,  True],\n",
      "        ..., \n",
      "        [ True,  True,  True, ..., False, False, False],\n",
      "        [ True,  True,  True, ..., False, False, False],\n",
      "        [ True,  True,  True, ..., False, False, False]],\n",
      "\n",
      "       [[ True,  True,  True, ...,  True,  True,  True],\n",
      "        [ True,  True,  True, ...,  True,  True,  True],\n",
      "        [ True,  True,  True, ...,  True,  True,  True],\n",
      "        ..., \n",
      "        [ True,  True,  True, ...,  True,  True,  True],\n",
      "        [ True,  True,  True, ...,  True,  True,  True],\n",
      "        [ True,  True,  True, ...,  True,  True,  True]],\n",
      "\n",
      "       ..., \n",
      "       [[ True,  True,  True, ..., False, False, False],\n",
      "        [ True,  True,  True, ..., False, False, False],\n",
      "        [ True,  True,  True, ..., False, False, False],\n",
      "        ..., \n",
      "        [ True,  True,  True, ...,  True,  True,  True],\n",
      "        [ True,  True,  True, ...,  True,  True,  True],\n",
      "        [ True,  True,  True, ...,  True,  True,  True]],\n",
      "\n",
      "       [[ True,  True,  True, ...,  True,  True,  True],\n",
      "        [ True,  True,  True, ...,  True,  True,  True],\n",
      "        [ True,  True,  True, ...,  True,  True,  True],\n",
      "        ..., \n",
      "        [ True,  True,  True, ...,  True,  True,  True],\n",
      "        [ True,  True,  True, ...,  True,  True,  True],\n",
      "        [ True,  True,  True, ...,  True,  True,  True]],\n",
      "\n",
      "       [[ True,  True,  True, ...,  True,  True,  True],\n",
      "        [ True,  True,  True, ...,  True,  True,  True],\n",
      "        [ True,  True,  True, ...,  True,  True,  True],\n",
      "        ..., \n",
      "        [ True,  True,  True, ...,  True,  True,  True],\n",
      "        [ True,  True,  True, ...,  True,  True,  True],\n",
      "        [ True,  True,  True, ...,  True,  True,  True]]], dtype=bool)\n",
      "Coordinates:\n",
      "  * y        (y) float64 -2.552e+06 -2.552e+06 -2.552e+06 -2.552e+06 ...\n",
      "  * x        (x) float64 1.556e+06 1.556e+06 1.556e+06 1.556e+06 1.556e+06 ...\n",
      "  * time     (time) datetime64[ns] 2015-01-08 2015-01-15 2015-01-24 ...\n",
      "('NDVI shape ', '(39, 494, 458)')\n",
      "<xarray.DataArray 'pixelquality' (time: 39)>\n",
      "array([False, False,  True,  True,  True,  True, False,  True,  True,\n",
      "        True,  True,  True, False,  True,  True,  True, False,  True,\n",
      "       False,  True,  True, False,  True,  True,  True,  True,  True,\n",
      "       False,  True,  True,  True,  True,  True,  True,  True, False,\n",
      "        True,  True,  True], dtype=bool)\n",
      "Coordinates:\n",
      "  * time     (time) datetime64[ns] 2015-01-08 2015-01-15 2015-01-24 ...\n",
      "('How many cloudless images selected?', array(30))\n",
      "<xarray.DataArray (time: 30, y: 494, x: 458)>\n",
      "array([[[ 0.50803043,  0.53236797,  0.53833866, ...,  0.52886836,\n",
      "          0.51382824,  0.48902056],\n",
      "        [ 0.50395998,  0.51715585,  0.53587174, ...,  0.60067539,\n",
      "          0.60647773,  0.60425184],\n",
      "        [ 0.50305002,  0.52064777,  0.54702495, ...,  0.62790698,\n",
      "          0.65159782,  0.64166002],\n",
      "        ..., \n",
      "        [ 0.61613352,  0.61511492,  0.56103679, ...,  0.6120987 ,\n",
      "          0.5581457 ,  0.44839949],\n",
      "        [ 0.62750283,  0.63895487,  0.59922027, ...,  0.61043108,\n",
      "          0.55346588,  0.5054659 ],\n",
      "        [ 0.63076923,  0.63759458,  0.62233046, ...,  0.58936562,\n",
      "          0.55050095,  0.53784219]],\n",
      "\n",
      "       [[ 0.51648352,  0.54743174,  0.55431034, ...,  0.62229697,\n",
      "          0.61989676,  0.59345563],\n",
      "        [ 0.52285192,  0.52946551,  0.54686156, ...,  0.63593823,\n",
      "          0.64368348,  0.64201602],\n",
      "        [ 0.53742716,  0.54492624,  0.57473163, ...,  0.66958808,\n",
      "          0.67687528,  0.65452092],\n",
      "        ..., \n",
      "        [ 0.60994561,  0.64839626,  0.59401145, ...,  0.66603001,\n",
      "          0.62301918,  0.48298602],\n",
      "        [ 0.63075691,  0.65768897,  0.6163704 , ...,  0.67055631,\n",
      "          0.6171875 ,  0.55645816],\n",
      "        [ 0.64430816,  0.65578635,  0.63873068, ...,  0.64285714,\n",
      "          0.60835214,  0.6043956 ]],\n",
      "\n",
      "       [[        nan,         nan,         nan, ...,  0.59043062,\n",
      "          0.58223062,  0.56985118],\n",
      "        [        nan,         nan,         nan, ...,  0.60537286,\n",
      "          0.61200924,  0.61317647],\n",
      "        [        nan,         nan,         nan, ...,  0.60720562,\n",
      "          0.65546576,  0.63644484],\n",
      "        ..., \n",
      "        [ 0.56916427,  0.60194175,  0.57179054, ...,  0.641339  ,\n",
      "          0.56512436,  0.45873221],\n",
      "        [ 0.6242284 ,  0.62865377,  0.58533605, ...,  0.64918818,\n",
      "          0.57767391,  0.50430922],\n",
      "        [ 0.59340659,  0.62423749,  0.61115475, ...,  0.61671546,\n",
      "          0.5807242 ,  0.56628478]],\n",
      "\n",
      "       ..., \n",
      "       [[ 0.40107335,  0.39874739,  0.38316498, ...,         nan,\n",
      "                 nan,         nan],\n",
      "        [ 0.37598284,  0.37465374,  0.38789313, ...,         nan,\n",
      "                 nan,         nan],\n",
      "        [ 0.36554622,  0.37756498,  0.40551312, ...,         nan,\n",
      "                 nan,         nan],\n",
      "        ..., \n",
      "        [ 0.35245379,  0.37335958,  0.31138288, ...,  0.25203679,\n",
      "          0.24183338,  0.23635489],\n",
      "        [ 0.37685061,  0.39163237,  0.36535277, ...,  0.24883841,\n",
      "          0.2427086 ,  0.22614756],\n",
      "        [ 0.40817004,  0.39647887,  0.36683087, ...,  0.24563155,\n",
      "          0.24512041,  0.23277374]],\n",
      "\n",
      "       [[ 0.41276978,  0.42377375,  0.39739824, ...,  0.44934804,\n",
      "          0.42829268,  0.4058619 ],\n",
      "        [ 0.37967444,  0.38791256,  0.40359682, ...,  0.47295285,\n",
      "          0.46478873,  0.43202417],\n",
      "        [ 0.38719381,  0.39327731,  0.40804598, ...,  0.44981061,\n",
      "          0.43880019,  0.4389184 ],\n",
      "        ..., \n",
      "        [ 0.3685052 ,  0.47332186,  0.43275632, ...,  0.24098212,\n",
      "          0.21691283,  0.22490607],\n",
      "        [ 0.41818182,  0.45854329,  0.43031359, ...,  0.23511905,\n",
      "          0.22591944,  0.20751634],\n",
      "        [ 0.38684417,  0.42398573,  0.4347064 , ...,  0.23641618,\n",
      "          0.23586288,  0.22302574]],\n",
      "\n",
      "       [[ 0.38904899,  0.3903437 ,  0.37398688, ...,  0.40579022,\n",
      "          0.39205059,  0.38377393],\n",
      "        [ 0.36196319,  0.37539936,  0.37673344, ...,  0.42642924,\n",
      "          0.42209632,  0.39895883],\n",
      "        [ 0.35390782,  0.36417091,  0.38712121, ...,  0.41313086,\n",
      "          0.39509537,  0.40421632],\n",
      "        ..., \n",
      "        [ 0.38335925,  0.41874744,  0.38988717, ...,  0.23369879,\n",
      "          0.22134387,  0.22368421],\n",
      "        [ 0.37956204,  0.41566515,  0.4047619 , ...,  0.23151308,\n",
      "          0.22234827,  0.21092896],\n",
      "        [ 0.40054496,  0.41535851,  0.4095315 , ...,  0.22854763,\n",
      "          0.23466743,  0.21526803]]])\n",
      "Coordinates:\n",
      "  * time     (time) datetime64[ns] 2015-01-24 2015-01-31 2015-02-09 ...\n",
      "  * y        (y) float64 -2.552e+06 -2.552e+06 -2.552e+06 -2.552e+06 ...\n",
      "  * x        (x) float64 1.556e+06 1.556e+06 1.556e+06 1.556e+06 1.556e+06 ..."
     ]
    },
    {
     "name": "stderr",
     "output_type": "stream",
     "text": [
      "/g/data/u46/fxz547/anaconda2/lib/python2.7/site-packages/numpy/lib/nanfunctions.py:739: RuntimeWarning: All-NaN slice encountered\n",
      "  warnings.warn(\"All-NaN slice encountered\", RuntimeWarning)\n",
      "/g/data/u46/fxz547/anaconda2/lib/python2.7/site-packages/numpy/lib/nanfunctions.py:689: RuntimeWarning: All-NaN slice encountered\n",
      "  warnings.warn(\"All-NaN slice encountered\", RuntimeWarning)\n"
     ]
    },
    {
     "name": "stdout",
     "output_type": "stream",
     "text": [
      "\n",
      "(30, 494, 458)\n",
      "(Timestamp('2015-01-24 00:00:00'), 0.53741065441274372, 0.53595671649829502, 0.53597310938912734, 0.53713672875567209)\n",
      "(Timestamp('2015-01-31 00:00:00'), 0.56212593606724925, 0.56237019164070279, 0.56209062231285023, 0.5617730545638433)\n",
      "(Timestamp('2015-02-09 00:00:00'), 0.5335210820886801, 0.53386510516342711, 0.53360319228849629, 0.533373324608579)\n",
      "(Timestamp('2015-02-16 00:00:00'), 0.51643399009114477, 0.51677595804086185, 0.51648142080788895, 0.51634764203779493)\n",
      "(Timestamp('2015-03-13 00:00:00'), 0.48937415704312492, 0.48986597112509866, 0.48993160184466228, 0.48997313706071582)\n",
      "(Timestamp('2015-03-29 00:00:00'), 0.44889683762681293, 0.44718062640961093, 0.44742512746870378, 0.4494135087359889)\n",
      "(Timestamp('2015-04-05 00:00:00'), 0.44839465753607799, 0.44259087069281883, 0.44175086828840554, 0.44369852382715513)\n",
      "(Timestamp('2015-04-14 00:00:00'), 0.44329122283178701, 0.44349740638807883, 0.44369533979849751, 0.44372853810475282)\n",
      "(Timestamp('2015-04-21 00:00:00'), 0.46463062888065298, 0.46503522758656757, 0.46540358627180639, 0.46559689279110628)\n",
      "(Timestamp('2015-05-07 00:00:00'), 0.43371594706987093, 0.43407564231207701, 0.43444505055868504, 0.43466846573128332)\n",
      "(Timestamp('2015-05-16 00:00:00'), 0.42348303385376457, 0.42383178379516218, 0.42413180018607388, 0.42433740038906997)\n",
      "(Timestamp('2015-05-23 00:00:00'), 0.44620231152208228, 0.44652068380718835, 0.44690657938892381, 0.44709203719262108)\n",
      "(Timestamp('2015-06-08 00:00:00'), 0.39368172767632054, 0.38543325084784763, 0.38075768113529573, 0.37893777452861205)\n",
      "(Timestamp('2015-06-24 00:00:00'), 0.40737913774091333, 0.406942396896389, 0.40705714870212473, 0.40715981180750427)\n",
      "(Timestamp('2015-07-03 00:00:00'), 0.40975987966851657, 0.41002433517476516, 0.41019285497923275, 0.41036532749995253)\n",
      "(Timestamp('2015-07-19 00:00:00'), 0.39212614743363822, 0.39206933146562745, 0.39204680045414775, 0.39201375656783727)\n",
      "(Timestamp('2015-07-26 00:00:00'), 0.39476889469777632, 0.39474744015950847, 0.39479363064813788, 0.39475083052054244)\n",
      "(Timestamp('2015-08-04 00:00:00'), 0.37376327452982011, 0.3736751909418764, 0.37364251948767874, 0.37354456915177264)\n",
      "(Timestamp('2015-08-11 00:00:00'), 0.37035740931818723, 0.37011673959422375, 0.36996434547282669, 0.36974246859167553)\n",
      "(Timestamp('2015-08-20 00:00:00'), 0.35597612106356957, 0.35563456280034261, 0.35525839248979491, 0.35487183231518699)\n",
      "(Timestamp('2015-09-05 00:00:00'), 0.34548784228020157, 0.34510954398486005, 0.34460786813487909, 0.3441107770990513)\n",
      "(Timestamp('2015-09-12 00:00:00'), 0.34072289831777786, 0.33611406694241669, 0.33540223383389134, 0.33724170012421073)\n",
      "(Timestamp('2015-09-21 00:00:00'), 0.33033237550401562, 0.32975196128259782, 0.32906696166684113, 0.32843790230938025)\n",
      "(Timestamp('2015-09-28 00:00:00'), 0.32037442081425221, 0.31979329331690798, 0.31905581319134324, 0.31841296945227582)\n",
      "(Timestamp('2015-10-07 00:00:00'), 0.32580189632651774, 0.32523937882507464, 0.32451854007975101, 0.32379193719790361)\n",
      "(Timestamp('2015-10-14 00:00:00'), 0.31305259074342523, 0.31244943767023275, 0.31172999015199498, 0.31113798783900654)\n",
      "(Timestamp('2015-10-23 00:00:00'), 0.31618616834033469, 0.3158004896557563, 0.3151893221147522, 0.31461342369185008)\n",
      "(Timestamp('2015-11-08 00:00:00'), 0.30379758296209891, 0.29172197792857085, 0.2885142056088108, 0.28976429949087035)\n",
      "(Timestamp('2015-11-15 00:00:00'), 0.33722238516057634, 0.33691562256286095, 0.33629104352033695, 0.33564568120475868)\n",
      "(Timestamp('2015-11-24 00:00:00'), 0.31901676665809309, 0.3187478408121317, 0.31823902773979817, 0.31769373092222392)\n"
     ]
    },
    {
     "data": {
      "text/html": [
       "<div>\n",
       "<table border=\"1\" class=\"dataframe\">\n",
       "  <thead>\n",
       "    <tr style=\"text-align: right;\">\n",
       "      <th></th>\n",
       "      <th>NDVI0</th>\n",
       "      <th>NDVIS5</th>\n",
       "      <th>NDVIS11</th>\n",
       "      <th>NDVIS21</th>\n",
       "      <th>PROD_TYPE</th>\n",
       "    </tr>\n",
       "    <tr>\n",
       "      <th>time</th>\n",
       "      <th></th>\n",
       "      <th></th>\n",
       "      <th></th>\n",
       "      <th></th>\n",
       "      <th></th>\n",
       "    </tr>\n",
       "  </thead>\n",
       "  <tbody>\n",
       "    <tr>\n",
       "      <th>2015-01-24</th>\n",
       "      <td>0.537411</td>\n",
       "      <td>0.535957</td>\n",
       "      <td>0.535973</td>\n",
       "      <td>0.537137</td>\n",
       "      <td>ls8_nbar_albers</td>\n",
       "    </tr>\n",
       "    <tr>\n",
       "      <th>2015-01-31</th>\n",
       "      <td>0.562126</td>\n",
       "      <td>0.562370</td>\n",
       "      <td>0.562091</td>\n",
       "      <td>0.561773</td>\n",
       "      <td>ls8_nbar_albers</td>\n",
       "    </tr>\n",
       "    <tr>\n",
       "      <th>2015-02-09</th>\n",
       "      <td>0.533521</td>\n",
       "      <td>0.533865</td>\n",
       "      <td>0.533603</td>\n",
       "      <td>0.533373</td>\n",
       "      <td>ls8_nbar_albers</td>\n",
       "    </tr>\n",
       "    <tr>\n",
       "      <th>2015-02-16</th>\n",
       "      <td>0.516434</td>\n",
       "      <td>0.516776</td>\n",
       "      <td>0.516481</td>\n",
       "      <td>0.516348</td>\n",
       "      <td>ls8_nbar_albers</td>\n",
       "    </tr>\n",
       "    <tr>\n",
       "      <th>2015-03-13</th>\n",
       "      <td>0.489374</td>\n",
       "      <td>0.489866</td>\n",
       "      <td>0.489932</td>\n",
       "      <td>0.489973</td>\n",
       "      <td>ls8_nbar_albers</td>\n",
       "    </tr>\n",
       "    <tr>\n",
       "      <th>2015-03-29</th>\n",
       "      <td>0.448897</td>\n",
       "      <td>0.447181</td>\n",
       "      <td>0.447425</td>\n",
       "      <td>0.449414</td>\n",
       "      <td>ls8_nbar_albers</td>\n",
       "    </tr>\n",
       "    <tr>\n",
       "      <th>2015-04-05</th>\n",
       "      <td>0.448395</td>\n",
       "      <td>0.442591</td>\n",
       "      <td>0.441751</td>\n",
       "      <td>0.443699</td>\n",
       "      <td>ls8_nbar_albers</td>\n",
       "    </tr>\n",
       "    <tr>\n",
       "      <th>2015-04-14</th>\n",
       "      <td>0.443291</td>\n",
       "      <td>0.443497</td>\n",
       "      <td>0.443695</td>\n",
       "      <td>0.443729</td>\n",
       "      <td>ls8_nbar_albers</td>\n",
       "    </tr>\n",
       "    <tr>\n",
       "      <th>2015-04-21</th>\n",
       "      <td>0.464631</td>\n",
       "      <td>0.465035</td>\n",
       "      <td>0.465404</td>\n",
       "      <td>0.465597</td>\n",
       "      <td>ls8_nbar_albers</td>\n",
       "    </tr>\n",
       "    <tr>\n",
       "      <th>2015-05-07</th>\n",
       "      <td>0.433716</td>\n",
       "      <td>0.434076</td>\n",
       "      <td>0.434445</td>\n",
       "      <td>0.434668</td>\n",
       "      <td>ls8_nbar_albers</td>\n",
       "    </tr>\n",
       "    <tr>\n",
       "      <th>2015-05-16</th>\n",
       "      <td>0.423483</td>\n",
       "      <td>0.423832</td>\n",
       "      <td>0.424132</td>\n",
       "      <td>0.424337</td>\n",
       "      <td>ls8_nbar_albers</td>\n",
       "    </tr>\n",
       "    <tr>\n",
       "      <th>2015-05-23</th>\n",
       "      <td>0.446202</td>\n",
       "      <td>0.446521</td>\n",
       "      <td>0.446907</td>\n",
       "      <td>0.447092</td>\n",
       "      <td>ls8_nbar_albers</td>\n",
       "    </tr>\n",
       "    <tr>\n",
       "      <th>2015-06-08</th>\n",
       "      <td>0.393682</td>\n",
       "      <td>0.385433</td>\n",
       "      <td>0.380758</td>\n",
       "      <td>0.378938</td>\n",
       "      <td>ls8_nbar_albers</td>\n",
       "    </tr>\n",
       "    <tr>\n",
       "      <th>2015-06-24</th>\n",
       "      <td>0.407379</td>\n",
       "      <td>0.406942</td>\n",
       "      <td>0.407057</td>\n",
       "      <td>0.407160</td>\n",
       "      <td>ls8_nbar_albers</td>\n",
       "    </tr>\n",
       "    <tr>\n",
       "      <th>2015-07-03</th>\n",
       "      <td>0.409760</td>\n",
       "      <td>0.410024</td>\n",
       "      <td>0.410193</td>\n",
       "      <td>0.410365</td>\n",
       "      <td>ls8_nbar_albers</td>\n",
       "    </tr>\n",
       "    <tr>\n",
       "      <th>2015-07-19</th>\n",
       "      <td>0.392126</td>\n",
       "      <td>0.392069</td>\n",
       "      <td>0.392047</td>\n",
       "      <td>0.392014</td>\n",
       "      <td>ls8_nbar_albers</td>\n",
       "    </tr>\n",
       "    <tr>\n",
       "      <th>2015-07-26</th>\n",
       "      <td>0.394769</td>\n",
       "      <td>0.394747</td>\n",
       "      <td>0.394794</td>\n",
       "      <td>0.394751</td>\n",
       "      <td>ls8_nbar_albers</td>\n",
       "    </tr>\n",
       "    <tr>\n",
       "      <th>2015-08-04</th>\n",
       "      <td>0.373763</td>\n",
       "      <td>0.373675</td>\n",
       "      <td>0.373643</td>\n",
       "      <td>0.373545</td>\n",
       "      <td>ls8_nbar_albers</td>\n",
       "    </tr>\n",
       "    <tr>\n",
       "      <th>2015-08-11</th>\n",
       "      <td>0.370357</td>\n",
       "      <td>0.370117</td>\n",
       "      <td>0.369964</td>\n",
       "      <td>0.369742</td>\n",
       "      <td>ls8_nbar_albers</td>\n",
       "    </tr>\n",
       "    <tr>\n",
       "      <th>2015-08-20</th>\n",
       "      <td>0.355976</td>\n",
       "      <td>0.355635</td>\n",
       "      <td>0.355258</td>\n",
       "      <td>0.354872</td>\n",
       "      <td>ls8_nbar_albers</td>\n",
       "    </tr>\n",
       "    <tr>\n",
       "      <th>2015-09-05</th>\n",
       "      <td>0.345488</td>\n",
       "      <td>0.345110</td>\n",
       "      <td>0.344608</td>\n",
       "      <td>0.344111</td>\n",
       "      <td>ls8_nbar_albers</td>\n",
       "    </tr>\n",
       "    <tr>\n",
       "      <th>2015-09-12</th>\n",
       "      <td>0.340723</td>\n",
       "      <td>0.336114</td>\n",
       "      <td>0.335402</td>\n",
       "      <td>0.337242</td>\n",
       "      <td>ls8_nbar_albers</td>\n",
       "    </tr>\n",
       "    <tr>\n",
       "      <th>2015-09-21</th>\n",
       "      <td>0.330332</td>\n",
       "      <td>0.329752</td>\n",
       "      <td>0.329067</td>\n",
       "      <td>0.328438</td>\n",
       "      <td>ls8_nbar_albers</td>\n",
       "    </tr>\n",
       "    <tr>\n",
       "      <th>2015-09-28</th>\n",
       "      <td>0.320374</td>\n",
       "      <td>0.319793</td>\n",
       "      <td>0.319056</td>\n",
       "      <td>0.318413</td>\n",
       "      <td>ls8_nbar_albers</td>\n",
       "    </tr>\n",
       "    <tr>\n",
       "      <th>2015-10-07</th>\n",
       "      <td>0.325802</td>\n",
       "      <td>0.325239</td>\n",
       "      <td>0.324519</td>\n",
       "      <td>0.323792</td>\n",
       "      <td>ls8_nbar_albers</td>\n",
       "    </tr>\n",
       "    <tr>\n",
       "      <th>2015-10-14</th>\n",
       "      <td>0.313053</td>\n",
       "      <td>0.312449</td>\n",
       "      <td>0.311730</td>\n",
       "      <td>0.311138</td>\n",
       "      <td>ls8_nbar_albers</td>\n",
       "    </tr>\n",
       "    <tr>\n",
       "      <th>2015-10-23</th>\n",
       "      <td>0.316186</td>\n",
       "      <td>0.315800</td>\n",
       "      <td>0.315189</td>\n",
       "      <td>0.314613</td>\n",
       "      <td>ls8_nbar_albers</td>\n",
       "    </tr>\n",
       "    <tr>\n",
       "      <th>2015-11-08</th>\n",
       "      <td>0.303798</td>\n",
       "      <td>0.291722</td>\n",
       "      <td>0.288514</td>\n",
       "      <td>0.289764</td>\n",
       "      <td>ls8_nbar_albers</td>\n",
       "    </tr>\n",
       "    <tr>\n",
       "      <th>2015-11-15</th>\n",
       "      <td>0.337222</td>\n",
       "      <td>0.336916</td>\n",
       "      <td>0.336291</td>\n",
       "      <td>0.335646</td>\n",
       "      <td>ls8_nbar_albers</td>\n",
       "    </tr>\n",
       "    <tr>\n",
       "      <th>2015-11-24</th>\n",
       "      <td>0.319017</td>\n",
       "      <td>0.318748</td>\n",
       "      <td>0.318239</td>\n",
       "      <td>0.317694</td>\n",
       "      <td>ls8_nbar_albers</td>\n",
       "    </tr>\n",
       "  </tbody>\n",
       "</table>\n",
       "</div>"
      ],
      "text/plain": [
       "               NDVI0    NDVIS5   NDVIS11   NDVIS21        PROD_TYPE\n",
       "time                                                               \n",
       "2015-01-24  0.537411  0.535957  0.535973  0.537137  ls8_nbar_albers\n",
       "2015-01-31  0.562126  0.562370  0.562091  0.561773  ls8_nbar_albers\n",
       "2015-02-09  0.533521  0.533865  0.533603  0.533373  ls8_nbar_albers\n",
       "2015-02-16  0.516434  0.516776  0.516481  0.516348  ls8_nbar_albers\n",
       "2015-03-13  0.489374  0.489866  0.489932  0.489973  ls8_nbar_albers\n",
       "2015-03-29  0.448897  0.447181  0.447425  0.449414  ls8_nbar_albers\n",
       "2015-04-05  0.448395  0.442591  0.441751  0.443699  ls8_nbar_albers\n",
       "2015-04-14  0.443291  0.443497  0.443695  0.443729  ls8_nbar_albers\n",
       "2015-04-21  0.464631  0.465035  0.465404  0.465597  ls8_nbar_albers\n",
       "2015-05-07  0.433716  0.434076  0.434445  0.434668  ls8_nbar_albers\n",
       "2015-05-16  0.423483  0.423832  0.424132  0.424337  ls8_nbar_albers\n",
       "2015-05-23  0.446202  0.446521  0.446907  0.447092  ls8_nbar_albers\n",
       "2015-06-08  0.393682  0.385433  0.380758  0.378938  ls8_nbar_albers\n",
       "2015-06-24  0.407379  0.406942  0.407057  0.407160  ls8_nbar_albers\n",
       "2015-07-03  0.409760  0.410024  0.410193  0.410365  ls8_nbar_albers\n",
       "2015-07-19  0.392126  0.392069  0.392047  0.392014  ls8_nbar_albers\n",
       "2015-07-26  0.394769  0.394747  0.394794  0.394751  ls8_nbar_albers\n",
       "2015-08-04  0.373763  0.373675  0.373643  0.373545  ls8_nbar_albers\n",
       "2015-08-11  0.370357  0.370117  0.369964  0.369742  ls8_nbar_albers\n",
       "2015-08-20  0.355976  0.355635  0.355258  0.354872  ls8_nbar_albers\n",
       "2015-09-05  0.345488  0.345110  0.344608  0.344111  ls8_nbar_albers\n",
       "2015-09-12  0.340723  0.336114  0.335402  0.337242  ls8_nbar_albers\n",
       "2015-09-21  0.330332  0.329752  0.329067  0.328438  ls8_nbar_albers\n",
       "2015-09-28  0.320374  0.319793  0.319056  0.318413  ls8_nbar_albers\n",
       "2015-10-07  0.325802  0.325239  0.324519  0.323792  ls8_nbar_albers\n",
       "2015-10-14  0.313053  0.312449  0.311730  0.311138  ls8_nbar_albers\n",
       "2015-10-23  0.316186  0.315800  0.315189  0.314613  ls8_nbar_albers\n",
       "2015-11-08  0.303798  0.291722  0.288514  0.289764  ls8_nbar_albers\n",
       "2015-11-15  0.337222  0.336916  0.336291  0.335646  ls8_nbar_albers\n",
       "2015-11-24  0.319017  0.318748  0.318239  0.317694  ls8_nbar_albers"
      ]
     },
     "execution_count": 5,
     "metadata": {},
     "output_type": "execute_result"
    },
    {
     "data": {
      "image/png": "[encoded data removed]",
      "text/plain": [
       "<matplotlib.figure.Figure at 0x7f495e441fd0>"
      ]
     },
     "metadata": {},
     "output_type": "display_data"
    }
   ],
   "source": [
    "ndviobj = NDVI_Image_Stack()\n",
    "ndviobj.main()\n"
   ]
  },
  {
   "cell_type": "code",
   "execution_count": null,
   "metadata": {
    "collapsed": true
   },
   "outputs": [],
   "source": []
  },
  {
   "cell_type": "code",
   "execution_count": null,
   "metadata": {
    "collapsed": true
   },
   "outputs": [],
   "source": []
  },
  {
   "cell_type": "code",
   "execution_count": 6,
   "metadata": {
    "collapsed": false
   },
   "outputs": [
    {
     "ename": "SyntaxError",
     "evalue": "invalid syntax (<ipython-input-6-b93ab9704721>, line 1)",
     "output_type": "error",
     "traceback": [
      "\u001b[1;36m  File \u001b[1;32m\"<ipython-input-6-b93ab9704721>\"\u001b[1;36m, line \u001b[1;32m1\u001b[0m\n\u001b[1;33m    stop and review below\u001b[0m\n\u001b[1;37m                        ^\u001b[0m\n\u001b[1;31mSyntaxError\u001b[0m\u001b[1;31m:\u001b[0m invalid syntax\n"
     ]
    }
   ],
   "source": [
    "stop and review below\n",
    "pick up useful codes"
   ]
  },
  {
   "cell_type": "code",
   "execution_count": null,
   "metadata": {
    "collapsed": false
   },
   "outputs": [],
   "source": [
    "# Where?\n",
    "\n",
    "# xp=(149.00, 149.20); yp=(-35.25, -35.35)  # Lake Burley Griffin x=(149.07, 149.17), y=(-35.25, -35.35), \n",
    "# xp=( 149.160,  149.170); yp=(-35.34 , -35.35 )  #a small area cover GA water pond\n",
    "\n",
    "\n",
    "# Edge of fire scar (NT) 19:36:10.24S//132:34:55.72E\n",
    "# 0.1degree =~ 10km \n",
    "# AOI_NAME='FireScarNT'; xp=(132.50, 132.60); yp=(-19.65, -19.55)\n",
    "\n",
    "#Farming land (crops (green and fallow paddocks - Western NSW)30:5:45.33S/148:11:29.75E\n",
    "#AOI_NAME='Farmland'; xp=(148.14, 148.24); yp=(-30.15, -30.05) # North of Dubbo, inside NSW border\n",
    "\n",
    "#Woodland (greenish most of the time. the understory should change in response to seasonal drying out)22:52:35.4S/147:24:11.25E\n",
    "AOI_NAME='Woodland'; xp=(147.35, 147.45); yp=(-22.92, -22.82)  # west of Rockhampton \n",
    "# woodland has a blank image in 2016-05? with NDVI=0. how to exclude it?\n",
    "                \n",
    "# When? a time range\n",
    "tp=('1980-01-01', '2016-12-31')\n",
    "\n",
    "\n",
    "#To see the function signature?\n",
    "#dc.load?\n"
   ]
  },
  {
   "cell_type": "code",
   "execution_count": null,
   "metadata": {
    "collapsed": false
   },
   "outputs": [],
   "source": [
    "prod_type='ls5_nbar_albers'\n",
    "\n",
    "pq_prod_type = prod_type.replace('nbar','pq')\n",
    "\n",
    "good_ndvi=get_ndvi(prod_type, xp,yp,tp,cloudfreeRatio = 0.5)\n",
    "\n",
    "print (good_ndvi.shape)"
   ]
  },
  {
   "cell_type": "code",
   "execution_count": null,
   "metadata": {
    "collapsed": false
   },
   "outputs": [],
   "source": [
    "good_ndvi[:20].plot(col='time', col_wrap=5, add_colorbar=False)"
   ]
  },
  {
   "cell_type": "code",
   "execution_count": null,
   "metadata": {
    "collapsed": false
   },
   "outputs": [],
   "source": []
  },
  {
   "cell_type": "code",
   "execution_count": null,
   "metadata": {
    "collapsed": false
   },
   "outputs": [],
   "source": [
    "img1=good_ndvi[7]\n",
    "#mask = ~np.isnan(img1); img1f = median(img1,disk(5), mask=mask)\n",
    "img1f = filter_center(img1, size=3, func=np.nanmedian )"
   ]
  },
  {
   "cell_type": "code",
   "execution_count": null,
   "metadata": {
    "collapsed": false
   },
   "outputs": [],
   "source": [
    "plt.imshow(img1f)\n"
   ]
  },
  {
   "cell_type": "code",
   "execution_count": null,
   "metadata": {
    "collapsed": false
   },
   "outputs": [],
   "source": [
    "plt.imshow(img1)"
   ]
  },
  {
   "cell_type": "code",
   "execution_count": null,
   "metadata": {
    "collapsed": false
   },
   "outputs": [],
   "source": [
    "np.nanmean(img1f)"
   ]
  },
  {
   "cell_type": "code",
   "execution_count": null,
   "metadata": {
    "collapsed": false
   },
   "outputs": [],
   "source": [
    "img1.mean()"
   ]
  },
  {
   "cell_type": "code",
   "execution_count": null,
   "metadata": {
    "collapsed": false
   },
   "outputs": [],
   "source": [
    "\n",
    "ndvi578.plot( figsize=(20,10),  marker='*' )"
   ]
  },
  {
   "cell_type": "code",
   "execution_count": null,
   "metadata": {
    "collapsed": false
   },
   "outputs": [],
   "source": [
    "#ndvi_mean"
   ]
  },
  {
   "cell_type": "code",
   "execution_count": null,
   "metadata": {
    "collapsed": false
   },
   "outputs": [],
   "source": [
    "outcsvfile='meanNDVI578_%s.csv'% (AOI_NAME)\n",
    "\n",
    "ndvi578.to_csv(outcsvfile)  #('/tmp/meanNDVI578_FireScarNT.csv')"
   ]
  },
  {
   "cell_type": "code",
   "execution_count": null,
   "metadata": {
    "collapsed": false
   },
   "outputs": [],
   "source": [
    "ndvi578.hist(bins=100)"
   ]
  },
  {
   "cell_type": "code",
   "execution_count": null,
   "metadata": {
    "collapsed": false
   },
   "outputs": [],
   "source": [
    "p10= ndvi578.quantile(0.1)\n",
    "p90= ndvi578.quantile(0.9)\n",
    "\n",
    "bot_tenperc=ndvi578[(ndvi578['NDVI'] <= p10[0])].dropna()\n",
    "top_tenperc=ndvi578[(ndvi578['NDVI'] >= p90[0])].dropna()"
   ]
  },
  {
   "cell_type": "code",
   "execution_count": null,
   "metadata": {
    "collapsed": false
   },
   "outputs": [],
   "source": [
    "outcsvfile2='meanNDVI578_%s_bot10pc.csv'% (AOI_NAME)\n",
    "bot_tenperc.to_csv(outcsvfile2)\n",
    "\n",
    "outcsvfile3='meanNDVI578_%s_top10pc.csv'% (AOI_NAME)\n",
    "top_tenperc.to_csv(outcsvfile3)"
   ]
  },
  {
   "cell_type": "code",
   "execution_count": null,
   "metadata": {
    "collapsed": false
   },
   "outputs": [],
   "source": [
    "top_tenperc.head"
   ]
  },
  {
   "cell_type": "code",
   "execution_count": null,
   "metadata": {
    "collapsed": false
   },
   "outputs": [],
   "source": [
    "p10"
   ]
  },
  {
   "cell_type": "code",
   "execution_count": null,
   "metadata": {
    "collapsed": false
   },
   "outputs": [],
   "source": [
    "bot_tenperc.head(100)"
   ]
  },
  {
   "cell_type": "code",
   "execution_count": null,
   "metadata": {
    "collapsed": false
   },
   "outputs": [],
   "source": [
    "ndvidf21.plot(figsize=(20,10), marker='o' )"
   ]
  },
  {
   "cell_type": "code",
   "execution_count": null,
   "metadata": {
    "collapsed": false
   },
   "outputs": [],
   "source": [
    "stop\n"
   ]
  },
  {
   "cell_type": "code",
   "execution_count": null,
   "metadata": {
    "collapsed": false
   },
   "outputs": [],
   "source": [
    "#http://scikit-image.org/docs/stable/api/skimage.filters.html?highlight=local%20median%20filter\n",
    "\n",
    "from skimage import data\n",
    "from skimage.morphology import disk\n",
    "from skimage.filters.rank import median\n",
    "# >>> img = data.camera()\n",
    "# >>> med = median(img, disk(5))"
   ]
  },
  {
   "cell_type": "code",
   "execution_count": null,
   "metadata": {
    "collapsed": true
   },
   "outputs": [],
   "source": [
    "def filtered_ndvi_mean(ndvi_imgs, ndisk=5):\n",
    "    \"\"\" apply a spatial filter to the input ndvi_imgs array\n",
    "    return a pandas dataframe of mean NDVI for the images.\n",
    "    ndisk=5 is the default size of the disk filter\n",
    "    See http://scikit-image.org/docs/stable/api/skimage.filters.html?highlight=local%20median%20filter\n",
    "    \"\"\"\n",
    "\n",
    "    mydict={}\n",
    "    for it in xrange(0, len(ndvi_imgs.time)):\n",
    "        # apply median filter to get an image meds for this timeslice\n",
    "        img=ndvi_imgs.isel(time=it)\n",
    "        imask= ~np.isnan(img)\n",
    "        meds = median(img,disk(ndisk), mask=imask)  \n",
    "        #plt.imshow(meds)\n",
    "        mydict.update({ndvi_imgs.time[it].values: meds.mean()})\n",
    "\n",
    "    # convert mydict to pandas dataframe, with proper column names and index\n",
    "    pdf=pandas.DataFrame(mydict.items(), columns=['Date', 'NDVI'])\n",
    "    pdf.set_index('Date', inplace=True)\n",
    "    \n",
    "    return pdf"
   ]
  },
  {
   "cell_type": "code",
   "execution_count": null,
   "metadata": {
    "collapsed": false
   },
   "outputs": [],
   "source": [
    "scaled_good_ndvi = 128*(1+good_ndvi) # to unint8 or uint16 for scikit-image filter input\n",
    "\n",
    "uint8_good_ndvi=scaled_good_ndvi.astype('uint8')\n",
    "\n",
    "pdf5 = filtered_ndvi_mean( uint8_good_ndvi, ndisk=5)\n",
    "\n",
    "pdf5.head()"
   ]
  },
  {
   "cell_type": "code",
   "execution_count": null,
   "metadata": {
    "collapsed": false
   },
   "outputs": [],
   "source": [
    "pdf0=filtered_ndvi_mean( uint8_good_ndvi, ndisk=0)"
   ]
  },
  {
   "cell_type": "code",
   "execution_count": null,
   "metadata": {
    "collapsed": false
   },
   "outputs": [],
   "source": [
    "# plt.figure( )\n",
    "pdf0.plot(figsize=(20,10), marker='*' )"
   ]
  },
  {
   "cell_type": "code",
   "execution_count": null,
   "metadata": {
    "collapsed": false
   },
   "outputs": [],
   "source": [
    "pdf5.plot(figsize=(20,10), marker='*' )"
   ]
  },
  {
   "cell_type": "code",
   "execution_count": null,
   "metadata": {
    "collapsed": false
   },
   "outputs": [],
   "source": [
    "pdf10 = filtered_ndvi_mean( uint8_good_ndvi, ndisk=10)\n",
    "\n",
    "print(pdf10.shape)\n",
    "pdf10.plot(figsize=(20,10), marker='*' )"
   ]
  },
  {
   "cell_type": "code",
   "execution_count": null,
   "metadata": {
    "collapsed": false
   },
   "outputs": [],
   "source": [
    "pdf15 = filtered_ndvi_mean( uint8_good_ndvi, ndisk=15)\n",
    "\n",
    "print(pdf15.shape)\n",
    "pdf15.plot(figsize=(20,10), marker='*' )"
   ]
  },
  {
   "cell_type": "code",
   "execution_count": null,
   "metadata": {
    "collapsed": false
   },
   "outputs": [],
   "source": [
    "pdf20 = filtered_ndvi_mean( uint8_good_ndvi, ndisk=20)\n",
    "\n",
    "print(pdf15.shape)\n",
    "pdf20.plot(figsize=(20,10), marker='*' )"
   ]
  },
  {
   "cell_type": "code",
   "execution_count": null,
   "metadata": {
    "collapsed": false
   },
   "outputs": [],
   "source": [
    "# no filter, original ndvi images\n",
    "ndvi578.sort_values('NDVI').head(40)"
   ]
  },
  {
   "cell_type": "code",
   "execution_count": null,
   "metadata": {
    "collapsed": false
   },
   "outputs": [],
   "source": [
    "\n",
    "for irow in xrange (0, pdf5.shape[0]):\n",
    "    dtime=ndvi578.index[irow]\n",
    "    print(dtime,ndvi578.iloc[irow][0], pdf5.iloc[irow].NDVI, pdf10.iloc[irow].NDVI, pdf15.iloc[irow].NDVI, pdf20.iloc[irow].NDVI)"
   ]
  },
  {
   "cell_type": "code",
   "execution_count": null,
   "metadata": {
    "collapsed": false
   },
   "outputs": [],
   "source": [
    "bot_tenperc.head()"
   ]
  },
  {
   "cell_type": "code",
   "execution_count": null,
   "metadata": {
    "collapsed": false
   },
   "outputs": [],
   "source": [
    "(147.901603-128)/128"
   ]
  },
  {
   "cell_type": "code",
   "execution_count": null,
   "metadata": {
    "collapsed": false
   },
   "outputs": [],
   "source": [
    "pdf15.sort_values('NDVI').head(40)"
   ]
  },
  {
   "cell_type": "code",
   "execution_count": null,
   "metadata": {
    "collapsed": false
   },
   "outputs": [],
   "source": [
    "top_tenperc.head(5)"
   ]
  },
  {
   "cell_type": "code",
   "execution_count": null,
   "metadata": {
    "collapsed": false
   },
   "outputs": [],
   "source": [
    "done"
   ]
  },
  {
   "cell_type": "markdown",
   "metadata": {},
   "source": [
    "## Normalised Difference Water Index"
   ]
  },
  {
   "cell_type": "code",
   "execution_count": null,
   "metadata": {
    "collapsed": false
   },
   "outputs": [],
   "source": [
    "# images after removed invalid pixels. \n",
    "#ndwi.plot(col='time', col_wrap=6)\n"
   ]
  },
  {
   "cell_type": "markdown",
   "metadata": {},
   "source": [
    "### Weed out the low quality images."
   ]
  },
  {
   "cell_type": "code",
   "execution_count": null,
   "metadata": {
    "collapsed": false
   },
   "outputs": [],
   "source": [
    "# apply the cloud_threshold mask, which will select a subset images with good pixels. \n",
    "\n",
    "mostly_good_ndwi = ndwi.where(mostly_cloud_free).dropna('time', how='all')\n",
    "\n",
    "mostly_good_ndwi.plot(col='time', col_wrap=5)"
   ]
  },
  {
   "cell_type": "markdown",
   "metadata": {},
   "source": [
    "## Statistics Median and Mean Images\n",
    "\n",
    "### Normalised Vegetation Index vs Water Index"
   ]
  },
  {
   "cell_type": "code",
   "execution_count": null,
   "metadata": {
    "collapsed": false
   },
   "outputs": [],
   "source": [
    "plt.figure( figsize=(16,12) )\n",
    "    \n",
    "plt.subplot( 2,2,1 )\n",
    "mostly_good_ndvi.median(dim='time').plot()\n",
    "plt.title(\"Median Normalised Difference Vegetation Index - NDVI\"); plt.xlabel('easting'); plt.ylabel('northing')\n",
    "\n",
    "\n",
    "plt.subplot( 2,2,2 )\n",
    "mostly_good_ndvi.mean(dim='time').plot()\n",
    "# ndvi.mean(dim='time').plot()\n",
    "plt.title(\"Mean Normalised Difference Vegetation Index - NDVI\"); plt.xlabel('easting'); plt.ylabel('northing')\n",
    "\n",
    "#------------------------------\n",
    "plt.subplot( 2,2,3 )\n",
    "mostly_good_ndwi.median(dim='time').plot()\n",
    "plt.title(\"Median Normalised Difference Water Index - NDWI\"); plt.xlabel('easting'); plt.ylabel('northing')\n",
    "\n",
    "\n",
    "plt.subplot( 2,2,4 )\n",
    "mostly_good_ndwi.mean(dim='time').plot()\n",
    "# ndwi.mean(dim='time').plot()\n",
    "plt.title(\"Mean Normalised Difference Water Index - NDWI\"); plt.xlabel('easting'); plt.ylabel('northing')"
   ]
  },
  {
   "cell_type": "markdown",
   "metadata": {
    "collapsed": true
   },
   "source": [
    "# Water Observation from Space\n",
    "\n",
    "http://eos-test.ga.gov.au/geoserver/www/remote_scripts/WOfS_v1.6.htm\n"
   ]
  }
 ],
 "metadata": {
  "kernelspec": {
   "display_name": "Python 2",
   "language": "python",
   "name": "python2"
  },
  "language_info": {
   "codemirror_mode": {
    "name": "ipython",
    "version": 2
   },
   "file_extension": ".py",
   "mimetype": "text/x-python",
   "name": "python",
   "nbconvert_exporter": "python",
   "pygments_lexer": "ipython2",
   "version": "2.7.11"
  },
  "toc": {
   "toc_cell": false,
   "toc_number_sections": false,
   "toc_threshold": 6,
   "toc_window_display": true
  },
  "widgets": {
   "state": {},
   "version": "1.1.1"
  }
 },
 "nbformat": 4,
 "nbformat_minor": 0
}
