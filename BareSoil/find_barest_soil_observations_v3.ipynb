{
 "cells": [
  {
   "cell_type": "markdown",
   "metadata": {
    "collapsed": true
   },
   "source": [
    "# Barest Soil \n",
    "\n",
    "### Fei Zhang @Geoscience Australia\n",
    "\n",
    "Last Updated  Sept 2016"
   ]
  },
  {
   "cell_type": "markdown",
   "metadata": {},
   "source": [
    "## Introduction"
   ]
  },
  {
   "cell_type": "markdown",
   "metadata": {},
   "source": [
    "Find the barest soil Earth observations from time series analysis. The result data  will be used as input for the mineral resources uncover project:  machine-learning application.\n",
    "\n",
    "Here are the centre point locations for 3 study aread with different vegetation/bareness relationships;\n",
    "\n",
    "1. Edge of fire scar (NT) 19:36:10.24S//132:34:55.72E\n",
    "\n",
    "2. Farming land (crops (green and fallow paddocks - Western NSW)30:5:45.33S/148:11:29.75E\n",
    "\n",
    "3. Woodland (remain greenish most of the time - the understory should change in response to seasonal drying out)22:52:35.4S/147:24:11.25E\n",
    "\n",
    "extract a 5X5 km or 10X10km tile for each area. Then select only tiles with < 10% poor quality pixels (e.g. noise , cloud etc.). From that subset we run NDVI and then run a median kernel (3*3 ?) to smooth out noisy pixels. The kernel needs to accommodate crappy pixels as no data values. After that we calculate the average NDVI response for whole the tile. We should try a keep the tiles in chronological order because when we process all the tiles through time series and plot up the average NDVI value for each tile we will want to see trends of drying out (increased bareness) due to seasonal effects or recovery from fire scars. I suggest we look at the image tiles along each step of the work flow. There are lots of parameters (size of tile, size and shape of the kernel etc) we can change  - but as a first step this might be a good start. \n",
    "\n",
    "Fei we might want to have further discussions when you have selected a sub-group of tiles with good pixel quality. I suppose this first step assumes that we have a very good pixel quality mask or flag?\n",
    "We have significant temporal depth - so if in doubt exclude problematic tiles.\n",
    "\n",
    "\n",
    "\n"
   ]
  },
  {
   "cell_type": "markdown",
   "metadata": {},
   "source": [
    "## Interactive Computing Environment"
   ]
  },
  {
   "cell_type": "code",
   "execution_count": 1,
   "metadata": {
    "ExecuteTime": {
     "end_time": "2016-06-06T18:30:48.818824",
     "start_time": "2016-06-06T18:30:46.587169"
    },
    "collapsed": false
   },
   "outputs": [],
   "source": [
    "%matplotlib inline\n",
    "import matplotlib.pyplot as plt\n",
    "from scipy import stats\n",
    "import numpy as np\n",
    "import math\n",
    "import pandas\n",
    "\n",
    "import sys\n",
    "sys.path.insert(0, '/g/data/u46/fxz547/Githubz/agdc-v2')#'/home/547/fxz547/myGithub/agdc-v2')  #prepend a path\n",
    "sys.path.append('/home/547/fxz547/myGithub/geodanalytics/python')"
   ]
  },
  {
   "cell_type": "code",
   "execution_count": 2,
   "metadata": {
    "ExecuteTime": {
     "end_time": "2016-06-06T18:31:05.667416",
     "start_time": "2016-06-06T18:31:05.633562"
    },
    "collapsed": false
   },
   "outputs": [],
   "source": [
    "# import AGDC Python API modules\n",
    "\n",
    "import datacube\n",
    "from datacube.storage import masking\n",
    "\n",
    "# Create an API data access object\n",
    "# dc = datacube.Datacube(app='BarestSoil')\n",
    "\n",
    "# dc"
   ]
  },
  {
   "cell_type": "markdown",
   "metadata": {
    "collapsed": true
   },
   "source": [
    "We can access the Postgres Database (metadata index) and its associated imagery data."
   ]
  },
  {
   "cell_type": "code",
   "execution_count": 3,
   "metadata": {
    "collapsed": false,
    "scrolled": false
   },
   "outputs": [],
   "source": [
    "from search_low_ndvi_images import NDVI_Image_Stack\n"
   ]
  },
  {
   "cell_type": "code",
   "execution_count": 4,
   "metadata": {
    "collapsed": false
   },
   "outputs": [],
   "source": [
    "#  default test parameter in script\n",
    "# ndviobj = NDVI_Image_Stack()\n",
    "# ndviobj.main()"
   ]
  },
  {
   "cell_type": "code",
   "execution_count": 6,
   "metadata": {
    "collapsed": false
   },
   "outputs": [
    {
     "name": "stderr",
     "output_type": "stream",
     "text": [
      "DEBUG:/home/547/fxz547/myGithub/geodanalytics/python/search_low_ndvi_images.py:{'lat': (-22.92, -22.82), 'AOI_NAME': 'Woodland', 'prod_type': 'ls8_nbar_albers', 'lon': (147.35, 147.45), 'time': ('2015-01-01', '2016-12-31')}\n",
      "DEBUG:/home/547/fxz547/myGithub/geodanalytics/python/search_low_ndvi_images.py:{'lon': (149.0, 149.2), 'AOI_NAME': 'Canberra', 'time': ('2013-01-01', '2014-01-01'), 'lat': (-35.2, -35.4), 'prod_type': 'ls8_nbar_albers'}\n"
     ]
    },
    {
     "name": "stdout",
     "output_type": "stream",
     "text": [
      "('before', {'lat': (-22.92, -22.82), 'AOI_NAME': 'Woodland', 'prod_type': 'ls8_nbar_albers', 'lon': (147.35, 147.45), 'time': ('2015-01-01', '2016-12-31')})\n",
      "('After: ', {'lon': (149.0, 149.2), 'AOI_NAME': 'Canberra', 'time': ('2013-01-01', '2014-01-01'), 'lat': (-35.2, -35.4), 'prod_type': 'ls8_nbar_albers'})\n",
      "NBAR and PQ slices: 29 29\n",
      "<xarray.DataArray 'pixelquality' (time: 29, y: 979, x: 839)>\n",
      "array([[[ True,  True,  True, ...,  True,  True,  True],\n",
      "        [ True,  True,  True, ...,  True,  True,  True],\n",
      "        [ True,  True,  True, ...,  True,  True,  True],\n",
      "        ..., \n",
      "        [ True,  True,  True, ...,  True,  True,  True],\n",
      "        [ True,  True,  True, ...,  True,  True,  True],\n",
      "        [ True,  True,  True, ...,  True,  True,  True]],\n",
      "\n",
      "       [[ True,  True,  True, ...,  True,  True,  True],\n",
      "        [ True,  True,  True, ...,  True,  True,  True],\n",
      "        [ True,  True,  True, ...,  True,  True,  True],\n",
      "        ..., \n",
      "        [ True,  True,  True, ..., False, False, False],\n",
      "        [ True,  True,  True, ..., False, False, False],\n",
      "        [ True,  True,  True, ..., False, False, False]],\n",
      "\n",
      "       [[ True,  True,  True, ...,  True,  True,  True],\n",
      "        [ True,  True,  True, ...,  True,  True,  True],\n",
      "        [ True,  True,  True, ...,  True,  True,  True],\n",
      "        ..., \n",
      "        [False, False, False, ..., False, False, False],\n",
      "        [False, False, False, ..., False, False, False],\n",
      "        [False, False, False, ..., False, False, False]],\n",
      "\n",
      "       ..., \n",
      "       [[False, False, False, ..., False, False, False],\n",
      "        [False, False, False, ..., False, False, False],\n",
      "        [False, False, False, ..., False, False, False],\n",
      "        ..., \n",
      "        [False, False, False, ..., False, False, False],\n",
      "        [False, False, False, ..., False, False, False],\n",
      "        [False, False, False, ..., False, False, False]],\n",
      "\n",
      "       [[False, False, False, ..., False, False, False],\n",
      "        [False, False, False, ..., False, False, False],\n",
      "        [False, False, False, ..., False, False, False],\n",
      "        ..., \n",
      "        [False, False, False, ..., False, False, False],\n",
      "        [False, False, False, ..., False, False, False],\n",
      "        [False, False, False, ..., False, False, False]],\n",
      "\n",
      "       [[ True,  True,  True, ...,  True,  True,  True],\n",
      "        [ True,  True,  True, ...,  True,  True,  True],\n",
      "        [ True,  True,  True, ...,  True,  True,  True],\n",
      "        ..., \n",
      "        [False, False, False, ...,  True,  True,  True],\n",
      "        [False, False, False, ...,  True,  True,  True],\n",
      "        [False, False, False, ...,  True,  True,  True]]], dtype=bool)\n",
      "Coordinates:\n",
      "  * y        (y) float64 -3.947e+06 -3.947e+06 -3.947e+06 -3.947e+06 ...\n",
      "  * x        (x) float64 1.537e+06 1.537e+06 1.537e+06 1.537e+06 1.537e+06 ...\n",
      "  * time     (time) datetime64[ns] 2013-04-19 2013-04-26 2013-05-21 ...\n",
      "('NDVI shape ', '(29, 979, 839)')\n",
      "<xarray.DataArray 'pixelquality' (time: 29)>\n",
      "array([ True,  True,  True, False, False, False,  True, False,  True,\n",
      "       False,  True, False, False, False,  True,  True,  True, False,\n",
      "       False,  True, False,  True, False,  True, False,  True, False,\n",
      "       False,  True], dtype=bool)\n",
      "Coordinates:\n",
      "  * time     (time) datetime64[ns] 2013-04-19 2013-04-26 2013-05-21 ...\n",
      "('How many cloudless images selected?', array(14))\n",
      "<xarray.DataArray (time: 14, y: 979, x: 839)>\n",
      "array([[[ 0.62223773,  0.65064255,  0.66321601, ...,  0.42917933,\n",
      "          0.45862164,  0.41075269],\n",
      "        [ 0.6351452 ,  0.66372116,  0.66706359, ...,  0.48767123,\n",
      "          0.50910232,  0.45007153],\n",
      "        [ 0.50082567,  0.60010023,  0.61350649, ...,  0.39285714,\n",
      "          0.45183263,  0.48126984],\n",
      "        ..., \n",
      "        [ 0.65746908,  0.65851272,  0.65288462, ...,  0.32081218,\n",
      "          0.31216662,  0.33784461],\n",
      "        [ 0.68373663,  0.69752731,  0.67116183, ...,  0.32077393,\n",
      "          0.32459522,  0.34364351],\n",
      "        [ 0.69463549,  0.67182246,  0.6540732 , ...,  0.31067961,\n",
      "          0.31000772,  0.32598764]],\n",
      "\n",
      "       [[ 0.62623705,  0.62739079,  0.64208092, ...,  0.46475578,\n",
      "          0.43491204,  0.40580089],\n",
      "        [ 0.59747512,  0.64403492,  0.64671815, ...,  0.49913405,\n",
      "          0.49459376,  0.43841563],\n",
      "        [ 0.50012288,  0.59463563,  0.60365059, ...,  0.3775641 ,\n",
      "          0.4261524 ,  0.4675684 ],\n",
      "        ..., \n",
      "        [ 0.68094218,  0.68087432,  0.68328767, ...,         nan,\n",
      "                 nan,         nan],\n",
      "        [ 0.70069753,  0.71805556,  0.70648878, ...,         nan,\n",
      "                 nan,         nan],\n",
      "        [ 0.72222222,  0.7162277 ,  0.70397112, ...,         nan,\n",
      "                 nan,         nan]],\n",
      "\n",
      "       [[ 0.4900232 ,  0.49179158,  0.51179976, ...,  0.39303762,\n",
      "          0.39069405,  0.30952381],\n",
      "        [ 0.46610589,  0.51253761,  0.52087023, ...,  0.43125653,\n",
      "          0.38246041,  0.34939148],\n",
      "        [ 0.3856999 ,  0.47687314,  0.48252912, ...,  0.33086876,\n",
      "          0.33532755,  0.36728754],\n",
      "        ..., \n",
      "        [        nan,         nan,         nan, ...,         nan,\n",
      "                 nan,         nan],\n",
      "        [        nan,         nan,         nan, ...,         nan,\n",
      "                 nan,         nan],\n",
      "        [        nan,         nan,         nan, ...,         nan,\n",
      "                 nan,         nan]],\n",
      "\n",
      "       ..., \n",
      "       [[ 0.58915693,  0.59716599,  0.58216216, ...,  0.43126685,\n",
      "          0.42038217,  0.42458228],\n",
      "        [ 0.57660878,  0.57540725,  0.5760218 , ...,  0.46888412,\n",
      "          0.43722084,  0.41886619],\n",
      "        [ 0.4264604 ,  0.50025164,  0.53267538, ...,  0.4479798 ,\n",
      "          0.44481766,  0.45963673],\n",
      "        ..., \n",
      "        [ 0.53148855,  0.5314979 ,  0.5477707 , ...,         nan,\n",
      "                 nan,         nan],\n",
      "        [ 0.55629771,  0.56969403,  0.56684236, ...,         nan,\n",
      "                 nan,         nan],\n",
      "        [ 0.57035553,  0.57258065,  0.55414634, ...,         nan,\n",
      "                 nan,         nan]],\n",
      "\n",
      "       [[ 0.5475162 ,  0.53498623,  0.53201397, ...,         nan,\n",
      "                 nan,         nan],\n",
      "        [ 0.51525329,  0.52490642,  0.53063653, ...,         nan,\n",
      "                 nan,         nan],\n",
      "        [        nan,         nan,         nan, ...,         nan,\n",
      "                 nan,         nan],\n",
      "        ..., \n",
      "        [ 0.58092339,  0.58369723,  0.58377088, ...,         nan,\n",
      "                 nan,         nan],\n",
      "        [ 0.59766764,  0.60217177,  0.59943847, ...,         nan,\n",
      "                 nan,         nan],\n",
      "        [ 0.61804511,  0.60307692,  0.59371933, ...,         nan,\n",
      "                 nan,         nan]],\n",
      "\n",
      "       [[ 0.29569892,  0.28417678,  0.28973311, ...,  0.36987027,\n",
      "          0.37610063,  0.31623932],\n",
      "        [ 0.28791715,  0.28250059,  0.28192534, ...,  0.34989201,\n",
      "          0.34460141,  0.30271299],\n",
      "        [ 0.28402235,  0.30033003,  0.28574885, ...,  0.33767248,\n",
      "          0.32949712,  0.34286444],\n",
      "        ..., \n",
      "        [        nan,         nan,         nan, ...,  0.34338358,\n",
      "          0.34351145,  0.34727062],\n",
      "        [        nan,         nan,         nan, ...,  0.33520179,\n",
      "          0.34939759,  0.35516523],\n",
      "        [        nan,         nan,         nan, ...,  0.3135332 ,\n",
      "          0.31480431,  0.31589311]]])\n",
      "Coordinates:\n",
      "  * time     (time) datetime64[ns] 2013-04-19 2013-04-26 2013-05-21 ...\n",
      "  * y        (y) float64 -3.947e+06 -3.947e+06 -3.947e+06 -3.947e+06 ...\n",
      "  * x        (x) float64 1.537e+06 1.537e+06 1.537e+06 1.537e+06 1.537e+06 ..."
     ]
    },
    {
     "name": "stderr",
     "output_type": "stream",
     "text": [
      "DEBUG:/home/547/fxz547/myGithub/geodanalytics/python/search_low_ndvi_images.py:Doing filter of size= 3\n",
      "/g/data/u46/fxz547/anaconda2/lib/python2.7/site-packages/numpy/lib/nanfunctions.py:739: RuntimeWarning: All-NaN slice encountered\n",
      "  warnings.warn(\"All-NaN slice encountered\", RuntimeWarning)\n",
      "DEBUG:/home/547/fxz547/myGithub/geodanalytics/python/search_low_ndvi_images.py:Doing filter of size= 5\n",
      "DEBUG:/home/547/fxz547/myGithub/geodanalytics/python/search_low_ndvi_images.py:Doing filter of size= 7\n",
      "DEBUG:/home/547/fxz547/myGithub/geodanalytics/python/search_low_ndvi_images.py:Doing filter of size= 9\n",
      "DEBUG:/home/547/fxz547/myGithub/geodanalytics/python/search_low_ndvi_images.py:Doing filter of size= 11\n"
     ]
    },
    {
     "name": "stdout",
     "output_type": "stream",
     "text": [
      "\n",
      "(14, 979, 839)\n"
     ]
    }
   ],
   "source": [
    "ndviobj = NDVI_Image_Stack()\n",
    "\n",
    "print(\"before\", ndviobj.qdict)\n",
    "\n",
    "newquery ={\n",
    "             'time': ('2013-01-01', '2014-01-01'),\n",
    "             'lat': (-35.2, -35.4),\n",
    "             'lon': (149.0, 149.2),\n",
    "            'prod_type':'ls8_nbar_albers',\n",
    "            'AOI_NAME':'Canberra' }\n",
    "\n",
    "ndviobj.update_from_dict( newquery )\n",
    "\n",
    "print('After: ',  ndviobj.qdict)\n",
    "\n",
    "pdframe= ndviobj.main()"
   ]
  },
  {
   "cell_type": "code",
   "execution_count": 7,
   "metadata": {
    "collapsed": false
   },
   "outputs": [
    {
     "name": "stderr",
     "output_type": "stream",
     "text": [
      "DEBUG:/home/547/fxz547/myGithub/geodanalytics/python/search_low_ndvi_images.py:{'lon': (149.0, 149.2), 'AOI_NAME': 'Canberra', 'time': ('2014-01-01', '2015-01-01'), 'lat': (-35.2, -35.4), 'prod_type': 'ls8_nbar_albers'}\n"
     ]
    },
    {
     "name": "stdout",
     "output_type": "stream",
     "text": [
      "('2013-01-01', '2014-01-01')\n",
      "('2014-01-01', '2015-01-01')\n",
      "NBAR and PQ slices: 42 42\n",
      "<xarray.DataArray 'pixelquality' (time: 42, y: 979, x: 839)>\n",
      "array([[[False, False, False, ..., False, False, False],\n",
      "        [False, False, False, ..., False, False, False],\n",
      "        [False, False, False, ..., False, False, False],\n",
      "        ..., \n",
      "        [ True,  True,  True, ..., False, False, False],\n",
      "        [ True,  True,  True, ..., False, False, False],\n",
      "        [ True,  True,  True, ..., False, False, False]],\n",
      "\n",
      "       [[ True,  True,  True, ...,  True,  True,  True],\n",
      "        [ True,  True,  True, ...,  True,  True,  True],\n",
      "        [ True,  True,  True, ...,  True,  True,  True],\n",
      "        ..., \n",
      "        [False, False, False, ...,  True,  True,  True],\n",
      "        [False, False, False, ...,  True,  True,  True],\n",
      "        [False, False, False, ...,  True,  True,  True]],\n",
      "\n",
      "       [[False, False, False, ..., False, False, False],\n",
      "        [False, False, False, ..., False, False, False],\n",
      "        [False, False, False, ..., False, False, False],\n",
      "        ..., \n",
      "        [False, False, False, ..., False, False, False],\n",
      "        [False, False, False, ..., False, False, False],\n",
      "        [False, False, False, ..., False, False, False]],\n",
      "\n",
      "       ..., \n",
      "       [[False, False, False, ..., False, False, False],\n",
      "        [False, False, False, ..., False, False, False],\n",
      "        [False, False, False, ..., False, False, False],\n",
      "        ..., \n",
      "        [ True, False, False, ..., False, False, False],\n",
      "        [False, False, False, ..., False, False, False],\n",
      "        [False, False, False, ..., False, False, False]],\n",
      "\n",
      "       [[ True,  True,  True, ...,  True,  True,  True],\n",
      "        [ True,  True,  True, ...,  True,  True,  True],\n",
      "        [ True,  True,  True, ...,  True,  True,  True],\n",
      "        ..., \n",
      "        [False, False, False, ...,  True,  True,  True],\n",
      "        [False, False, False, ...,  True,  True,  True],\n",
      "        [False, False, False, ...,  True,  True,  True]],\n",
      "\n",
      "       [[False, False, False, ..., False, False, False],\n",
      "        [False, False, False, ..., False, False, False],\n",
      "        [False, False, False, ..., False, False, False],\n",
      "        ..., \n",
      "        [False, False, False, ..., False, False, False],\n",
      "        [False, False, False, ..., False, False, False],\n",
      "        [False, False, False, ..., False, False, False]]], dtype=bool)\n",
      "Coordinates:\n",
      "  * y        (y) float64 -3.947e+06 -3.947e+06 -3.947e+06 -3.947e+06 ...\n",
      "  * x        (x) float64 1.537e+06 1.537e+06 1.537e+06 1.537e+06 1.537e+06 ...\n",
      "  * time     (time) datetime64[ns] 2014-01-07 2014-01-16 2014-01-23 ...\n",
      "('NDVI shape ', '(42, 979, 839)')\n",
      "<xarray.DataArray 'pixelquality' (time: 42)>\n",
      "array([False,  True, False,  True,  True, False, False, False,  True,\n",
      "       False, False,  True, False, False,  True, False, False, False,\n",
      "       False, False,  True, False,  True,  True, False,  True, False,\n",
      "        True, False, False,  True,  True, False,  True,  True, False,\n",
      "       False, False,  True, False,  True, False], dtype=bool)\n",
      "Coordinates:\n",
      "  * time     (time) datetime64[ns] 2014-01-07 2014-01-16 2014-01-23 ...\n",
      "('How many cloudless images selected?', array(17))\n",
      "<xarray.DataArray (time: 17, y: 979, x: 839)>\n",
      "array([[[ 0.24214343,  0.23949408,  0.24528302, ...,  0.35849057,\n",
      "          0.31688623,  0.27777778],\n",
      "        [ 0.24928601,  0.25282073,  0.24885496, ...,  0.32161324,\n",
      "          0.30787938,  0.27842599],\n",
      "        [ 0.23175621,  0.25073622,  0.25156015, ...,  0.29179849,\n",
      "          0.28365385,  0.3025894 ],\n",
      "        ..., \n",
      "        [        nan,         nan,         nan, ...,  0.28919131,\n",
      "          0.30552604,  0.30057019],\n",
      "        [        nan,         nan,         nan, ...,  0.29687089,\n",
      "          0.30802369,  0.30490524],\n",
      "        [        nan,         nan,         nan, ...,  0.27538543,\n",
      "          0.27853881,  0.2866069 ]],\n",
      "\n",
      "       [[ 0.21655669,  0.22758903,  0.23093494, ...,         nan,\n",
      "                 nan,         nan],\n",
      "        [ 0.23342708,  0.22843282,  0.23288269, ...,         nan,\n",
      "                 nan,         nan],\n",
      "        [ 0.21964969,  0.22087327,  0.22774417, ...,         nan,\n",
      "                 nan,         nan],\n",
      "        ..., \n",
      "        [ 0.50678051,  0.5031235 ,  0.50824305, ...,         nan,\n",
      "                 nan,         nan],\n",
      "        [ 0.52222765,  0.53548387,  0.54469274, ...,         nan,\n",
      "                 nan,         nan],\n",
      "        [ 0.53807363,  0.53058024,  0.52497551, ...,         nan,\n",
      "                 nan,         nan]],\n",
      "\n",
      "       [[ 0.20709731,  0.21452514,  0.2167147 , ...,  0.36047604,\n",
      "          0.31097008,  0.23244552],\n",
      "        [ 0.21040851,  0.21673882,  0.2196566 , ...,  0.34254317,\n",
      "          0.29893868,  0.25438857],\n",
      "        [ 0.20937931,  0.20163886,  0.2027227 , ...,  0.27750309,\n",
      "          0.24887421,  0.27179487],\n",
      "        ..., \n",
      "        [ 0.54504505,  0.5434189 ,  0.54701299, ...,  0.27256637,\n",
      "          0.27457824,  0.26761397],\n",
      "        [ 0.55128908,  0.57158713,  0.56618017, ...,  0.26374596,\n",
      "          0.26933333,  0.26916002],\n",
      "        [ 0.56682028,  0.56921241,  0.56226001, ...,  0.26165501,\n",
      "          0.24677661,  0.23806591]],\n",
      "\n",
      "       ..., \n",
      "       [[        nan,         nan,         nan, ...,  0.65745311,\n",
      "          0.66312384,  0.71084337],\n",
      "        [        nan,         nan,         nan, ...,  0.70591133,\n",
      "          0.69853768,  0.69699534],\n",
      "        [        nan,         nan,         nan, ...,  0.72541076,\n",
      "          0.74614065,  0.73620576],\n",
      "        ..., \n",
      "        [ 0.54710744,  0.54930725,  0.56165473, ...,  0.46750524,\n",
      "          0.45835572,  0.45977939],\n",
      "        [ 0.56665291,  0.57303371,  0.56963053, ...,  0.46624804,\n",
      "          0.4734014 ,  0.47616408],\n",
      "        [ 0.583118  ,  0.57149066,  0.55743959, ...,  0.41969183,\n",
      "          0.44150943,  0.45163957]],\n",
      "\n",
      "       [[ 0.27666829,  0.27171005,  0.25753949, ...,         nan,\n",
      "                 nan,         nan],\n",
      "        [ 0.28084784,  0.27944573,  0.27647366, ...,         nan,\n",
      "                 nan,         nan],\n",
      "        [ 0.2942928 ,  0.30097586,  0.29786659, ...,         nan,\n",
      "                 nan,         nan],\n",
      "        ..., \n",
      "        [ 0.54862237,  0.55090312,  0.56183456, ...,         nan,\n",
      "                 nan,         nan],\n",
      "        [ 0.56529065,  0.55375833,  0.56173421, ...,         nan,\n",
      "                 nan,         nan],\n",
      "        [ 0.57464554,  0.57018747,  0.54864865, ...,         nan,\n",
      "                 nan,         nan]],\n",
      "\n",
      "       [[ 0.31661257,  0.33673469,  0.33064766, ...,  0.37063858,\n",
      "          0.33880126,  0.30394575],\n",
      "        [ 0.31445783,  0.32017273,  0.33207784, ...,  0.3915683 ,\n",
      "          0.33064766,  0.30627083],\n",
      "        [ 0.32742382,  0.31414723,  0.30856957, ...,  0.3253173 ,\n",
      "          0.31837127,  0.33969466],\n",
      "        ..., \n",
      "        [        nan,         nan,         nan, ...,  0.4198699 ,\n",
      "          0.41908465,  0.41988446],\n",
      "        [        nan,         nan,         nan, ...,  0.42194093,\n",
      "          0.43680982,  0.43065693],\n",
      "        [        nan,         nan,         nan, ...,  0.37162954,\n",
      "          0.37924757,  0.37472143]]])\n",
      "Coordinates:\n",
      "  * time     (time) datetime64[ns] 2014-01-16 2014-02-08 2014-02-17 ...\n",
      "  * y        (y) float64 -3.947e+06 -3.947e+06 -3.947e+06 -3.947e+06 ...\n",
      "  * x        (x) float64 1.537e+06 1.537e+06 1.537e+06 1.537e+06 1.537e+06 ..."
     ]
    },
    {
     "name": "stderr",
     "output_type": "stream",
     "text": [
      "DEBUG:/home/547/fxz547/myGithub/geodanalytics/python/search_low_ndvi_images.py:Doing filter of size= 3\n",
      "DEBUG:/home/547/fxz547/myGithub/geodanalytics/python/search_low_ndvi_images.py:Doing filter of size= 5\n",
      "DEBUG:/home/547/fxz547/myGithub/geodanalytics/python/search_low_ndvi_images.py:Doing filter of size= 7\n",
      "DEBUG:/home/547/fxz547/myGithub/geodanalytics/python/search_low_ndvi_images.py:Doing filter of size= 9\n",
      "DEBUG:/home/547/fxz547/myGithub/geodanalytics/python/search_low_ndvi_images.py:Doing filter of size= 11\n"
     ]
    },
    {
     "name": "stdout",
     "output_type": "stream",
     "text": [
      "\n",
      "(17, 979, 839)\n"
     ]
    }
   ],
   "source": [
    "print ndviobj.tp\n",
    "\n",
    "new_querydict = {'prod_type':'ls8_nbar_albers', 'time': ('2014-01-01', '2015-01-01')  }\n",
    "\n",
    "ndviobj.update_from_dict( new_querydict )\n",
    "\n",
    "print ndviobj.tp\n",
    "\n",
    "pdframe= ndviobj.main( )  #override with more specific ('ls8_nbar_albers')"
   ]
  },
  {
   "cell_type": "code",
   "execution_count": 8,
   "metadata": {
    "collapsed": false
   },
   "outputs": [
    {
     "data": {
      "text/html": [
       "<div>\n",
       "<table border=\"1\" class=\"dataframe\">\n",
       "  <thead>\n",
       "    <tr style=\"text-align: right;\">\n",
       "      <th></th>\n",
       "      <th>NDVI0</th>\n",
       "      <th>NDVI3</th>\n",
       "      <th>NDVI5</th>\n",
       "      <th>NDVI7</th>\n",
       "      <th>NDVI9</th>\n",
       "      <th>NDVI11</th>\n",
       "      <th>PROD_TYPE</th>\n",
       "    </tr>\n",
       "    <tr>\n",
       "      <th>time</th>\n",
       "      <th></th>\n",
       "      <th></th>\n",
       "      <th></th>\n",
       "      <th></th>\n",
       "      <th></th>\n",
       "      <th></th>\n",
       "      <th></th>\n",
       "    </tr>\n",
       "  </thead>\n",
       "  <tbody>\n",
       "    <tr>\n",
       "      <th>2014-01-16</th>\n",
       "      <td>0.349426</td>\n",
       "      <td>0.348669</td>\n",
       "      <td>0.347890</td>\n",
       "      <td>0.347331</td>\n",
       "      <td>0.346829</td>\n",
       "      <td>0.346468</td>\n",
       "      <td>ls8_nbar_albers</td>\n",
       "    </tr>\n",
       "    <tr>\n",
       "      <th>2014-02-08</th>\n",
       "      <td>0.348953</td>\n",
       "      <td>0.347922</td>\n",
       "      <td>0.347028</td>\n",
       "      <td>0.346368</td>\n",
       "      <td>0.345779</td>\n",
       "      <td>0.345326</td>\n",
       "      <td>ls8_nbar_albers</td>\n",
       "    </tr>\n",
       "    <tr>\n",
       "      <th>2014-02-17</th>\n",
       "      <td>0.347098</td>\n",
       "      <td>0.345731</td>\n",
       "      <td>0.344519</td>\n",
       "      <td>0.343630</td>\n",
       "      <td>0.342918</td>\n",
       "      <td>0.342370</td>\n",
       "      <td>ls8_nbar_albers</td>\n",
       "    </tr>\n",
       "    <tr>\n",
       "      <th>2014-03-21</th>\n",
       "      <td>0.474331</td>\n",
       "      <td>0.472634</td>\n",
       "      <td>0.471849</td>\n",
       "      <td>0.471398</td>\n",
       "      <td>0.471001</td>\n",
       "      <td>0.470672</td>\n",
       "      <td>ls8_nbar_albers</td>\n",
       "    </tr>\n",
       "    <tr>\n",
       "      <th>2014-04-13</th>\n",
       "      <td>0.588445</td>\n",
       "      <td>0.591581</td>\n",
       "      <td>0.594205</td>\n",
       "      <td>0.595645</td>\n",
       "      <td>0.596441</td>\n",
       "      <td>0.596930</td>\n",
       "      <td>ls8_nbar_albers</td>\n",
       "    </tr>\n",
       "  </tbody>\n",
       "</table>\n",
       "</div>"
      ],
      "text/plain": [
       "               NDVI0     NDVI3     NDVI5     NDVI7     NDVI9    NDVI11  \\\n",
       "time                                                                     \n",
       "2014-01-16  0.349426  0.348669  0.347890  0.347331  0.346829  0.346468   \n",
       "2014-02-08  0.348953  0.347922  0.347028  0.346368  0.345779  0.345326   \n",
       "2014-02-17  0.347098  0.345731  0.344519  0.343630  0.342918  0.342370   \n",
       "2014-03-21  0.474331  0.472634  0.471849  0.471398  0.471001  0.470672   \n",
       "2014-04-13  0.588445  0.591581  0.594205  0.595645  0.596441  0.596930   \n",
       "\n",
       "                  PROD_TYPE  \n",
       "time                         \n",
       "2014-01-16  ls8_nbar_albers  \n",
       "2014-02-08  ls8_nbar_albers  \n",
       "2014-02-17  ls8_nbar_albers  \n",
       "2014-03-21  ls8_nbar_albers  \n",
       "2014-04-13  ls8_nbar_albers  "
      ]
     },
     "execution_count": 8,
     "metadata": {},
     "output_type": "execute_result"
    }
   ],
   "source": [
    "pdframe.head()"
   ]
  },
  {
   "cell_type": "code",
   "execution_count": 13,
   "metadata": {
    "collapsed": false
   },
   "outputs": [
    {
     "data": {
      "text/plain": [
       "<matplotlib.axes._subplots.AxesSubplot at 0x7f4ec8538e90>"
      ]
     },
     "execution_count": 13,
     "metadata": {},
     "output_type": "execute_result"
    },
    {
     "data": {
      "image/png": "[encoded data removed]",
      "text/plain": [
       "<matplotlib.figure.Figure at 0x7f4e65194c90>"
      ]
     },
     "metadata": {},
     "output_type": "display_data"
    }
   ],
   "source": [
    "\n",
    "pdframe.plot(figsize=(20,10),marker='*')"
   ]
  },
  {
   "cell_type": "markdown",
   "metadata": {
    "collapsed": false
   },
   "source": [
    "# Further Analysis\n"
   ]
  },
  {
   "cell_type": "markdown",
   "metadata": {
    "collapsed": false
   },
   "source": [
    "1) use stats quartil to select a subset of images with lower ndvi\n",
    "\n",
    "2) do a synthetic image of bands: mean, median\n",
    "\n",
    "3) display the synthetic image, export to tiff\n",
    "\n",
    "4) produce natural color and NDVI combined video"
   ]
  },
  {
   "cell_type": "code",
   "execution_count": null,
   "metadata": {
    "collapsed": false
   },
   "outputs": [],
   "source": [
    "prod_type='ls5_nbar_albers'\n",
    "\n",
    "pq_prod_type = prod_type.replace('nbar','pq')\n",
    "\n",
    "good_ndvi=get_ndvi(prod_type, xp,yp,tp,cloudfreeRatio = 0.5)\n",
    "\n",
    "print (good_ndvi.shape)"
   ]
  },
  {
   "cell_type": "code",
   "execution_count": null,
   "metadata": {
    "collapsed": false
   },
   "outputs": [],
   "source": [
    "good_ndvi[:20].plot(col='time', col_wrap=5, add_colorbar=False)"
   ]
  },
  {
   "cell_type": "code",
   "execution_count": null,
   "metadata": {
    "collapsed": false
   },
   "outputs": [],
   "source": []
  },
  {
   "cell_type": "code",
   "execution_count": null,
   "metadata": {
    "collapsed": false
   },
   "outputs": [],
   "source": [
    "img1=good_ndvi[7]\n",
    "#mask = ~np.isnan(img1); img1f = median(img1,disk(5), mask=mask)\n",
    "img1f = filter_center(img1, size=3, func=np.nanmedian )"
   ]
  },
  {
   "cell_type": "code",
   "execution_count": null,
   "metadata": {
    "collapsed": false
   },
   "outputs": [],
   "source": [
    "plt.imshow(img1f)\n"
   ]
  },
  {
   "cell_type": "code",
   "execution_count": null,
   "metadata": {
    "collapsed": false
   },
   "outputs": [],
   "source": [
    "plt.imshow(img1)"
   ]
  },
  {
   "cell_type": "code",
   "execution_count": null,
   "metadata": {
    "collapsed": false
   },
   "outputs": [],
   "source": [
    "np.nanmean(img1f)"
   ]
  },
  {
   "cell_type": "code",
   "execution_count": null,
   "metadata": {
    "collapsed": false
   },
   "outputs": [],
   "source": [
    "img1.mean()"
   ]
  },
  {
   "cell_type": "code",
   "execution_count": null,
   "metadata": {
    "collapsed": false
   },
   "outputs": [],
   "source": [
    "\n",
    "ndvi578.plot( figsize=(20,10),  marker='*' )"
   ]
  },
  {
   "cell_type": "code",
   "execution_count": null,
   "metadata": {
    "collapsed": false
   },
   "outputs": [],
   "source": [
    "#ndvi_mean"
   ]
  },
  {
   "cell_type": "code",
   "execution_count": null,
   "metadata": {
    "collapsed": false
   },
   "outputs": [],
   "source": [
    "outcsvfile='meanNDVI578_%s.csv'% (AOI_NAME)\n",
    "\n",
    "ndvi578.to_csv(outcsvfile)  #('/tmp/meanNDVI578_FireScarNT.csv')"
   ]
  },
  {
   "cell_type": "code",
   "execution_count": null,
   "metadata": {
    "collapsed": false
   },
   "outputs": [],
   "source": [
    "ndvi578.hist(bins=100)"
   ]
  },
  {
   "cell_type": "code",
   "execution_count": null,
   "metadata": {
    "collapsed": false
   },
   "outputs": [],
   "source": [
    "p10= ndvi578.quantile(0.1)\n",
    "p90= ndvi578.quantile(0.9)\n",
    "\n",
    "bot_tenperc=ndvi578[(ndvi578['NDVI'] <= p10[0])].dropna()\n",
    "top_tenperc=ndvi578[(ndvi578['NDVI'] >= p90[0])].dropna()"
   ]
  },
  {
   "cell_type": "code",
   "execution_count": null,
   "metadata": {
    "collapsed": false
   },
   "outputs": [],
   "source": [
    "outcsvfile2='meanNDVI578_%s_bot10pc.csv'% (AOI_NAME)\n",
    "bot_tenperc.to_csv(outcsvfile2)\n",
    "\n",
    "outcsvfile3='meanNDVI578_%s_top10pc.csv'% (AOI_NAME)\n",
    "top_tenperc.to_csv(outcsvfile3)"
   ]
  },
  {
   "cell_type": "code",
   "execution_count": null,
   "metadata": {
    "collapsed": false
   },
   "outputs": [],
   "source": [
    "top_tenperc.head"
   ]
  },
  {
   "cell_type": "code",
   "execution_count": null,
   "metadata": {
    "collapsed": false
   },
   "outputs": [],
   "source": [
    "p10"
   ]
  },
  {
   "cell_type": "code",
   "execution_count": null,
   "metadata": {
    "collapsed": false
   },
   "outputs": [],
   "source": [
    "bot_tenperc.head(100)"
   ]
  },
  {
   "cell_type": "code",
   "execution_count": null,
   "metadata": {
    "collapsed": false
   },
   "outputs": [],
   "source": [
    "ndvidf21.plot(figsize=(20,10), marker='o' )"
   ]
  },
  {
   "cell_type": "code",
   "execution_count": null,
   "metadata": {
    "collapsed": false
   },
   "outputs": [],
   "source": [
    "stop\n"
   ]
  },
  {
   "cell_type": "markdown",
   "metadata": {
    "collapsed": false
   },
   "source": [
    "## First Experiment: Keep this section for reference."
   ]
  },
  {
   "cell_type": "code",
   "execution_count": null,
   "metadata": {
    "collapsed": true
   },
   "outputs": [],
   "source": [
    "#Keep this section for reference.\n",
    "\n",
    "from skimage import data\n",
    "from skimage.morphology import disk\n",
    "from skimage.filters.rank import median\n",
    "# >>> img = data.camera()\n",
    "# >>> med = median(img, disk(5))\n",
    "\n",
    "def filtered_ndvi_mean(ndvi_imgs, ndisk=5):\n",
    "    \"\"\" apply a spatial filter to the input ndvi_imgs array\n",
    "    return a pandas dataframe of mean NDVI for the images.\n",
    "    ndisk=5 is the default size of the disk filter\n",
    "    See http://scikit-image.org/docs/stable/api/skimage.filters.html?highlight=local%20median%20filter\n",
    "    \"\"\"\n",
    "\n",
    "    mydict={}\n",
    "    for it in xrange(0, len(ndvi_imgs.time)):\n",
    "        # apply median filter to get an image meds for this timeslice\n",
    "        img=ndvi_imgs.isel(time=it)\n",
    "        imask= ~np.isnan(img)\n",
    "        meds = median(img,disk(ndisk), mask=imask)  \n",
    "        #plt.imshow(meds)\n",
    "        mydict.update({ndvi_imgs.time[it].values: meds.mean()})\n",
    "\n",
    "    # convert mydict to pandas dataframe, with proper column names and index\n",
    "    pdf=pandas.DataFrame(mydict.items(), columns=['Date', 'NDVI'])\n",
    "    pdf.set_index('Date', inplace=True)\n",
    "    \n",
    "    return pdf\n",
    "\n",
    "###################\n",
    "scaled_good_ndvi = 128*(1+good_ndvi) # to unint8 or uint16 a requirement for scikit-image filter input\n",
    "\n",
    "uint8_good_ndvi=scaled_good_ndvi.astype('uint8')\n",
    "\n",
    "pdf5 = filtered_ndvi_mean( uint8_good_ndvi, ndisk=5)\n",
    "\n",
    "pdf5.head()\n",
    "\n",
    "pdf0=filtered_ndvi_mean( uint8_good_ndvi, ndisk=0)\n",
    "\n",
    "# plt.figure( )\n",
    "pdf0.plot(figsize=(20,10), marker='*' )\n",
    "\n",
    "pdf5.plot(figsize=(20,10), marker='*' )\n",
    "\n",
    "pdf10 = filtered_ndvi_mean( uint8_good_ndvi, ndisk=10)\n",
    "\n",
    "print(pdf10.shape)\n",
    "pdf10.plot(figsize=(20,10), marker='*' )\n"
   ]
  },
  {
   "cell_type": "code",
   "execution_count": null,
   "metadata": {
    "collapsed": false
   },
   "outputs": [],
   "source": [
    "done"
   ]
  },
  {
   "cell_type": "markdown",
   "metadata": {},
   "source": [
    "## Normalised Difference Water Index"
   ]
  },
  {
   "cell_type": "code",
   "execution_count": null,
   "metadata": {
    "collapsed": false
   },
   "outputs": [],
   "source": [
    "# images after removed invalid pixels. \n",
    "#ndwi.plot(col='time', col_wrap=6)\n"
   ]
  },
  {
   "cell_type": "markdown",
   "metadata": {},
   "source": [
    "### Weed out the low quality images."
   ]
  },
  {
   "cell_type": "code",
   "execution_count": null,
   "metadata": {
    "collapsed": false
   },
   "outputs": [],
   "source": [
    "# apply the cloud_threshold mask, which will select a subset images with good pixels. \n",
    "\n",
    "mostly_good_ndwi = ndwi.where(mostly_cloud_free).dropna('time', how='all')\n",
    "\n",
    "mostly_good_ndwi.plot(col='time', col_wrap=5)"
   ]
  },
  {
   "cell_type": "markdown",
   "metadata": {},
   "source": [
    "## Statistics Median and Mean Images (Synthetic)\n",
    "\n",
    "\n",
    "### Normalised Vegetation Index vs Water Index"
   ]
  },
  {
   "cell_type": "code",
   "execution_count": null,
   "metadata": {
    "collapsed": false
   },
   "outputs": [],
   "source": [
    "plt.figure( figsize=(16,12) )\n",
    "    \n",
    "plt.subplot( 2,2,1 )\n",
    "mostly_good_ndvi.median(dim='time').plot()\n",
    "plt.title(\"Median Normalised Difference Vegetation Index - NDVI\"); plt.xlabel('easting'); plt.ylabel('northing')\n",
    "\n",
    "\n",
    "plt.subplot( 2,2,2 )\n",
    "mostly_good_ndvi.mean(dim='time').plot()\n",
    "# ndvi.mean(dim='time').plot()\n",
    "plt.title(\"Mean Normalised Difference Vegetation Index - NDVI\"); plt.xlabel('easting'); plt.ylabel('northing')\n",
    "\n",
    "#------------------------------\n",
    "plt.subplot( 2,2,3 )\n",
    "mostly_good_ndwi.median(dim='time').plot()\n",
    "plt.title(\"Median Normalised Difference Water Index - NDWI\"); plt.xlabel('easting'); plt.ylabel('northing')\n",
    "\n",
    "\n",
    "plt.subplot( 2,2,4 )\n",
    "mostly_good_ndwi.mean(dim='time').plot()\n",
    "# ndwi.mean(dim='time').plot()\n",
    "plt.title(\"Mean Normalised Difference Water Index - NDWI\"); plt.xlabel('easting'); plt.ylabel('northing')"
   ]
  }
 ],
 "metadata": {
  "kernelspec": {
   "display_name": "Python 2",
   "language": "python",
   "name": "python2"
  },
  "language_info": {
   "codemirror_mode": {
    "name": "ipython",
    "version": 2
   },
   "file_extension": ".py",
   "mimetype": "text/x-python",
   "name": "python",
   "nbconvert_exporter": "python",
   "pygments_lexer": "ipython2",
   "version": "2.7.11"
  },
  "toc": {
   "toc_cell": false,
   "toc_number_sections": false,
   "toc_threshold": 6,
   "toc_window_display": true
  },
  "widgets": {
   "state": {},
   "version": "1.1.1"
  }
 },
 "nbformat": 4,
 "nbformat_minor": 0
}
