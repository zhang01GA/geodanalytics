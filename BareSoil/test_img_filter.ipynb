{
 "cells": [
  {
   "cell_type": "code",
   "execution_count": 11,
   "metadata": {
    "collapsed": false
   },
   "outputs": [],
   "source": [
    "import numpy as np\n",
    "from numpy import nan\n",
    "from skimage import data\n",
    "from skimage.morphology import disk\n",
    "from skimage.filters.rank import median\n"
   ]
  },
  {
   "cell_type": "code",
   "execution_count": 3,
   "metadata": {
    "collapsed": true
   },
   "outputs": [],
   "source": [
    "%matplotlib inline\n",
    "import matplotlib.pyplot as plt"
   ]
  },
  {
   "cell_type": "code",
   "execution_count": 88,
   "metadata": {
    "collapsed": true
   },
   "outputs": [],
   "source": [
    "#https://github.com/NICTA/uncover-ml/blob/develop/preprocessing/raster_average.py\n",
    "    \n",
    "from numpy.lib.stride_tricks import as_strided\n",
    "def filter_center(A, size=3, no_data_val=None, func=np.nanmean):\n",
    "    \"\"\"\n",
    "    Parameters\n",
    "    ----------\n",
    "    A = input data\n",
    "    size = odd number uniform filtering kernel size\n",
    "    no_data_val = value in matrix that is treated as no data value\n",
    "    func: function to use, choose from np.nanmean/median/max/min etc.\n",
    "    Returns: nanmean of the matrix A filtered by a uniform kernel of size=size\n",
    "    -------\n",
    "    Adapted from: http://stackoverflow.com/questions/23829097/python-numpy-fastest-method-for-2d-kernel-rank-filtering-on-masked-arrays-and-o?rq=1\n",
    "    Notes\n",
    "    -----\n",
    "    This function `centers` the kernel at the target pixel.\n",
    "    This is slightly different from scipy.ndimage.uniform_filter application.\n",
    "    In scipy.ndimage.uniform_filter, a convolution approach is implemented.\n",
    "    An equivalent is scipy.ndimage.uniform_filter like convolution approach with\n",
    "    no_data_val/nan handling can be found in filter_broadcast_uniform_filter in\n",
    "    this module.\n",
    "    Change function to nanmedian, nanmax, nanmin as required.\n",
    "    \"\"\"\n",
    "\n",
    "    assert size % 2 == 1, 'Please supply an odd size'\n",
    "    rows, cols = A.shape\n",
    "\n",
    "    padded_A = np.empty(shape=(rows + size-1,\n",
    "                               cols + size-1),\n",
    "                        dtype=A.dtype)\n",
    "    padded_A[:] = np.nan\n",
    "    rows_pad, cols_pad = padded_A.shape\n",
    "\n",
    "    if no_data_val:\n",
    "        mask = A == no_data_val\n",
    "        A[mask] = np.nan\n",
    "\n",
    "    padded_A[size//2:rows_pad - size//2, size//2: cols_pad - size//2] = A.copy()\n",
    "\n",
    "    N, M = A.shape\n",
    "\n",
    "    B = as_strided(padded_A, (N, M, size, size),\n",
    "                   padded_A.strides+padded_A.strides)\n",
    "    B = B.copy().reshape((N, M, size**2))\n",
    "    return func(B, axis=2)"
   ]
  },
  {
   "cell_type": "code",
   "execution_count": 99,
   "metadata": {
    "collapsed": false
   },
   "outputs": [],
   "source": [
    "img1=0.5*np.array([[-1.0, 1.2, 1.4, 1.6, 1.8],\n",
    "                              [0.0, 1.2, 1.4, 1.6, 1.8],\n",
    "                              [1.0, 1.2, 0.0, 1.6, 1.8],\n",
    "                              [2.0, 1.2, 1.4, 1.6, 1.8],\n",
    "                              [0.0, 1.2, 1.4, 1.6, 1.8]])\n",
    "\n",
    "img1= 0.5*np.array([[nan, 1.2, 1.3, 1.4, 1.6],\n",
    "                                            [nan, 1.2, 1.3, 1.4, 1.6],\n",
    "                                            [1.0, 1.15, 1.23333333, 1.4, 1.625],\n",
    "                                            [1.5, 1.32, 1.34285714, 1.4, 1.625],\n",
    "                                            [1.5, 1.32, 1.34285714, 1.4,\n",
    "                                             1.625]])\n"
   ]
  },
  {
   "cell_type": "code",
   "execution_count": 100,
   "metadata": {
    "collapsed": false
   },
   "outputs": [
    {
     "data": {
      "text/plain": [
       "array([[ 0.6       ,  0.625     ,  0.65      ,  0.7       ,  0.75      ],\n",
       "       [ 0.5875    ,  0.6       ,  0.65      ,  0.7       ,  0.75      ],\n",
       "       [ 0.6       ,  0.63333333,  0.66      ,  0.7       ,  0.75      ],\n",
       "       [ 0.66      ,  0.66      ,  0.67142857,  0.7       ,  0.75625   ],\n",
       "       [ 0.705     ,  0.67142857,  0.67142857,  0.7       ,  0.75625   ]])"
      ]
     },
     "execution_count": 100,
     "metadata": {},
     "output_type": "execute_result"
    }
   ],
   "source": [
    "filter_center(img1, size=3, func=np.nanmedian)"
   ]
  },
  {
   "cell_type": "code",
   "execution_count": 96,
   "metadata": {
    "collapsed": true
   },
   "outputs": [],
   "source": [
    "img1=np.empty(shape=(5,5))*nan\n",
    "img1[1,1] = 0\n",
    "img1[1,3] = 0"
   ]
  },
  {
   "cell_type": "code",
   "execution_count": 101,
   "metadata": {
    "collapsed": false
   },
   "outputs": [
    {
     "data": {
      "text/plain": [
       "array([[        nan,  0.6       ,  0.65      ,  0.7       ,  0.8       ],\n",
       "       [        nan,  0.6       ,  0.65      ,  0.7       ,  0.8       ],\n",
       "       [ 0.5       ,  0.575     ,  0.61666667,  0.7       ,  0.8125    ],\n",
       "       [ 0.75      ,  0.66      ,  0.67142857,  0.7       ,  0.8125    ],\n",
       "       [ 0.75      ,  0.66      ,  0.67142857,  0.7       ,  0.8125    ]])"
      ]
     },
     "execution_count": 101,
     "metadata": {},
     "output_type": "execute_result"
    }
   ],
   "source": [
    "img1"
   ]
  },
  {
   "cell_type": "code",
   "execution_count": null,
   "metadata": {
    "collapsed": true
   },
   "outputs": [],
   "source": [
    "(1.2)/2"
   ]
  },
  {
   "cell_type": "code",
   "execution_count": null,
   "metadata": {
    "collapsed": true
   },
   "outputs": [],
   "source": []
  },
  {
   "cell_type": "code",
   "execution_count": 75,
   "metadata": {
    "collapsed": false
   },
   "outputs": [
    {
     "data": {
      "text/plain": [
       "array([[ nan,  nan,  nan,  nan,  nan],\n",
       "       [ nan,   0.,  nan,   0.,  nan],\n",
       "       [ nan,  nan,  nan,  nan,  nan],\n",
       "       [ nan,  nan,  nan,  nan,  nan],\n",
       "       [ nan,  nan,  nan,  nan,  nan]])"
      ]
     },
     "execution_count": 75,
     "metadata": {},
     "output_type": "execute_result"
    }
   ],
   "source": [
    "img1"
   ]
  },
  {
   "cell_type": "code",
   "execution_count": 76,
   "metadata": {
    "collapsed": false
   },
   "outputs": [
    {
     "data": {
      "text/plain": [
       "<matplotlib.image.AxesImage at 0x7f7af7346c90>"
      ]
     },
     "execution_count": 76,
     "metadata": {},
     "output_type": "execute_result"
    },
    {
     "data": {
      "image/png": "[encoded data removed]",
      "text/plain": [
       "<matplotlib.figure.Figure at 0x7f7af7510fd0>"
      ]
     },
     "metadata": {},
     "output_type": "display_data"
    }
   ],
   "source": [
    "plt.imshow(img1)"
   ]
  },
  {
   "cell_type": "code",
   "execution_count": 78,
   "metadata": {
    "collapsed": false
   },
   "outputs": [],
   "source": [
    "mask = ~np.isnan(img1)\n",
    "img1f = median(img1,disk(2), mask=mask)"
   ]
  },
  {
   "cell_type": "code",
   "execution_count": 79,
   "metadata": {
    "collapsed": false
   },
   "outputs": [
    {
     "data": {
      "text/plain": [
       "<matplotlib.image.AxesImage at 0x7f7af72b1290>"
      ]
     },
     "execution_count": 79,
     "metadata": {},
     "output_type": "execute_result"
    },
    {
     "data": {
      "image/png": "[encoded data removed]",
      "text/plain": [
       "<matplotlib.figure.Figure at 0x7f7af76e07d0>"
      ]
     },
     "metadata": {},
     "output_type": "display_data"
    }
   ],
   "source": [
    "plt.imshow(img1f)"
   ]
  },
  {
   "cell_type": "code",
   "execution_count": 81,
   "metadata": {
    "collapsed": false
   },
   "outputs": [
    {
     "data": {
      "text/plain": [
       "(array([[0, 0, 0, 0, 0],\n",
       "        [0, 0, 0, 0, 0],\n",
       "        [0, 0, 0, 0, 0],\n",
       "        [0, 0, 0, 0, 0],\n",
       "        [0, 0, 0, 0, 0]], dtype=uint8),\n",
       " array([[False, False, False, False, False],\n",
       "        [False,  True, False,  True, False],\n",
       "        [False, False, False, False, False],\n",
       "        [False, False, False, False, False],\n",
       "        [False, False, False, False, False]], dtype=bool))"
      ]
     },
     "execution_count": 81,
     "metadata": {},
     "output_type": "execute_result"
    }
   ],
   "source": [
    "img1f, mask"
   ]
  },
  {
   "cell_type": "code",
   "execution_count": 72,
   "metadata": {
    "collapsed": false
   },
   "outputs": [
    {
     "data": {
      "text/plain": [
       "array([[ 0.,  0.,  0.,  0.,  0.],\n",
       "       [ 0.,  0.,  0.,  0.,  0.],\n",
       "       [ 0.,  0.,  0.,  0.,  0.],\n",
       "       [ 0.,  0.,  0.,  0.,  0.],\n",
       "       [ 0.,  0.,  0.,  0.,  0.]])"
      ]
     },
     "execution_count": 72,
     "metadata": {},
     "output_type": "execute_result"
    }
   ],
   "source": [
    "(1/256.0)*img1f"
   ]
  }
 ],
 "metadata": {
  "kernelspec": {
   "display_name": "Python 2",
   "language": "python",
   "name": "python2"
  },
  "language_info": {
   "codemirror_mode": {
    "name": "ipython",
    "version": 2
   },
   "file_extension": ".py",
   "mimetype": "text/x-python",
   "name": "python",
   "nbconvert_exporter": "python",
   "pygments_lexer": "ipython2",
   "version": "2.7.11"
  }
 },
 "nbformat": 4,
 "nbformat_minor": 0
}
