{
 "cells": [
  {
   "cell_type": "markdown",
   "metadata": {
    "collapsed": true
   },
   "source": [
    "# Barest Soil \n",
    "\n",
    "### Fei Zhang @Geoscience Australia\n",
    "\n",
    "August 2016"
   ]
  },
  {
   "cell_type": "markdown",
   "metadata": {},
   "source": [
    "## Introduction"
   ]
  },
  {
   "cell_type": "markdown",
   "metadata": {},
   "source": [
    "Find the barest soil Earth observations from time series analysis. The result data  will be used as input for the mineral resources uncover project:  machine-learning application.\n",
    "\n",
    "Here are the centre point locations for 3 study aread with different vegetation/bareness relationships;\n",
    "\n",
    "1. Edge of fire scar (NT) 19:36:10.24S//132:34:55.72E\n",
    "\n",
    "2. Farming land (crops (green and fallow paddocks - Western NSW)30:5:45.33S/148:11:29.75E\n",
    "\n",
    "3. Woodland (remain greenish most of the time - the understory should change in response to seasonal drying out)22:52:35.4S/147:24:11.25E\n",
    "\n",
    "extract a 5X5 km or 10X10km tile for each area. Then select only tiles with < 10% poor quality pixels (e.g. noise , cloud etc.). From that subset we run NDVI and then run a median kernel (3*3 ?) to smooth out noisy pixels. The kernel needs to accommodate crappy pixels as no data values. After that we calculate the average NDVI response for whole the tile. We should try a keep the tiles in chronological order because when we process all the tiles through time series and plot up the average NDVI value for each tile we will want to see trends of drying out (increased bareness) due to seasonal effects or recovery from fire scars. I suggest we look at the image tiles along each step of the work flow. There are lots of parameters (size of tile, size and shape of the kernel etc) we can change  - but as a first step this might be a good start. \n",
    "\n",
    "Fei we might want to have further discussions when you have selected a sub-group of tiles with good pixel quality. I suppose this first step assumes that we have a very good pixel quality mask or flag?\n",
    "We have significant temporal depth - so if in doubt exclude problematic tiles.\n",
    "\n",
    "\n",
    "\n"
   ]
  },
  {
   "cell_type": "markdown",
   "metadata": {},
   "source": [
    "## Interactive Computing"
   ]
  },
  {
   "cell_type": "code",
   "execution_count": 1,
   "metadata": {
    "ExecuteTime": {
     "end_time": "2016-06-06T18:30:48.818824",
     "start_time": "2016-06-06T18:30:46.587169"
    },
    "collapsed": true
   },
   "outputs": [],
   "source": [
    "%matplotlib inline\n",
    "import matplotlib.pyplot as plt\n",
    "from scipy import stats\n",
    "import numpy as np\n",
    "import math\n",
    "import pandas\n",
    "\n",
    "import sys\n",
    "sys.path.insert(0, '/g/data/u46/fxz547/Githubz/agdc-v2')#'/home/547/fxz547/myGithub/agdc-v2')  #prepend a path"
   ]
  },
  {
   "cell_type": "code",
   "execution_count": 2,
   "metadata": {
    "ExecuteTime": {
     "end_time": "2016-06-06T18:31:05.667416",
     "start_time": "2016-06-06T18:31:05.633562"
    },
    "collapsed": false
   },
   "outputs": [
    {
     "data": {
      "text/plain": [
       "Datacube<index=Index<db=PostgresDb<engine=Engine(postgresql://fxz547@130.56.244.227:6432/datacube)>>>"
      ]
     },
     "execution_count": 2,
     "metadata": {},
     "output_type": "execute_result"
    }
   ],
   "source": [
    "# import AGDC Python API modules\n",
    "\n",
    "import datacube\n",
    "from datacube.storage import masking\n",
    "\n",
    "# Create an API data access object\n",
    "dc = datacube.Datacube(app='BarestSoil')\n",
    "\n",
    "dc"
   ]
  },
  {
   "cell_type": "markdown",
   "metadata": {
    "collapsed": true
   },
   "source": [
    "We can access the Postgres Database (metadata index) and its associated imagery data."
   ]
  },
  {
   "cell_type": "markdown",
   "metadata": {},
   "source": [
    "## Retrieving data\n"
   ]
  },
  {
   "cell_type": "code",
   "execution_count": 3,
   "metadata": {
    "collapsed": false
   },
   "outputs": [],
   "source": [
    "#To see the function signature?\n",
    "#dc.load?\n",
    "\n",
    "# Where?\n",
    "# xp=(149.00, 149.20); yp=(-35.25, -35.35)  # Lake Burley Griffin x=(149.07, 149.17), y=(-35.25, -35.35), \n",
    "# xp=( 149.160,  149.170); yp=(-35.34 , -35.35 )  #a small area cover GA water pond\n",
    "\n",
    "# Edge of fire scar (NT) 19:36:10.24S//132:34:55.72E\n",
    "#xp=(132.50, 132.60); yp=(-19.7, -19.5)  # 0.1degree =~ 10km \n",
    "# xp=(132.50, 132.60); yp=(-19.65, -19.55)\n",
    "\n",
    "#Farming land (crops (green and fallow paddocks - Western NSW)30:5:45.33S/148:11:29.75E\n",
    "xp=(148.14, 148.24); yp=(-30.15, -30.05)\n",
    "\n",
    "#Woodland (greenish most of the time. the understory should change in response to seasonal drying out)22:52:35.4S/147:24:11.25E\n",
    "xp=(147.35, 147.45); yp=(-22.92, -22.82) \n",
    "                \n",
    "# When? a time range\n",
    "tp=('1980-01', '2016-12-31')\n",
    "\n",
    "prod_type='ls5_nbar_albers'"
   ]
  },
  {
   "cell_type": "markdown",
   "metadata": {},
   "source": [
    "##  Applications based on AGDC\n",
    "\n",
    "### Derive information products \n",
    "### Must identify and remove invalid observations: cloud, shadow, satuared pixels\n",
    "\n",
    "### Band maths: combine the bands to derive new variables (artificial bands)\n",
    "\n",
    "-  Normalized Difference Vegetation Index, NDVI\n",
    "-  Normalized Difference Water Index,  NDWI\n",
    "-  These index can help to clearly identify certain land cover features: Vegetation, water bodies"
   ]
  },
  {
   "cell_type": "code",
   "execution_count": 4,
   "metadata": {
    "collapsed": false
   },
   "outputs": [],
   "source": [
    "prod_type\n",
    "pq_prod_type = prod_type.replace('nbar','pq')"
   ]
  },
  {
   "cell_type": "code",
   "execution_count": 5,
   "metadata": {
    "ExecuteTime": {
     "end_time": "2016-06-06T18:10:22.933696",
     "start_time": "2016-06-06T18:10:17.304594"
    },
    "collapsed": false
   },
   "outputs": [],
   "source": [
    "def get_ndvi_mean(prod_type, xp, yp, tp):\n",
    "    blist= ['red', 'nir'] #, 'green', 'swir1']\n",
    "    bands = dc.load(product=prod_type, x=xp, y=yp, time=tp, measurements= blist, group_by='solar_day')\n",
    "    red = bands.red.where(bands.red != bands.red.attrs['nodata'])\n",
    "    nir = bands.nir.where(bands.nir != bands.nir.attrs['nodata'])\n",
    "\n",
    "    # green = bands.green.where(bands.green != bands.green.attrs['nodata'])\n",
    "    # swir1 = bands.swir1.where(bands.swir1 != bands.swir1.attrs['nodata'])\n",
    "\n",
    "    # Retrieve the associated Pixel Quality datasets ls8_pq_albers\n",
    "    pq_prod_type = prod_type.replace('nbar','pq')\n",
    "    pq = dc.load(product=pq_prod_type, x=xp, y=yp,  time=tp, group_by='solar_day')\n",
    "\n",
    "    print (len(bands.time), len(pq.time))\n",
    "\n",
    "    cloud_free = masking.make_mask(pq, cloud_acca='no_cloud', cloud_fmask='no_cloud', contiguous=True).pixelquality\n",
    "\n",
    "    # Normalized Differenc Vegetation Index: Red and near Infrared bands\n",
    "\n",
    "    ndvi = ((nir - red) / (nir + red)).where(cloud_free)\n",
    "\n",
    "    # Normalized Differenc Water Index: Green and Shortwave Infrared Bands\n",
    "\n",
    "    #ndwi = ((swir1- green)/(green + swir1)).where(cloud_free)\n",
    "\n",
    "    #ndwi = ((green- swir1)/(green + swir1)).where(cloud_free)\n",
    "\n",
    "    print(ndvi.shape)\n",
    "\n",
    "    # xarray.Dataset.sum to reduce the datasets by selecting the time slices with high percentage cloud-free pixels\n",
    "    #  Weed out the low quality images\n",
    "    cloudfreeRatio = 0.9  # threshold of cloud pixel 80%\n",
    "\n",
    "    mostly_cloud_free = cloud_free.sum(dim=('x','y')) > (cloudfreeRatio * cloud_free.size / cloud_free.time.size)\n",
    "\n",
    "    #print(mostly_cloud_free)\n",
    "    \n",
    "    print(\"How many cloudless images selected?\", mostly_cloud_free.sum().values)\n",
    "    \n",
    "    # Apply the time-dim mask to the 3D-array (time, x, y)\n",
    "    mostly_good_ndvi = ndvi.where(mostly_cloud_free).dropna('time', how='all')\n",
    "    # mostly_good_ndvi.plot(col='time', col_wrap=5)\n",
    "    \n",
    "    #xarray:  mostly_good_ndvi\n",
    "\n",
    "    ndvi_mean=mostly_good_ndvi.mean(dim=['x','y'])\n",
    "    \n",
    "    pdf=ndvi_mean.to_pandas()\n",
    "    \n",
    "    return pdf\n"
   ]
  },
  {
   "cell_type": "code",
   "execution_count": 39,
   "metadata": {
    "collapsed": false
   },
   "outputs": [
    {
     "name": "stdout",
     "output_type": "stream",
     "text": [
      "(389, 388)\n",
      "(388, 494, 458)\n",
      "('How many cloudless images selected?', array(50))\n"
     ]
    }
   ],
   "source": [
    "# Edge of fire scar (NT) 19:36:10.24S//132:34:55.72E\n",
    "# 0.1degree =~ 10km \n",
    "AOI_NAME='FireScarNT'; xp=(132.50, 132.60); yp=(-19.65, -19.55)\n",
    "\n",
    "#Farming land (crops (green and fallow paddocks - Western NSW)30:5:45.33S/148:11:29.75E\n",
    "#AOI_NAME='Farmland'; xp=(148.14, 148.24); yp=(-30.15, -30.05)\n",
    "\n",
    "#Woodland (greenish most of the time. the understory should change in response to seasonal drying out)22:52:35.4S/147:24:11.25E\n",
    "AOI_NAME='Woodland'; xp=(147.35, 147.45); yp=(-22.92, -22.82) \n",
    "                \n",
    "# When? a time range\n",
    "tp=('1980-01', '2016-12-31')\n",
    "\n",
    "prod_type='ls7_nbar_albers'\n",
    "\n",
    "df_ndvi_ls7=get_ndvi_mean(prod_type, xp,yp,tp)\n"
   ]
  },
  {
   "cell_type": "code",
   "execution_count": 40,
   "metadata": {
    "collapsed": false
   },
   "outputs": [
    {
     "name": "stdout",
     "output_type": "stream",
     "text": [
      "(132, 131)\n",
      "(131, 494, 458)\n",
      "('How many cloudless images selected?', array(82))\n"
     ]
    }
   ],
   "source": [
    "df_ndvi_ls8=get_ndvi_mean('ls8_nbar_albers', xp,yp,tp)"
   ]
  },
  {
   "cell_type": "code",
   "execution_count": 41,
   "metadata": {
    "collapsed": false
   },
   "outputs": [
    {
     "name": "stdout",
     "output_type": "stream",
     "text": [
      "(617, 617)\n",
      "(617, 494, 458)\n",
      "('How many cloudless images selected?', array(411))\n"
     ]
    }
   ],
   "source": [
    "# ls5\n",
    "df_ndvi_ls5=get_ndvi_mean('ls5_nbar_albers', xp,yp,tp)\n"
   ]
  },
  {
   "cell_type": "code",
   "execution_count": 42,
   "metadata": {
    "collapsed": true
   },
   "outputs": [],
   "source": [
    "ndvi578=pandas.concat([df_ndvi_ls5, df_ndvi_ls7, df_ndvi_ls8])"
   ]
  },
  {
   "cell_type": "code",
   "execution_count": 43,
   "metadata": {
    "collapsed": false
   },
   "outputs": [
    {
     "data": {
      "text/plain": [
       "<matplotlib.axes._subplots.AxesSubplot at 0x7efec62d3910>"
      ]
     },
     "execution_count": 43,
     "metadata": {},
     "output_type": "execute_result"
    },
    {
     "data": {
      "image/png": "[encoded data removed]",
      "text/plain": [
       "<matplotlib.figure.Figure at 0x7efec62d38d0>"
      ]
     },
     "metadata": {},
     "output_type": "display_data"
    }
   ],
   "source": [
    "plt.figure( figsize=(20,10) )\n",
    "ndvi578.plot()"
   ]
  },
  {
   "cell_type": "code",
   "execution_count": 44,
   "metadata": {
    "collapsed": false
   },
   "outputs": [],
   "source": [
    "#ndvi_mean"
   ]
  },
  {
   "cell_type": "code",
   "execution_count": 45,
   "metadata": {
    "collapsed": false
   },
   "outputs": [],
   "source": [
    "outcsvfile='meanNDVI578_%s.csv'% (AOI_NAME)\n",
    "\n",
    "ndvi578.to_csv(outcsvfile)  #('/tmp/meanNDVI578_FireScarNT.csv')"
   ]
  },
  {
   "cell_type": "code",
   "execution_count": 46,
   "metadata": {
    "collapsed": false
   },
   "outputs": [
    {
     "data": {
      "text/plain": [
       "<matplotlib.axes._subplots.AxesSubplot at 0x7efec62d3b50>"
      ]
     },
     "execution_count": 46,
     "metadata": {},
     "output_type": "execute_result"
    },
    {
     "data": {
      "image/png": "[encoded data removed]",
      "text/plain": [
       "<matplotlib.figure.Figure at 0x7efecd685390>"
      ]
     },
     "metadata": {},
     "output_type": "display_data"
    }
   ],
   "source": [
    "ndvi578.hist(bins=100)"
   ]
  },
  {
   "cell_type": "code",
   "execution_count": 47,
   "metadata": {
    "collapsed": true
   },
   "outputs": [],
   "source": [
    "bot_tenperc=ndvi578[ndvi578 < ndvi578.quantile(0.1)].dropna()\n",
    "\n",
    "top_tenperc=ndvi578[ndvi578 > ndvi578.quantile(0.9)].dropna()"
   ]
  },
  {
   "cell_type": "code",
   "execution_count": 48,
   "metadata": {
    "collapsed": false
   },
   "outputs": [],
   "source": [
    "outcsvfile2='meanNDVI578_%s_bot10pc.csv'% (AOI_NAME)\n",
    "bot_tenperc.to_csv(outcsvfile2)\n",
    "\n",
    "outcsvfile3='meanNDVI578_%s_top10pc.csv'% (AOI_NAME)\n",
    "top_tenperc.to_csv(outcsvfile3)"
   ]
  },
  {
   "cell_type": "code",
   "execution_count": 49,
   "metadata": {
    "collapsed": false
   },
   "outputs": [
    {
     "data": {
      "text/plain": [
       "time\n",
       "1990-11-19    0.304481\n",
       "1992-11-08    0.288030\n",
       "1992-11-15    0.308409\n",
       "1992-12-01    0.293100\n",
       "1993-02-19    0.321551\n",
       "1993-04-17    0.329998\n",
       "1993-05-03    0.330353\n",
       "1994-09-27    0.333810\n",
       "1994-10-04    0.324903\n",
       "1994-10-13    0.315503\n",
       "1994-10-20    0.323023\n",
       "1994-11-05    0.325907\n",
       "1994-11-14    0.316340\n",
       "1994-12-23    0.332005\n",
       "1996-09-16    0.321644\n",
       "1996-09-23    0.328875\n",
       "1996-10-18    0.333587\n",
       "1996-11-19    0.320645\n",
       "1996-11-26    0.321753\n",
       "1996-12-05    0.329583\n",
       "1999-10-27    0.329436\n",
       "1999-11-12    0.315413\n",
       "2003-11-07    0.325356\n",
       "2004-10-15    0.334223\n",
       "2004-10-24    0.328137\n",
       "2004-12-02    0.326706\n",
       "2005-09-25    0.327643\n",
       "2005-10-02    0.334687\n",
       "2005-10-11    0.313979\n",
       "2006-10-14    0.332294\n",
       "2006-10-21    0.323140\n",
       "2006-11-22    0.324376\n",
       "2006-11-30    0.307629\n",
       "2006-12-17    0.322411\n",
       "2009-09-27    0.306886\n",
       "2009-10-06    0.332125\n",
       "2009-10-13    0.320368\n",
       "2009-10-22    0.307354\n",
       "2009-11-23    0.307127\n",
       "2009-11-30    0.276292\n",
       "2009-12-09    0.289528\n",
       "1999-10-19    0.317178\n",
       "2001-10-08    0.334465\n",
       "2001-12-11    0.331902\n",
       "2002-09-25    0.322659\n",
       "2002-10-18    0.322622\n",
       "2002-11-19    0.309953\n",
       "2002-12-14    0.287280\n",
       "2013-06-11    0.000000\n",
       "2015-09-21    0.330332\n",
       "2015-09-28    0.320374\n",
       "2015-10-07    0.325802\n",
       "2015-10-14    0.313053\n",
       "2015-10-23    0.316186\n",
       "2015-11-24    0.319017\n",
       "dtype: float64"
      ]
     },
     "execution_count": 49,
     "metadata": {},
     "output_type": "execute_result"
    }
   ],
   "source": [
    "bot_tenperc"
   ]
  },
  {
   "cell_type": "code",
   "execution_count": 50,
   "metadata": {
    "collapsed": false
   },
   "outputs": [
    {
     "ename": "SyntaxError",
     "evalue": "invalid syntax (<ipython-input-50-d67ea3c8f5f4>, line 1)",
     "output_type": "error",
     "traceback": [
      "\u001b[1;36m  File \u001b[1;32m\"<ipython-input-50-d67ea3c8f5f4>\"\u001b[1;36m, line \u001b[1;32m1\u001b[0m\n\u001b[1;33m    stop here\u001b[0m\n\u001b[1;37m            ^\u001b[0m\n\u001b[1;31mSyntaxError\u001b[0m\u001b[1;31m:\u001b[0m invalid syntax\n"
     ]
    }
   ],
   "source": [
    "stop here\n",
    "\n",
    "#http://scikit-image.org/docs/stable/api/skimage.filters.html?highlight=local%20median%20filter\n",
    ">>> from skimage import data\n",
    ">>> from skimage.morphology import disk\n",
    ">>> from skimage.filters.rank import median\n",
    ">>> img = data.camera()\n",
    ">>> med = median(img, disk(5))"
   ]
  },
  {
   "cell_type": "markdown",
   "metadata": {},
   "source": [
    "## Normalised Difference Water Index"
   ]
  },
  {
   "cell_type": "code",
   "execution_count": null,
   "metadata": {
    "collapsed": false
   },
   "outputs": [],
   "source": [
    "# images after removed invalid pixels. \n",
    "#ndwi.plot(col='time', col_wrap=6)\n"
   ]
  },
  {
   "cell_type": "markdown",
   "metadata": {},
   "source": [
    "### Weed out the low quality images."
   ]
  },
  {
   "cell_type": "code",
   "execution_count": null,
   "metadata": {
    "collapsed": false
   },
   "outputs": [],
   "source": [
    "# apply the cloud_threshold mask, which will select a subset images with good pixels. \n",
    "\n",
    "mostly_good_ndwi = ndwi.where(mostly_cloud_free).dropna('time', how='all')\n",
    "\n",
    "mostly_good_ndwi.plot(col='time', col_wrap=5)"
   ]
  },
  {
   "cell_type": "markdown",
   "metadata": {},
   "source": [
    "## Statistics Median and Mean Images\n",
    "\n",
    "### Normalised Vegetation Index vs Water Index"
   ]
  },
  {
   "cell_type": "code",
   "execution_count": null,
   "metadata": {
    "collapsed": false
   },
   "outputs": [],
   "source": [
    "plt.figure( figsize=(16,12) )\n",
    "    \n",
    "plt.subplot( 2,2,1 )\n",
    "mostly_good_ndvi.median(dim='time').plot()\n",
    "plt.title(\"Median Normalised Difference Vegetation Index - NDVI\"); plt.xlabel('easting'); plt.ylabel('northing')\n",
    "\n",
    "\n",
    "plt.subplot( 2,2,2 )\n",
    "mostly_good_ndvi.mean(dim='time').plot()\n",
    "# ndvi.mean(dim='time').plot()\n",
    "plt.title(\"Mean Normalised Difference Vegetation Index - NDVI\"); plt.xlabel('easting'); plt.ylabel('northing')\n",
    "\n",
    "#------------------------------\n",
    "plt.subplot( 2,2,3 )\n",
    "mostly_good_ndwi.median(dim='time').plot()\n",
    "plt.title(\"Median Normalised Difference Water Index - NDWI\"); plt.xlabel('easting'); plt.ylabel('northing')\n",
    "\n",
    "\n",
    "plt.subplot( 2,2,4 )\n",
    "mostly_good_ndwi.mean(dim='time').plot()\n",
    "# ndwi.mean(dim='time').plot()\n",
    "plt.title(\"Mean Normalised Difference Water Index - NDWI\"); plt.xlabel('easting'); plt.ylabel('northing')"
   ]
  },
  {
   "cell_type": "markdown",
   "metadata": {
    "collapsed": true
   },
   "source": [
    "# Water Observation from Space\n",
    "\n",
    "http://eos-test.ga.gov.au/geoserver/www/remote_scripts/WOfS_v1.6.htm\n"
   ]
  }
 ],
 "metadata": {
  "kernelspec": {
   "display_name": "Python 2",
   "language": "python",
   "name": "python2"
  },
  "language_info": {
   "codemirror_mode": {
    "name": "ipython",
    "version": 2
   },
   "file_extension": ".py",
   "mimetype": "text/x-python",
   "name": "python",
   "nbconvert_exporter": "python",
   "pygments_lexer": "ipython2",
   "version": "2.7.11"
  },
  "toc": {
   "toc_cell": false,
   "toc_number_sections": false,
   "toc_threshold": 6,
   "toc_window_display": true
  },
  "widgets": {
   "state": {},
   "version": "1.1.1"
  }
 },
 "nbformat": 4,
 "nbformat_minor": 0
}
