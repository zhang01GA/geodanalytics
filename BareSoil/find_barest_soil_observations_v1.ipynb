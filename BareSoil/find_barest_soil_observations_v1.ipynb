{
 "cells": [
  {
   "cell_type": "code",
   "execution_count": null,
   "metadata": {
    "collapsed": true
   },
   "outputs": [],
   "source": [
    "# Barest Soil \n",
    "\n",
    "### Fei Zhang @Geoscience Australia\n",
    "\n",
    "August 2016"
   ]
  },
  {
   "cell_type": "markdown",
   "metadata": {},
   "source": [
    "## Introduction"
   ]
  },
  {
   "cell_type": "markdown",
   "metadata": {},
   "source": [
    "Find the barest soil Earth observations from time series analysis. The result data  will be used as input for the mineral resources uncover project:  machine-learning application.\n",
    "\n",
    "Here are the centre point locations for 3 study aread with different vegetation/bareness relationships;\n",
    "\n",
    "1. Edge of fire scar (NT) 19:36:10.24S//132:34:55.72E\n",
    "\n",
    "2. Farming land (crops (green and fallow paddocks - Western NSW)30:5:45.33S/148:11:29.75E\n",
    "\n",
    "3. Woodland (remain greenish most of the time - the understory should change in response to seasonal drying out)22:52:35.4S/147:24:11.25E\n",
    "\n",
    "extract a 5X5 km or 10X10km tile for each area. Then select only tiles with < 10% poor quality pixels (e.g. noise , cloud etc.). From that subset we run NDVI and then run a median kernel (3*3 ?) to smooth out noisy pixels. The kernel needs to accommodate crappy pixels as no data values. After that we calculate the average NDVI response for whole the tile. We should try a keep the tiles in chronological order because when we process all the tiles through time series and plot up the average NDVI value for each tile we will want to see trends of drying out (increased bareness) due to seasonal effects or recovery from fire scars. I suggest we look at the image tiles along each step of the work flow. There are lots of parameters (size of tile, size and shape of the kernel etc) we can change  - but as a first step this might be a good start. \n",
    "\n",
    "Fei we might want to have further discussions when you have selected a sub-group of tiles with good pixel quality. I suppose this first step assumes that we have a very good pixel quality mask or flag?\n",
    "We have significant temporal depth - so if in doubt exclude problematic tiles.\n",
    "\n",
    "\n",
    "\n"
   ]
  },
  {
   "cell_type": "markdown",
   "metadata": {},
   "source": [
    "## Interactive Computing"
   ]
  },
  {
   "cell_type": "code",
   "execution_count": 1,
   "metadata": {
    "ExecuteTime": {
     "end_time": "2016-06-06T18:30:48.818824",
     "start_time": "2016-06-06T18:30:46.587169"
    },
    "collapsed": true
   },
   "outputs": [],
   "source": [
    "%matplotlib inline\n",
    "import matplotlib.pyplot as plt\n",
    "from scipy import stats\n",
    "import numpy as np\n",
    "import math\n",
    "import pandas\n",
    "\n",
    "import sys\n",
    "sys.path.insert(0, '/g/data/u46/fxz547/Githubz/agdc-v2')#'/home/547/fxz547/myGithub/agdc-v2')  #prepend a path"
   ]
  },
  {
   "cell_type": "code",
   "execution_count": 2,
   "metadata": {
    "ExecuteTime": {
     "end_time": "2016-06-06T18:31:05.667416",
     "start_time": "2016-06-06T18:31:05.633562"
    },
    "collapsed": false
   },
   "outputs": [
    {
     "data": {
      "text/plain": [
       "Datacube<index=Index<db=PostgresDb<engine=Engine(postgresql://fxz547@130.56.244.227:6432/datacube)>>>"
      ]
     },
     "execution_count": 2,
     "metadata": {},
     "output_type": "execute_result"
    }
   ],
   "source": [
    "# import AGDC Python API modules\n",
    "\n",
    "import datacube\n",
    "from datacube.storage import masking\n",
    "\n",
    "# Create an API data access object\n",
    "dc = datacube.Datacube(app='BarestSoil')\n",
    "\n",
    "dc"
   ]
  },
  {
   "cell_type": "markdown",
   "metadata": {
    "collapsed": true
   },
   "source": [
    "We can access the Postgres Database (metadata index) and its associated imagery data."
   ]
  },
  {
   "cell_type": "markdown",
   "metadata": {},
   "source": [
    "## Retrieving data\n"
   ]
  },
  {
   "cell_type": "code",
   "execution_count": 3,
   "metadata": {
    "collapsed": false
   },
   "outputs": [],
   "source": [
    "#To see the function signature?\n",
    "#dc.load?\n",
    "\n",
    "# Where?\n",
    "# xp=(149.00, 149.20); yp=(-35.25, -35.35)  # Lake Burley Griffin x=(149.07, 149.17), y=(-35.25, -35.35), \n",
    "# xp=( 149.160,  149.170); yp=(-35.34 , -35.35 )  #a small area cover GA water pond\n",
    "\n",
    "# Edge of fire scar (NT) 19:36:10.24S//132:34:55.72E\n",
    "#xp=(132.50, 132.60); yp=(-19.7, -19.5)  # 0.1degree =~ 10km \n",
    "# xp=(132.50, 132.60); yp=(-19.65, -19.55)\n",
    "\n",
    "#Farming land (crops (green and fallow paddocks - Western NSW)30:5:45.33S/148:11:29.75E\n",
    "xp=(148.14, 148.24); yp=(-30.15, -30.05)  # North of Dubbo, inside NSW border\n",
    "\n",
    "#Woodland (greenish most of the time. the understory should change in response to seasonal drying out)22:52:35.4S/147:24:11.25E\n",
    "xp=(147.35, 147.45); yp=(-22.92, -22.82)  # west of Rockhampton\n",
    "                \n",
    "# When? a time range\n",
    "tp=('1980-01', '2016-12-31')\n",
    "\n",
    "prod_type='ls5_nbar_albers'"
   ]
  },
  {
   "cell_type": "markdown",
   "metadata": {},
   "source": [
    "##  Applications based on AGDC\n",
    "\n",
    "### Derive information products \n",
    "### Must identify and remove invalid observations: cloud, shadow, satuared pixels\n",
    "\n",
    "### Band maths: combine the bands to derive new variables (artificial bands)\n",
    "\n",
    "-  Normalized Difference Vegetation Index, NDVI\n",
    "-  Normalized Difference Water Index,  NDWI\n",
    "-  These index can help to clearly identify certain land cover features: Vegetation, water bodies"
   ]
  },
  {
   "cell_type": "code",
   "execution_count": 4,
   "metadata": {
    "collapsed": false
   },
   "outputs": [],
   "source": [
    "prod_type\n",
    "pq_prod_type = prod_type.replace('nbar','pq')"
   ]
  },
  {
   "cell_type": "code",
   "execution_count": 5,
   "metadata": {
    "ExecuteTime": {
     "end_time": "2016-06-06T18:10:22.933696",
     "start_time": "2016-06-06T18:10:17.304594"
    },
    "collapsed": false
   },
   "outputs": [],
   "source": [
    "def get_ndvi_mean(prod_type, xp, yp, tp):\n",
    "    blist= ['red', 'nir'] #, 'green', 'swir1']\n",
    "    bands = dc.load(product=prod_type, x=xp, y=yp, time=tp, measurements= blist, group_by='solar_day')\n",
    "    red = bands.red.where(bands.red != bands.red.attrs['nodata'])\n",
    "    nir = bands.nir.where(bands.nir != bands.nir.attrs['nodata'])\n",
    "\n",
    "    # green = bands.green.where(bands.green != bands.green.attrs['nodata'])\n",
    "    # swir1 = bands.swir1.where(bands.swir1 != bands.swir1.attrs['nodata'])\n",
    "\n",
    "    # Retrieve the associated Pixel Quality datasets ls8_pq_albers\n",
    "    pq_prod_type = prod_type.replace('nbar','pq')\n",
    "    pq = dc.load(product=pq_prod_type, x=xp, y=yp,  time=tp, group_by='solar_day')\n",
    "\n",
    "    print (len(bands.time), len(pq.time))\n",
    "\n",
    "    cloud_free = masking.make_mask(pq, cloud_acca='no_cloud', cloud_fmask='no_cloud', contiguous=True).pixelquality\n",
    "\n",
    "    # Normalized Differenc Vegetation Index: Red and near Infrared bands\n",
    "\n",
    "    ndvi = ((nir - red) / (nir + red)).where(cloud_free)\n",
    "\n",
    "    # Normalized Differenc Water Index: Green and Shortwave Infrared Bands\n",
    "\n",
    "    #ndwi = ((swir1- green)/(green + swir1)).where(cloud_free)\n",
    "\n",
    "    #ndwi = ((green- swir1)/(green + swir1)).where(cloud_free)\n",
    "\n",
    "    print(ndvi.shape)\n",
    "\n",
    "    # xarray.Dataset.sum to reduce the datasets by selecting the time slices with high percentage cloud-free pixels\n",
    "    #  Weed out the low quality images\n",
    "    cloudfreeRatio = 0.9  # threshold of cloud pixel 80%\n",
    "\n",
    "    mostly_cloud_free = cloud_free.sum(dim=('x','y')) > (cloudfreeRatio * cloud_free.size / cloud_free.time.size)\n",
    "\n",
    "    #print(mostly_cloud_free)\n",
    "    \n",
    "    print(\"How many cloudless images selected?\", mostly_cloud_free.sum().values)\n",
    "    \n",
    "    # Apply the time-dim mask to the 3D-array (time, x, y)\n",
    "    mostly_good_ndvi = ndvi.where(mostly_cloud_free).dropna('time', how='all')\n",
    "    # mostly_good_ndvi.plot(col='time', col_wrap=5)\n",
    "    \n",
    "    #xarray:  mostly_good_ndvi\n",
    "\n",
    "    ndvi_mean=mostly_good_ndvi.mean(dim=['x','y'])\n",
    "    \n",
    "    pdser=ndvi_mean.to_pandas()  # pd.Series\n",
    "    \n",
    "    \n",
    "    df= pdser.to_frame(name='NDVI') # convert to dataframe\n",
    "    \n",
    "    df['PROD_TYPE']= prod_type  # add a new column\n",
    "    \n",
    "    return df\n"
   ]
  },
  {
   "cell_type": "code",
   "execution_count": 6,
   "metadata": {
    "collapsed": false
   },
   "outputs": [
    {
     "name": "stdout",
     "output_type": "stream",
     "text": [
      "(93, 78)\n",
      "(78, 447, 421)\n",
      "('How many cloudless images selected?', array(46))\n"
     ]
    }
   ],
   "source": [
    "# Edge of fire scar (NT) 19:36:10.24S//132:34:55.72E\n",
    "# 0.1degree =~ 10km \n",
    "AOI_NAME='FireScarNT'; xp=(132.50, 132.60); yp=(-19.65, -19.55)\n",
    "\n",
    "#Farming land (crops (green and fallow paddocks - Western NSW)30:5:45.33S/148:11:29.75E\n",
    "#AOI_NAME='Farmland'; xp=(148.14, 148.24); yp=(-30.15, -30.05)\n",
    "\n",
    "#Woodland (greenish most of the time. the understory should change in response to seasonal drying out)22:52:35.4S/147:24:11.25E\n",
    "#AOI_NAME='Woodland'; xp=(147.35, 147.45); yp=(-22.92, -22.82) \n",
    "                \n",
    "# When? a time range\n",
    "tp=('1980-01', '2016-12-31')\n",
    "\n",
    "prod_type='ls8_nbar_albers'\n",
    "\n",
    "df_ndvi_ls8=get_ndvi_mean('ls8_nbar_albers', xp,yp,tp)\n",
    "\n"
   ]
  },
  {
   "cell_type": "code",
   "execution_count": 7,
   "metadata": {
    "collapsed": false
   },
   "outputs": [
    {
     "data": {
      "text/html": [
       "<div>\n",
       "<table border=\"1\" class=\"dataframe\">\n",
       "  <thead>\n",
       "    <tr style=\"text-align: right;\">\n",
       "      <th></th>\n",
       "      <th>NDVI</th>\n",
       "      <th>PROD_TYPE</th>\n",
       "    </tr>\n",
       "    <tr>\n",
       "      <th>time</th>\n",
       "      <th></th>\n",
       "      <th></th>\n",
       "    </tr>\n",
       "  </thead>\n",
       "  <tbody>\n",
       "    <tr>\n",
       "      <th>2013-03-20</th>\n",
       "      <td>0.260915</td>\n",
       "      <td>ls8_nbar_albers</td>\n",
       "    </tr>\n",
       "    <tr>\n",
       "      <th>2013-04-21</th>\n",
       "      <td>0.238060</td>\n",
       "      <td>ls8_nbar_albers</td>\n",
       "    </tr>\n",
       "    <tr>\n",
       "      <th>2013-06-24</th>\n",
       "      <td>0.222370</td>\n",
       "      <td>ls8_nbar_albers</td>\n",
       "    </tr>\n",
       "    <tr>\n",
       "      <th>2013-07-10</th>\n",
       "      <td>0.210408</td>\n",
       "      <td>ls8_nbar_albers</td>\n",
       "    </tr>\n",
       "    <tr>\n",
       "      <th>2013-07-26</th>\n",
       "      <td>0.208461</td>\n",
       "      <td>ls8_nbar_albers</td>\n",
       "    </tr>\n",
       "  </tbody>\n",
       "</table>\n",
       "</div>"
      ],
      "text/plain": [
       "                NDVI        PROD_TYPE\n",
       "time                                 \n",
       "2013-03-20  0.260915  ls8_nbar_albers\n",
       "2013-04-21  0.238060  ls8_nbar_albers\n",
       "2013-06-24  0.222370  ls8_nbar_albers\n",
       "2013-07-10  0.210408  ls8_nbar_albers\n",
       "2013-07-26  0.208461  ls8_nbar_albers"
      ]
     },
     "execution_count": 7,
     "metadata": {},
     "output_type": "execute_result"
    }
   ],
   "source": [
    "df_ndvi_ls8.head()"
   ]
  },
  {
   "cell_type": "code",
   "execution_count": 8,
   "metadata": {
    "collapsed": false
   },
   "outputs": [
    {
     "name": "stdout",
     "output_type": "stream",
     "text": [
      "(296, 252)\n",
      "(252, 447, 421)\n",
      "('How many cloudless images selected?', array(35))\n"
     ]
    }
   ],
   "source": [
    "prod_type='ls7_nbar_albers'\n",
    "\n",
    "df_ndvi_ls7=get_ndvi_mean(prod_type, xp,yp,tp)"
   ]
  },
  {
   "cell_type": "code",
   "execution_count": 9,
   "metadata": {
    "collapsed": false
   },
   "outputs": [
    {
     "name": "stdout",
     "output_type": "stream",
     "text": [
      "(594, 503)\n",
      "(503, 447, 421)\n",
      "('How many cloudless images selected?', array(284))\n"
     ]
    }
   ],
   "source": [
    "# ls5\n",
    "prod_type='ls5_nbar_albers'\n",
    "df_ndvi_ls5=get_ndvi_mean(prod_type, xp,yp,tp)\n"
   ]
  },
  {
   "cell_type": "code",
   "execution_count": 10,
   "metadata": {
    "collapsed": true
   },
   "outputs": [],
   "source": [
    "ndvi578=pandas.concat([df_ndvi_ls5, df_ndvi_ls7, df_ndvi_ls8])"
   ]
  },
  {
   "cell_type": "code",
   "execution_count": 11,
   "metadata": {
    "collapsed": false
   },
   "outputs": [
    {
     "data": {
      "text/plain": [
       "(365, 2)"
      ]
     },
     "execution_count": 11,
     "metadata": {},
     "output_type": "execute_result"
    }
   ],
   "source": [
    "ndvi578.shape"
   ]
  },
  {
   "cell_type": "code",
   "execution_count": 12,
   "metadata": {
    "collapsed": false
   },
   "outputs": [
    {
     "data": {
      "text/plain": [
       "<matplotlib.axes._subplots.AxesSubplot at 0x7f7e83c97f10>"
      ]
     },
     "execution_count": 12,
     "metadata": {},
     "output_type": "execute_result"
    },
    {
     "data": {
      "text/plain": [
       "<matplotlib.figure.Figure at 0x7f7e834b5a50>"
      ]
     },
     "metadata": {},
     "output_type": "display_data"
    },
    {
     "data": {
      "image/png": "[encoded data removed]",
      "text/plain": [
       "<matplotlib.figure.Figure at 0x7f7ee80091d0>"
      ]
     },
     "metadata": {},
     "output_type": "display_data"
    }
   ],
   "source": [
    "plt.figure( figsize=(20,10) )\n",
    "ndvi578.plot()"
   ]
  },
  {
   "cell_type": "code",
   "execution_count": 13,
   "metadata": {
    "collapsed": false
   },
   "outputs": [],
   "source": [
    "#ndvi_mean"
   ]
  },
  {
   "cell_type": "code",
   "execution_count": 14,
   "metadata": {
    "collapsed": false
   },
   "outputs": [],
   "source": [
    "outcsvfile='meanNDVI578_%s.csv'% (AOI_NAME)\n",
    "\n",
    "ndvi578.to_csv(outcsvfile)  #('/tmp/meanNDVI578_FireScarNT.csv')"
   ]
  },
  {
   "cell_type": "code",
   "execution_count": 15,
   "metadata": {
    "collapsed": false
   },
   "outputs": [
    {
     "data": {
      "text/plain": [
       "array([[<matplotlib.axes._subplots.AxesSubplot object at 0x7f7e88dd0650>]], dtype=object)"
      ]
     },
     "execution_count": 15,
     "metadata": {},
     "output_type": "execute_result"
    },
    {
     "data": {
      "image/png": "[encoded data removed]",
      "text/plain": [
       "<matplotlib.figure.Figure at 0x7f7e82874f50>"
      ]
     },
     "metadata": {},
     "output_type": "display_data"
    }
   ],
   "source": [
    "ndvi578.hist(bins=100)"
   ]
  },
  {
   "cell_type": "code",
   "execution_count": 16,
   "metadata": {
    "collapsed": false
   },
   "outputs": [],
   "source": [
    "p10= ndvi578.quantile(0.1)\n",
    "p90= ndvi578.quantile(0.9)\n",
    "\n",
    "bot_tenperc=ndvi578[(ndvi578['NDVI'] <= p10[0])].dropna()\n",
    "top_tenperc=ndvi578[(ndvi578['NDVI'] >= p90[0])].dropna()"
   ]
  },
  {
   "cell_type": "code",
   "execution_count": 17,
   "metadata": {
    "collapsed": false
   },
   "outputs": [],
   "source": [
    "outcsvfile2='meanNDVI578_%s_bot10pc.csv'% (AOI_NAME)\n",
    "bot_tenperc.to_csv(outcsvfile2)\n",
    "\n",
    "outcsvfile3='meanNDVI578_%s_top10pc.csv'% (AOI_NAME)\n",
    "top_tenperc.to_csv(outcsvfile3)"
   ]
  },
  {
   "cell_type": "code",
   "execution_count": 18,
   "metadata": {
    "collapsed": false
   },
   "outputs": [
    {
     "data": {
      "text/html": [
       "<div>\n",
       "<table border=\"1\" class=\"dataframe\">\n",
       "  <thead>\n",
       "    <tr style=\"text-align: right;\">\n",
       "      <th></th>\n",
       "      <th>NDVI</th>\n",
       "      <th>PROD_TYPE</th>\n",
       "    </tr>\n",
       "    <tr>\n",
       "      <th>time</th>\n",
       "      <th></th>\n",
       "      <th></th>\n",
       "    </tr>\n",
       "  </thead>\n",
       "  <tbody>\n",
       "    <tr>\n",
       "      <th>1993-03-29</th>\n",
       "      <td>0.289418</td>\n",
       "      <td>ls5_nbar_albers</td>\n",
       "    </tr>\n",
       "    <tr>\n",
       "      <th>1993-04-14</th>\n",
       "      <td>0.278615</td>\n",
       "      <td>ls5_nbar_albers</td>\n",
       "    </tr>\n",
       "    <tr>\n",
       "      <th>1993-04-30</th>\n",
       "      <td>0.280542</td>\n",
       "      <td>ls5_nbar_albers</td>\n",
       "    </tr>\n",
       "    <tr>\n",
       "      <th>1993-05-16</th>\n",
       "      <td>0.271592</td>\n",
       "      <td>ls5_nbar_albers</td>\n",
       "    </tr>\n",
       "    <tr>\n",
       "      <th>1997-02-20</th>\n",
       "      <td>0.273365</td>\n",
       "      <td>ls5_nbar_albers</td>\n",
       "    </tr>\n",
       "    <tr>\n",
       "      <th>1997-03-08</th>\n",
       "      <td>0.265467</td>\n",
       "      <td>ls5_nbar_albers</td>\n",
       "    </tr>\n",
       "    <tr>\n",
       "      <th>1998-03-11</th>\n",
       "      <td>0.281733</td>\n",
       "      <td>ls5_nbar_albers</td>\n",
       "    </tr>\n",
       "    <tr>\n",
       "      <th>1998-05-14</th>\n",
       "      <td>0.271358</td>\n",
       "      <td>ls5_nbar_albers</td>\n",
       "    </tr>\n",
       "    <tr>\n",
       "      <th>1999-01-25</th>\n",
       "      <td>0.265423</td>\n",
       "      <td>ls5_nbar_albers</td>\n",
       "    </tr>\n",
       "    <tr>\n",
       "      <th>2004-01-07</th>\n",
       "      <td>0.273984</td>\n",
       "      <td>ls5_nbar_albers</td>\n",
       "    </tr>\n",
       "    <tr>\n",
       "      <th>2004-01-23</th>\n",
       "      <td>0.266780</td>\n",
       "      <td>ls5_nbar_albers</td>\n",
       "    </tr>\n",
       "    <tr>\n",
       "      <th>2004-03-11</th>\n",
       "      <td>0.272620</td>\n",
       "      <td>ls5_nbar_albers</td>\n",
       "    </tr>\n",
       "    <tr>\n",
       "      <th>2006-02-13</th>\n",
       "      <td>0.275632</td>\n",
       "      <td>ls5_nbar_albers</td>\n",
       "    </tr>\n",
       "    <tr>\n",
       "      <th>2006-03-01</th>\n",
       "      <td>0.305004</td>\n",
       "      <td>ls5_nbar_albers</td>\n",
       "    </tr>\n",
       "    <tr>\n",
       "      <th>2006-04-18</th>\n",
       "      <td>0.278076</td>\n",
       "      <td>ls5_nbar_albers</td>\n",
       "    </tr>\n",
       "    <tr>\n",
       "      <th>2006-06-05</th>\n",
       "      <td>0.263373</td>\n",
       "      <td>ls5_nbar_albers</td>\n",
       "    </tr>\n",
       "    <tr>\n",
       "      <th>2007-02-09</th>\n",
       "      <td>0.269106</td>\n",
       "      <td>ls5_nbar_albers</td>\n",
       "    </tr>\n",
       "    <tr>\n",
       "      <th>2007-02-16</th>\n",
       "      <td>0.285841</td>\n",
       "      <td>ls5_nbar_albers</td>\n",
       "    </tr>\n",
       "    <tr>\n",
       "      <th>2007-02-25</th>\n",
       "      <td>0.275486</td>\n",
       "      <td>ls5_nbar_albers</td>\n",
       "    </tr>\n",
       "    <tr>\n",
       "      <th>2007-03-04</th>\n",
       "      <td>0.274450</td>\n",
       "      <td>ls5_nbar_albers</td>\n",
       "    </tr>\n",
       "    <tr>\n",
       "      <th>2007-03-13</th>\n",
       "      <td>0.271642</td>\n",
       "      <td>ls5_nbar_albers</td>\n",
       "    </tr>\n",
       "    <tr>\n",
       "      <th>2007-04-05</th>\n",
       "      <td>0.285033</td>\n",
       "      <td>ls5_nbar_albers</td>\n",
       "    </tr>\n",
       "    <tr>\n",
       "      <th>2007-04-14</th>\n",
       "      <td>0.287435</td>\n",
       "      <td>ls5_nbar_albers</td>\n",
       "    </tr>\n",
       "    <tr>\n",
       "      <th>2007-04-21</th>\n",
       "      <td>0.284472</td>\n",
       "      <td>ls5_nbar_albers</td>\n",
       "    </tr>\n",
       "    <tr>\n",
       "      <th>2007-04-30</th>\n",
       "      <td>0.278269</td>\n",
       "      <td>ls5_nbar_albers</td>\n",
       "    </tr>\n",
       "    <tr>\n",
       "      <th>2011-01-26</th>\n",
       "      <td>0.286943</td>\n",
       "      <td>ls5_nbar_albers</td>\n",
       "    </tr>\n",
       "    <tr>\n",
       "      <th>2011-04-16</th>\n",
       "      <td>0.265990</td>\n",
       "      <td>ls5_nbar_albers</td>\n",
       "    </tr>\n",
       "    <tr>\n",
       "      <th>2000-05-27</th>\n",
       "      <td>0.287664</td>\n",
       "      <td>ls7_nbar_albers</td>\n",
       "    </tr>\n",
       "    <tr>\n",
       "      <th>2000-07-30</th>\n",
       "      <td>0.266965</td>\n",
       "      <td>ls7_nbar_albers</td>\n",
       "    </tr>\n",
       "    <tr>\n",
       "      <th>2001-03-11</th>\n",
       "      <td>0.286010</td>\n",
       "      <td>ls7_nbar_albers</td>\n",
       "    </tr>\n",
       "    <tr>\n",
       "      <th>2001-03-27</th>\n",
       "      <td>0.287089</td>\n",
       "      <td>ls7_nbar_albers</td>\n",
       "    </tr>\n",
       "    <tr>\n",
       "      <th>2001-04-12</th>\n",
       "      <td>0.284764</td>\n",
       "      <td>ls7_nbar_albers</td>\n",
       "    </tr>\n",
       "    <tr>\n",
       "      <th>2001-04-28</th>\n",
       "      <td>0.281052</td>\n",
       "      <td>ls7_nbar_albers</td>\n",
       "    </tr>\n",
       "    <tr>\n",
       "      <th>2001-05-14</th>\n",
       "      <td>0.266387</td>\n",
       "      <td>ls7_nbar_albers</td>\n",
       "    </tr>\n",
       "    <tr>\n",
       "      <th>2014-02-19</th>\n",
       "      <td>0.269975</td>\n",
       "      <td>ls8_nbar_albers</td>\n",
       "    </tr>\n",
       "    <tr>\n",
       "      <th>2014-03-23</th>\n",
       "      <td>0.287160</td>\n",
       "      <td>ls8_nbar_albers</td>\n",
       "    </tr>\n",
       "    <tr>\n",
       "      <th>2014-05-10</th>\n",
       "      <td>0.263476</td>\n",
       "      <td>ls8_nbar_albers</td>\n",
       "    </tr>\n",
       "  </tbody>\n",
       "</table>\n",
       "</div>"
      ],
      "text/plain": [
       "                NDVI        PROD_TYPE\n",
       "time                                 \n",
       "1993-03-29  0.289418  ls5_nbar_albers\n",
       "1993-04-14  0.278615  ls5_nbar_albers\n",
       "1993-04-30  0.280542  ls5_nbar_albers\n",
       "1993-05-16  0.271592  ls5_nbar_albers\n",
       "1997-02-20  0.273365  ls5_nbar_albers\n",
       "1997-03-08  0.265467  ls5_nbar_albers\n",
       "1998-03-11  0.281733  ls5_nbar_albers\n",
       "1998-05-14  0.271358  ls5_nbar_albers\n",
       "1999-01-25  0.265423  ls5_nbar_albers\n",
       "2004-01-07  0.273984  ls5_nbar_albers\n",
       "2004-01-23  0.266780  ls5_nbar_albers\n",
       "2004-03-11  0.272620  ls5_nbar_albers\n",
       "2006-02-13  0.275632  ls5_nbar_albers\n",
       "2006-03-01  0.305004  ls5_nbar_albers\n",
       "2006-04-18  0.278076  ls5_nbar_albers\n",
       "2006-06-05  0.263373  ls5_nbar_albers\n",
       "2007-02-09  0.269106  ls5_nbar_albers\n",
       "2007-02-16  0.285841  ls5_nbar_albers\n",
       "2007-02-25  0.275486  ls5_nbar_albers\n",
       "2007-03-04  0.274450  ls5_nbar_albers\n",
       "2007-03-13  0.271642  ls5_nbar_albers\n",
       "2007-04-05  0.285033  ls5_nbar_albers\n",
       "2007-04-14  0.287435  ls5_nbar_albers\n",
       "2007-04-21  0.284472  ls5_nbar_albers\n",
       "2007-04-30  0.278269  ls5_nbar_albers\n",
       "2011-01-26  0.286943  ls5_nbar_albers\n",
       "2011-04-16  0.265990  ls5_nbar_albers\n",
       "2000-05-27  0.287664  ls7_nbar_albers\n",
       "2000-07-30  0.266965  ls7_nbar_albers\n",
       "2001-03-11  0.286010  ls7_nbar_albers\n",
       "2001-03-27  0.287089  ls7_nbar_albers\n",
       "2001-04-12  0.284764  ls7_nbar_albers\n",
       "2001-04-28  0.281052  ls7_nbar_albers\n",
       "2001-05-14  0.266387  ls7_nbar_albers\n",
       "2014-02-19  0.269975  ls8_nbar_albers\n",
       "2014-03-23  0.287160  ls8_nbar_albers\n",
       "2014-05-10  0.263476  ls8_nbar_albers"
      ]
     },
     "execution_count": 18,
     "metadata": {},
     "output_type": "execute_result"
    }
   ],
   "source": [
    "top_tenperc"
   ]
  },
  {
   "cell_type": "code",
   "execution_count": 19,
   "metadata": {
    "collapsed": false
   },
   "outputs": [
    {
     "data": {
      "text/plain": [
       "NDVI    0.167907\n",
       "dtype: float64"
      ]
     },
     "execution_count": 19,
     "metadata": {},
     "output_type": "execute_result"
    }
   ],
   "source": [
    "p10"
   ]
  },
  {
   "cell_type": "code",
   "execution_count": 20,
   "metadata": {
    "collapsed": false
   },
   "outputs": [
    {
     "data": {
      "text/html": [
       "<div>\n",
       "<table border=\"1\" class=\"dataframe\">\n",
       "  <thead>\n",
       "    <tr style=\"text-align: right;\">\n",
       "      <th></th>\n",
       "      <th>NDVI</th>\n",
       "      <th>PROD_TYPE</th>\n",
       "    </tr>\n",
       "    <tr>\n",
       "      <th>time</th>\n",
       "      <th></th>\n",
       "      <th></th>\n",
       "    </tr>\n",
       "  </thead>\n",
       "  <tbody>\n",
       "    <tr>\n",
       "      <th>1986-08-17</th>\n",
       "      <td>0.157014</td>\n",
       "      <td>ls5_nbar_albers</td>\n",
       "    </tr>\n",
       "    <tr>\n",
       "      <th>1989-11-13</th>\n",
       "      <td>0.160806</td>\n",
       "      <td>ls5_nbar_albers</td>\n",
       "    </tr>\n",
       "    <tr>\n",
       "      <th>1990-06-25</th>\n",
       "      <td>0.159617</td>\n",
       "      <td>ls5_nbar_albers</td>\n",
       "    </tr>\n",
       "    <tr>\n",
       "      <th>1990-07-11</th>\n",
       "      <td>0.160343</td>\n",
       "      <td>ls5_nbar_albers</td>\n",
       "    </tr>\n",
       "    <tr>\n",
       "      <th>1990-08-12</th>\n",
       "      <td>0.164528</td>\n",
       "      <td>ls5_nbar_albers</td>\n",
       "    </tr>\n",
       "    <tr>\n",
       "      <th>1990-08-28</th>\n",
       "      <td>0.151027</td>\n",
       "      <td>ls5_nbar_albers</td>\n",
       "    </tr>\n",
       "    <tr>\n",
       "      <th>1990-09-13</th>\n",
       "      <td>0.158584</td>\n",
       "      <td>ls5_nbar_albers</td>\n",
       "    </tr>\n",
       "    <tr>\n",
       "      <th>1994-06-04</th>\n",
       "      <td>0.166472</td>\n",
       "      <td>ls5_nbar_albers</td>\n",
       "    </tr>\n",
       "    <tr>\n",
       "      <th>1994-06-20</th>\n",
       "      <td>0.167872</td>\n",
       "      <td>ls5_nbar_albers</td>\n",
       "    </tr>\n",
       "    <tr>\n",
       "      <th>1994-08-23</th>\n",
       "      <td>0.164612</td>\n",
       "      <td>ls5_nbar_albers</td>\n",
       "    </tr>\n",
       "    <tr>\n",
       "      <th>1994-09-24</th>\n",
       "      <td>0.164091</td>\n",
       "      <td>ls5_nbar_albers</td>\n",
       "    </tr>\n",
       "    <tr>\n",
       "      <th>1994-10-26</th>\n",
       "      <td>0.163731</td>\n",
       "      <td>ls5_nbar_albers</td>\n",
       "    </tr>\n",
       "    <tr>\n",
       "      <th>1994-11-11</th>\n",
       "      <td>0.154972</td>\n",
       "      <td>ls5_nbar_albers</td>\n",
       "    </tr>\n",
       "    <tr>\n",
       "      <th>1996-08-12</th>\n",
       "      <td>0.167589</td>\n",
       "      <td>ls5_nbar_albers</td>\n",
       "    </tr>\n",
       "    <tr>\n",
       "      <th>2005-09-22</th>\n",
       "      <td>0.161344</td>\n",
       "      <td>ls5_nbar_albers</td>\n",
       "    </tr>\n",
       "    <tr>\n",
       "      <th>2007-09-28</th>\n",
       "      <td>0.162961</td>\n",
       "      <td>ls5_nbar_albers</td>\n",
       "    </tr>\n",
       "    <tr>\n",
       "      <th>2008-05-09</th>\n",
       "      <td>0.158455</td>\n",
       "      <td>ls5_nbar_albers</td>\n",
       "    </tr>\n",
       "    <tr>\n",
       "      <th>2009-05-12</th>\n",
       "      <td>0.148800</td>\n",
       "      <td>ls5_nbar_albers</td>\n",
       "    </tr>\n",
       "    <tr>\n",
       "      <th>2009-07-31</th>\n",
       "      <td>0.153340</td>\n",
       "      <td>ls5_nbar_albers</td>\n",
       "    </tr>\n",
       "    <tr>\n",
       "      <th>2009-08-16</th>\n",
       "      <td>0.166472</td>\n",
       "      <td>ls5_nbar_albers</td>\n",
       "    </tr>\n",
       "    <tr>\n",
       "      <th>2009-09-01</th>\n",
       "      <td>0.167482</td>\n",
       "      <td>ls5_nbar_albers</td>\n",
       "    </tr>\n",
       "    <tr>\n",
       "      <th>2009-09-17</th>\n",
       "      <td>0.166674</td>\n",
       "      <td>ls5_nbar_albers</td>\n",
       "    </tr>\n",
       "    <tr>\n",
       "      <th>2009-10-03</th>\n",
       "      <td>0.167166</td>\n",
       "      <td>ls5_nbar_albers</td>\n",
       "    </tr>\n",
       "    <tr>\n",
       "      <th>2009-10-19</th>\n",
       "      <td>0.143997</td>\n",
       "      <td>ls5_nbar_albers</td>\n",
       "    </tr>\n",
       "    <tr>\n",
       "      <th>2009-12-06</th>\n",
       "      <td>0.166399</td>\n",
       "      <td>ls5_nbar_albers</td>\n",
       "    </tr>\n",
       "    <tr>\n",
       "      <th>2011-09-07</th>\n",
       "      <td>0.148109</td>\n",
       "      <td>ls5_nbar_albers</td>\n",
       "    </tr>\n",
       "    <tr>\n",
       "      <th>2011-09-23</th>\n",
       "      <td>0.163597</td>\n",
       "      <td>ls5_nbar_albers</td>\n",
       "    </tr>\n",
       "    <tr>\n",
       "      <th>2000-10-02</th>\n",
       "      <td>0.162647</td>\n",
       "      <td>ls7_nbar_albers</td>\n",
       "    </tr>\n",
       "    <tr>\n",
       "      <th>2002-10-24</th>\n",
       "      <td>0.130139</td>\n",
       "      <td>ls7_nbar_albers</td>\n",
       "    </tr>\n",
       "    <tr>\n",
       "      <th>2002-11-09</th>\n",
       "      <td>0.135912</td>\n",
       "      <td>ls7_nbar_albers</td>\n",
       "    </tr>\n",
       "    <tr>\n",
       "      <th>2014-07-29</th>\n",
       "      <td>0.146852</td>\n",
       "      <td>ls8_nbar_albers</td>\n",
       "    </tr>\n",
       "    <tr>\n",
       "      <th>2014-08-14</th>\n",
       "      <td>0.150169</td>\n",
       "      <td>ls8_nbar_albers</td>\n",
       "    </tr>\n",
       "    <tr>\n",
       "      <th>2014-08-30</th>\n",
       "      <td>0.157027</td>\n",
       "      <td>ls8_nbar_albers</td>\n",
       "    </tr>\n",
       "    <tr>\n",
       "      <th>2014-09-15</th>\n",
       "      <td>0.164522</td>\n",
       "      <td>ls8_nbar_albers</td>\n",
       "    </tr>\n",
       "    <tr>\n",
       "      <th>2014-10-01</th>\n",
       "      <td>0.167365</td>\n",
       "      <td>ls8_nbar_albers</td>\n",
       "    </tr>\n",
       "    <tr>\n",
       "      <th>2014-10-17</th>\n",
       "      <td>0.166818</td>\n",
       "      <td>ls8_nbar_albers</td>\n",
       "    </tr>\n",
       "    <tr>\n",
       "      <th>2014-11-18</th>\n",
       "      <td>0.160124</td>\n",
       "      <td>ls8_nbar_albers</td>\n",
       "    </tr>\n",
       "  </tbody>\n",
       "</table>\n",
       "</div>"
      ],
      "text/plain": [
       "                NDVI        PROD_TYPE\n",
       "time                                 \n",
       "1986-08-17  0.157014  ls5_nbar_albers\n",
       "1989-11-13  0.160806  ls5_nbar_albers\n",
       "1990-06-25  0.159617  ls5_nbar_albers\n",
       "1990-07-11  0.160343  ls5_nbar_albers\n",
       "1990-08-12  0.164528  ls5_nbar_albers\n",
       "1990-08-28  0.151027  ls5_nbar_albers\n",
       "1990-09-13  0.158584  ls5_nbar_albers\n",
       "1994-06-04  0.166472  ls5_nbar_albers\n",
       "1994-06-20  0.167872  ls5_nbar_albers\n",
       "1994-08-23  0.164612  ls5_nbar_albers\n",
       "1994-09-24  0.164091  ls5_nbar_albers\n",
       "1994-10-26  0.163731  ls5_nbar_albers\n",
       "1994-11-11  0.154972  ls5_nbar_albers\n",
       "1996-08-12  0.167589  ls5_nbar_albers\n",
       "2005-09-22  0.161344  ls5_nbar_albers\n",
       "2007-09-28  0.162961  ls5_nbar_albers\n",
       "2008-05-09  0.158455  ls5_nbar_albers\n",
       "2009-05-12  0.148800  ls5_nbar_albers\n",
       "2009-07-31  0.153340  ls5_nbar_albers\n",
       "2009-08-16  0.166472  ls5_nbar_albers\n",
       "2009-09-01  0.167482  ls5_nbar_albers\n",
       "2009-09-17  0.166674  ls5_nbar_albers\n",
       "2009-10-03  0.167166  ls5_nbar_albers\n",
       "2009-10-19  0.143997  ls5_nbar_albers\n",
       "2009-12-06  0.166399  ls5_nbar_albers\n",
       "2011-09-07  0.148109  ls5_nbar_albers\n",
       "2011-09-23  0.163597  ls5_nbar_albers\n",
       "2000-10-02  0.162647  ls7_nbar_albers\n",
       "2002-10-24  0.130139  ls7_nbar_albers\n",
       "2002-11-09  0.135912  ls7_nbar_albers\n",
       "2014-07-29  0.146852  ls8_nbar_albers\n",
       "2014-08-14  0.150169  ls8_nbar_albers\n",
       "2014-08-30  0.157027  ls8_nbar_albers\n",
       "2014-09-15  0.164522  ls8_nbar_albers\n",
       "2014-10-01  0.167365  ls8_nbar_albers\n",
       "2014-10-17  0.166818  ls8_nbar_albers\n",
       "2014-11-18  0.160124  ls8_nbar_albers"
      ]
     },
     "execution_count": 20,
     "metadata": {},
     "output_type": "execute_result"
    }
   ],
   "source": [
    "bot_tenperc"
   ]
  },
  {
   "cell_type": "code",
   "execution_count": 21,
   "metadata": {
    "collapsed": false
   },
   "outputs": [
    {
     "ename": "SyntaxError",
     "evalue": "invalid syntax (<ipython-input-21-d67ea3c8f5f4>, line 1)",
     "output_type": "error",
     "traceback": [
      "\u001b[1;36m  File \u001b[1;32m\"<ipython-input-21-d67ea3c8f5f4>\"\u001b[1;36m, line \u001b[1;32m1\u001b[0m\n\u001b[1;33m    stop here\u001b[0m\n\u001b[1;37m            ^\u001b[0m\n\u001b[1;31mSyntaxError\u001b[0m\u001b[1;31m:\u001b[0m invalid syntax\n"
     ]
    }
   ],
   "source": [
    "stop here\n",
    "\n",
    "#http://scikit-image.org/docs/stable/api/skimage.filters.html?highlight=local%20median%20filter\n",
    ">>> from skimage import data\n",
    ">>> from skimage.morphology import disk\n",
    ">>> from skimage.filters.rank import median\n",
    ">>> img = data.camera()\n",
    ">>> med = median(img, disk(5))"
   ]
  },
  {
   "cell_type": "markdown",
   "metadata": {},
   "source": [
    "## Normalised Difference Water Index"
   ]
  },
  {
   "cell_type": "code",
   "execution_count": null,
   "metadata": {
    "collapsed": false
   },
   "outputs": [],
   "source": [
    "# images after removed invalid pixels. \n",
    "#ndwi.plot(col='time', col_wrap=6)\n"
   ]
  },
  {
   "cell_type": "markdown",
   "metadata": {},
   "source": [
    "### Weed out the low quality images."
   ]
  },
  {
   "cell_type": "code",
   "execution_count": null,
   "metadata": {
    "collapsed": false
   },
   "outputs": [],
   "source": [
    "# apply the cloud_threshold mask, which will select a subset images with good pixels. \n",
    "\n",
    "mostly_good_ndwi = ndwi.where(mostly_cloud_free).dropna('time', how='all')\n",
    "\n",
    "mostly_good_ndwi.plot(col='time', col_wrap=5)"
   ]
  },
  {
   "cell_type": "markdown",
   "metadata": {},
   "source": [
    "## Statistics Median and Mean Images\n",
    "\n",
    "### Normalised Vegetation Index vs Water Index"
   ]
  },
  {
   "cell_type": "code",
   "execution_count": null,
   "metadata": {
    "collapsed": false
   },
   "outputs": [],
   "source": [
    "plt.figure( figsize=(16,12) )\n",
    "    \n",
    "plt.subplot( 2,2,1 )\n",
    "mostly_good_ndvi.median(dim='time').plot()\n",
    "plt.title(\"Median Normalised Difference Vegetation Index - NDVI\"); plt.xlabel('easting'); plt.ylabel('northing')\n",
    "\n",
    "\n",
    "plt.subplot( 2,2,2 )\n",
    "mostly_good_ndvi.mean(dim='time').plot()\n",
    "# ndvi.mean(dim='time').plot()\n",
    "plt.title(\"Mean Normalised Difference Vegetation Index - NDVI\"); plt.xlabel('easting'); plt.ylabel('northing')\n",
    "\n",
    "#------------------------------\n",
    "plt.subplot( 2,2,3 )\n",
    "mostly_good_ndwi.median(dim='time').plot()\n",
    "plt.title(\"Median Normalised Difference Water Index - NDWI\"); plt.xlabel('easting'); plt.ylabel('northing')\n",
    "\n",
    "\n",
    "plt.subplot( 2,2,4 )\n",
    "mostly_good_ndwi.mean(dim='time').plot()\n",
    "# ndwi.mean(dim='time').plot()\n",
    "plt.title(\"Mean Normalised Difference Water Index - NDWI\"); plt.xlabel('easting'); plt.ylabel('northing')"
   ]
  },
  {
   "cell_type": "markdown",
   "metadata": {
    "collapsed": true
   },
   "source": [
    "# Water Observation from Space\n",
    "\n",
    "http://eos-test.ga.gov.au/geoserver/www/remote_scripts/WOfS_v1.6.htm\n"
   ]
  }
 ],
 "metadata": {
  "kernelspec": {
   "display_name": "Python 2",
   "language": "python",
   "name": "python2"
  },
  "language_info": {
   "codemirror_mode": {
    "name": "ipython",
    "version": 2
   },
   "file_extension": ".py",
   "mimetype": "text/x-python",
   "name": "python",
   "nbconvert_exporter": "python",
   "pygments_lexer": "ipython2",
   "version": "2.7.11"
  },
  "toc": {
   "toc_cell": false,
   "toc_number_sections": false,
   "toc_threshold": 6,
   "toc_window_display": true
  },
  "widgets": {
   "state": {},
   "version": "1.1.1"
  }
 },
 "nbformat": 4,
 "nbformat_minor": 0
}
