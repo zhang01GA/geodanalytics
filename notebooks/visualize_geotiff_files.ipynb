{
 "cells": [
  {
   "cell_type": "markdown",
   "metadata": {},
   "source": [
    "# Comparison of Geotiff Files Pixelwise"
   ]
  },
  {
   "cell_type": "code",
   "execution_count": null,
   "metadata": {
    "collapsed": false
   },
   "outputs": [],
   "source": [
    "!which python"
   ]
  },
  {
   "cell_type": "code",
   "execution_count": null,
   "metadata": {
    "collapsed": false
   },
   "outputs": [],
   "source": [
    "import os, sys\n",
    "\n",
    "import gdal\n",
    "from gdalconst import *\n",
    "import numpy as np\n",
    "\n",
    "def read_raster_bands(geofile):\n",
    "# replaced def readtiff(geofile):\n",
    "    \"\"\" read raster bands into numpy array\n",
    "    input param rasterfile: geofile\n",
    "    return: a list of[ numpy ]\n",
    "    \"\"\"\n",
    "\n",
    "\n",
    "    # Register drivers\n",
    "    gdal.AllRegister()\n",
    "\n",
    "    # Open image\n",
    "    ds = gdal.Open(geofile, GA_ReadOnly)\n",
    "\n",
    "    if ds is None:\n",
    "        raise Exception('Could not open image file %s' %(geofile))\n",
    "        \n",
    "\n",
    "    # get image size\n",
    "    rows = ds.RasterYSize\n",
    "    cols = ds.RasterXSize\n",
    "    numbands = ds.RasterCount\n",
    "\n",
    "#     print 'rows= %s, cols= %s, number of bands = %s' %(str(rows), str(cols), str(numbands))\n",
    "#     print (\"********************\")\n",
    "\n",
    "    # get projection and resolution info of the raster\n",
    "    proj = ds.GetProjection()\n",
    "\n",
    "    transform = ds.GetGeoTransform()\n",
    "    xOrigin = transform[0]\n",
    "    yOrigin = transform[3]\n",
    "    pixelWidth = transform[1]\n",
    "    pixelHeight = transform[5]\n",
    "\n",
    "#     print (\"Projection Info = %s\"%(proj))\n",
    "#     print (\"xOrigin = %s,  yOrigin = %s \"%(xOrigin, yOrigin))\n",
    "#     print (\"pixelWidth = %s,  pixelHeight = %s \"%(pixelWidth, pixelHeight))\n",
    "    \n",
    "    # Read the data into numpy array\n",
    "    numarray=[]\n",
    "    for i in range(1,numbands+1):\n",
    "        band =ds.GetRasterBand(i)  # the very first band is i=1\n",
    "        data = band.ReadAsArray(0,0,cols,rows) #.astype('float32')\n",
    "        numarray.append(data)\n",
    "    \n",
    "    # Once we're done, close properly the dataset\n",
    "    ds = None\n",
    "    \n",
    "    return numarray"
   ]
  },
  {
   "cell_type": "code",
   "execution_count": null,
   "metadata": {
    "collapsed": false
   },
   "outputs": [],
   "source": [
    "%matplotlib inline\n",
    "import matplotlib.pyplot as plt\n",
    "import matplotlib.image as mpimg\n",
    "import scipy.stats as spys\n",
    "\n",
    "def showimages(rastfile_a,rastfile_b=None):\n",
    "    \"\"\" Display side-by-side two geo-raster files.\n",
    "    \n",
    "    \"\"\"\n",
    "    numalist_a = read_raster_bands(rastfile_a)\n",
    "    band0a=numalist_a[0]\n",
    "    \n",
    "    if rastfile_b is not None:\n",
    "        numalist_b = read_raster_bands(rastfile_b)\n",
    "        band0b=numalist_b[0]\n",
    "    \n",
    "    f, ax = plt.subplots(1,1,figsize=(20,10))\n",
    "    ax.imshow(band0a)\n",
    "    ax.set_title('%s\\n'%('Image '+ rastfile_a)) \n",
    "    #ax[0].imshow(band0a)\n",
    "    #ax[1].imshow(band0a)\n",
    "\n",
    "#if __name__ == \"__main__\":\n",
    "#    infile = sys.argv[1]\n",
    "#    nparlist = readtiff(infile)"
   ]
  },
  {
   "cell_type": "code",
   "execution_count": null,
   "metadata": {
    "collapsed": false
   },
   "outputs": [],
   "source": [
    "# Display an image\n",
    "import glob\n",
    "geotifile='/xdisk/fzhang/outdir/fei_test_svr_prediction.tif'\n",
    "geotifile='/xdisk/fzhang/outdir/sirsam_potassium_randomforest_prediction.tif' #'nci_sirsam_output_randomforest.tif'\n",
    "\n",
    "\n",
    "path2='/Softlab/Data/uncoverml/GA-cover2.out' #'/xdisk/fzhang/uncoverml_testdata'\n",
    "\n",
    "geotifiles=glob.glob('%s/*prediction.tif'%path2)\n",
    "\n",
    "print (geotifiles)\n",
    "\n",
    "print(len(geotifiles))\n",
    "nf=0"
   ]
  },
  {
   "cell_type": "code",
   "execution_count": null,
   "metadata": {
    "collapsed": false
   },
   "outputs": [],
   "source": [
    "print(nf, geotifiles[nf])\n",
    "\n",
    "showimages(geotifiles[nf])\n",
    "\n",
    "if nf < len(geotifiles)-1:\n",
    "    nf=nf+1\n",
    "else:\n",
    "    print(\"??? WARN: the last file has been visualised, back to the first one???\")\n",
    "    nf=0\n",
    "    "
   ]
  },
  {
   "cell_type": "code",
   "execution_count": null,
   "metadata": {
    "collapsed": false
   },
   "outputs": [],
   "source": [
    "# Complete Rerun Wofs\n",
    "\n",
    "tifile0='/xdisk/fzhang/outdir/fei_test_svr_prediction.tif0'\n",
    "#tifile1='/xdisk/fzhang/outdir/fei_test_svr_prediction.tif'\n",
    "tifile1='/xdisk/fzhang/outdir/nci_sirsam_output_randomforest.tif'\n",
    "\n",
    "    \n",
    "imga=read_raster_bands(tifile0)  # not use mpirun\n",
    "imgb=read_raster_bands(tifile1)  # mpirun -n 4\n",
    "\n",
    "f, ax = plt.subplots(1,2,figsize=(20,10))\n",
    "ax[0].imshow(imga[0]) #, cmap='Greys')\n",
    "ax[0].set_title('%s\\n'%('Image '+tifile0))\n",
    "#plt.show()    \n",
    "\n",
    "ax[1].imshow(imgb[0]) #, cmap='Greys')\n",
    "ax[1].set_title('%s\\n'%('Image '+tifile1))  \n",
    "\n",
    "plt.show()"
   ]
  },
  {
   "cell_type": "code",
   "execution_count": null,
   "metadata": {
    "collapsed": true
   },
   "outputs": [],
   "source": [
    "def compare_two_files_pixels(rastfile_a,rastfile_b):\n",
    "    \"\"\" Compare pixel values data of two geo-raster files.\n",
    "    The result could be raster pixel values equal, but metadata differ\n",
    "    return True if idenitcal, False if not\n",
    "    \"\"\"\n",
    "    numalist_a = read_raster_bands(rastfile_a)\n",
    "    numalist_b = read_raster_bands(rastfile_b)\n",
    "\n",
    "    print (\"The number of bands in each raster files:\")\n",
    "    print (len(numalist_a) , len(numalist_b))\n",
    "\n",
    "    if len(numalist_a) != len(numalist_b):\n",
    "        return False\n",
    "    \n",
    "    for n in range(0,len(numalist_a) ):\n",
    "        print (\"The numerical sums of the band \", n, \"in each raster files: \")\n",
    "        print (np.sum(numalist_a[n]), np.sum(numalist_b[n]))\n",
    "    \n",
    "        is_all_eq = (numalist_a[n]==numalist_b[n]).all()\n",
    "        \n",
    "        if is_all_eq is False:\n",
    "            print (\"Not all are equal in the band \", n)\n",
    "            \n",
    "            return is_all_eq\n",
    "        \n",
    "    print (\"Comparison of the two files pixel values result in:\")\n",
    "    \n",
    "    return True"
   ]
  },
  {
   "cell_type": "code",
   "execution_count": null,
   "metadata": {
    "collapsed": false
   },
   "outputs": [],
   "source": [
    "\n",
    "numalist_a = read_raster_bands(tifile0)\n",
    "numalist_b = read_raster_bands(tifile1)\n",
    "\n",
    "bo=compare_two_files_pixels(tifile0, tifile1)\n",
    "\n",
    "print (bo)"
   ]
  },
  {
   "cell_type": "code",
   "execution_count": null,
   "metadata": {
    "collapsed": true
   },
   "outputs": [],
   "source": [
    "def compare_two_dirs_rasterfiles(dir_a, dir_b):\n",
    "    \"\"\"Compare two directory's tiff files, \n",
    "    if they have the same number of tif files, same named, same pixel values for every tif pair\"\n",
    "    \"\"\"\n",
    "    \n",
    "    # loop over dir_a's files to compare each with dir_b's same named file\n",
    "    \n",
    "    import glob\n",
    "\n",
    "    #filelist= glob.glob(self.extentdir + \"/LS8*.tif\") #os.listdir(self.extentdir)\n",
    "    filelist= glob.glob(dir_a+ \"/*.tif\") #os.listdir(self.extentdir)\n",
    "\n",
    "    for afile in filelist:\n",
    "        \n",
    "        fname=os.path.basename(afile)\n",
    "        bfile =os.path.join(dir_b, fname)\n",
    "        print (\"comparing file %s and %s\" %(afile, bfile))\n",
    "        \n",
    "        res = compare_two_files_pixels(afile,bfile)\n",
    "        print (res)\n",
    "        \n"
   ]
  },
  {
   "cell_type": "code",
   "execution_count": null,
   "metadata": {
    "collapsed": false
   },
   "outputs": [],
   "source": [
    "compare_two_dirs_rasterfiles(WATER_EXTENTS_DIR+'/'+cell_index, WATER_EXTENTS_DIR_OLD+'/'+cell_index)\n"
   ]
  },
  {
   "cell_type": "code",
   "execution_count": null,
   "metadata": {
    "collapsed": true
   },
   "outputs": [],
   "source": [
    "%matplotlib inline\n",
    "import matplotlib.pyplot as plt\n",
    "import matplotlib.image as mpimg\n",
    "import scipy.stats as spys\n"
   ]
  }
 ],
 "metadata": {
  "kernelspec": {
   "display_name": "Python [default]",
   "language": "python",
   "name": "python3"
  },
  "language_info": {
   "codemirror_mode": {
    "name": "ipython",
    "version": 3
   },
   "file_extension": ".py",
   "mimetype": "text/x-python",
   "name": "python",
   "nbconvert_exporter": "python",
   "pygments_lexer": "ipython3",
   "version": "3.5.2"
  }
 },
 "nbformat": 4,
 "nbformat_minor": 0
}
