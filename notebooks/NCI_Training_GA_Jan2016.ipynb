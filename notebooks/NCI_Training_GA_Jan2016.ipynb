{
 "cells": [
  {
   "cell_type": "markdown",
   "metadata": {},
   "source": [
    "# VDI Python Notebook Example\n",
    "NCI Virtual Desktop Training -- January 2016 -- Geoscience Australia\n",
    "\n",
    "\n",
    "#### Objectives of this simple demo:\n",
    "- Launch jupyter (ipython) notebook from VDI\n",
    "- Access netCDF data directly from /g/data  \n",
    "- Access netCDF data using OPeNDAP\n"
   ]
  },
  {
   "cell_type": "markdown",
   "metadata": {},
   "source": [
    "### Import libraries"
   ]
  },
  {
   "cell_type": "code",
   "execution_count": 4,
   "metadata": {
    "collapsed": false
   },
   "outputs": [
    {
     "name": "stdout",
     "output_type": "stream",
     "text": [
      "/xdisk/anaconda2/bin/conda\n",
      "Python 2.7.12 :: Anaconda custom (64-bit)\n"
     ]
    }
   ],
   "source": [
    "!which conda\n",
    "!python -V"
   ]
  },
  {
   "cell_type": "code",
   "execution_count": 19,
   "metadata": {
    "collapsed": false
   },
   "outputs": [
    {
     "name": "stdout",
     "output_type": "stream",
     "text": [
      "Fetching package metadata .......\n",
      "Solving package specifications: ..........\n",
      "\n",
      "Package plan for installation in environment /xdisk/anaconda2:\n",
      "\n",
      "The following packages will be downloaded:\n",
      "\n",
      "    package                    |            build\n",
      "    ---------------------------|-----------------\n",
      "    mkl-11.3.3                 |                0       122.1 MB\n",
      "    openblas-0.2.14            |                4         3.6 MB\n",
      "    mkl-service-1.1.2          |           py27_2          13 KB\n",
      "    numpy-1.10.4               |           py27_2         6.0 MB\n",
      "    numexpr-2.5.2              |      np110py27_1         345 KB\n",
      "    scipy-0.16.0               |      np110py27_1        23.9 MB\n",
      "    scikit-learn-0.17.1        |      np110py27_2         8.6 MB\n",
      "    ------------------------------------------------------------\n",
      "                                           Total:       164.5 MB\n",
      "\n",
      "The following NEW packages will be INSTALLED:\n",
      "\n",
      "    openblas:     0.2.14-4          \n",
      "\n",
      "The following packages will be UPDATED:\n",
      "\n",
      "    mkl:          11.3.1-0           --> 11.3.3-0          \n",
      "    mkl-service:  1.1.2-py27_0       --> 1.1.2-py27_2      \n",
      "    numexpr:      2.5-np110py27_0    --> 2.5.2-np110py27_1 \n",
      "    numpy:        1.10.4-py27_1      --> 1.10.4-py27_2     \n",
      "    scikit-learn: 0.17.1-np110py27_0 --> 0.17.1-np110py27_2\n",
      "\n",
      "The following packages will be DOWNGRADED due to dependency conflicts:\n",
      "\n",
      "    scipy:        0.17.0-np110py27_2 --> 0.16.0-np110py27_1\n",
      "\n",
      "Fetching packages ...\n",
      "mkl-11.3.3-0.t 100% |################################| Time: 0:00:14   8.78 MB/s\n",
      "openblas-0.2.1 100% |################################| Time: 0:00:04 891.30 kB/s\n",
      "mkl-service-1. 100% |################################| Time: 0:00:00  61.42 kB/s\n",
      "numpy-1.10.4-p 100% |################################| Time: 0:00:06 982.89 kB/s\n",
      "numexpr-2.5.2- 100% |################################| Time: 0:00:01 199.12 kB/s\n",
      "scipy-0.16.0-n 100% |################################| Time: 0:00:09   2.65 MB/s\n",
      "scikit-learn-0 100% |################################| Time: 0:00:06   1.39 MB/s\n",
      "Extracting packages ...\n",
      "[      COMPLETE      ]|###################################################| 100%\n",
      "Unlinking packages ...\n",
      "[      COMPLETE      ]|###################################################| 100%\n",
      "Linking packages ...\n",
      "[      COMPLETE      ]|###################################################| 100%\n"
     ]
    }
   ],
   "source": [
    "!conda install -y scikit-learn\n"
   ]
  },
  {
   "cell_type": "code",
   "execution_count": 12,
   "metadata": {
    "collapsed": false
   },
   "outputs": [
    {
     "name": "stdout",
     "output_type": "stream",
     "text": [
      "2.7.11 |Anaconda 4.0.0 (64-bit)| (default, Dec  6 2015, 18:08:32) \n",
      "[GCC 4.4.7 20120313 (Red Hat 4.4.7-1)]\n"
     ]
    }
   ],
   "source": [
    "import sys\n",
    "print sys.version"
   ]
  },
  {
   "cell_type": "code",
   "execution_count": 18,
   "metadata": {
    "collapsed": false
   },
   "outputs": [
    {
     "name": "stdout",
     "output_type": "stream",
     "text": [
      "Orange-Bioinformatics 2.6.19\n",
      "slumber 0.7.1\n",
      "Genesis-PyAPI 1.2.0\n",
      "setuptools 20.3\n",
      "Sphinx 1.3.5\n",
      "datashape 0.5.1\n",
      "pycrypto 2.6.1\n",
      "futures 3.0.3\n",
      "ptyprocess 0.5\n",
      "itsdangerous 0.24\n",
      "Babel 2.2.0\n",
      "jupyter 1.0.0\n",
      "pip 8.1.1\n",
      "Jinja2 2.8\n",
      "pycparser 2.14\n",
      "XlsxWriter 0.8.4\n",
      "toolz 0.7.4\n",
      "docutils 0.12\n",
      "spyder 2.3.8\n",
      "jupyter-console 4.1.1\n",
      "xlrd 0.9.4\n",
      "path.py 0.0.0\n",
      "nbformat 4.0.1\n",
      "jdcal 1.2\n",
      "fastcache 1.0.2\n",
      "pexpect 4.0.1\n",
      "Cython 0.23.4\n",
      "multipledispatch 0.4.8\n",
      "beautifulsoup4 4.4.1\n",
      "jupyter-client 4.2.2\n",
      "anaconda-navigator 1.1.0\n",
      "pyasn1 0.1.9\n",
      "Pillow 3.1.1\n",
      "traitlets 4.2.1\n",
      "mpmath 0.19\n",
      "blaze 0.9.1\n",
      "matplotlib 1.5.1\n",
      "numba 0.24.0\n",
      "notebook 4.1.0\n",
      "greenlet 0.4.9\n",
      "pickleshare 0.5\n",
      "qtconsole 4.2.0\n",
      "nbconvert 4.1.0\n",
      "chest 0.2.3\n",
      "python-dateutil 2.5.1\n",
      "backports.ssl-match-hostname 3.4.0.2\n",
      "tornado 4.3\n",
      "grin 1.2.1\n",
      "backports-abc 0.4\n",
      "dynd 0.7.3.dev1\n",
      "ipython 4.1.2\n",
      "idna 2.0\n",
      "argcomplete 1.0.0\n",
      "sphinx-rtd-theme 0.1.9\n",
      "sockjs-tornado 1.0.1\n",
      "ipaddress 1.0.14\n",
      "rope 0.9.4\n",
      "pycurl 7.19.5.3\n",
      "mistune 0.7.2\n",
      "statsmodels 0.6.1\n",
      "Flask-Cors 2.1.2\n",
      "cdecimal 2.3\n",
      "bitarray 0.8.1\n",
      "dill 0.2.4\n",
      "Werkzeug 0.11.4\n",
      "pyparsing 2.0.3\n",
      "cycler 0.10.0\n",
      "wheel 0.29.0\n",
      "dask 0.8.1\n",
      "pandas 0.18.0\n",
      "numpy 1.11.0\n",
      "openpyxl 2.3.2\n",
      "anaconda-client 1.4.0\n",
      "partd 0.3.2\n",
      "conda-build 1.20.0\n",
      "SQLAlchemy 1.0.12\n",
      "netCDF4 1.2.2\n",
      "six 1.10.0\n",
      "ipython-genutils 0.1.0\n",
      "HeapDict 1.0.0\n",
      "decorator 4.0.9\n",
      "numexpr 2.5\n",
      "tables 3.2.2\n",
      "psutil 4.1.0\n",
      "jsonschema 2.4.0\n",
      "astropy 1.1.2\n",
      "bokeh 0.11.1\n",
      "funcsigs 0.4\n",
      "patsy 0.4.0\n",
      "sympy 1.0\n",
      "redis 2.10.3\n",
      "requests 2.9.1\n",
      "pyflakes 1.1.0\n",
      "jupyter-core 4.1.0\n",
      "conda-manager 0.3.1\n",
      "nose 1.3.7\n",
      "lxml 3.6.0\n",
      "pycosat 0.6.1\n",
      "gisdata 0.5.4\n",
      "Pygments 2.1.1\n",
      "xlwt 1.0.0\n",
      "locket 0.2.0\n",
      "conda 4.1.6\n",
      "colorama 0.3.7\n",
      "conda-env 2.5.0a0\n",
      "ipywidgets 4.1.1\n",
      "simplegeneric 0.8.1\n",
      "pytest 2.8.5\n",
      "gsconfig 1.0.3\n",
      "networkx 1.11\n",
      "cloudpickle 0.1.1\n",
      "configobj 5.0.6\n",
      "llvmlite 0.9.0\n",
      "alabaster 0.7.7\n",
      "terminado 0.5\n",
      "scipy 0.17.0\n",
      "jedi 0.9.0\n",
      "nltk 3.2\n",
      "Bottleneck 1.0.0\n",
      "QtPy 1.0\n",
      "singledispatch 3.4.0.3\n",
      "pyOpenSSL 0.15.1\n",
      "MarkupSafe 0.23\n",
      "gevent 1.1.0\n",
      "odo 0.4.2\n",
      "QtAwesome 0.3.2\n",
      "pytz 2016.2\n",
      "ruamel-yaml -VERSION\n",
      "clyent 1.2.1\n",
      "et-xmlfile 1.0.1\n",
      "Flask 0.10.1\n",
      "pyzmq 15.2.0\n",
      "cytoolz 0.7.5\n",
      "cryptography 1.3\n",
      "pep8 1.7.0\n",
      "scikit-learn 0.17.1\n",
      "ipykernel 4.3.1\n",
      "boto 2.39.0\n",
      "ply 3.8\n",
      "enum34 1.1.2\n",
      "pyqtgraph 0.9.10\n",
      "py 1.4.31\n",
      "snowballstemmer 1.2.1\n",
      "httplib2 0.9.2\n",
      "pycairo 1.10.0\n",
      "virtualenv 13.0.1\n",
      "cffi 1.5.2\n",
      "scikit-image 0.12.3\n",
      "h5py 2.5.0\n",
      "unicodecsv 0.14.1\n",
      "PyYAML 3.11\n"
     ]
    }
   ],
   "source": [
    "# a very long list sys.modules.keys()\n",
    "import pip #needed to use the pip functions\n",
    "for i in pip.get_installed_distributions(local_only=True):\n",
    "    print(i)"
   ]
  },
  {
   "cell_type": "code",
   "execution_count": 22,
   "metadata": {
    "collapsed": false
   },
   "outputs": [
    {
     "name": "stdout",
     "output_type": "stream",
     "text": [
      "/xdisk/anaconda2/bin/pip\n",
      "Collecting pandas-datareader\n",
      "  Downloading pandas_datareader-0.2.1-py2.py3-none-any.whl\n",
      "Collecting requests-file (from pandas-datareader)\n",
      "  Downloading requests-file-1.4.tar.gz\n",
      "Requirement already satisfied (use --upgrade to upgrade): pandas in /xdisk/anaconda2/lib/python2.7/site-packages (from pandas-datareader)\n",
      "Requirement already satisfied (use --upgrade to upgrade): requests in /xdisk/anaconda2/lib/python2.7/site-packages (from pandas-datareader)\n",
      "Requirement already satisfied (use --upgrade to upgrade): six in /xdisk/anaconda2/lib/python2.7/site-packages (from requests-file->pandas-datareader)\n",
      "Requirement already satisfied (use --upgrade to upgrade): python-dateutil in /xdisk/anaconda2/lib/python2.7/site-packages (from pandas->pandas-datareader)\n",
      "Requirement already satisfied (use --upgrade to upgrade): pytz>=2011k in /xdisk/anaconda2/lib/python2.7/site-packages (from pandas->pandas-datareader)\n",
      "Requirement already satisfied (use --upgrade to upgrade): numpy>=1.7.0 in /xdisk/anaconda2/lib/python2.7/site-packages (from pandas->pandas-datareader)\n",
      "Building wheels for collected packages: requests-file\n",
      "  Running setup.py bdist_wheel for requests-file ... \u001b[?25l-\b \bdone\n",
      "\u001b[?25h  Stored in directory: /home/fxz547/.cache/pip/wheels/a4/4c/1c/8f22cae3cebc5e0b7da07bbf4feee223c2c86702e391c47df0\n",
      "Successfully built requests-file\n",
      "Installing collected packages: requests-file, pandas-datareader\n",
      "Successfully installed pandas-datareader-0.2.1 requests-file-1.4\n",
      "\u001b[33mYou are using pip version 8.1.1, however version 8.1.2 is available.\n",
      "You should consider upgrading via the 'pip install --upgrade pip' command.\u001b[0m\n"
     ]
    }
   ],
   "source": [
    "!which pip\n",
    "\n",
    "!pip install pandas_datareader"
   ]
  },
  {
   "cell_type": "code",
   "execution_count": 2,
   "metadata": {
    "collapsed": false
   },
   "outputs": [
    {
     "name": "stderr",
     "output_type": "stream",
     "text": [
      "/xdisk/anaconda2/lib/python2.7/site-packages/matplotlib/font_manager.py:273: UserWarning: Matplotlib is building the font cache using fc-list. This may take a moment.\n",
      "  warnings.warn('Matplotlib is building the font cache using fc-list. This may take a moment.')\n"
     ]
    }
   ],
   "source": [
    "# Only 2 required for this demo\n",
    "from netCDF4 import Dataset\n",
    "import matplotlib.pyplot as plt"
   ]
  },
  {
   "cell_type": "markdown",
   "metadata": {},
   "source": [
    "### Accessing a file directly on /g/data\n",
    "- Note: This does not yet load/extract data"
   ]
  },
  {
   "cell_type": "code",
   "execution_count": 27,
   "metadata": {
    "collapsed": false
   },
   "outputs": [],
   "source": [
    "f = Dataset('/g/data/rr5/satellite/obs/himawari8/FLDK/2016/01/03/0030/20160103003000-P1S-ABOM_BRF_B02-PRJ_GEOS141_2000-HIMAWARI8-AHI.nc', 'r')"
   ]
  },
  {
   "cell_type": "markdown",
   "metadata": {},
   "source": [
    "#### Can use the netCDF4 library to see information about the file"
   ]
  },
  {
   "cell_type": "code",
   "execution_count": 28,
   "metadata": {
    "collapsed": false
   },
   "outputs": [
    {
     "name": "stdout",
     "output_type": "stream",
     "text": [
      "time <type 'netCDF4._netCDF4.Dimension'> (unlimited): name = 'time', size = 1\n",
      "\n",
      "y <type 'netCDF4._netCDF4.Dimension'>: name = 'y', size = 5500\n",
      "\n",
      "x <type 'netCDF4._netCDF4.Dimension'>: name = 'x', size = 5500\n",
      "\n"
     ]
    }
   ],
   "source": [
    "## Display dimensions for file\n",
    "for item in f.dimensions:\n",
    "    print item, f.dimensions[item]"
   ]
  },
  {
   "cell_type": "code",
   "execution_count": 29,
   "metadata": {
    "collapsed": false
   },
   "outputs": [
    {
     "name": "stdout",
     "output_type": "stream",
     "text": [
      "Variable: \ttime\n",
      "Dimensions: \t(u'time',)\n",
      "Shape:    \t(1,) \n",
      "\n",
      "Variable: \ty\n",
      "Dimensions: \t(u'y',)\n",
      "Shape:    \t(5500,) \n",
      "\n",
      "Variable: \tx\n",
      "Dimensions: \t(u'x',)\n",
      "Shape:    \t(5500,) \n",
      "\n",
      "Variable: \tgeostationary\n",
      "Dimensions: \t()\n",
      "Shape:    \t() \n",
      "\n",
      "Variable: \tscan_line_time\n",
      "Dimensions: \t(u'y',)\n",
      "Shape:    \t(5500,) \n",
      "\n",
      "Variable: \tchannel_0002_brf\n",
      "Dimensions: \t(u'time', u'y', u'x')\n",
      "Shape:    \t(1, 5500, 5500) \n",
      "\n"
     ]
    }
   ],
   "source": [
    "## Look at variables\n",
    "vars = f.variables.keys()\n",
    "for item in vars:\n",
    "    print 'Variable: \\t', item\n",
    "    print 'Dimensions: \\t', f[item].dimensions\n",
    "    print 'Shape:    \\t', f[item].shape, '\\n'"
   ]
  },
  {
   "cell_type": "markdown",
   "metadata": {},
   "source": [
    "#### Extracting data\n",
    "- A really nice feature of netCDF/HDF files is that you can extract subsets without having to load entire file into memory"
   ]
  },
  {
   "cell_type": "code",
   "execution_count": 30,
   "metadata": {
    "collapsed": false
   },
   "outputs": [
    {
     "name": "stdout",
     "output_type": "stream",
     "text": [
      "1 loops, best of 3: 293 ms per loop\n"
     ]
    }
   ],
   "source": [
    "%%timeit\n",
    "\n",
    "i1 = 1000\n",
    "i2 = 4000\n",
    "ch02 = f['channel_0002_brf'][0, i1:i2, i1:i2]\n",
    "y = f.variables['y'][i1:i2]\n",
    "x = f.variables['x'][i1:i2]"
   ]
  },
  {
   "cell_type": "markdown",
   "metadata": {},
   "source": [
    "#### Plotting"
   ]
  },
  {
   "cell_type": "code",
   "execution_count": 31,
   "metadata": {
    "collapsed": false
   },
   "outputs": [
    {
     "data": {
      "text/plain": [
       "<matplotlib.contour.QuadContourSet at 0x27e371d0>"
      ]
     },
     "execution_count": 31,
     "metadata": {},
     "output_type": "execute_result"
    },
    {
     "data": {
      "image/png": "[encoded data removed]",
      "text/plain": [
       "<matplotlib.figure.Figure at 0xc6faf50>"
      ]
     },
     "metadata": {},
     "output_type": "display_data"
    }
   ],
   "source": [
    "%matplotlib inline \n",
    "plt.contourf(x, y, ch02)"
   ]
  },
  {
   "cell_type": "markdown",
   "metadata": {},
   "source": [
    "### Accessing a file using OPeNDAP\n",
    "- Advantage: If dataset available, you can access from anywhere just as you'd call a local file. \n",
    "- Disadvantage: Not as fast as having the file locally. \n",
    "\n",
    "Note: You can see how fast the data extraction was with the '%%timeit' function in the cell above and compare it to the length of time OPeNDAP method takes in the cell below. "
   ]
  },
  {
   "cell_type": "code",
   "execution_count": 23,
   "metadata": {
    "collapsed": false
   },
   "outputs": [],
   "source": [
    "f = Dataset('http://dapds00.nci.org.au/thredds/dodsC/rr5/satellite/obs/himawari8/FLDK/2016/01/03/0030/20160103003000-P1S-ABOM_BRF_B02-PRJ_GEOS141_2000-HIMAWARI8-AHI.nc', 'r')"
   ]
  },
  {
   "cell_type": "markdown",
   "metadata": {},
   "source": [
    "#### After opening the file with the OPeNDAP address, the file can be handled no differently to the above in situ example. "
   ]
  },
  {
   "cell_type": "code",
   "execution_count": 24,
   "metadata": {
    "collapsed": false,
    "scrolled": true
   },
   "outputs": [
    {
     "name": "stdout",
     "output_type": "stream",
     "text": [
      "time <type 'netCDF4._netCDF4.Dimension'> (unlimited): name = 'time', size = 1\n",
      "\n",
      "x <type 'netCDF4._netCDF4.Dimension'>: name = 'x', size = 5500\n",
      "\n",
      "y <type 'netCDF4._netCDF4.Dimension'>: name = 'y', size = 5500\n",
      "\n"
     ]
    }
   ],
   "source": [
    "## Display dimensions for file\n",
    "for item in f.dimensions:\n",
    "    print item, f.dimensions[item]"
   ]
  },
  {
   "cell_type": "code",
   "execution_count": 28,
   "metadata": {
    "collapsed": false
   },
   "outputs": [],
   "source": [
    "# %%timeit\n",
    "\n",
    "i1 = 1000\n",
    "i2 = 4000\n",
    "ch02 = f['channel_0002_brf'][0, i1:i2, i1:i2]\n",
    "y = f.variables['y'][i1:i2]\n",
    "x = f.variables['x'][i1:i2]"
   ]
  },
  {
   "cell_type": "code",
   "execution_count": 29,
   "metadata": {
    "collapsed": false
   },
   "outputs": [
    {
     "data": {
      "text/plain": [
       "<matplotlib.contour.QuadContourSet at 0x7ff5e3f1db10>"
      ]
     },
     "execution_count": 29,
     "metadata": {},
     "output_type": "execute_result"
    },
    {
     "data": {
      "image/png": "[encoded data removed]",
      "text/plain": [
       "<matplotlib.figure.Figure at 0x7ff5e84fe410>"
      ]
     },
     "metadata": {},
     "output_type": "display_data"
    }
   ],
   "source": [
    "%matplotlib inline \n",
    "plt.contourf(x, y, ch02)"
   ]
  },
  {
   "cell_type": "code",
   "execution_count": null,
   "metadata": {
    "collapsed": true
   },
   "outputs": [],
   "source": []
  }
 ],
 "metadata": {
  "kernelspec": {
   "display_name": "Python 2",
   "language": "python",
   "name": "python2"
  },
  "language_info": {
   "codemirror_mode": {
    "name": "ipython",
    "version": 2
   },
   "file_extension": ".py",
   "mimetype": "text/x-python",
   "name": "python",
   "nbconvert_exporter": "python",
   "pygments_lexer": "ipython2",
   "version": "2.7.11"
  }
 },
 "nbformat": 4,
 "nbformat_minor": 0
}
