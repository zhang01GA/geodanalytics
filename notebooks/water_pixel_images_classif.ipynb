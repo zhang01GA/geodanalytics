{
 "cells": [
  {
   "cell_type": "markdown",
   "metadata": {},
   "source": [
    "# Classify image pixels into Water or Nowater"
   ]
  },
  {
   "cell_type": "markdown",
   "metadata": {},
   "source": []
  },
  {
   "cell_type": "code",
   "execution_count": 1,
   "metadata": {
    "collapsed": true
   },
   "outputs": [],
   "source": [
    "import os, sys\n",
    "import pickle\n",
    "import numpy as np\n",
    "\n",
    "from numpy import genfromtxt\n",
    "\n",
    "import pandas as pd\n",
    "#import pandas.io.data\n",
    "from pandas_datareader import data, wb\n",
    "from pandas import DataFrame\n",
    "\n",
    "\n",
    "\n",
    "%matplotlib inline\n",
    "import matplotlib.pyplot as plt\n",
    "from pylab import rcParams\n",
    "rcParams['figure.figsize'] = 10, 10 # increase plot size a bit...\n",
    "rcParams['axes.formatter.useoffset'] = False  # disable scalar formatter / offset in axes labels"
   ]
  },
  {
   "cell_type": "code",
   "execution_count": null,
   "metadata": {
    "collapsed": true
   },
   "outputs": [],
   "source": []
  },
  {
   "cell_type": "markdown",
   "metadata": {},
   "source": [
    "## Prepare sample dataset for scikit analysis"
   ]
  },
  {
   "cell_type": "code",
   "execution_count": 3,
   "metadata": {},
   "outputs": [
    {
     "ename": "NameError",
     "evalue": "name 'pdf' is not defined",
     "output_type": "error",
     "traceback": [
      "\u001b[1;31m\u001b[0m",
      "\u001b[1;31mNameError\u001b[0mTraceback (most recent call last)",
      "\u001b[1;32m<ipython-input-3-f181e345d0b8>\u001b[0m in \u001b[0;36m<module>\u001b[1;34m()\u001b[0m\n\u001b[0;32m      1\u001b[0m \u001b[0mclm_list\u001b[0m \u001b[1;33m=\u001b[0m \u001b[1;33m[\u001b[0m\u001b[1;33m]\u001b[0m\u001b[1;33m\u001b[0m\u001b[0m\n\u001b[1;32m----> 2\u001b[1;33m \u001b[1;32mfor\u001b[0m \u001b[0mcolumn\u001b[0m \u001b[1;32min\u001b[0m \u001b[0mpdf\u001b[0m\u001b[1;33m.\u001b[0m\u001b[0mcolumns\u001b[0m\u001b[1;33m:\u001b[0m \u001b[0mclm_list\u001b[0m\u001b[1;33m.\u001b[0m\u001b[0mappend\u001b[0m\u001b[1;33m(\u001b[0m\u001b[0mcolumn\u001b[0m\u001b[1;33m)\u001b[0m\u001b[1;33m\u001b[0m\u001b[0m\n\u001b[0m\u001b[0;32m      3\u001b[0m \u001b[1;33m\u001b[0m\u001b[0m\n\u001b[0;32m      4\u001b[0m \u001b[1;32mprint\u001b[0m \u001b[1;33m(\u001b[0m\u001b[0mclm_list\u001b[0m\u001b[1;33m[\u001b[0m\u001b[1;36m7\u001b[0m\u001b[1;33m]\u001b[0m\u001b[1;33m,\u001b[0m\u001b[0mclm_list\u001b[0m\u001b[1;33m[\u001b[0m\u001b[1;36m10\u001b[0m\u001b[1;33m]\u001b[0m\u001b[1;33m,\u001b[0m\u001b[0mclm_list\u001b[0m\u001b[1;33m[\u001b[0m\u001b[1;36m12\u001b[0m\u001b[1;33m]\u001b[0m\u001b[1;33m)\u001b[0m\u001b[1;33m\u001b[0m\u001b[0m\n",
      "\u001b[1;31mNameError\u001b[0m: name 'pdf' is not defined"
     ]
    }
   ],
   "source": [
    "clm_list = []\n",
    "for column in pdf.columns: clm_list.append(column)\n",
    "    \n",
    "print (clm_list[7],clm_list[10],clm_list[12])"
   ]
  },
  {
   "cell_type": "code",
   "execution_count": 23,
   "metadata": {},
   "outputs": [
    {
     "name": "stdout",
     "output_type": "stream",
     "text": [
      "('NDI_52', 'NDI_72', 'Mean_tm5c')\n"
     ]
    }
   ],
   "source": [
    "print (clm_list[10],clm_list[12], clm_list[7])"
   ]
  },
  {
   "cell_type": "code",
   "execution_count": 24,
   "metadata": {},
   "outputs": [
    {
     "name": "stdout",
     "output_type": "stream",
     "text": [
      "(4937172, 3) <type 'numpy.ndarray'>\n",
      "(4937172,)\n"
     ]
    }
   ],
   "source": [
    "#select the columns values into numpy array\n",
    "#X = pdf[clm_list[3:14]].values\n",
    "# select 3 most important features\n",
    "X= pdf[[clm_list[10],clm_list[12], clm_list[7]]].values\n",
    "# Y = pdf[clm_list[1]].values\n",
    "Y = pdf[clm_list[-1]].values  # the new column Class2\n",
    "       \n",
    "print X.shape, type(X)\n",
    "print Y.shape"
   ]
  },
  {
   "cell_type": "markdown",
   "metadata": {},
   "source": [
    "## Hello Scikit-learn"
   ]
  },
  {
   "cell_type": "code",
   "execution_count": 25,
   "metadata": {
    "collapsed": true
   },
   "outputs": [],
   "source": [
    "# from sklearn import tree\n",
    "# clf = tree.DecisionTreeClassifier(max_depth=5)"
   ]
  },
  {
   "cell_type": "code",
   "execution_count": 4,
   "metadata": {},
   "outputs": [],
   "source": [
    "\n",
    "with open('detree_clf.pickle', 'rb') as f:\n",
    "    # The protocol version used is detected automatically, so we do not\n",
    "    # have to specify it.\n",
    "    clfpkl = pickle.load(f)"
   ]
  },
  {
   "cell_type": "code",
   "execution_count": 5,
   "metadata": {},
   "outputs": [
    {
     "name": "stdout",
     "output_type": "stream",
     "text": [
      "DecisionTreeClassifier(class_weight=None, criterion='gini', max_depth=5,\n",
      "            max_features=None, max_leaf_nodes=None, min_samples_leaf=1,\n",
      "            min_samples_split=2, min_weight_fraction_leaf=0.0,\n",
      "            presort=False, random_state=None, splitter='best')\n"
     ]
    }
   ],
   "source": [
    "print (clfpkl)"
   ]
  },
  {
   "cell_type": "code",
   "execution_count": 6,
   "metadata": {},
   "outputs": [
    {
     "data": {
      "text/plain": [
       "array([(1, 32, 0, 0.10469971597194672, 0.3101821505731033, 4937172, 4937172.0),\n",
       "       (2, 17, 2, 726.5, 0.17732165752527973, 952064, 952064.0),\n",
       "       (3, 10, 1, -0.21966543793678284, 0.08536597765687415, 869666, 869666.0),\n",
       "       (4, 7, 2, 468.5, 0.05854168024141604, 818242, 818242.0),\n",
       "       (5, 6, 0, -0.1656680852174759, 0.03195855967077221, 761307, 761307.0),\n",
       "       (-1, -1, -2, -2.0, 0.016214179125706996, 708352, 708352.0),\n",
       "       (-1, -1, -2, -2.0, 0.21752002065520948, 52955, 52955.0),\n",
       "       (8, 9, 0, -0.717576265335083, 0.3393266472147667, 56935, 56935.0),\n",
       "       (-1, -1, -2, -2.0, 0.012192339893513204, 10434, 10434.0),\n",
       "       (-1, -1, -2, -2.0, 0.08074607956242552, 46501, 46501.0),\n",
       "       (11, 14, 2, 83.5, 0.3990717725693712, 51424, 51424.0),\n",
       "       (12, 13, 1, -0.011807732284069061, 0.08136991332435273, 14568, 14568.0),\n",
       "       (-1, -1, -2, -2.0, 0.016706230818886558, 9734, 9734.0),\n",
       "       (-1, -1, -2, -2.0, 0.19749510817477023, 4834, 4834.0),\n",
       "       (15, 16, 1, -0.006269654259085655, 0.4648359996883783, 36856, 36856.0),\n",
       "       (-1, -1, -2, -2.0, 0.387645742353116, 28865, 28865.0),\n",
       "       (-1, -1, -2, -2.0, 0.3803537520569106, 7991, 7991.0),\n",
       "       (18, 25, 0, -0.26934874057769775, 0.44582734925991596, 82398, 82398.0),\n",
       "       (19, 22, 1, -0.5583741664886475, 0.07028515615124664, 32298, 32298.0),\n",
       "       (20, 21, 0, -0.6226320266723633, 0.042700138549355504, 31613, 31613.0),\n",
       "       (-1, -1, -2, -2.0, 8.033419010178289e-05, 24895, 24895.0),\n",
       "       (-1, -1, -2, -2.0, 0.18408334715220342, 6718, 6718.0),\n",
       "       (23, 24, 2, 1122.5, 0.40976503809473064, 685, 685.0),\n",
       "       (-1, -1, -2, -2.0, 0.11232509531817891, 519, 519.0),\n",
       "       (-1, -1, -2, -2.0, 0.0, 166, 166.0),\n",
       "       (26, 29, 2, 1227.5, 0.4984158628850084, 50100, 50100.0),\n",
       "       (27, 28, 1, -0.07722628116607666, 0.3074272542608477, 32251, 32251.0),\n",
       "       (-1, -1, -2, -2.0, 0.15110227871077697, 27305, 27305.0),\n",
       "       (-1, -1, -2, -2.0, 0.34044346961744054, 4946, 4946.0),\n",
       "       (30, 31, 2, 1313.5, 0.03596943741558212, 17849, 17849.0),\n",
       "       (-1, -1, -2, -2.0, 0.3730988865932048, 528, 528.0),\n",
       "       (-1, -1, -2, -2.0, 0.022375395669608, 17321, 17321.0),\n",
       "       (33, 48, 0, 0.2561390995979309, 0.04373060095306269, 3985108, 3985108.0),\n",
       "       (34, 41, 1, 0.005292419344186783, 0.4112926022454999, 155095, 155095.0),\n",
       "       (35, 38, 2, 1199.5, 0.481985742189018, 94894, 94894.0),\n",
       "       (36, 37, 1, -0.18109172582626343, 0.4961065062107045, 81932, 81932.0),\n",
       "       (-1, -1, -2, -2.0, 0.44535167650340235, 41470, 41470.0),\n",
       "       (-1, -1, -2, -2.0, 0.48717594639899375, 40462, 40462.0),\n",
       "       (39, 40, 2, 1760.5, 0.15404100638517948, 12962, 12962.0),\n",
       "       (-1, -1, -2, -2.0, 0.21989533628947644, 6051, 6051.0),\n",
       "       (-1, -1, -2, -2.0, 0.0906780110456612, 6911, 6911.0),\n",
       "       (42, 45, 2, 132.5, 0.1911409847668053, 60201, 60201.0),\n",
       "       (43, 44, 2, 115.0, 0.2591776214312014, 634, 634.0),\n",
       "       (-1, -1, -2, -2.0, 0.14489301508844954, 496, 496.0),\n",
       "       (-1, -1, -2, -2.0, 0.4872925855912623, 138, 138.0),\n",
       "       (46, 47, 1, 0.12336292862892151, 0.17863672325548574, 59567, 59567.0),\n",
       "       (-1, -1, -2, -2.0, 0.23179491498946392, 35725, 35725.0),\n",
       "       (-1, -1, -2, -2.0, 0.08999427423390272, 23842, 23842.0),\n",
       "       (49, 56, 2, 83.5, 0.022837454489595177, 3830013, 3830013.0),\n",
       "       (50, 53, 2, 52.0, 0.1461325270849081, 3213, 3213.0),\n",
       "       (51, 52, 2, 36.5, 0.4872419786544345, 457, 457.0),\n",
       "       (-1, -1, -2, -2.0, 0.0, 241, 241.0),\n",
       "       (-1, -1, -2, -2.0, 0.19753086419753085, 216, 216.0),\n",
       "       (54, 55, 0, 0.2989540696144104, 0.0446733449752591, 2756, 2756.0),\n",
       "       (-1, -1, -2, -2.0, 0.27119377162629754, 136, 136.0),\n",
       "       (-1, -1, -2, -2.0, 0.03080793660043124, 2620, 2620.0),\n",
       "       (57, 60, 2, 773.5, 0.02134501843907788, 3826800, 3826800.0),\n",
       "       (58, 59, 0, 0.33522891998291016, 0.11167043580988334, 513994, 513994.0),\n",
       "       (-1, -1, -2, -2.0, 0.23300053924295638, 77230, 77230.0),\n",
       "       (-1, -1, -2, -2.0, 0.08785886900160855, 436764, 436764.0),\n",
       "       (61, 62, 0, 0.31528961658477783, 0.006485101138339111, 3312806, 3312806.0),\n",
       "       (-1, -1, -2, -2.0, 0.10583171019945259, 57672, 57672.0),\n",
       "       (-1, -1, -2, -2.0, 0.004624397185502005, 3255134, 3255134.0)], \n",
       "      dtype=[('left_child', '<i8'), ('right_child', '<i8'), ('feature', '<i8'), ('threshold', '<f8'), ('impurity', '<f8'), ('n_node_samples', '<i8'), ('weighted_n_node_samples', '<f8')])"
      ]
     },
     "execution_count": 6,
     "metadata": {},
     "output_type": "execute_result"
    }
   ],
   "source": [
    "clfpkl.tree_.__getstate__()['nodes']"
   ]
  },
  {
   "cell_type": "markdown",
   "metadata": {},
   "source": [
    "# Google search how to select important feature"
   ]
  },
  {
   "cell_type": "markdown",
   "metadata": {},
   "source": [
    "** http://machinelearningmastery.com/an-introduction-to-feature-selection/\n",
    "\n",
    "** http://scikit-learn.org/stable/modules/feature_selection.html\n",
    "    "
   ]
  },
  {
   "cell_type": "markdown",
   "metadata": {},
   "source": [
    "# you can pickle the clf tree for later use."
   ]
  },
  {
   "cell_type": "code",
   "execution_count": 42,
   "metadata": {},
   "outputs": [
    {
     "data": {
      "text/plain": [
       "array([(1, 32, 0, 0.10469971597194672, 0.3101821505731033, 4937172, 4937172.0),\n",
       "       (2, 17, 2, 726.5, 0.17732165752527973, 952064, 952064.0),\n",
       "       (3, 10, 1, -0.21966543793678284, 0.08536597765687415, 869666, 869666.0),\n",
       "       (4, 7, 2, 468.5, 0.05854168024141604, 818242, 818242.0),\n",
       "       (5, 6, 0, -0.1656680852174759, 0.03195855967077221, 761307, 761307.0),\n",
       "       (-1, -1, -2, -2.0, 0.016214179125706996, 708352, 708352.0),\n",
       "       (-1, -1, -2, -2.0, 0.21752002065520948, 52955, 52955.0),\n",
       "       (8, 9, 0, -0.717576265335083, 0.3393266472147667, 56935, 56935.0),\n",
       "       (-1, -1, -2, -2.0, 0.012192339893513204, 10434, 10434.0),\n",
       "       (-1, -1, -2, -2.0, 0.08074607956242552, 46501, 46501.0),\n",
       "       (11, 14, 2, 83.5, 0.3990717725693712, 51424, 51424.0),\n",
       "       (12, 13, 1, -0.011807732284069061, 0.08136991332435273, 14568, 14568.0),\n",
       "       (-1, -1, -2, -2.0, 0.016706230818886558, 9734, 9734.0),\n",
       "       (-1, -1, -2, -2.0, 0.19749510817477023, 4834, 4834.0),\n",
       "       (15, 16, 1, -0.006269654259085655, 0.4648359996883783, 36856, 36856.0),\n",
       "       (-1, -1, -2, -2.0, 0.387645742353116, 28865, 28865.0),\n",
       "       (-1, -1, -2, -2.0, 0.3803537520569106, 7991, 7991.0),\n",
       "       (18, 25, 0, -0.26934874057769775, 0.44582734925991596, 82398, 82398.0),\n",
       "       (19, 22, 1, -0.5583741664886475, 0.07028515615124664, 32298, 32298.0),\n",
       "       (20, 21, 0, -0.6226320266723633, 0.042700138549355504, 31613, 31613.0),\n",
       "       (-1, -1, -2, -2.0, 8.033419010178289e-05, 24895, 24895.0),\n",
       "       (-1, -1, -2, -2.0, 0.18408334715220342, 6718, 6718.0),\n",
       "       (23, 24, 2, 1122.5, 0.40976503809473064, 685, 685.0),\n",
       "       (-1, -1, -2, -2.0, 0.11232509531817891, 519, 519.0),\n",
       "       (-1, -1, -2, -2.0, 0.0, 166, 166.0),\n",
       "       (26, 29, 2, 1227.5, 0.4984158628850084, 50100, 50100.0),\n",
       "       (27, 28, 1, -0.07722628116607666, 0.3074272542608477, 32251, 32251.0),\n",
       "       (-1, -1, -2, -2.0, 0.15110227871077697, 27305, 27305.0),\n",
       "       (-1, -1, -2, -2.0, 0.34044346961744054, 4946, 4946.0),\n",
       "       (30, 31, 2, 1313.5, 0.03596943741558212, 17849, 17849.0),\n",
       "       (-1, -1, -2, -2.0, 0.3730988865932048, 528, 528.0),\n",
       "       (-1, -1, -2, -2.0, 0.022375395669608, 17321, 17321.0),\n",
       "       (33, 48, 0, 0.2561390995979309, 0.04373060095306269, 3985108, 3985108.0),\n",
       "       (34, 41, 1, 0.005292419344186783, 0.4112926022454999, 155095, 155095.0),\n",
       "       (35, 38, 2, 1199.5, 0.481985742189018, 94894, 94894.0),\n",
       "       (36, 37, 1, -0.18109172582626343, 0.4961065062107045, 81932, 81932.0),\n",
       "       (-1, -1, -2, -2.0, 0.44535167650340235, 41470, 41470.0),\n",
       "       (-1, -1, -2, -2.0, 0.48717594639899375, 40462, 40462.0),\n",
       "       (39, 40, 2, 1760.5, 0.15404100638517948, 12962, 12962.0),\n",
       "       (-1, -1, -2, -2.0, 0.21989533628947644, 6051, 6051.0),\n",
       "       (-1, -1, -2, -2.0, 0.0906780110456612, 6911, 6911.0),\n",
       "       (42, 45, 2, 132.5, 0.1911409847668053, 60201, 60201.0),\n",
       "       (43, 44, 2, 115.0, 0.2591776214312014, 634, 634.0),\n",
       "       (-1, -1, -2, -2.0, 0.14489301508844954, 496, 496.0),\n",
       "       (-1, -1, -2, -2.0, 0.4872925855912623, 138, 138.0),\n",
       "       (46, 47, 1, 0.12336292862892151, 0.17863672325548574, 59567, 59567.0),\n",
       "       (-1, -1, -2, -2.0, 0.23179491498946392, 35725, 35725.0),\n",
       "       (-1, -1, -2, -2.0, 0.08999427423390272, 23842, 23842.0),\n",
       "       (49, 56, 2, 83.5, 0.022837454489595177, 3830013, 3830013.0),\n",
       "       (50, 53, 2, 52.0, 0.1461325270849081, 3213, 3213.0),\n",
       "       (51, 52, 2, 36.5, 0.4872419786544345, 457, 457.0),\n",
       "       (-1, -1, -2, -2.0, 0.0, 241, 241.0),\n",
       "       (-1, -1, -2, -2.0, 0.19753086419753085, 216, 216.0),\n",
       "       (54, 55, 0, 0.2989540696144104, 0.0446733449752591, 2756, 2756.0),\n",
       "       (-1, -1, -2, -2.0, 0.27119377162629754, 136, 136.0),\n",
       "       (-1, -1, -2, -2.0, 0.03080793660043124, 2620, 2620.0),\n",
       "       (57, 60, 2, 773.5, 0.02134501843907788, 3826800, 3826800.0),\n",
       "       (58, 59, 0, 0.33522891998291016, 0.11167043580988334, 513994, 513994.0),\n",
       "       (-1, -1, -2, -2.0, 0.23300053924295638, 77230, 77230.0),\n",
       "       (-1, -1, -2, -2.0, 0.08785886900160855, 436764, 436764.0),\n",
       "       (61, 62, 0, 0.31528961658477783, 0.006485101138339111, 3312806, 3312806.0),\n",
       "       (-1, -1, -2, -2.0, 0.10583171019945259, 57672, 57672.0),\n",
       "       (-1, -1, -2, -2.0, 0.004624397185502005, 3255134, 3255134.0)], \n",
       "      dtype=[('left_child', '<i8'), ('right_child', '<i8'), ('feature', '<i8'), ('threshold', '<f8'), ('impurity', '<f8'), ('n_node_samples', '<i8'), ('weighted_n_node_samples', '<f8')])"
      ]
     },
     "execution_count": 42,
     "metadata": {},
     "output_type": "execute_result"
    }
   ],
   "source": [
    "# http://scikit-learn.org/stable/modules/model_persistence.html\n",
    "\n",
    "# http://stackoverflow.com/questions/15564410/scikit-learn-svm-how-to-save-load-support-vectors\n",
    "# \n",
    "# show tree\n",
    "#Orginal \n",
    "clf.tree_.__getstate__()['nodes']"
   ]
  },
  {
   "cell_type": "code",
   "execution_count": null,
   "metadata": {
    "collapsed": true
   },
   "outputs": [],
   "source": []
  },
  {
   "cell_type": "code",
   "execution_count": null,
   "metadata": {
    "collapsed": true
   },
   "outputs": [],
   "source": []
  },
  {
   "cell_type": "markdown",
   "metadata": {},
   "source": [
    "#    Let's try to use the classifier clfpkl on dc images"
   ]
  },
  {
   "cell_type": "code",
   "execution_count": null,
   "metadata": {
    "collapsed": true
   },
   "outputs": [],
   "source": [
    "get some images from the datacube\n",
    "get the perfect pixels\n",
    "classify the perfect pixels\n"
   ]
  },
  {
   "cell_type": "code",
   "execution_count": null,
   "metadata": {
    "collapsed": true
   },
   "outputs": [],
   "source": []
  },
  {
   "cell_type": "code",
   "execution_count": null,
   "metadata": {
    "collapsed": true
   },
   "outputs": [],
   "source": [
    "def Mueller_classifier(images, float64=False):\n",
    "    \"\"\" \n",
    "    Implement the decision tree of Norman Mueller et al, to clssify a pixel with 6-bands input.\n",
    "    Produce a water classification image from the supplied images (6 bands of an NBAR, multiband Landsat image)\n",
    "    This method evaluates N.Mueller's 7-depth decision tree as follows:\n",
    "\n",
    "\n",
    "                    -----------------------------N1---------------------------------\n",
    "                    |                                                              |\n",
    "                    |                                                              |\n",
    "                 ---N2-----                                           -------------N21---------------------\n",
    "                 |        |                                           |                                   |\n",
    "                 |        |                                           |                                   |\n",
    "       ----------N4----   N3                                    ------N22---                           ---N35-------\n",
    "       |              |                                         |          |                           |           |\n",
    "       |              |                                         |          |                           |           |\n",
    "    ---N5---       ---N8--------------                       ---N24----    N23                      ---N37------   N36\n",
    "    |      |       |                 |                       |        |                             |          |\n",
    "    |      |       |                 |                       |        |                             |          |\n",
    "    N6     N7   ---N12------------   N9             ---------N26---   N25                        ---N39-----   N38\n",
    "                |                |                  |             |                              |         |\n",
    "                |                |                  |             |                              |         |\n",
    "             ---N16---        ---N13---             N27   --------N28---                   ------N41---    N40\n",
    "             |       |        |       |                   |            |                   |          |\n",
    "             |       |        |       |                   |            |                   |          |\n",
    "             N17  ---N18---   N14     N15              ---N29---    ---N30---           ---N43---     N42\n",
    "                  |       |                            |       |    |       |           |       |\n",
    "                  |       |                            |       |    |       |           |       |\n",
    "                  N19     N20                          N31     N32  N33     N34         N44     N45\n",
    "\n",
    "\n",
    ":param images:\n",
    "    A 3D numpy array ordered in (bands,rows,columns), containing the spectral data.\n",
    "    It is assumed that the spectral bands follow Landsat 5 & 7, Band 1, Band 2, Band 3, Band 4, Band 5, Band 7.\n",
    "\n",
    ":param float64:\n",
    "    Boolean keyword. If set to True then the data will be converted to type float64 if not already float64.\n",
    "    Default is False.\n",
    "\n",
    ":return:\n",
    "    A 2D numpy array of type UInt8.  Values will be 0 for No Water, 1 for Unclassified and 128 for water.\n",
    "\n",
    ":notes:\n",
    "    The input array will be converted to type float32 if not already float32.\n",
    "    If images is of type float64, then images datatype will be left as is.\n",
    "\n",
    ":transcription:\n",
    "    Transcribed from a Tree diagram output by CART www.salford-systems.com\n",
    "    Josh Sixsmith; joshua.sixsmith@ga.gov.au\n",
    "\n",
    "    \"\"\"\n",
    "\n",
    "#     logger = logging.getLogger(\"WaterClasserfier\")\n",
    "#     logger.debug(\"Started\")\n",
    "\n",
    "    def band_ratio(a,b):\n",
    "        \"\"\"\n",
    "        Calculates a normalised ratio index.\n",
    "        \"\"\"\n",
    "        c = (a - b) / (a + b)\n",
    "        return c\n",
    "\n",
    "    dims = images.shape\n",
    "    if len(dims) == 3:\n",
    "        bands = dims[0]\n",
    "        rows  = dims[1]\n",
    "        cols  = dims[2]\n",
    "    else:\n",
    "        rows = dims[0]\n",
    "        cols = dims[1]\n",
    "\n",
    "    dtype = images.dtype\n",
    "\n",
    "    # Check whether to enforce float64 calcs, unless the datatype is already float64\n",
    "    # Otherwise force float32\n",
    "    if float64:\n",
    "        if (dtype != 'float64'):\n",
    "            images = images.astype('float64')\n",
    "    else:\n",
    "        if (dtype == 'float64'):\n",
    "            # Do nothing, leave as float64\n",
    "            images = images\n",
    "        elif (dtype != 'float32'):\n",
    "            images = images.astype('float32')\n",
    "\n",
    "    classified = numpy.ones((rows,cols), dtype='uint8')\n",
    "\n",
    "    NDI_52 = band_ratio(images[4], images[1])\n",
    "    NDI_43 = band_ratio(images[3], images[2])\n",
    "    NDI_72 = band_ratio(images[5], images[1])\n",
    "\n",
    "    b1 = images[0]\n",
    "    b2 = images[1]\n",
    "    b3 = images[2]\n",
    "    b4 = images[3]\n",
    "    b5 = images[4]\n",
    "    b7 = images[5]\n",
    "\n",
    "    # Lets start going down the trees left branch, finishing nodes as needed\n",
    "    # Lots of result arrays eg r1, r2 etc of type bool are created\n",
    "    # These could be recycled to save memory, but at the moment they serve to show the tree structure\n",
    "    # Temporary arrays of type bool (_tmp, _tmp2) are used to combine the boolean decisions\n",
    "    r1 = NDI_52 <= -0.01\n",
    "\n",
    "    r2 = b1 <= 2083.5\n",
    "    classified[r1 & ~r2] = 0 # Node 3\n",
    "\n",
    "    r3 = b7 <= 323.5\n",
    "    _tmp = r1 & r2\n",
    "    _tmp2 = _tmp & r3\n",
    "    _tmp &= ~r3\n",
    "\n",
    "    r4 = NDI_43 <= 0.61\n",
    "    classified[_tmp2 & r4]  = 128 # Node 6\n",
    "    classified[_tmp2 & ~r4] = 0 # Node 7\n",
    "\n",
    "    r5 = b1 <= 1400.5\n",
    "    _tmp2 = _tmp & ~r5\n",
    "    r6 = NDI_43 <= -0.01\n",
    "    classified[_tmp2 & r6]  = 128 # Node 10\n",
    "    classified[_tmp2 & ~r6] = 0 # Node 11\n",
    "\n",
    "    _tmp &= r5\n",
    "\n",
    "    r7 = NDI_72 <= -0.23\n",
    "    _tmp2 = _tmp & ~r7\n",
    "    r8 = b1 <= 379\n",
    "    classified[_tmp2 & r8]  = 128 # Node 14\n",
    "    classified[_tmp2 & ~r8] = 0 # Node 15\n",
    "\n",
    "    _tmp &= r7\n",
    "\n",
    "    r9 = NDI_43 <= 0.22\n",
    "    classified[_tmp & r9] = 128 # Node 17\n",
    "\n",
    "    _tmp &= ~r9\n",
    "\n",
    "    r10 = b1 <= 473\n",
    "    classified[_tmp & r10]  = 128 # Node 19\n",
    "    classified[_tmp & ~r10] = 0 # Node 20\n",
    "\n",
    "    # Left branch is completed; cleanup\n",
    "    #logger.debug(\"B4 cleanup 1\")\n",
    "    del r2, r3, r4, r5, r6, r7, r8, r9, r10\n",
    "    gc.collect()\n",
    "    #logger.debug(\"cleanup 1 done\")\n",
    "\n",
    "    # Right branch of the tree\n",
    "    r1 = ~r1\n",
    "\n",
    "    r11 = NDI_52 <= 0.23\n",
    "    _tmp = r1 & r11\n",
    "\n",
    "    r12 = b1 <= 334.5\n",
    "    _tmp2 = _tmp & ~r12\n",
    "    classified[_tmp2] = 0 # Node 23\n",
    "\n",
    "    _tmp &= r12\n",
    "\n",
    "    r13 = NDI_43 <= 0.54\n",
    "    _tmp2 = _tmp & ~r13\n",
    "    classified[_tmp2] = 0 # Node 25\n",
    "\n",
    "    _tmp &= r13\n",
    "\n",
    "    r14 = NDI_52 <= 0.12\n",
    "    _tmp2 = _tmp & r14\n",
    "    classified[_tmp2] = 128 # Node 27\n",
    "\n",
    "    _tmp &= ~r14\n",
    "\n",
    "    r15 = b3 <= 364.5\n",
    "    _tmp2 = _tmp & r15\n",
    "\n",
    "    r16 = b1 <= 129.5\n",
    "    classified[_tmp2 & r16]  = 128 # Node 31\n",
    "    classified[_tmp2 & ~r16] = 0 # Node 32\n",
    "\n",
    "    _tmp &= ~r15\n",
    "\n",
    "    r17 = b1 <= 300.5\n",
    "    _tmp2 = _tmp & ~r17\n",
    "    _tmp &= r17\n",
    "    classified[_tmp]  = 128 # Node 33\n",
    "    classified[_tmp2] = 0 # Node 34\n",
    "\n",
    "    _tmp = r1 & ~r11\n",
    "\n",
    "    r18 = NDI_52 <= 0.34\n",
    "    classified[_tmp & ~r18] = 0 # Node 36\n",
    "    _tmp &= r18\n",
    "\n",
    "    r19 = b1 <= 249.5\n",
    "    classified[_tmp & ~r19] = 0 # Node 38\n",
    "    _tmp &= r19\n",
    "\n",
    "    r20 = NDI_43 <= 0.45\n",
    "    classified[_tmp & ~r20] = 0 # Node 40\n",
    "    _tmp &= r20\n",
    "\n",
    "    r21 = b3 <= 364.5\n",
    "    classified[_tmp & ~r21] = 0 # Node 42\n",
    "    _tmp &= r21\n",
    "\n",
    "    r22 = b1 <= 129.5\n",
    "    classified[_tmp & r22]  = 128 # Node 44\n",
    "    classified[_tmp & ~r22] = 0 # Node 45\n",
    "\n",
    "    #logger.debug(\"completed\")\n",
    "\n",
    "    return classified\n"
   ]
  },
  {
   "cell_type": "markdown",
   "metadata": {},
   "source": [
    "## Select Perfect Pix Data to Analyse "
   ]
  },
  {
   "cell_type": "code",
   "execution_count": null,
   "metadata": {},
   "outputs": [],
   "source": [
    "perf_pix= pdf[pdf['Mean_PQMas'] == 16383.0]  # where(Mean_PQMas=16383)\n",
    "\n",
    "# change W_* into Water; all other classes into NotWater. Binary classes\n",
    "perf_pix.ix[perf_pix.Class_name.str.match('W_*'), 'Class2'] = 'Water'\n",
    "\n",
    "# change non 'W_*' into NoWater\n",
    "perf_pix.ix[perf_pix.Class_name.str.match('^W_*')==False, 'Class2'] = 'NoWater'\n",
    "\n",
    "# Group by Pixel Class_name, then count the number of rows in each group\n",
    "perf_pix.groupby('Class2').count()"
   ]
  }
 ],
 "metadata": {
  "kernelspec": {
   "display_name": "Python 3",
   "language": "python",
   "name": "python3"
  },
  "language_info": {
   "codemirror_mode": {
    "name": "ipython",
    "version": 3
   },
   "file_extension": ".py",
   "mimetype": "text/x-python",
   "name": "python",
   "nbconvert_exporter": "python",
   "pygments_lexer": "ipython3",
   "version": "3.6.6"
  }
 },
 "nbformat": 4,
 "nbformat_minor": 1
}
