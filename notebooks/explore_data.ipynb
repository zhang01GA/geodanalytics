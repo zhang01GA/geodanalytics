{
 "cells": [
  {
   "cell_type": "markdown",
   "metadata": {},
   "source": [
    "# Explore input data samples"
   ]
  },
  {
   "cell_type": "code",
   "execution_count": 1,
   "metadata": {
    "collapsed": true
   },
   "outputs": [],
   "source": [
    "import os, sys\n",
    "\n",
    "import numpy as np\n",
    "\n",
    "from numpy import genfromtxt\n",
    "\n",
    "import pandas as pd\n",
    "#import pandas.io.data\n",
    "from pandas_datareader import data, wb\n",
    "from pandas import DataFrame\n",
    "\n",
    "\n",
    "\n",
    "%matplotlib inline\n",
    "import matplotlib.pyplot as plt\n",
    "from pylab import rcParams\n",
    "rcParams['figure.figsize'] = 10, 10 # increase plot size a bit...\n",
    "rcParams['axes.formatter.useoffset'] = False  # disable scalar formatter / offset in axes labels"
   ]
  },
  {
   "cell_type": "code",
   "execution_count": 2,
   "metadata": {
    "collapsed": true
   },
   "outputs": [],
   "source": [
    "CSV_DIR='/g/data/u46/fxz547/Githubz/geodata_analytics'\n",
    "infile='samples_10000.csv'"
   ]
  },
  {
   "cell_type": "code",
   "execution_count": 3,
   "metadata": {
    "collapsed": true
   },
   "outputs": [],
   "source": [
    "my_file_csv = os.path.join(CSV_DIR, infile) \n",
    "\n",
    "# read csv file into numpy array\n",
    "my_data = genfromtxt(my_file_csv, delimiter=',')"
   ]
  },
  {
   "cell_type": "code",
   "execution_count": 4,
   "metadata": {
    "collapsed": false
   },
   "outputs": [
    {
     "data": {
      "text/plain": [
       "numpy.ndarray"
      ]
     },
     "execution_count": 4,
     "metadata": {},
     "output_type": "execute_result"
    }
   ],
   "source": [
    "type(my_data)"
   ]
  },
  {
   "cell_type": "code",
   "execution_count": 6,
   "metadata": {
    "collapsed": false
   },
   "outputs": [
    {
     "data": {
      "text/plain": [
       "(10000, 17)"
      ]
     },
     "execution_count": 6,
     "metadata": {},
     "output_type": "execute_result"
    }
   ],
   "source": [
    "my_data.shape"
   ]
  },
  {
   "cell_type": "code",
   "execution_count": 12,
   "metadata": {
    "collapsed": false
   },
   "outputs": [
    {
     "name": "stdout",
     "output_type": "stream",
     "text": [
      "[[             nan              nan              nan              nan\n",
      "               nan              nan              nan              nan\n",
      "               nan              nan              nan              nan\n",
      "               nan              nan              nan              nan\n",
      "               nan]\n",
      " [  4.49333333e+02              nan   1.63830000e+04   3.60000000e+02\n",
      "    4.91000000e+02   4.97000000e+02   8.22000000e+02   9.46000000e+02\n",
      "    5.62000000e+02   2.46398787e-01   3.16631872e-01   7.01357466e-02\n",
      "    6.74264008e-02  -1.87861272e-01              nan   3.61400000e+03\n",
      "    2.08200000e+03]\n",
      " [  4.61333333e+02              nan   1.63830000e+04   3.77000000e+02\n",
      "    4.59000000e+02   5.48000000e+02   8.56000000e+02   1.06000000e+03\n",
      "    5.94000000e+02   2.19373219e-01   3.95655036e-01   1.06471816e-01\n",
      "    1.28205128e-01  -1.80689655e-01              nan   3.61100000e+03\n",
      "    2.07000000e+03]]\n"
     ]
    }
   ],
   "source": [
    "# numpy not good at handling heterogenous data. non-numeric data shown as nan\n",
    "\n",
    "print my_data[:3,:]"
   ]
  },
  {
   "cell_type": "markdown",
   "metadata": {},
   "source": [
    "# Using Pandas  to handle heterogeneous tabular data structure with labeled axes \n",
    "http://pandas.pydata.org/pandas-docs/stable/cookbook.html#cookbook"
   ]
  },
  {
   "cell_type": "code",
   "execution_count": 13,
   "metadata": {
    "collapsed": true
   },
   "outputs": [],
   "source": [
    "pdf = pd.read_csv(my_file_csv)"
   ]
  },
  {
   "cell_type": "code",
   "execution_count": 14,
   "metadata": {
    "collapsed": false
   },
   "outputs": [
    {
     "data": {
      "text/html": [
       "<div>\n",
       "<table border=\"1\" class=\"dataframe\">\n",
       "  <thead>\n",
       "    <tr style=\"text-align: right;\">\n",
       "      <th></th>\n",
       "      <th>Bright</th>\n",
       "      <th>Class_name</th>\n",
       "      <th>Mean_PQMas</th>\n",
       "      <th>Mean_tm1c</th>\n",
       "      <th>Mean_tm2c</th>\n",
       "      <th>Mean_tm3c</th>\n",
       "      <th>Mean_tm4c</th>\n",
       "      <th>Mean_tm5c</th>\n",
       "      <th>Mean_tm7c</th>\n",
       "      <th>NDI_43</th>\n",
       "      <th>NDI_52</th>\n",
       "      <th>NDI_54</th>\n",
       "      <th>NDI_72</th>\n",
       "      <th>NDI_74</th>\n",
       "      <th>Scene_Name</th>\n",
       "      <th>X_Min_Pxl</th>\n",
       "      <th>Y_Min_Pxl</th>\n",
       "    </tr>\n",
       "  </thead>\n",
       "  <tbody>\n",
       "    <tr>\n",
       "      <th>0</th>\n",
       "      <td>449.333333</td>\n",
       "      <td>CloudShadow_Bare</td>\n",
       "      <td>16383.0</td>\n",
       "      <td>360.0</td>\n",
       "      <td>491.0</td>\n",
       "      <td>497.0</td>\n",
       "      <td>822.0</td>\n",
       "      <td>946.0</td>\n",
       "      <td>562.0</td>\n",
       "      <td>0.246399</td>\n",
       "      <td>0.316632</td>\n",
       "      <td>0.070136</td>\n",
       "      <td>0.067426</td>\n",
       "      <td>-0.187861</td>\n",
       "      <td>115_-032_2011-01-02T01-55-10.679038</td>\n",
       "      <td>3614.0</td>\n",
       "      <td>2082.0</td>\n",
       "    </tr>\n",
       "    <tr>\n",
       "      <th>1</th>\n",
       "      <td>461.333333</td>\n",
       "      <td>CloudShadow_Bare</td>\n",
       "      <td>16383.0</td>\n",
       "      <td>377.0</td>\n",
       "      <td>459.0</td>\n",
       "      <td>548.0</td>\n",
       "      <td>856.0</td>\n",
       "      <td>1060.0</td>\n",
       "      <td>594.0</td>\n",
       "      <td>0.219373</td>\n",
       "      <td>0.395655</td>\n",
       "      <td>0.106472</td>\n",
       "      <td>0.128205</td>\n",
       "      <td>-0.180690</td>\n",
       "      <td>115_-032_2011-01-02T01-55-10.679038</td>\n",
       "      <td>3611.0</td>\n",
       "      <td>2070.0</td>\n",
       "    </tr>\n",
       "    <tr>\n",
       "      <th>2</th>\n",
       "      <td>521.666667</td>\n",
       "      <td>CloudShadow_Bare</td>\n",
       "      <td>16383.0</td>\n",
       "      <td>410.0</td>\n",
       "      <td>555.0</td>\n",
       "      <td>600.0</td>\n",
       "      <td>890.0</td>\n",
       "      <td>1014.0</td>\n",
       "      <td>690.0</td>\n",
       "      <td>0.194631</td>\n",
       "      <td>0.292543</td>\n",
       "      <td>0.065126</td>\n",
       "      <td>0.108434</td>\n",
       "      <td>-0.126582</td>\n",
       "      <td>115_-032_2011-01-02T01-55-10.679038</td>\n",
       "      <td>3610.0</td>\n",
       "      <td>2069.0</td>\n",
       "    </tr>\n",
       "    <tr>\n",
       "      <th>3</th>\n",
       "      <td>707.333333</td>\n",
       "      <td>CloudShadow_Veg</td>\n",
       "      <td>16383.0</td>\n",
       "      <td>551.0</td>\n",
       "      <td>742.0</td>\n",
       "      <td>829.0</td>\n",
       "      <td>1089.0</td>\n",
       "      <td>1080.0</td>\n",
       "      <td>720.0</td>\n",
       "      <td>0.135558</td>\n",
       "      <td>0.185510</td>\n",
       "      <td>-0.004149</td>\n",
       "      <td>-0.015048</td>\n",
       "      <td>-0.203980</td>\n",
       "      <td>115_-032_2011-01-02T01-55-10.679038</td>\n",
       "      <td>2941.0</td>\n",
       "      <td>1638.0</td>\n",
       "    </tr>\n",
       "    <tr>\n",
       "      <th>4</th>\n",
       "      <td>685.666667</td>\n",
       "      <td>W_LargeBody</td>\n",
       "      <td>16383.0</td>\n",
       "      <td>408.0</td>\n",
       "      <td>842.0</td>\n",
       "      <td>807.0</td>\n",
       "      <td>1193.0</td>\n",
       "      <td>558.0</td>\n",
       "      <td>242.0</td>\n",
       "      <td>0.193000</td>\n",
       "      <td>-0.202857</td>\n",
       "      <td>-0.362650</td>\n",
       "      <td>-0.553506</td>\n",
       "      <td>-0.662718</td>\n",
       "      <td>115_-032_2011-01-02T01-55-10.679038</td>\n",
       "      <td>3104.0</td>\n",
       "      <td>1109.0</td>\n",
       "    </tr>\n",
       "  </tbody>\n",
       "</table>\n",
       "</div>"
      ],
      "text/plain": [
       "       Bright        Class_name  Mean_PQMas  Mean_tm1c  Mean_tm2c  Mean_tm3c  \\\n",
       "0  449.333333  CloudShadow_Bare     16383.0      360.0      491.0      497.0   \n",
       "1  461.333333  CloudShadow_Bare     16383.0      377.0      459.0      548.0   \n",
       "2  521.666667  CloudShadow_Bare     16383.0      410.0      555.0      600.0   \n",
       "3  707.333333   CloudShadow_Veg     16383.0      551.0      742.0      829.0   \n",
       "4  685.666667       W_LargeBody     16383.0      408.0      842.0      807.0   \n",
       "\n",
       "   Mean_tm4c  Mean_tm5c  Mean_tm7c    NDI_43    NDI_52    NDI_54    NDI_72  \\\n",
       "0      822.0      946.0      562.0  0.246399  0.316632  0.070136  0.067426   \n",
       "1      856.0     1060.0      594.0  0.219373  0.395655  0.106472  0.128205   \n",
       "2      890.0     1014.0      690.0  0.194631  0.292543  0.065126  0.108434   \n",
       "3     1089.0     1080.0      720.0  0.135558  0.185510 -0.004149 -0.015048   \n",
       "4     1193.0      558.0      242.0  0.193000 -0.202857 -0.362650 -0.553506   \n",
       "\n",
       "     NDI_74                           Scene_Name  X_Min_Pxl  Y_Min_Pxl  \n",
       "0 -0.187861  115_-032_2011-01-02T01-55-10.679038     3614.0     2082.0  \n",
       "1 -0.180690  115_-032_2011-01-02T01-55-10.679038     3611.0     2070.0  \n",
       "2 -0.126582  115_-032_2011-01-02T01-55-10.679038     3610.0     2069.0  \n",
       "3 -0.203980  115_-032_2011-01-02T01-55-10.679038     2941.0     1638.0  \n",
       "4 -0.662718  115_-032_2011-01-02T01-55-10.679038     3104.0     1109.0  "
      ]
     },
     "execution_count": 14,
     "metadata": {},
     "output_type": "execute_result"
    }
   ],
   "source": [
    "pdf.head()"
   ]
  },
  {
   "cell_type": "code",
   "execution_count": 16,
   "metadata": {
    "collapsed": false
   },
   "outputs": [
    {
     "data": {
      "text/html": [
       "<div>\n",
       "<table border=\"1\" class=\"dataframe\">\n",
       "  <thead>\n",
       "    <tr style=\"text-align: right;\">\n",
       "      <th></th>\n",
       "      <th>Bright</th>\n",
       "      <th>Mean_PQMas</th>\n",
       "      <th>Mean_tm1c</th>\n",
       "      <th>Mean_tm2c</th>\n",
       "      <th>Mean_tm3c</th>\n",
       "      <th>Mean_tm4c</th>\n",
       "      <th>Mean_tm5c</th>\n",
       "      <th>Mean_tm7c</th>\n",
       "      <th>NDI_43</th>\n",
       "      <th>NDI_52</th>\n",
       "      <th>NDI_54</th>\n",
       "      <th>NDI_72</th>\n",
       "      <th>NDI_74</th>\n",
       "      <th>Scene_Name</th>\n",
       "      <th>X_Min_Pxl</th>\n",
       "      <th>Y_Min_Pxl</th>\n",
       "    </tr>\n",
       "    <tr>\n",
       "      <th>Class_name</th>\n",
       "      <th></th>\n",
       "      <th></th>\n",
       "      <th></th>\n",
       "      <th></th>\n",
       "      <th></th>\n",
       "      <th></th>\n",
       "      <th></th>\n",
       "      <th></th>\n",
       "      <th></th>\n",
       "      <th></th>\n",
       "      <th></th>\n",
       "      <th></th>\n",
       "      <th></th>\n",
       "      <th></th>\n",
       "      <th></th>\n",
       "      <th></th>\n",
       "    </tr>\n",
       "  </thead>\n",
       "  <tbody>\n",
       "    <tr>\n",
       "      <th>CloudShadow_Bare</th>\n",
       "      <td>175</td>\n",
       "      <td>175</td>\n",
       "      <td>175</td>\n",
       "      <td>175</td>\n",
       "      <td>175</td>\n",
       "      <td>175</td>\n",
       "      <td>175</td>\n",
       "      <td>175</td>\n",
       "      <td>175</td>\n",
       "      <td>175</td>\n",
       "      <td>175</td>\n",
       "      <td>175</td>\n",
       "      <td>175</td>\n",
       "      <td>175</td>\n",
       "      <td>175</td>\n",
       "      <td>175</td>\n",
       "    </tr>\n",
       "    <tr>\n",
       "      <th>CloudShadow_Veg</th>\n",
       "      <td>1086</td>\n",
       "      <td>1086</td>\n",
       "      <td>1086</td>\n",
       "      <td>1086</td>\n",
       "      <td>1086</td>\n",
       "      <td>1086</td>\n",
       "      <td>1086</td>\n",
       "      <td>1086</td>\n",
       "      <td>1086</td>\n",
       "      <td>1086</td>\n",
       "      <td>1086</td>\n",
       "      <td>1086</td>\n",
       "      <td>1086</td>\n",
       "      <td>1086</td>\n",
       "      <td>1086</td>\n",
       "      <td>1086</td>\n",
       "    </tr>\n",
       "    <tr>\n",
       "      <th>W_LargeBody</th>\n",
       "      <td>3206</td>\n",
       "      <td>3206</td>\n",
       "      <td>3206</td>\n",
       "      <td>3206</td>\n",
       "      <td>3206</td>\n",
       "      <td>3206</td>\n",
       "      <td>3206</td>\n",
       "      <td>3206</td>\n",
       "      <td>3206</td>\n",
       "      <td>3206</td>\n",
       "      <td>3206</td>\n",
       "      <td>3206</td>\n",
       "      <td>3206</td>\n",
       "      <td>3206</td>\n",
       "      <td>3206</td>\n",
       "      <td>3206</td>\n",
       "    </tr>\n",
       "    <tr>\n",
       "      <th>W_Sea</th>\n",
       "      <td>5523</td>\n",
       "      <td>5523</td>\n",
       "      <td>5523</td>\n",
       "      <td>5523</td>\n",
       "      <td>5523</td>\n",
       "      <td>5523</td>\n",
       "      <td>5523</td>\n",
       "      <td>5523</td>\n",
       "      <td>5523</td>\n",
       "      <td>5523</td>\n",
       "      <td>5523</td>\n",
       "      <td>5523</td>\n",
       "      <td>5523</td>\n",
       "      <td>5523</td>\n",
       "      <td>5523</td>\n",
       "      <td>5523</td>\n",
       "    </tr>\n",
       "    <tr>\n",
       "      <th>W_Swamp</th>\n",
       "      <td>9</td>\n",
       "      <td>9</td>\n",
       "      <td>9</td>\n",
       "      <td>9</td>\n",
       "      <td>9</td>\n",
       "      <td>9</td>\n",
       "      <td>9</td>\n",
       "      <td>9</td>\n",
       "      <td>9</td>\n",
       "      <td>9</td>\n",
       "      <td>9</td>\n",
       "      <td>9</td>\n",
       "      <td>9</td>\n",
       "      <td>9</td>\n",
       "      <td>9</td>\n",
       "      <td>9</td>\n",
       "    </tr>\n",
       "  </tbody>\n",
       "</table>\n",
       "</div>"
      ],
      "text/plain": [
       "                  Bright  Mean_PQMas  Mean_tm1c  Mean_tm2c  Mean_tm3c  \\\n",
       "Class_name                                                              \n",
       "CloudShadow_Bare     175         175        175        175        175   \n",
       "CloudShadow_Veg     1086        1086       1086       1086       1086   \n",
       "W_LargeBody         3206        3206       3206       3206       3206   \n",
       "W_Sea               5523        5523       5523       5523       5523   \n",
       "W_Swamp                9           9          9          9          9   \n",
       "\n",
       "                  Mean_tm4c  Mean_tm5c  Mean_tm7c  NDI_43  NDI_52  NDI_54  \\\n",
       "Class_name                                                                  \n",
       "CloudShadow_Bare        175        175        175     175     175     175   \n",
       "CloudShadow_Veg        1086       1086       1086    1086    1086    1086   \n",
       "W_LargeBody            3206       3206       3206    3206    3206    3206   \n",
       "W_Sea                  5523       5523       5523    5523    5523    5523   \n",
       "W_Swamp                   9          9          9       9       9       9   \n",
       "\n",
       "                  NDI_72  NDI_74  Scene_Name  X_Min_Pxl  Y_Min_Pxl  \n",
       "Class_name                                                          \n",
       "CloudShadow_Bare     175     175         175        175        175  \n",
       "CloudShadow_Veg     1086    1086        1086       1086       1086  \n",
       "W_LargeBody         3206    3206        3206       3206       3206  \n",
       "W_Sea               5523    5523        5523       5523       5523  \n",
       "W_Swamp                9       9           9          9          9  "
      ]
     },
     "execution_count": 16,
     "metadata": {},
     "output_type": "execute_result"
    }
   ],
   "source": [
    "# Group by Pixel Class_name, then count the number of rows in each group\n",
    "pdf.groupby('Class_name').count()"
   ]
  },
  {
   "cell_type": "code",
   "execution_count": 18,
   "metadata": {
    "collapsed": false
   },
   "outputs": [
    {
     "data": {
      "text/html": [
       "<div>\n",
       "<table border=\"1\" class=\"dataframe\">\n",
       "  <thead>\n",
       "    <tr style=\"text-align: right;\">\n",
       "      <th></th>\n",
       "      <th>Bright</th>\n",
       "      <th>Class_name</th>\n",
       "      <th>Mean_tm1c</th>\n",
       "      <th>Mean_tm2c</th>\n",
       "      <th>Mean_tm3c</th>\n",
       "      <th>Mean_tm4c</th>\n",
       "      <th>Mean_tm5c</th>\n",
       "      <th>Mean_tm7c</th>\n",
       "      <th>NDI_43</th>\n",
       "      <th>NDI_52</th>\n",
       "      <th>NDI_54</th>\n",
       "      <th>NDI_72</th>\n",
       "      <th>NDI_74</th>\n",
       "      <th>Scene_Name</th>\n",
       "      <th>X_Min_Pxl</th>\n",
       "      <th>Y_Min_Pxl</th>\n",
       "    </tr>\n",
       "    <tr>\n",
       "      <th>Mean_PQMas</th>\n",
       "      <th></th>\n",
       "      <th></th>\n",
       "      <th></th>\n",
       "      <th></th>\n",
       "      <th></th>\n",
       "      <th></th>\n",
       "      <th></th>\n",
       "      <th></th>\n",
       "      <th></th>\n",
       "      <th></th>\n",
       "      <th></th>\n",
       "      <th></th>\n",
       "      <th></th>\n",
       "      <th></th>\n",
       "      <th></th>\n",
       "      <th></th>\n",
       "    </tr>\n",
       "  </thead>\n",
       "  <tbody>\n",
       "    <tr>\n",
       "      <th>4095.0</th>\n",
       "      <td>1065</td>\n",
       "      <td>1065</td>\n",
       "      <td>1065</td>\n",
       "      <td>1065</td>\n",
       "      <td>1065</td>\n",
       "      <td>1065</td>\n",
       "      <td>1065</td>\n",
       "      <td>1065</td>\n",
       "      <td>1065</td>\n",
       "      <td>1065</td>\n",
       "      <td>1065</td>\n",
       "      <td>1065</td>\n",
       "      <td>1065</td>\n",
       "      <td>1065</td>\n",
       "      <td>1065</td>\n",
       "      <td>1065</td>\n",
       "    </tr>\n",
       "    <tr>\n",
       "      <th>8191.0</th>\n",
       "      <td>118</td>\n",
       "      <td>118</td>\n",
       "      <td>118</td>\n",
       "      <td>118</td>\n",
       "      <td>118</td>\n",
       "      <td>118</td>\n",
       "      <td>118</td>\n",
       "      <td>118</td>\n",
       "      <td>118</td>\n",
       "      <td>118</td>\n",
       "      <td>118</td>\n",
       "      <td>118</td>\n",
       "      <td>118</td>\n",
       "      <td>118</td>\n",
       "      <td>118</td>\n",
       "      <td>118</td>\n",
       "    </tr>\n",
       "    <tr>\n",
       "      <th>15871.0</th>\n",
       "      <td>5459</td>\n",
       "      <td>5459</td>\n",
       "      <td>5459</td>\n",
       "      <td>5459</td>\n",
       "      <td>5459</td>\n",
       "      <td>5459</td>\n",
       "      <td>5459</td>\n",
       "      <td>5459</td>\n",
       "      <td>5459</td>\n",
       "      <td>5459</td>\n",
       "      <td>5459</td>\n",
       "      <td>5459</td>\n",
       "      <td>5459</td>\n",
       "      <td>5459</td>\n",
       "      <td>5459</td>\n",
       "      <td>5459</td>\n",
       "    </tr>\n",
       "    <tr>\n",
       "      <th>16383.0</th>\n",
       "      <td>3357</td>\n",
       "      <td>3357</td>\n",
       "      <td>3357</td>\n",
       "      <td>3357</td>\n",
       "      <td>3357</td>\n",
       "      <td>3357</td>\n",
       "      <td>3357</td>\n",
       "      <td>3357</td>\n",
       "      <td>3357</td>\n",
       "      <td>3357</td>\n",
       "      <td>3357</td>\n",
       "      <td>3357</td>\n",
       "      <td>3357</td>\n",
       "      <td>3357</td>\n",
       "      <td>3357</td>\n",
       "      <td>3357</td>\n",
       "    </tr>\n",
       "  </tbody>\n",
       "</table>\n",
       "</div>"
      ],
      "text/plain": [
       "            Bright  Class_name  Mean_tm1c  Mean_tm2c  Mean_tm3c  Mean_tm4c  \\\n",
       "Mean_PQMas                                                                   \n",
       "4095.0        1065        1065       1065       1065       1065       1065   \n",
       "8191.0         118         118        118        118        118        118   \n",
       "15871.0       5459        5459       5459       5459       5459       5459   \n",
       "16383.0       3357        3357       3357       3357       3357       3357   \n",
       "\n",
       "            Mean_tm5c  Mean_tm7c  NDI_43  NDI_52  NDI_54  NDI_72  NDI_74  \\\n",
       "Mean_PQMas                                                                 \n",
       "4095.0           1065       1065    1065    1065    1065    1065    1065   \n",
       "8191.0            118        118     118     118     118     118     118   \n",
       "15871.0          5459       5459    5459    5459    5459    5459    5459   \n",
       "16383.0          3357       3357    3357    3357    3357    3357    3357   \n",
       "\n",
       "            Scene_Name  X_Min_Pxl  Y_Min_Pxl  \n",
       "Mean_PQMas                                    \n",
       "4095.0            1065       1065       1065  \n",
       "8191.0             118        118        118  \n",
       "15871.0           5459       5459       5459  \n",
       "16383.0           3357       3357       3357  "
      ]
     },
     "execution_count": 18,
     "metadata": {},
     "output_type": "execute_result"
    }
   ],
   "source": [
    "pdf.groupby('Mean_PQMas').count()"
   ]
  },
  {
   "cell_type": "code",
   "execution_count": 19,
   "metadata": {
    "collapsed": false
   },
   "outputs": [
    {
     "data": {
      "text/plain": [
       "'0b11111111111111'"
      ]
     },
     "execution_count": 19,
     "metadata": {},
     "output_type": "execute_result"
    }
   ],
   "source": [
    "#perfect pixel has a quality flag 13683 in the column Mean_PQMa\n",
    "bin(16383)"
   ]
  },
  {
   "cell_type": "markdown",
   "metadata": {},
   "source": [
    "# Data Column Relationships"
   ]
  },
  {
   "cell_type": "code",
   "execution_count": 21,
   "metadata": {
    "collapsed": false
   },
   "outputs": [],
   "source": [
    "import math\n",
    "\n",
    "# verify the Bright definition, as average of the band rgb\n",
    "# Bright =  Mean_tm1c + Mean_tm2c + Mean_tm3c\n",
    "aver123=(pdf.iloc[0:,3] + pdf.iloc[0:,4]+ pdf.iloc[0:,5])/3.0\n",
    "\n",
    "type(aver123)"
   ]
  },
  {
   "cell_type": "code",
   "execution_count": 22,
   "metadata": {
    "collapsed": false
   },
   "outputs": [
    {
     "data": {
      "text/plain": [
       "0    449.333333\n",
       "1    461.333333\n",
       "2    521.666667\n",
       "3    707.333333\n",
       "4    685.666667\n",
       "dtype: float64"
      ]
     },
     "execution_count": 22,
     "metadata": {},
     "output_type": "execute_result"
    }
   ],
   "source": [
    "aver123.head()"
   ]
  },
  {
   "cell_type": "code",
   "execution_count": 23,
   "metadata": {
    "collapsed": false
   },
   "outputs": [
    {
     "data": {
      "text/plain": [
       "pandas.core.series.Series"
      ]
     },
     "execution_count": 23,
     "metadata": {},
     "output_type": "execute_result"
    }
   ],
   "source": [
    "type(aver123)"
   ]
  },
  {
   "cell_type": "code",
   "execution_count": 25,
   "metadata": {
    "collapsed": false
   },
   "outputs": [
    {
     "data": {
      "text/plain": [
       "0    0.246399\n",
       "1    0.219373\n",
       "2    0.194631\n",
       "3    0.135558\n",
       "4    0.193000\n",
       "dtype: float64"
      ]
     },
     "execution_count": 25,
     "metadata": {},
     "output_type": "execute_result"
    }
   ],
   "source": [
    "# Band ratios as features\n",
    "ratio_43=(pdf['Mean_tm4c']- pdf['Mean_tm3c'])/(pdf['Mean_tm4c'] + pdf['Mean_tm3c'])  # = the NDI_43 column\n",
    "ratio_43.head()  # check this is equal to NDI_43 column"
   ]
  },
  {
   "cell_type": "markdown",
   "metadata": {},
   "source": [
    "# Plotting the values"
   ]
  },
  {
   "cell_type": "code",
   "execution_count": 29,
   "metadata": {
    "collapsed": false
   },
   "outputs": [
    {
     "data": {
      "text/plain": [
       "<matplotlib.axes._subplots.AxesSubplot at 0x7f7b8f35b7d0>"
      ]
     },
     "execution_count": 29,
     "metadata": {},
     "output_type": "execute_result"
    },
    {
     "data": {
      "image/png": "[encoded data removed]",
      "text/plain": [
       "<matplotlib.figure.Figure at 0x7f7b8ef79a90>"
      ]
     },
     "metadata": {},
     "output_type": "display_data"
    }
   ],
   "source": [
    "colname= 'Bright'   #'Mean_PQMas' #'NDI_43' #'Mean_tm1c'\n",
    "plt.figure(); pdf[colname].plot()"
   ]
  },
  {
   "cell_type": "markdown",
   "metadata": {},
   "source": [
    "# Subsetting the samples for analysis"
   ]
  },
  {
   "cell_type": "code",
   "execution_count": 33,
   "metadata": {
    "collapsed": false
   },
   "outputs": [
    {
     "name": "stdout",
     "output_type": "stream",
     "text": [
      "['Mean_tm1c', 'Mean_tm2c', 'Mean_tm3c', 'Mean_tm4c', 'Mean_tm5c', 'Mean_tm7c', 'NDI_43', 'NDI_52', 'NDI_54', 'NDI_72', 'NDI_74']\n"
     ]
    }
   ],
   "source": [
    "#get the column names as list\n",
    "clm_list = []\n",
    "for column in pdf.columns: clm_list.append(column)\n",
    "print clm_list[3:14]\n"
   ]
  },
  {
   "cell_type": "code",
   "execution_count": 58,
   "metadata": {
    "collapsed": false
   },
   "outputs": [
    {
     "name": "stdout",
     "output_type": "stream",
     "text": [
      "(9999, 3) <type 'numpy.ndarray'>\n",
      "(9999,)\n"
     ]
    }
   ],
   "source": [
    "#select the columns values into numpy array\n",
    "#X = pdf[clm_list[3:14]].values\n",
    "# select 3 most important features\n",
    "X= pdf[[clm_list[7],clm_list[10],clm_list[12]] ].values\n",
    "Y = pdf[clm_list[1]].values\n",
    "\n",
    "print X.shape, type(X)\n",
    "print Y.shape"
   ]
  },
  {
   "cell_type": "code",
   "execution_count": 71,
   "metadata": {
    "collapsed": false
   },
   "outputs": [
    {
     "name": "stdout",
     "output_type": "stream",
     "text": [
      "['Mean_tm5c', 'NDI_52', 'NDI_72']\n"
     ]
    }
   ],
   "source": [
    "print ([clm_list[7],clm_list[10],clm_list[12]] )"
   ]
  },
  {
   "cell_type": "code",
   "execution_count": null,
   "metadata": {
    "collapsed": true
   },
   "outputs": [],
   "source": []
  },
  {
   "cell_type": "code",
   "execution_count": null,
   "metadata": {
    "collapsed": true
   },
   "outputs": [],
   "source": []
  },
  {
   "cell_type": "markdown",
   "metadata": {},
   "source": [
    "# Hello Scikit-learn"
   ]
  },
  {
   "cell_type": "code",
   "execution_count": 59,
   "metadata": {
    "collapsed": true
   },
   "outputs": [],
   "source": [
    "from sklearn import tree\n",
    "clf = tree.DecisionTreeClassifier(max_depth=5)"
   ]
  },
  {
   "cell_type": "code",
   "execution_count": 60,
   "metadata": {
    "collapsed": true
   },
   "outputs": [],
   "source": [
    "# Traing the model with the sample data %time clf = clf.fit(X, Y)\n",
    "\n",
    "clf = clf.fit(X, Y)"
   ]
  },
  {
   "cell_type": "code",
   "execution_count": 65,
   "metadata": {
    "collapsed": false
   },
   "outputs": [
    {
     "name": "stdout",
     "output_type": "stream",
     "text": [
      "(553, array(['CloudShadow_Veg'], dtype=object), 'CloudShadow_Veg')\n"
     ]
    }
   ],
   "source": [
    "# verify the model using function predict\n",
    "isample=123\n",
    "# Or get a random sample to compare\n",
    "isample=np.random.random_integers(0,999)\n",
    "\n",
    "print (isample, clf.predict(X[isample,:].reshape(1, -1) ), Y[isample])"
   ]
  },
  {
   "cell_type": "code",
   "execution_count": null,
   "metadata": {
    "collapsed": true
   },
   "outputs": [],
   "source": [
    "# more methods, split the samples , validation "
   ]
  },
  {
   "cell_type": "code",
   "execution_count": null,
   "metadata": {
    "collapsed": true
   },
   "outputs": [],
   "source": [
    "# Let's generate the Tree."
   ]
  },
  {
   "cell_type": "code",
   "execution_count": 66,
   "metadata": {
    "collapsed": true
   },
   "outputs": [],
   "source": [
    "from IPython.display import Image \n",
    "from sklearn.externals.six import StringIO  \n",
    "import pydot \n",
    "with open(\"de_tree.dot\", 'w') as f: f = tree.export_graphviz(clf, out_file=f)\n",
    "\n",
    "    \n",
    "# dot -Tpdf iris.dot -o iris.pdf"
   ]
  },
  {
   "cell_type": "code",
   "execution_count": 67,
   "metadata": {
    "collapsed": false
   },
   "outputs": [],
   "source": [
    "!dot -Tpdf de_tree.dot -o de_tree.pdf"
   ]
  },
  {
   "cell_type": "code",
   "execution_count": 68,
   "metadata": {
    "collapsed": false
   },
   "outputs": [
    {
     "name": "stdout",
     "output_type": "stream",
     "text": [
      "-rw-r--r--+ 1 fxz547 v10  5068 Jun 18 09:54 de_tree.dot\r\n",
      "-rw-r--r--+ 1 fxz547 v10 20724 Jun 18 09:54 de_tree.pdf\r\n"
     ]
    }
   ],
   "source": [
    "!ls -l de_tree.*"
   ]
  },
  {
   "cell_type": "code",
   "execution_count": 54,
   "metadata": {
    "collapsed": false
   },
   "outputs": [
    {
     "ename": "NameError",
     "evalue": "name 'iris' is not defined",
     "output_type": "error",
     "traceback": [
      "\u001b[1;31m\u001b[0m",
      "\u001b[1;31mNameError\u001b[0mTraceback (most recent call last)",
      "\u001b[1;32m<ipython-input-54-c3d028eebab0>\u001b[0m in \u001b[0;36m<module>\u001b[1;34m()\u001b[0m\n\u001b[0;32m      2\u001b[0m \u001b[0mdot_data\u001b[0m \u001b[1;33m=\u001b[0m \u001b[0mStringIO\u001b[0m\u001b[1;33m(\u001b[0m\u001b[1;33m)\u001b[0m\u001b[1;33m\u001b[0m\u001b[0m\n\u001b[0;32m      3\u001b[0m tree.export_graphviz(clf, out_file=dot_data,  \n\u001b[1;32m----> 4\u001b[1;33m                          \u001b[0mfeature_names\u001b[0m\u001b[1;33m=\u001b[0m\u001b[0miris\u001b[0m\u001b[1;33m.\u001b[0m\u001b[0mfeature_names\u001b[0m\u001b[1;33m,\u001b[0m\u001b[1;33m\u001b[0m\u001b[0m\n\u001b[0m\u001b[0;32m      5\u001b[0m                          \u001b[0mclass_names\u001b[0m\u001b[1;33m=\u001b[0m\u001b[0miris\u001b[0m\u001b[1;33m.\u001b[0m\u001b[0mtarget_names\u001b[0m\u001b[1;33m,\u001b[0m\u001b[1;33m\u001b[0m\u001b[0m\n\u001b[0;32m      6\u001b[0m                          \u001b[0mfilled\u001b[0m\u001b[1;33m=\u001b[0m\u001b[0mTrue\u001b[0m\u001b[1;33m,\u001b[0m \u001b[0mrounded\u001b[0m\u001b[1;33m=\u001b[0m\u001b[0mTrue\u001b[0m\u001b[1;33m,\u001b[0m\u001b[1;33m\u001b[0m\u001b[0m\n",
      "\u001b[1;31mNameError\u001b[0m: name 'iris' is not defined"
     ]
    }
   ],
   "source": [
    "# Or do this way. Need to refine own data into iris-like\n",
    "dot_data = StringIO()  \n",
    "tree.export_graphviz(clf, out_file=dot_data,  \n",
    "                         feature_names=iris.feature_names,  \n",
    "                         class_names=iris.target_names,  \n",
    "                         filled=True, rounded=True,  \n",
    "                         special_characters=True)  \n",
    "graph = pydot.graph_from_dot_data(dot_data.getvalue())  \n",
    "Image(graph.create_png())"
   ]
  },
  {
   "cell_type": "code",
   "execution_count": null,
   "metadata": {
    "collapsed": true
   },
   "outputs": [],
   "source": []
  },
  {
   "cell_type": "markdown",
   "metadata": {},
   "source": [
    "# Select Perfect Pix Data to Analyse "
   ]
  },
  {
   "cell_type": "code",
   "execution_count": 73,
   "metadata": {
    "collapsed": false
   },
   "outputs": [],
   "source": [
    "perf_pix= pdf[pdf['Mean_PQMas'] == 16383.0]  # where(Mean_PQMas=16383)"
   ]
  },
  {
   "cell_type": "code",
   "execution_count": 74,
   "metadata": {
    "collapsed": false
   },
   "outputs": [
    {
     "data": {
      "text/html": [
       "<div>\n",
       "<table border=\"1\" class=\"dataframe\">\n",
       "  <thead>\n",
       "    <tr style=\"text-align: right;\">\n",
       "      <th></th>\n",
       "      <th>Bright</th>\n",
       "      <th>Class_name</th>\n",
       "      <th>Mean_PQMas</th>\n",
       "      <th>Mean_tm1c</th>\n",
       "      <th>Mean_tm2c</th>\n",
       "      <th>Mean_tm3c</th>\n",
       "      <th>Mean_tm4c</th>\n",
       "      <th>Mean_tm5c</th>\n",
       "      <th>Mean_tm7c</th>\n",
       "      <th>NDI_43</th>\n",
       "      <th>NDI_52</th>\n",
       "      <th>NDI_54</th>\n",
       "      <th>NDI_72</th>\n",
       "      <th>NDI_74</th>\n",
       "      <th>Scene_Name</th>\n",
       "      <th>X_Min_Pxl</th>\n",
       "      <th>Y_Min_Pxl</th>\n",
       "    </tr>\n",
       "  </thead>\n",
       "  <tbody>\n",
       "    <tr>\n",
       "      <th>0</th>\n",
       "      <td>449.333333</td>\n",
       "      <td>CloudShadow_Bare</td>\n",
       "      <td>16383.0</td>\n",
       "      <td>360.0</td>\n",
       "      <td>491.0</td>\n",
       "      <td>497.0</td>\n",
       "      <td>822.0</td>\n",
       "      <td>946.0</td>\n",
       "      <td>562.0</td>\n",
       "      <td>0.246399</td>\n",
       "      <td>0.316632</td>\n",
       "      <td>0.070136</td>\n",
       "      <td>0.067426</td>\n",
       "      <td>-0.187861</td>\n",
       "      <td>115_-032_2011-01-02T01-55-10.679038</td>\n",
       "      <td>3614.0</td>\n",
       "      <td>2082.0</td>\n",
       "    </tr>\n",
       "    <tr>\n",
       "      <th>1</th>\n",
       "      <td>461.333333</td>\n",
       "      <td>CloudShadow_Bare</td>\n",
       "      <td>16383.0</td>\n",
       "      <td>377.0</td>\n",
       "      <td>459.0</td>\n",
       "      <td>548.0</td>\n",
       "      <td>856.0</td>\n",
       "      <td>1060.0</td>\n",
       "      <td>594.0</td>\n",
       "      <td>0.219373</td>\n",
       "      <td>0.395655</td>\n",
       "      <td>0.106472</td>\n",
       "      <td>0.128205</td>\n",
       "      <td>-0.180690</td>\n",
       "      <td>115_-032_2011-01-02T01-55-10.679038</td>\n",
       "      <td>3611.0</td>\n",
       "      <td>2070.0</td>\n",
       "    </tr>\n",
       "    <tr>\n",
       "      <th>2</th>\n",
       "      <td>521.666667</td>\n",
       "      <td>CloudShadow_Bare</td>\n",
       "      <td>16383.0</td>\n",
       "      <td>410.0</td>\n",
       "      <td>555.0</td>\n",
       "      <td>600.0</td>\n",
       "      <td>890.0</td>\n",
       "      <td>1014.0</td>\n",
       "      <td>690.0</td>\n",
       "      <td>0.194631</td>\n",
       "      <td>0.292543</td>\n",
       "      <td>0.065126</td>\n",
       "      <td>0.108434</td>\n",
       "      <td>-0.126582</td>\n",
       "      <td>115_-032_2011-01-02T01-55-10.679038</td>\n",
       "      <td>3610.0</td>\n",
       "      <td>2069.0</td>\n",
       "    </tr>\n",
       "    <tr>\n",
       "      <th>3</th>\n",
       "      <td>707.333333</td>\n",
       "      <td>CloudShadow_Veg</td>\n",
       "      <td>16383.0</td>\n",
       "      <td>551.0</td>\n",
       "      <td>742.0</td>\n",
       "      <td>829.0</td>\n",
       "      <td>1089.0</td>\n",
       "      <td>1080.0</td>\n",
       "      <td>720.0</td>\n",
       "      <td>0.135558</td>\n",
       "      <td>0.185510</td>\n",
       "      <td>-0.004149</td>\n",
       "      <td>-0.015048</td>\n",
       "      <td>-0.203980</td>\n",
       "      <td>115_-032_2011-01-02T01-55-10.679038</td>\n",
       "      <td>2941.0</td>\n",
       "      <td>1638.0</td>\n",
       "    </tr>\n",
       "    <tr>\n",
       "      <th>4</th>\n",
       "      <td>685.666667</td>\n",
       "      <td>W_LargeBody</td>\n",
       "      <td>16383.0</td>\n",
       "      <td>408.0</td>\n",
       "      <td>842.0</td>\n",
       "      <td>807.0</td>\n",
       "      <td>1193.0</td>\n",
       "      <td>558.0</td>\n",
       "      <td>242.0</td>\n",
       "      <td>0.193000</td>\n",
       "      <td>-0.202857</td>\n",
       "      <td>-0.362650</td>\n",
       "      <td>-0.553506</td>\n",
       "      <td>-0.662718</td>\n",
       "      <td>115_-032_2011-01-02T01-55-10.679038</td>\n",
       "      <td>3104.0</td>\n",
       "      <td>1109.0</td>\n",
       "    </tr>\n",
       "  </tbody>\n",
       "</table>\n",
       "</div>"
      ],
      "text/plain": [
       "       Bright        Class_name  Mean_PQMas  Mean_tm1c  Mean_tm2c  Mean_tm3c  \\\n",
       "0  449.333333  CloudShadow_Bare     16383.0      360.0      491.0      497.0   \n",
       "1  461.333333  CloudShadow_Bare     16383.0      377.0      459.0      548.0   \n",
       "2  521.666667  CloudShadow_Bare     16383.0      410.0      555.0      600.0   \n",
       "3  707.333333   CloudShadow_Veg     16383.0      551.0      742.0      829.0   \n",
       "4  685.666667       W_LargeBody     16383.0      408.0      842.0      807.0   \n",
       "\n",
       "   Mean_tm4c  Mean_tm5c  Mean_tm7c    NDI_43    NDI_52    NDI_54    NDI_72  \\\n",
       "0      822.0      946.0      562.0  0.246399  0.316632  0.070136  0.067426   \n",
       "1      856.0     1060.0      594.0  0.219373  0.395655  0.106472  0.128205   \n",
       "2      890.0     1014.0      690.0  0.194631  0.292543  0.065126  0.108434   \n",
       "3     1089.0     1080.0      720.0  0.135558  0.185510 -0.004149 -0.015048   \n",
       "4     1193.0      558.0      242.0  0.193000 -0.202857 -0.362650 -0.553506   \n",
       "\n",
       "     NDI_74                           Scene_Name  X_Min_Pxl  Y_Min_Pxl  \n",
       "0 -0.187861  115_-032_2011-01-02T01-55-10.679038     3614.0     2082.0  \n",
       "1 -0.180690  115_-032_2011-01-02T01-55-10.679038     3611.0     2070.0  \n",
       "2 -0.126582  115_-032_2011-01-02T01-55-10.679038     3610.0     2069.0  \n",
       "3 -0.203980  115_-032_2011-01-02T01-55-10.679038     2941.0     1638.0  \n",
       "4 -0.662718  115_-032_2011-01-02T01-55-10.679038     3104.0     1109.0  "
      ]
     },
     "execution_count": 74,
     "metadata": {},
     "output_type": "execute_result"
    }
   ],
   "source": [
    "perf_pix.head()"
   ]
  },
  {
   "cell_type": "code",
   "execution_count": 76,
   "metadata": {
    "collapsed": false
   },
   "outputs": [
    {
     "data": {
      "text/plain": [
       "(3357, 17)"
      ]
     },
     "execution_count": 76,
     "metadata": {},
     "output_type": "execute_result"
    }
   ],
   "source": [
    "perf_pix.shape"
   ]
  },
  {
   "cell_type": "code",
   "execution_count": 80,
   "metadata": {
    "collapsed": false
   },
   "outputs": [],
   "source": [
    "# change W_* into Water; all other classes into NotWater. Binary classes\n",
    "perf_pix.ix[perf_pix.Class_name.str.match('W_*'), 'Class_name'] = 'Water'"
   ]
  },
  {
   "cell_type": "code",
   "execution_count": 81,
   "metadata": {
    "collapsed": false
   },
   "outputs": [
    {
     "data": {
      "text/html": [
       "<div>\n",
       "<table border=\"1\" class=\"dataframe\">\n",
       "  <thead>\n",
       "    <tr style=\"text-align: right;\">\n",
       "      <th></th>\n",
       "      <th>Bright</th>\n",
       "      <th>Class_name</th>\n",
       "      <th>Mean_PQMas</th>\n",
       "      <th>Mean_tm1c</th>\n",
       "      <th>Mean_tm2c</th>\n",
       "      <th>Mean_tm3c</th>\n",
       "      <th>Mean_tm4c</th>\n",
       "      <th>Mean_tm5c</th>\n",
       "      <th>Mean_tm7c</th>\n",
       "      <th>NDI_43</th>\n",
       "      <th>NDI_52</th>\n",
       "      <th>NDI_54</th>\n",
       "      <th>NDI_72</th>\n",
       "      <th>NDI_74</th>\n",
       "      <th>Scene_Name</th>\n",
       "      <th>X_Min_Pxl</th>\n",
       "      <th>Y_Min_Pxl</th>\n",
       "    </tr>\n",
       "  </thead>\n",
       "  <tbody>\n",
       "    <tr>\n",
       "      <th>9541</th>\n",
       "      <td>2446.333333</td>\n",
       "      <td>Water</td>\n",
       "      <td>16383.0</td>\n",
       "      <td>2070.0</td>\n",
       "      <td>2625.0</td>\n",
       "      <td>2644.0</td>\n",
       "      <td>2268.0</td>\n",
       "      <td>740.0</td>\n",
       "      <td>306.0</td>\n",
       "      <td>-0.076547</td>\n",
       "      <td>-0.560178</td>\n",
       "      <td>-0.507979</td>\n",
       "      <td>-0.791198</td>\n",
       "      <td>-0.762238</td>\n",
       "      <td>115_-032_2011-01-02T01-55-10.679038</td>\n",
       "      <td>2921.0</td>\n",
       "      <td>918.0</td>\n",
       "    </tr>\n",
       "    <tr>\n",
       "      <th>9542</th>\n",
       "      <td>2377.000000</td>\n",
       "      <td>Water</td>\n",
       "      <td>16383.0</td>\n",
       "      <td>2101.0</td>\n",
       "      <td>2563.0</td>\n",
       "      <td>2467.0</td>\n",
       "      <td>2100.0</td>\n",
       "      <td>489.0</td>\n",
       "      <td>274.0</td>\n",
       "      <td>-0.080359</td>\n",
       "      <td>-0.679554</td>\n",
       "      <td>-0.622248</td>\n",
       "      <td>-0.806838</td>\n",
       "      <td>-0.769166</td>\n",
       "      <td>115_-032_2011-01-02T01-55-10.679038</td>\n",
       "      <td>2920.0</td>\n",
       "      <td>917.0</td>\n",
       "    </tr>\n",
       "    <tr>\n",
       "      <th>9543</th>\n",
       "      <td>2244.333333</td>\n",
       "      <td>Water</td>\n",
       "      <td>16383.0</td>\n",
       "      <td>2023.0</td>\n",
       "      <td>2471.0</td>\n",
       "      <td>2239.0</td>\n",
       "      <td>1731.0</td>\n",
       "      <td>216.0</td>\n",
       "      <td>178.0</td>\n",
       "      <td>-0.127960</td>\n",
       "      <td>-0.839226</td>\n",
       "      <td>-0.778120</td>\n",
       "      <td>-0.865610</td>\n",
       "      <td>-0.813515</td>\n",
       "      <td>115_-032_2011-01-02T01-55-10.679038</td>\n",
       "      <td>2920.0</td>\n",
       "      <td>916.0</td>\n",
       "    </tr>\n",
       "    <tr>\n",
       "      <th>9544</th>\n",
       "      <td>2360.000000</td>\n",
       "      <td>Water</td>\n",
       "      <td>16383.0</td>\n",
       "      <td>2070.0</td>\n",
       "      <td>2594.0</td>\n",
       "      <td>2416.0</td>\n",
       "      <td>2100.0</td>\n",
       "      <td>398.0</td>\n",
       "      <td>274.0</td>\n",
       "      <td>-0.069973</td>\n",
       "      <td>-0.733957</td>\n",
       "      <td>-0.681345</td>\n",
       "      <td>-0.808926</td>\n",
       "      <td>-0.769166</td>\n",
       "      <td>115_-032_2011-01-02T01-55-10.679038</td>\n",
       "      <td>2920.0</td>\n",
       "      <td>915.0</td>\n",
       "    </tr>\n",
       "    <tr>\n",
       "      <th>9545</th>\n",
       "      <td>1994.333333</td>\n",
       "      <td>Water</td>\n",
       "      <td>16383.0</td>\n",
       "      <td>1835.0</td>\n",
       "      <td>2316.0</td>\n",
       "      <td>1832.0</td>\n",
       "      <td>1327.0</td>\n",
       "      <td>489.0</td>\n",
       "      <td>242.0</td>\n",
       "      <td>-0.159861</td>\n",
       "      <td>-0.651337</td>\n",
       "      <td>-0.461454</td>\n",
       "      <td>-0.810790</td>\n",
       "      <td>-0.691523</td>\n",
       "      <td>115_-032_2011-01-02T01-55-10.679038</td>\n",
       "      <td>2920.0</td>\n",
       "      <td>914.0</td>\n",
       "    </tr>\n",
       "  </tbody>\n",
       "</table>\n",
       "</div>"
      ],
      "text/plain": [
       "           Bright Class_name  Mean_PQMas  Mean_tm1c  Mean_tm2c  Mean_tm3c  \\\n",
       "9541  2446.333333      Water     16383.0     2070.0     2625.0     2644.0   \n",
       "9542  2377.000000      Water     16383.0     2101.0     2563.0     2467.0   \n",
       "9543  2244.333333      Water     16383.0     2023.0     2471.0     2239.0   \n",
       "9544  2360.000000      Water     16383.0     2070.0     2594.0     2416.0   \n",
       "9545  1994.333333      Water     16383.0     1835.0     2316.0     1832.0   \n",
       "\n",
       "      Mean_tm4c  Mean_tm5c  Mean_tm7c    NDI_43    NDI_52    NDI_54    NDI_72  \\\n",
       "9541     2268.0      740.0      306.0 -0.076547 -0.560178 -0.507979 -0.791198   \n",
       "9542     2100.0      489.0      274.0 -0.080359 -0.679554 -0.622248 -0.806838   \n",
       "9543     1731.0      216.0      178.0 -0.127960 -0.839226 -0.778120 -0.865610   \n",
       "9544     2100.0      398.0      274.0 -0.069973 -0.733957 -0.681345 -0.808926   \n",
       "9545     1327.0      489.0      242.0 -0.159861 -0.651337 -0.461454 -0.810790   \n",
       "\n",
       "        NDI_74                           Scene_Name  X_Min_Pxl  Y_Min_Pxl  \n",
       "9541 -0.762238  115_-032_2011-01-02T01-55-10.679038     2921.0      918.0  \n",
       "9542 -0.769166  115_-032_2011-01-02T01-55-10.679038     2920.0      917.0  \n",
       "9543 -0.813515  115_-032_2011-01-02T01-55-10.679038     2920.0      916.0  \n",
       "9544 -0.769166  115_-032_2011-01-02T01-55-10.679038     2920.0      915.0  \n",
       "9545 -0.691523  115_-032_2011-01-02T01-55-10.679038     2920.0      914.0  "
      ]
     },
     "execution_count": 81,
     "metadata": {},
     "output_type": "execute_result"
    }
   ],
   "source": [
    "perf_pix.tail()"
   ]
  },
  {
   "cell_type": "code",
   "execution_count": 83,
   "metadata": {
    "collapsed": false
   },
   "outputs": [
    {
     "data": {
      "text/html": [
       "<div>\n",
       "<table border=\"1\" class=\"dataframe\">\n",
       "  <thead>\n",
       "    <tr style=\"text-align: right;\">\n",
       "      <th></th>\n",
       "      <th>Bright</th>\n",
       "      <th>Mean_PQMas</th>\n",
       "      <th>Mean_tm1c</th>\n",
       "      <th>Mean_tm2c</th>\n",
       "      <th>Mean_tm3c</th>\n",
       "      <th>Mean_tm4c</th>\n",
       "      <th>Mean_tm5c</th>\n",
       "      <th>Mean_tm7c</th>\n",
       "      <th>NDI_43</th>\n",
       "      <th>NDI_52</th>\n",
       "      <th>NDI_54</th>\n",
       "      <th>NDI_72</th>\n",
       "      <th>NDI_74</th>\n",
       "      <th>Scene_Name</th>\n",
       "      <th>X_Min_Pxl</th>\n",
       "      <th>Y_Min_Pxl</th>\n",
       "    </tr>\n",
       "    <tr>\n",
       "      <th>Class_name</th>\n",
       "      <th></th>\n",
       "      <th></th>\n",
       "      <th></th>\n",
       "      <th></th>\n",
       "      <th></th>\n",
       "      <th></th>\n",
       "      <th></th>\n",
       "      <th></th>\n",
       "      <th></th>\n",
       "      <th></th>\n",
       "      <th></th>\n",
       "      <th></th>\n",
       "      <th></th>\n",
       "      <th></th>\n",
       "      <th></th>\n",
       "      <th></th>\n",
       "    </tr>\n",
       "  </thead>\n",
       "  <tbody>\n",
       "    <tr>\n",
       "      <th>CloudShadow_Bare</th>\n",
       "      <td>57</td>\n",
       "      <td>57</td>\n",
       "      <td>57</td>\n",
       "      <td>57</td>\n",
       "      <td>57</td>\n",
       "      <td>57</td>\n",
       "      <td>57</td>\n",
       "      <td>57</td>\n",
       "      <td>57</td>\n",
       "      <td>57</td>\n",
       "      <td>57</td>\n",
       "      <td>57</td>\n",
       "      <td>57</td>\n",
       "      <td>57</td>\n",
       "      <td>57</td>\n",
       "      <td>57</td>\n",
       "    </tr>\n",
       "    <tr>\n",
       "      <th>CloudShadow_Veg</th>\n",
       "      <td>21</td>\n",
       "      <td>21</td>\n",
       "      <td>21</td>\n",
       "      <td>21</td>\n",
       "      <td>21</td>\n",
       "      <td>21</td>\n",
       "      <td>21</td>\n",
       "      <td>21</td>\n",
       "      <td>21</td>\n",
       "      <td>21</td>\n",
       "      <td>21</td>\n",
       "      <td>21</td>\n",
       "      <td>21</td>\n",
       "      <td>21</td>\n",
       "      <td>21</td>\n",
       "      <td>21</td>\n",
       "    </tr>\n",
       "    <tr>\n",
       "      <th>Water</th>\n",
       "      <td>3279</td>\n",
       "      <td>3279</td>\n",
       "      <td>3279</td>\n",
       "      <td>3279</td>\n",
       "      <td>3279</td>\n",
       "      <td>3279</td>\n",
       "      <td>3279</td>\n",
       "      <td>3279</td>\n",
       "      <td>3279</td>\n",
       "      <td>3279</td>\n",
       "      <td>3279</td>\n",
       "      <td>3279</td>\n",
       "      <td>3279</td>\n",
       "      <td>3279</td>\n",
       "      <td>3279</td>\n",
       "      <td>3279</td>\n",
       "    </tr>\n",
       "  </tbody>\n",
       "</table>\n",
       "</div>"
      ],
      "text/plain": [
       "                  Bright  Mean_PQMas  Mean_tm1c  Mean_tm2c  Mean_tm3c  \\\n",
       "Class_name                                                              \n",
       "CloudShadow_Bare      57          57         57         57         57   \n",
       "CloudShadow_Veg       21          21         21         21         21   \n",
       "Water               3279        3279       3279       3279       3279   \n",
       "\n",
       "                  Mean_tm4c  Mean_tm5c  Mean_tm7c  NDI_43  NDI_52  NDI_54  \\\n",
       "Class_name                                                                  \n",
       "CloudShadow_Bare         57         57         57      57      57      57   \n",
       "CloudShadow_Veg          21         21         21      21      21      21   \n",
       "Water                  3279       3279       3279    3279    3279    3279   \n",
       "\n",
       "                  NDI_72  NDI_74  Scene_Name  X_Min_Pxl  Y_Min_Pxl  \n",
       "Class_name                                                          \n",
       "CloudShadow_Bare      57      57          57         57         57  \n",
       "CloudShadow_Veg       21      21          21         21         21  \n",
       "Water               3279    3279        3279       3279       3279  "
      ]
     },
     "execution_count": 83,
     "metadata": {},
     "output_type": "execute_result"
    }
   ],
   "source": [
    "# Group by Pixel Class_name, then count the number of rows in each group\n",
    "perf_pix.groupby('Class_name').count()"
   ]
  },
  {
   "cell_type": "code",
   "execution_count": 84,
   "metadata": {
    "collapsed": true
   },
   "outputs": [],
   "source": [
    "# change non 'W_*' into NoWater\n",
    "perf_pix.ix[perf_pix.Class_name.str.match('^W_*')==False, 'Class_name'] = 'NoWater'"
   ]
  },
  {
   "cell_type": "code",
   "execution_count": 85,
   "metadata": {
    "collapsed": false
   },
   "outputs": [
    {
     "data": {
      "text/html": [
       "<div>\n",
       "<table border=\"1\" class=\"dataframe\">\n",
       "  <thead>\n",
       "    <tr style=\"text-align: right;\">\n",
       "      <th></th>\n",
       "      <th>Bright</th>\n",
       "      <th>Mean_PQMas</th>\n",
       "      <th>Mean_tm1c</th>\n",
       "      <th>Mean_tm2c</th>\n",
       "      <th>Mean_tm3c</th>\n",
       "      <th>Mean_tm4c</th>\n",
       "      <th>Mean_tm5c</th>\n",
       "      <th>Mean_tm7c</th>\n",
       "      <th>NDI_43</th>\n",
       "      <th>NDI_52</th>\n",
       "      <th>NDI_54</th>\n",
       "      <th>NDI_72</th>\n",
       "      <th>NDI_74</th>\n",
       "      <th>Scene_Name</th>\n",
       "      <th>X_Min_Pxl</th>\n",
       "      <th>Y_Min_Pxl</th>\n",
       "    </tr>\n",
       "    <tr>\n",
       "      <th>Class_name</th>\n",
       "      <th></th>\n",
       "      <th></th>\n",
       "      <th></th>\n",
       "      <th></th>\n",
       "      <th></th>\n",
       "      <th></th>\n",
       "      <th></th>\n",
       "      <th></th>\n",
       "      <th></th>\n",
       "      <th></th>\n",
       "      <th></th>\n",
       "      <th></th>\n",
       "      <th></th>\n",
       "      <th></th>\n",
       "      <th></th>\n",
       "      <th></th>\n",
       "    </tr>\n",
       "  </thead>\n",
       "  <tbody>\n",
       "    <tr>\n",
       "      <th>NoWater</th>\n",
       "      <td>78</td>\n",
       "      <td>78</td>\n",
       "      <td>78</td>\n",
       "      <td>78</td>\n",
       "      <td>78</td>\n",
       "      <td>78</td>\n",
       "      <td>78</td>\n",
       "      <td>78</td>\n",
       "      <td>78</td>\n",
       "      <td>78</td>\n",
       "      <td>78</td>\n",
       "      <td>78</td>\n",
       "      <td>78</td>\n",
       "      <td>78</td>\n",
       "      <td>78</td>\n",
       "      <td>78</td>\n",
       "    </tr>\n",
       "    <tr>\n",
       "      <th>Water</th>\n",
       "      <td>3279</td>\n",
       "      <td>3279</td>\n",
       "      <td>3279</td>\n",
       "      <td>3279</td>\n",
       "      <td>3279</td>\n",
       "      <td>3279</td>\n",
       "      <td>3279</td>\n",
       "      <td>3279</td>\n",
       "      <td>3279</td>\n",
       "      <td>3279</td>\n",
       "      <td>3279</td>\n",
       "      <td>3279</td>\n",
       "      <td>3279</td>\n",
       "      <td>3279</td>\n",
       "      <td>3279</td>\n",
       "      <td>3279</td>\n",
       "    </tr>\n",
       "  </tbody>\n",
       "</table>\n",
       "</div>"
      ],
      "text/plain": [
       "            Bright  Mean_PQMas  Mean_tm1c  Mean_tm2c  Mean_tm3c  Mean_tm4c  \\\n",
       "Class_name                                                                   \n",
       "NoWater         78          78         78         78         78         78   \n",
       "Water         3279        3279       3279       3279       3279       3279   \n",
       "\n",
       "            Mean_tm5c  Mean_tm7c  NDI_43  NDI_52  NDI_54  NDI_72  NDI_74  \\\n",
       "Class_name                                                                 \n",
       "NoWater            78         78      78      78      78      78      78   \n",
       "Water            3279       3279    3279    3279    3279    3279    3279   \n",
       "\n",
       "            Scene_Name  X_Min_Pxl  Y_Min_Pxl  \n",
       "Class_name                                    \n",
       "NoWater             78         78         78  \n",
       "Water             3279       3279       3279  "
      ]
     },
     "execution_count": 85,
     "metadata": {},
     "output_type": "execute_result"
    }
   ],
   "source": [
    "# Group by Pixel Class_name, then count the number of rows in each group\n",
    "perf_pix.groupby('Class_name').count()"
   ]
  },
  {
   "cell_type": "code",
   "execution_count": 87,
   "metadata": {
    "collapsed": false
   },
   "outputs": [],
   "source": [
    "# Apply a ML algorithm to the pdf type\n",
    "from sklearn import tree\n",
    "from IPython.display import Image \n",
    "from sklearn.externals.six import StringIO  \n",
    "import pydot \n",
    "    \n",
    "def apply_ml(pdf):\n",
    "    #get the column names as list    \n",
    "    clm_list = []\n",
    "    for column in pdf.columns: clm_list.append(column)\n",
    "    print (clm_list[7],clm_list[10],clm_list[12])\n",
    "    \n",
    "    #select the columns values into numpy array\n",
    "    #X = pdf[clm_list[3:14]].values\n",
    "    # select 3 most important features\n",
    "    X= pdf[[clm_list[7],clm_list[10],clm_list[12]] ].values\n",
    "    Y = pdf[clm_list[1]].values\n",
    "\n",
    "    print X.shape, type(X)\n",
    "    print Y.shape\n",
    "\n",
    "    clf = tree.DecisionTreeClassifier(max_depth=5)\n",
    "    clf= clf.fit(X,Y)\n",
    "    \n",
    "    # evaluate the model using function predict\n",
    "    # isample=123\n",
    "    # Or get a random sample to compare\n",
    "    isample=np.random.random_integers(0,999)\n",
    "\n",
    "    print (isample, clf.predict(X[isample,:].reshape(1, -1) ), Y[isample])\n",
    "\n",
    "    dot_filename=\"de_tree.dot\"\n",
    "    with open(dot_filename, 'w') as f: f = tree.export_graphviz(clf, out_file=f)\n",
    "\n",
    "    \n",
    "    # !dot -Tpdf de_tree.dot -o de_tree.pdf\n",
    "    return  dot_filename"
   ]
  },
  {
   "cell_type": "code",
   "execution_count": 88,
   "metadata": {
    "collapsed": false
   },
   "outputs": [
    {
     "name": "stdout",
     "output_type": "stream",
     "text": [
      "('Mean_tm5c', 'NDI_52', 'NDI_72')\n",
      "(3357, 3) <type 'numpy.ndarray'>\n",
      "(3357,)\n",
      "(656, array(['Water'], dtype=object), 'Water')\n"
     ]
    },
    {
     "data": {
      "text/plain": [
       "'de_tree.dot'"
      ]
     },
     "execution_count": 88,
     "metadata": {},
     "output_type": "execute_result"
    }
   ],
   "source": [
    "apply_ml(perf_pix)"
   ]
  },
  {
   "cell_type": "code",
   "execution_count": 89,
   "metadata": {
    "collapsed": true
   },
   "outputs": [],
   "source": [
    "!dot -Tpdf de_tree.dot -o de_tree.pdf"
   ]
  }
 ],
 "metadata": {
  "kernelspec": {
   "display_name": "Python 2",
   "language": "python",
   "name": "python2"
  },
  "language_info": {
   "codemirror_mode": {
    "name": "ipython",
    "version": 2
   },
   "file_extension": ".py",
   "mimetype": "text/x-python",
   "name": "python",
   "nbconvert_exporter": "python",
   "pygments_lexer": "ipython2",
   "version": "2.7.11"
  }
 },
 "nbformat": 4,
 "nbformat_minor": 0
}
