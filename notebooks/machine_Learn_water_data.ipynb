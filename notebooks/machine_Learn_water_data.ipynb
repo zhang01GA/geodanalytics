{
 "cells": [
  {
   "cell_type": "markdown",
   "metadata": {},
   "source": [
    "# ML classified sample data "
   ]
  },
  {
   "cell_type": "markdown",
   "metadata": {},
   "source": [
    "## Analyse perfect Water/NonWater pixels characteristics"
   ]
  },
  {
   "cell_type": "code",
   "execution_count": 7,
   "metadata": {
    "collapsed": true
   },
   "outputs": [],
   "source": [
    "import os, sys\n",
    "import pickle\n",
    "import numpy as np\n",
    "\n",
    "from numpy import genfromtxt\n",
    "\n",
    "import pandas as pd\n",
    "#import pandas.io.data\n",
    "from pandas_datareader import data, wb\n",
    "from pandas import DataFrame\n",
    "\n",
    "\n",
    "\n",
    "%matplotlib inline\n",
    "import matplotlib.pyplot as plt\n",
    "from pylab import rcParams\n",
    "rcParams['figure.figsize'] = 10, 10 # increase plot size a bit...\n",
    "rcParams['axes.formatter.useoffset'] = False  # disable scalar formatter / offset in axes labels"
   ]
  },
  {
   "cell_type": "code",
   "execution_count": 8,
   "metadata": {
    "collapsed": false
   },
   "outputs": [],
   "source": [
    "# To run a python script, use run path2/script.py\n",
    "\n",
    "# run ../python/apply_detree.py /g/data/u46/fxz547/wofs_training_sample_data/orig_copy/Test_Tile_samples_20140203.csv\n"
   ]
  },
  {
   "cell_type": "code",
   "execution_count": 9,
   "metadata": {
    "collapsed": false
   },
   "outputs": [],
   "source": [
    "# import your own modules by providing path\n",
    "sys.path.append('../python')"
   ]
  },
  {
   "cell_type": "code",
   "execution_count": 10,
   "metadata": {
    "collapsed": false
   },
   "outputs": [],
   "source": [
    "import apply_detree\n",
    "\n",
    "#import imp; imp.reload(apply_detree)  # force the interpreter to re-import if apply_detree.py changed"
   ]
  },
  {
   "cell_type": "code",
   "execution_count": 11,
   "metadata": {
    "collapsed": false
   },
   "outputs": [
    {
     "name": "stdout",
     "output_type": "stream",
     "text": [
      "all_samples.csv  orig_copy\r\n"
     ]
    }
   ],
   "source": [
    "!ls /g/data/u46/fxz547/wofs_training_sample_data/\n",
    "#my_file_csv='/g/data/u46/fxz547/wofs_training_sample_data/orig_copy/Test_Tile_samples_20140203.csv'\n",
    "my_file_csv='/g/data/u46/fxz547/wofs_training_sample_data/all_samples.csv'"
   ]
  },
  {
   "cell_type": "code",
   "execution_count": 12,
   "metadata": {
    "collapsed": false
   },
   "outputs": [],
   "source": [
    "pdf = apply_detree.get_pdf_from_csv(my_file_csv)\n",
    "# todo: keep the old class_label. how to add a new_class column?"
   ]
  },
  {
   "cell_type": "code",
   "execution_count": 13,
   "metadata": {
    "collapsed": false
   },
   "outputs": [
    {
     "data": {
      "text/plain": [
       "(4937172, 17)"
      ]
     },
     "execution_count": 13,
     "metadata": {},
     "output_type": "execute_result"
    }
   ],
   "source": [
    "pdf.shape"
   ]
  },
  {
   "cell_type": "code",
   "execution_count": 14,
   "metadata": {
    "collapsed": false
   },
   "outputs": [],
   "source": [
    "pdf.ix[pdf.Class_name.str.match('^W_*')==False, 'Class2'] = 'NoWater'\n",
    "\n",
    "#     # Assign W_* into Water; all other classes into NotWater. Binary classes\n",
    "pdf.ix[pdf.Class_name.str.match('^W_*'), 'Class2'] = 'Water'\n",
    "    "
   ]
  },
  {
   "cell_type": "code",
   "execution_count": 15,
   "metadata": {
    "collapsed": false
   },
   "outputs": [
    {
     "data": {
      "text/html": [
       "<div>\n",
       "<table border=\"1\" class=\"dataframe\">\n",
       "  <thead>\n",
       "    <tr style=\"text-align: right;\">\n",
       "      <th></th>\n",
       "      <th>Bright</th>\n",
       "      <th>Class_name</th>\n",
       "      <th>Mean_PQMas</th>\n",
       "      <th>Mean_tm1c</th>\n",
       "      <th>Mean_tm2c</th>\n",
       "      <th>Mean_tm3c</th>\n",
       "      <th>Mean_tm4c</th>\n",
       "      <th>Mean_tm5c</th>\n",
       "      <th>Mean_tm7c</th>\n",
       "      <th>NDI_43</th>\n",
       "      <th>NDI_52</th>\n",
       "      <th>NDI_54</th>\n",
       "      <th>NDI_72</th>\n",
       "      <th>NDI_74</th>\n",
       "      <th>Scene_Name</th>\n",
       "      <th>X_Min_Pxl</th>\n",
       "      <th>Y_Min_Pxl</th>\n",
       "    </tr>\n",
       "    <tr>\n",
       "      <th>Class2</th>\n",
       "      <th></th>\n",
       "      <th></th>\n",
       "      <th></th>\n",
       "      <th></th>\n",
       "      <th></th>\n",
       "      <th></th>\n",
       "      <th></th>\n",
       "      <th></th>\n",
       "      <th></th>\n",
       "      <th></th>\n",
       "      <th></th>\n",
       "      <th></th>\n",
       "      <th></th>\n",
       "      <th></th>\n",
       "      <th></th>\n",
       "      <th></th>\n",
       "      <th></th>\n",
       "    </tr>\n",
       "  </thead>\n",
       "  <tbody>\n",
       "    <tr>\n",
       "      <th>NoWater</th>\n",
       "      <td>3989595</td>\n",
       "      <td>3989595</td>\n",
       "      <td>3989595</td>\n",
       "      <td>3989595</td>\n",
       "      <td>3989595</td>\n",
       "      <td>3989595</td>\n",
       "      <td>3989595</td>\n",
       "      <td>3989595</td>\n",
       "      <td>3989595</td>\n",
       "      <td>3989595</td>\n",
       "      <td>3989595</td>\n",
       "      <td>3989595</td>\n",
       "      <td>3989595</td>\n",
       "      <td>3989595</td>\n",
       "      <td>3989595</td>\n",
       "      <td>3989595</td>\n",
       "      <td>3989595</td>\n",
       "    </tr>\n",
       "    <tr>\n",
       "      <th>Water</th>\n",
       "      <td>947577</td>\n",
       "      <td>947577</td>\n",
       "      <td>947577</td>\n",
       "      <td>947577</td>\n",
       "      <td>947577</td>\n",
       "      <td>947577</td>\n",
       "      <td>947577</td>\n",
       "      <td>947577</td>\n",
       "      <td>947577</td>\n",
       "      <td>947577</td>\n",
       "      <td>947577</td>\n",
       "      <td>947577</td>\n",
       "      <td>947577</td>\n",
       "      <td>947577</td>\n",
       "      <td>947577</td>\n",
       "      <td>947577</td>\n",
       "      <td>947577</td>\n",
       "    </tr>\n",
       "  </tbody>\n",
       "</table>\n",
       "</div>"
      ],
      "text/plain": [
       "          Bright  Class_name  Mean_PQMas  Mean_tm1c  Mean_tm2c  Mean_tm3c  \\\n",
       "Class2                                                                      \n",
       "NoWater  3989595     3989595     3989595    3989595    3989595    3989595   \n",
       "Water     947577      947577      947577     947577     947577     947577   \n",
       "\n",
       "         Mean_tm4c  Mean_tm5c  Mean_tm7c   NDI_43   NDI_52   NDI_54   NDI_72  \\\n",
       "Class2                                                                         \n",
       "NoWater    3989595    3989595    3989595  3989595  3989595  3989595  3989595   \n",
       "Water       947577     947577     947577   947577   947577   947577   947577   \n",
       "\n",
       "          NDI_74  Scene_Name  X_Min_Pxl  Y_Min_Pxl  \n",
       "Class2                                              \n",
       "NoWater  3989595     3989595    3989595    3989595  \n",
       "Water     947577      947577     947577     947577  "
      ]
     },
     "execution_count": 15,
     "metadata": {},
     "output_type": "execute_result"
    }
   ],
   "source": [
    "# Group by Pixel Class_name, then count the number of rows in each group\n",
    "pdf.groupby('Class2').count()"
   ]
  },
  {
   "cell_type": "code",
   "execution_count": 16,
   "metadata": {
    "collapsed": false
   },
   "outputs": [
    {
     "data": {
      "text/html": [
       "<div>\n",
       "<table border=\"1\" class=\"dataframe\">\n",
       "  <thead>\n",
       "    <tr style=\"text-align: right;\">\n",
       "      <th></th>\n",
       "      <th>Bright</th>\n",
       "      <th>Class_name</th>\n",
       "      <th>Mean_tm1c</th>\n",
       "      <th>Mean_tm2c</th>\n",
       "      <th>Mean_tm3c</th>\n",
       "      <th>Mean_tm4c</th>\n",
       "      <th>Mean_tm5c</th>\n",
       "      <th>Mean_tm7c</th>\n",
       "      <th>NDI_43</th>\n",
       "      <th>NDI_52</th>\n",
       "      <th>NDI_54</th>\n",
       "      <th>NDI_72</th>\n",
       "      <th>NDI_74</th>\n",
       "      <th>Scene_Name</th>\n",
       "      <th>X_Min_Pxl</th>\n",
       "      <th>Y_Min_Pxl</th>\n",
       "      <th>Class2</th>\n",
       "    </tr>\n",
       "    <tr>\n",
       "      <th>Mean_PQMas</th>\n",
       "      <th></th>\n",
       "      <th></th>\n",
       "      <th></th>\n",
       "      <th></th>\n",
       "      <th></th>\n",
       "      <th></th>\n",
       "      <th></th>\n",
       "      <th></th>\n",
       "      <th></th>\n",
       "      <th></th>\n",
       "      <th></th>\n",
       "      <th></th>\n",
       "      <th></th>\n",
       "      <th></th>\n",
       "      <th></th>\n",
       "      <th></th>\n",
       "      <th></th>\n",
       "    </tr>\n",
       "  </thead>\n",
       "  <tbody>\n",
       "    <tr>\n",
       "      <th>16383.0</th>\n",
       "      <td>4937172</td>\n",
       "      <td>4937172</td>\n",
       "      <td>4937172</td>\n",
       "      <td>4937172</td>\n",
       "      <td>4937172</td>\n",
       "      <td>4937172</td>\n",
       "      <td>4937172</td>\n",
       "      <td>4937172</td>\n",
       "      <td>4937172</td>\n",
       "      <td>4937172</td>\n",
       "      <td>4937172</td>\n",
       "      <td>4937172</td>\n",
       "      <td>4937172</td>\n",
       "      <td>4937172</td>\n",
       "      <td>4937172</td>\n",
       "      <td>4937172</td>\n",
       "      <td>4937172</td>\n",
       "    </tr>\n",
       "  </tbody>\n",
       "</table>\n",
       "</div>"
      ],
      "text/plain": [
       "             Bright  Class_name  Mean_tm1c  Mean_tm2c  Mean_tm3c  Mean_tm4c  \\\n",
       "Mean_PQMas                                                                    \n",
       "16383.0     4937172     4937172    4937172    4937172    4937172    4937172   \n",
       "\n",
       "            Mean_tm5c  Mean_tm7c   NDI_43   NDI_52   NDI_54   NDI_72   NDI_74  \\\n",
       "Mean_PQMas                                                                      \n",
       "16383.0       4937172    4937172  4937172  4937172  4937172  4937172  4937172   \n",
       "\n",
       "            Scene_Name  X_Min_Pxl  Y_Min_Pxl   Class2  \n",
       "Mean_PQMas                                             \n",
       "16383.0        4937172    4937172    4937172  4937172  "
      ]
     },
     "execution_count": 16,
     "metadata": {},
     "output_type": "execute_result"
    }
   ],
   "source": [
    "pdf.groupby('Mean_PQMas').count()  # perfect good pixels"
   ]
  },
  {
   "cell_type": "code",
   "execution_count": 17,
   "metadata": {
    "collapsed": false
   },
   "outputs": [
    {
     "data": {
      "text/plain": [
       "'0b11111111111111'"
      ]
     },
     "execution_count": 17,
     "metadata": {},
     "output_type": "execute_result"
    }
   ],
   "source": [
    "#perfect pixel has a quality flag 13683 in the column Mean_PQMa\n",
    "bin(16383)"
   ]
  },
  {
   "cell_type": "markdown",
   "metadata": {},
   "source": [
    "# Separate the Water and NonWater data"
   ]
  },
  {
   "cell_type": "code",
   "execution_count": 18,
   "metadata": {
    "collapsed": true
   },
   "outputs": [],
   "source": [
    "dfwater=pdf[pdf['Class2'] =='Water']\n",
    "dfnowater= pdf[pdf['Class2'] !='Water']"
   ]
  },
  {
   "cell_type": "code",
   "execution_count": 19,
   "metadata": {
    "collapsed": false
   },
   "outputs": [
    {
     "data": {
      "text/plain": [
       "(947577, 18)"
      ]
     },
     "execution_count": 19,
     "metadata": {},
     "output_type": "execute_result"
    }
   ],
   "source": [
    "dfwater.shape"
   ]
  },
  {
   "cell_type": "code",
   "execution_count": 20,
   "metadata": {
    "collapsed": false
   },
   "outputs": [
    {
     "data": {
      "text/plain": [
       "(3989595, 18)"
      ]
     },
     "execution_count": 20,
     "metadata": {},
     "output_type": "execute_result"
    }
   ],
   "source": [
    "dfnowater.shape"
   ]
  },
  {
   "cell_type": "markdown",
   "metadata": {},
   "source": [
    "# Plotting the values\n",
    "\n",
    "See http://pandas.pydata.org/pandas-docs/stable/visualization.html\n"
   ]
  },
  {
   "cell_type": "markdown",
   "metadata": {},
   "source": [
    "# How to design best ML models accordingly?"
   ]
  },
  {
   "cell_type": "code",
   "execution_count": 21,
   "metadata": {
    "collapsed": true
   },
   "outputs": [],
   "source": [
    "# https://www.google.com.au/webhp?sourceid=chrome-instant&ion=1&espv=2&ie=UTF-8#q=how+to+design+Machine+learning+models+according+feature+stats"
   ]
  },
  {
   "cell_type": "markdown",
   "metadata": {},
   "source": [
    "## Prepare sample dataset for scikit analysis"
   ]
  },
  {
   "cell_type": "code",
   "execution_count": 22,
   "metadata": {
    "collapsed": false
   },
   "outputs": [
    {
     "name": "stdout",
     "output_type": "stream",
     "text": [
      "('Mean_tm5c', 'NDI_52', 'NDI_72')\n"
     ]
    }
   ],
   "source": [
    "clm_list = []\n",
    "for column in pdf.columns: clm_list.append(column)\n",
    "    \n",
    "print (clm_list[7],clm_list[10],clm_list[12])"
   ]
  },
  {
   "cell_type": "code",
   "execution_count": 23,
   "metadata": {
    "collapsed": false
   },
   "outputs": [
    {
     "name": "stdout",
     "output_type": "stream",
     "text": [
      "('NDI_52', 'NDI_72', 'Mean_tm5c')\n"
     ]
    }
   ],
   "source": [
    "print (clm_list[10],clm_list[12], clm_list[7])"
   ]
  },
  {
   "cell_type": "code",
   "execution_count": 24,
   "metadata": {
    "collapsed": false
   },
   "outputs": [
    {
     "name": "stdout",
     "output_type": "stream",
     "text": [
      "(4937172, 3) <type 'numpy.ndarray'>\n",
      "(4937172,)\n"
     ]
    }
   ],
   "source": [
    "#select the columns values into numpy array\n",
    "#X = pdf[clm_list[3:14]].values\n",
    "# select 3 most important features\n",
    "X= pdf[[clm_list[10],clm_list[12], clm_list[7]]].values\n",
    "# Y = pdf[clm_list[1]].values\n",
    "Y = pdf[clm_list[-1]].values  # the new column Class2\n",
    "       \n",
    "print X.shape, type(X)\n",
    "print Y.shape"
   ]
  },
  {
   "cell_type": "markdown",
   "metadata": {},
   "source": [
    "## Hello Scikit-learn"
   ]
  },
  {
   "cell_type": "code",
   "execution_count": 25,
   "metadata": {
    "collapsed": true
   },
   "outputs": [],
   "source": [
    "from sklearn import tree\n",
    "clf = tree.DecisionTreeClassifier(max_depth=5)"
   ]
  },
  {
   "cell_type": "code",
   "execution_count": 26,
   "metadata": {
    "collapsed": true
   },
   "outputs": [],
   "source": [
    "# Traing the model with the sample data %time clf = clf.fit(X, Y)\n",
    "\n",
    "clf = clf.fit(X, Y)"
   ]
  },
  {
   "cell_type": "code",
   "execution_count": 27,
   "metadata": {
    "collapsed": false
   },
   "outputs": [
    {
     "name": "stdout",
     "output_type": "stream",
     "text": [
      "(227014, array(['NoWater'], dtype=object), 'Water', 'W_Dark')\n"
     ]
    }
   ],
   "source": [
    "# verify the model using function predict\n",
    "isample= 227014\n",
    "# Or get a random sample to compare\n",
    "#isample=np.random.random_integers(0,999)\n",
    "\n",
    "print (isample, clf.predict(X[isample,:].reshape(1, -1) ), Y[isample], pdf.Class_name.iloc[isample])"
   ]
  },
  {
   "cell_type": "code",
   "execution_count": 28,
   "metadata": {
    "collapsed": false
   },
   "outputs": [
    {
     "data": {
      "text/plain": [
       "0.97805403579214989"
      ]
     },
     "execution_count": 28,
     "metadata": {},
     "output_type": "execute_result"
    }
   ],
   "source": [
    "#3) Apply / evaluate\n",
    "clf.score(X,Y)"
   ]
  },
  {
   "cell_type": "code",
   "execution_count": null,
   "metadata": {
    "collapsed": true
   },
   "outputs": [],
   "source": []
  },
  {
   "cell_type": "code",
   "execution_count": 29,
   "metadata": {
    "collapsed": false
   },
   "outputs": [],
   "source": [
    "# Advanced_sklearn/Chapter%201/Classification.ipynb\n",
    "# more methods, split the samples , validation \n",
    "from sklearn.cross_validation import train_test_split\n",
    "X_train, X_test, y_train, y_test = train_test_split(X,Y)"
   ]
  },
  {
   "cell_type": "code",
   "execution_count": 30,
   "metadata": {
    "collapsed": false
   },
   "outputs": [
    {
     "name": "stdout",
     "output_type": "stream",
     "text": [
      "(1234293, 3)\n"
     ]
    },
    {
     "data": {
      "text/plain": [
       "0.97814538363257342"
      ]
     },
     "execution_count": 30,
     "metadata": {},
     "output_type": "execute_result"
    }
   ],
   "source": [
    "print X_test.shape\n",
    "clf.score(X_test,y_test)\n"
   ]
  },
  {
   "cell_type": "code",
   "execution_count": 31,
   "metadata": {
    "collapsed": true
   },
   "outputs": [],
   "source": [
    "# Let's Generate the Tree.\n",
    "\n",
    "from IPython.display import Image \n",
    "from sklearn.externals.six import StringIO  \n",
    "import pydot \n",
    "with open(\"de_tree.dot\", 'w') as f: f = tree.export_graphviz(clf, out_file=f)\n",
    "\n",
    "    \n",
    "# dot -Tpdf iris.dot -o iris.pdf\n",
    "\n",
    "!dot -Tpdf de_tree.dot -o de_tree.pdf"
   ]
  },
  {
   "cell_type": "code",
   "execution_count": 32,
   "metadata": {
    "collapsed": false
   },
   "outputs": [
    {
     "name": "stdout",
     "output_type": "stream",
     "text": [
      "Warning: Not built with libexpat. Table formatting is not available.\n",
      "in label of node 0\n",
      "in label of node 1\n",
      "in label of node 2\n",
      "in label of node 3\n",
      "in label of node 4\n",
      "in label of node 5\n",
      "in label of node 6\n",
      "in label of node 7\n",
      "in label of node 8\n",
      "in label of node 9\n",
      "in label of node 10\n",
      "in label of node 11\n",
      "in label of node 12\n",
      "in label of node 13\n",
      "in label of node 14\n",
      "in label of node 15\n",
      "in label of node 16\n",
      "in label of node 17\n",
      "in label of node 18\n",
      "in label of node 19\n",
      "in label of node 20\n",
      "in label of node 21\n",
      "in label of node 22\n",
      "in label of node 23\n",
      "in label of node 24\n",
      "in label of node 25\n",
      "in label of node 26\n",
      "in label of node 27\n",
      "in label of node 28\n",
      "in label of node 29\n",
      "in label of node 30\n",
      "in label of node 31\n",
      "in label of node 32\n",
      "in label of node 33\n",
      "in label of node 34\n",
      "in label of node 35\n",
      "in label of node 36\n",
      "in label of node 37\n",
      "in label of node 38\n",
      "in label of node 39\n",
      "in label of node 40\n",
      "in label of node 41\n",
      "in label of node 42\n",
      "in label of node 43\n",
      "in label of node 44\n",
      "in label of node 45\n",
      "in label of node 46\n",
      "in label of node 47\n",
      "in label of node 48\n",
      "in label of node 49\n",
      "in label of node 50\n",
      "in label of node 51\n",
      "in label of node 52\n",
      "in label of node 53\n",
      "in label of node 54\n",
      "in label of node 55\n",
      "in label of node 56\n",
      "in label of node 57\n",
      "in label of node 58\n",
      "in label of node 59\n",
      "in label of node 60\n",
      "in label of node 61\n",
      "in label of node 62\n",
      "\n"
     ]
    },
    {
     "data": {
      "image/png": "[encoded data removed]",
      "text/plain": [
       "<IPython.core.display.Image object>"
      ]
     },
     "execution_count": 32,
     "metadata": {},
     "output_type": "execute_result"
    }
   ],
   "source": [
    "# Todo: show Tree in this notebook\n",
    "# http://scikit-learn.org/stable/modules/tree.html\n",
    "dot_data = StringIO()  \n",
    "tree.export_graphviz(clf, out_file=dot_data,  \n",
    "                         feature_names=[clm_list[10],clm_list[12], clm_list[7]],  \n",
    "                         class_names=Y[:],  \n",
    "                         filled=True, rounded=True,  \n",
    "                         special_characters=True)  \n",
    "graph = pydot.graph_from_dot_data(dot_data.getvalue())  \n",
    "Image(graph.create_png())  "
   ]
  },
  {
   "cell_type": "code",
   "execution_count": 33,
   "metadata": {
    "collapsed": false
   },
   "outputs": [],
   "source": [
    "# http://scikit-learn.org/stable/modules/model_persistence.html\n",
    "import pickle\n",
    "s = pickle.dumps(clf)\n",
    "\n",
    "#print(s)\n",
    "#to unpickle clf2 = pickle.loads(s)\n",
    "#clf2.predict(X[0:1])\n",
    "#array([0])\n"
   ]
  },
  {
   "cell_type": "code",
   "execution_count": 34,
   "metadata": {
    "collapsed": true
   },
   "outputs": [],
   "source": [
    "# unpickle\n",
    "clf1 = pickle.loads(s)"
   ]
  },
  {
   "cell_type": "code",
   "execution_count": 35,
   "metadata": {
    "collapsed": false
   },
   "outputs": [
    {
     "data": {
      "text/plain": [
       "['detreedep5.pkl',\n",
       " 'detreedep5.pkl_01.npy',\n",
       " 'detreedep5.pkl_02.npy',\n",
       " 'detreedep5.pkl_03.npy',\n",
       " 'detreedep5.pkl_04.npy']"
      ]
     },
     "execution_count": 35,
     "metadata": {},
     "output_type": "execute_result"
    }
   ],
   "source": [
    "from sklearn.externals import joblib\n",
    "joblib.dump(clf, 'detreedep5.pkl') \n",
    "\n",
    "#Later you can load back the pickled model (possibly in another Python process) with:\n",
    "#clf = joblib.load('detreedep5.pkl')\n",
    "\n",
    "# Note joblib.dump returns a list of filenames. Each individual numpy array contained in the clf object is serialized as a separate file on the filesystem. All files are required in the same folder when reloading the model with joblib.load."
   ]
  },
  {
   "cell_type": "code",
   "execution_count": 36,
   "metadata": {
    "collapsed": true
   },
   "outputs": [],
   "source": [
    "clf2 = joblib.load('detreedep5.pkl')"
   ]
  },
  {
   "cell_type": "code",
   "execution_count": 37,
   "metadata": {
    "collapsed": false
   },
   "outputs": [
    {
     "name": "stdout",
     "output_type": "stream",
     "text": [
      "(30003, array(['Water'], dtype=object), 'Water', 'W_Salt_Lake')\n",
      "(30003, array(['Water'], dtype=object), 'Water', 'W_Salt_Lake')\n",
      "(30003, array(['Water'], dtype=object), 'Water', 'W_Salt_Lake')\n",
      "(30003, array(['Water'], dtype=object), 'Water', 'W_Salt_Lake')\n"
     ]
    }
   ],
   "source": [
    "isample= 30003\n",
    "\n",
    "print (isample, clf.predict(X[isample,:].reshape(1, -1) ), Y[isample], pdf.Class_name.iloc[isample])\n",
    "\n",
    "print (isample, clf1.predict(X[isample,:].reshape(1, -1) ), Y[isample], pdf.Class_name.iloc[isample])\n",
    "print (isample, clf2.predict(X[isample,:].reshape(1, -1) ), Y[isample], pdf.Class_name.iloc[isample])\n",
    "print (isample, clf3.predict(X[isample,:].reshape(1, -1) ), Y[isample], pdf.Class_name.iloc[isample])"
   ]
  },
  {
   "cell_type": "code",
   "execution_count": 38,
   "metadata": {
    "collapsed": false
   },
   "outputs": [],
   "source": [
    "with open('detree_clf.pickle', 'wb') as f:\n",
    "    # Pickle the 'data' dictionary using the highest protocol available.\n",
    "    pickle.dump(clf, f, pickle.HIGHEST_PROTOCOL)"
   ]
  },
  {
   "cell_type": "code",
   "execution_count": 39,
   "metadata": {
    "collapsed": false
   },
   "outputs": [],
   "source": [
    "\n",
    "with open('detree_clf.pickle', 'rb') as f:\n",
    "    # The protocol version used is detected automatically, so we do not\n",
    "    # have to specify it.\n",
    "    clf3 = pickle.load(f)"
   ]
  },
  {
   "cell_type": "code",
   "execution_count": 40,
   "metadata": {
    "collapsed": false
   },
   "outputs": [
    {
     "name": "stdout",
     "output_type": "stream",
     "text": [
      "(DecisionTreeClassifier(class_weight=None, criterion='gini', max_depth=5,\n",
      "            max_features=None, max_leaf_nodes=None, min_samples_leaf=1,\n",
      "            min_samples_split=2, min_weight_fraction_leaf=0.0,\n",
      "            presort=False, random_state=None, splitter='best'), DecisionTreeClassifier(class_weight=None, criterion='gini', max_depth=5,\n",
      "            max_features=None, max_leaf_nodes=None, min_samples_leaf=1,\n",
      "            min_samples_split=2, min_weight_fraction_leaf=0.0,\n",
      "            presort=False, random_state=None, splitter='best'), DecisionTreeClassifier(class_weight=None, criterion='gini', max_depth=5,\n",
      "            max_features=None, max_leaf_nodes=None, min_samples_leaf=1,\n",
      "            min_samples_split=2, min_weight_fraction_leaf=0.0,\n",
      "            presort=False, random_state=None, splitter='best'), DecisionTreeClassifier(class_weight=None, criterion='gini', max_depth=5,\n",
      "            max_features=None, max_leaf_nodes=None, min_samples_leaf=1,\n",
      "            min_samples_split=2, min_weight_fraction_leaf=0.0,\n",
      "            presort=False, random_state=None, splitter='best'))\n"
     ]
    }
   ],
   "source": [
    "print (clf,clf1,clf2,clf3)"
   ]
  },
  {
   "cell_type": "code",
   "execution_count": 41,
   "metadata": {
    "collapsed": false
   },
   "outputs": [
    {
     "name": "stdout",
     "output_type": "stream",
     "text": [
      "This may not worked?\n"
     ]
    }
   ],
   "source": [
    "if clf2 ==clf1:  # This object comparison does not work correctly\n",
    "    print (\"unpickled OK\")\n",
    "else:\n",
    "    print(\"This may not worked?\")"
   ]
  },
  {
   "cell_type": "markdown",
   "metadata": {},
   "source": [
    "# Google search how to select important feature"
   ]
  },
  {
   "cell_type": "markdown",
   "metadata": {},
   "source": [
    "** http://machinelearningmastery.com/an-introduction-to-feature-selection/\n",
    "\n",
    "** http://scikit-learn.org/stable/modules/feature_selection.html\n",
    "    "
   ]
  },
  {
   "cell_type": "markdown",
   "metadata": {},
   "source": [
    "# you can pickle the clf tree for later use."
   ]
  },
  {
   "cell_type": "code",
   "execution_count": 42,
   "metadata": {
    "collapsed": false
   },
   "outputs": [
    {
     "data": {
      "text/plain": [
       "array([(1, 32, 0, 0.10469971597194672, 0.3101821505731033, 4937172, 4937172.0),\n",
       "       (2, 17, 2, 726.5, 0.17732165752527973, 952064, 952064.0),\n",
       "       (3, 10, 1, -0.21966543793678284, 0.08536597765687415, 869666, 869666.0),\n",
       "       (4, 7, 2, 468.5, 0.05854168024141604, 818242, 818242.0),\n",
       "       (5, 6, 0, -0.1656680852174759, 0.03195855967077221, 761307, 761307.0),\n",
       "       (-1, -1, -2, -2.0, 0.016214179125706996, 708352, 708352.0),\n",
       "       (-1, -1, -2, -2.0, 0.21752002065520948, 52955, 52955.0),\n",
       "       (8, 9, 0, -0.717576265335083, 0.3393266472147667, 56935, 56935.0),\n",
       "       (-1, -1, -2, -2.0, 0.012192339893513204, 10434, 10434.0),\n",
       "       (-1, -1, -2, -2.0, 0.08074607956242552, 46501, 46501.0),\n",
       "       (11, 14, 2, 83.5, 0.3990717725693712, 51424, 51424.0),\n",
       "       (12, 13, 1, -0.011807732284069061, 0.08136991332435273, 14568, 14568.0),\n",
       "       (-1, -1, -2, -2.0, 0.016706230818886558, 9734, 9734.0),\n",
       "       (-1, -1, -2, -2.0, 0.19749510817477023, 4834, 4834.0),\n",
       "       (15, 16, 1, -0.006269654259085655, 0.4648359996883783, 36856, 36856.0),\n",
       "       (-1, -1, -2, -2.0, 0.387645742353116, 28865, 28865.0),\n",
       "       (-1, -1, -2, -2.0, 0.3803537520569106, 7991, 7991.0),\n",
       "       (18, 25, 0, -0.26934874057769775, 0.44582734925991596, 82398, 82398.0),\n",
       "       (19, 22, 1, -0.5583741664886475, 0.07028515615124664, 32298, 32298.0),\n",
       "       (20, 21, 0, -0.6226320266723633, 0.042700138549355504, 31613, 31613.0),\n",
       "       (-1, -1, -2, -2.0, 8.033419010178289e-05, 24895, 24895.0),\n",
       "       (-1, -1, -2, -2.0, 0.18408334715220342, 6718, 6718.0),\n",
       "       (23, 24, 2, 1122.5, 0.40976503809473064, 685, 685.0),\n",
       "       (-1, -1, -2, -2.0, 0.11232509531817891, 519, 519.0),\n",
       "       (-1, -1, -2, -2.0, 0.0, 166, 166.0),\n",
       "       (26, 29, 2, 1227.5, 0.4984158628850084, 50100, 50100.0),\n",
       "       (27, 28, 1, -0.07722628116607666, 0.3074272542608477, 32251, 32251.0),\n",
       "       (-1, -1, -2, -2.0, 0.15110227871077697, 27305, 27305.0),\n",
       "       (-1, -1, -2, -2.0, 0.34044346961744054, 4946, 4946.0),\n",
       "       (30, 31, 2, 1313.5, 0.03596943741558212, 17849, 17849.0),\n",
       "       (-1, -1, -2, -2.0, 0.3730988865932048, 528, 528.0),\n",
       "       (-1, -1, -2, -2.0, 0.022375395669608, 17321, 17321.0),\n",
       "       (33, 48, 0, 0.2561390995979309, 0.04373060095306269, 3985108, 3985108.0),\n",
       "       (34, 41, 1, 0.005292419344186783, 0.4112926022454999, 155095, 155095.0),\n",
       "       (35, 38, 2, 1199.5, 0.481985742189018, 94894, 94894.0),\n",
       "       (36, 37, 1, -0.18109172582626343, 0.4961065062107045, 81932, 81932.0),\n",
       "       (-1, -1, -2, -2.0, 0.44535167650340235, 41470, 41470.0),\n",
       "       (-1, -1, -2, -2.0, 0.48717594639899375, 40462, 40462.0),\n",
       "       (39, 40, 2, 1760.5, 0.15404100638517948, 12962, 12962.0),\n",
       "       (-1, -1, -2, -2.0, 0.21989533628947644, 6051, 6051.0),\n",
       "       (-1, -1, -2, -2.0, 0.0906780110456612, 6911, 6911.0),\n",
       "       (42, 45, 2, 132.5, 0.1911409847668053, 60201, 60201.0),\n",
       "       (43, 44, 2, 115.0, 0.2591776214312014, 634, 634.0),\n",
       "       (-1, -1, -2, -2.0, 0.14489301508844954, 496, 496.0),\n",
       "       (-1, -1, -2, -2.0, 0.4872925855912623, 138, 138.0),\n",
       "       (46, 47, 1, 0.12336292862892151, 0.17863672325548574, 59567, 59567.0),\n",
       "       (-1, -1, -2, -2.0, 0.23179491498946392, 35725, 35725.0),\n",
       "       (-1, -1, -2, -2.0, 0.08999427423390272, 23842, 23842.0),\n",
       "       (49, 56, 2, 83.5, 0.022837454489595177, 3830013, 3830013.0),\n",
       "       (50, 53, 2, 52.0, 0.1461325270849081, 3213, 3213.0),\n",
       "       (51, 52, 2, 36.5, 0.4872419786544345, 457, 457.0),\n",
       "       (-1, -1, -2, -2.0, 0.0, 241, 241.0),\n",
       "       (-1, -1, -2, -2.0, 0.19753086419753085, 216, 216.0),\n",
       "       (54, 55, 0, 0.2989540696144104, 0.0446733449752591, 2756, 2756.0),\n",
       "       (-1, -1, -2, -2.0, 0.27119377162629754, 136, 136.0),\n",
       "       (-1, -1, -2, -2.0, 0.03080793660043124, 2620, 2620.0),\n",
       "       (57, 60, 2, 773.5, 0.02134501843907788, 3826800, 3826800.0),\n",
       "       (58, 59, 0, 0.33522891998291016, 0.11167043580988334, 513994, 513994.0),\n",
       "       (-1, -1, -2, -2.0, 0.23300053924295638, 77230, 77230.0),\n",
       "       (-1, -1, -2, -2.0, 0.08785886900160855, 436764, 436764.0),\n",
       "       (61, 62, 0, 0.31528961658477783, 0.006485101138339111, 3312806, 3312806.0),\n",
       "       (-1, -1, -2, -2.0, 0.10583171019945259, 57672, 57672.0),\n",
       "       (-1, -1, -2, -2.0, 0.004624397185502005, 3255134, 3255134.0)], \n",
       "      dtype=[('left_child', '<i8'), ('right_child', '<i8'), ('feature', '<i8'), ('threshold', '<f8'), ('impurity', '<f8'), ('n_node_samples', '<i8'), ('weighted_n_node_samples', '<f8')])"
      ]
     },
     "execution_count": 42,
     "metadata": {},
     "output_type": "execute_result"
    }
   ],
   "source": [
    "# http://scikit-learn.org/stable/modules/model_persistence.html\n",
    "\n",
    "# http://stackoverflow.com/questions/15564410/scikit-learn-svm-how-to-save-load-support-vectors\n",
    "# \n",
    "# show tree\n",
    "\n",
    "clf.tree_.__getstate__()['nodes']"
   ]
  },
  {
   "cell_type": "markdown",
   "metadata": {},
   "source": [
    "# Let's Try some other methods"
   ]
  },
  {
   "cell_type": "code",
   "execution_count": 43,
   "metadata": {
    "collapsed": false
   },
   "outputs": [],
   "source": [
    "# from sklearn.svm import LinearSVC\n",
    "# svm = LinearSVC(C=0.1)\n",
    "# svm.fit(X_train, y_train)\n",
    "\n",
    "\n",
    "# print(svm.predict(X_train))\n",
    "# print(y_train)\n",
    "\n",
    "# svm.score(X_train, y_train)\n",
    "\n",
    "# svm.score(X_test, y_test)"
   ]
  },
  {
   "cell_type": "markdown",
   "metadata": {
    "collapsed": true
   },
   "source": [
    "# Random Forest"
   ]
  },
  {
   "cell_type": "code",
   "execution_count": null,
   "metadata": {
    "collapsed": false
   },
   "outputs": [],
   "source": [
    "# from sklearn.ensemble import RandomForestClassifier\n",
    "# rf = RandomForestClassifier(n_estimators=50)\n",
    "# rf.fit(X_train, y_train)\n",
    "# from sklearn.svm import LinearSVC\n",
    "# # svm = LinearSVC(C=0.1)\n",
    "# # svm.fit(X_train, y_train)\n",
    "\n",
    "\n",
    "# # print(svm.predict(X_train))\n",
    "# # print(y_train)\n",
    "\n",
    "# # svm.score(X_train, y_train)\n",
    "\n",
    "# # svm.score(X_test, y_test)\n",
    "# rf.predict(X_test)\n",
    "\n",
    "# rf.score(X_test, y_test)\n",
    "\n",
    "# Stop here. Do acuracy comparison:\n",
    "    \n",
    "# Random Forest 99.310%  Train slow\n",
    "# LinearSVM 90.799%\n",
    "# DecisionTree(depth=7) 96.756%  Train very fast. Complex tree"
   ]
  },
  {
   "cell_type": "markdown",
   "metadata": {},
   "source": [
    "# Cross Validation\n",
    "Advanced_sklearn/Chapter%201/Cross%20Validation.ipynb"
   ]
  },
  {
   "cell_type": "code",
   "execution_count": null,
   "metadata": {
    "collapsed": false
   },
   "outputs": [],
   "source": [
    "# compute resource limit problem \n",
    "from sklearn.cross_validation import cross_val_score\n",
    "\n",
    "#for classifier in [clf, svm, rf]:\n",
    "for classifier in [clf] :\n",
    "    scores = cross_val_score(classifier, X, Y, cv=2)\n",
    "    print(scores)\n",
    "    print(np.mean(scores))\n",
    "\n",
    "# Results with my_file_csv='/g/data/u46/fxz547/wofs_training_sample_data/orig_copy/Test_Tile_samples_20140203.csv'\n",
    "# random forest is no better than clf. svm is no good.\n",
    "# [ 0.93761947  0.9168854   0.93080083  0.96054265  0.97094193]\n",
    "# cls:  0.943358053934\n",
    "# [ 0.84295027  0.93209894  0.90567316  0.90808262  0.90809689]\n",
    "# svm:  0.899380377677\n",
    "# [ 0.92633591  0.91465293  0.94864626  0.94893796  0.97848818]\n",
    "# rf: 0.943412249083"
   ]
  },
  {
   "cell_type": "code",
   "execution_count": null,
   "metadata": {
    "collapsed": false
   },
   "outputs": [],
   "source": [
    "!ls -ltr"
   ]
  },
  {
   "cell_type": "code",
   "execution_count": null,
   "metadata": {
    "collapsed": false
   },
   "outputs": [],
   "source": [
    "print clf3"
   ]
  },
  {
   "cell_type": "markdown",
   "metadata": {},
   "source": [
    "# PCA analysis"
   ]
  },
  {
   "cell_type": "code",
   "execution_count": null,
   "metadata": {
    "collapsed": false
   },
   "outputs": [],
   "source": [
    "#sample function\n",
    "\n",
    "def sample_PCA():\n",
    "    \"\"\"\n",
    "    Code source: Gaël Varoquaux. License: BSD 3 clause\n",
    "    \"\"\"\n",
    "    \n",
    "    import numpy as np\n",
    "    import matplotlib.pyplot as plt\n",
    "    from mpl_toolkits.mplot3d import Axes3D\n",
    "\n",
    "\n",
    "    from sklearn import decomposition\n",
    "    from sklearn import datasets\n",
    "\n",
    "    np.random.seed(5)\n",
    "\n",
    "    centers = [[1, 1], [-1, -1], [1, -1]]\n",
    "    iris = datasets.load_iris()\n",
    "    X = iris.data\n",
    "    y = iris.target\n",
    "\n",
    "    fig = plt.figure(1, figsize=(4, 3))\n",
    "    plt.clf()\n",
    "    ax = Axes3D(fig, rect=[0, 0, .95, 1], elev=48, azim=134)\n",
    "\n",
    "    plt.cla()\n",
    "    pca = decomposition.PCA(n_components=3)\n",
    "    pca.fit(X)\n",
    "    X = pca.transform(X)\n",
    "\n",
    "    for name, label in [('Setosa', 0), ('Versicolour', 1), ('Virginica', 2)]:\n",
    "        ax.text3D(X[y == label, 0].mean(),\n",
    "                  X[y == label, 1].mean() + 1.5,\n",
    "                  X[y == label, 2].mean(), name,\n",
    "                  horizontalalignment='center',\n",
    "                  bbox=dict(alpha=.5, edgecolor='w', facecolor='w'))\n",
    "    # Reorder the labels to have colors matching the cluster results\n",
    "    y = np.choose(y, [1, 2, 0]).astype(np.float)\n",
    "    ax.scatter(X[:, 0], X[:, 1], X[:, 2], c=y, cmap=plt.cm.spectral)\n",
    "\n",
    "    x_surf = [X[:, 0].min(), X[:, 0].max(),\n",
    "              X[:, 0].min(), X[:, 0].max()]\n",
    "    y_surf = [X[:, 0].max(), X[:, 0].max(),\n",
    "              X[:, 0].min(), X[:, 0].min()]\n",
    "    x_surf = np.array(x_surf)\n",
    "    y_surf = np.array(y_surf)\n",
    "    v0 = pca.transform(pca.components_[[0]])\n",
    "    v0 /= v0[-1]\n",
    "    v1 = pca.transform(pca.components_[[1]])\n",
    "    v1 /= v1[-1]\n",
    "\n",
    "    ax.w_xaxis.set_ticklabels([])\n",
    "    ax.w_yaxis.set_ticklabels([])\n",
    "    ax.w_zaxis.set_ticklabels([])\n",
    "\n",
    "    plt.show()\n"
   ]
  },
  {
   "cell_type": "code",
   "execution_count": null,
   "metadata": {
    "collapsed": false
   },
   "outputs": [],
   "source": [
    "sample_PCA()"
   ]
  },
  {
   "cell_type": "code",
   "execution_count": null,
   "metadata": {
    "collapsed": false
   },
   "outputs": [],
   "source": [
    "print (X.shape)"
   ]
  },
  {
   "cell_type": "code",
   "execution_count": null,
   "metadata": {
    "collapsed": false
   },
   "outputs": [],
   "source": [
    "# See wofs/Zlocaltest/water_pixels_classification_1.ipynb\n",
    "\n",
    "#http://stackoverflow.com/questions/27699545/scikit-learn-pca\n",
    "\n",
    "from sklearn.decomposition import PCA\n",
    "\n",
    "from mpl_toolkits.mplot3d import Axes3D\n",
    "import numpy as np\n",
    "import matplotlib.pyplot as plt\n",
    "from scipy import stats\n",
    "\n",
    "fig = plt.figure(1, figsize=(4, 3))\n",
    "plt.clf()\n",
    "\n",
    "\n",
    "pca = PCA(n_components=3)\n",
    "pca.fit(X)\n",
    "pca_score = pca.explained_variance_ratio_   #Eigenvalues (normalized)\n",
    "V = pca.components_   #Eigenvectors\n",
    "\n",
    "print (pca_score)\n",
    "\n",
    "print (V)\n",
    "\n",
    "print(pca.get_covariance()) #Covariance Matrix\n",
    "# x_pca_axis, y_pca_axis, z_pca_axis = V.T * pca_score / pca_score.min()\n",
    "\n",
    "# x_pca_axis, y_pca_axis, z_pca_axis = 3 * V.T\n",
    "# x_pca_plane = np.r_[x_pca_axis[:2], - x_pca_axis[1::-1]]\n",
    "# y_pca_plane = np.r_[y_pca_axis[:2], - y_pca_axis[1::-1]]\n",
    "# z_pca_plane = np.r_[z_pca_axis[:2], - z_pca_axis[1::-1]]\n",
    "# x_pca_plane.shape = (2, 2)\n",
    "# y_pca_plane.shape = (2, 2)\n",
    "# z_pca_plane.shape = (2, 2)\n",
    "    \n",
    "# ax.plot_surface(x_pca_plane, y_pca_plane, z_pca_plane)\n",
    "# ax.w_xaxis.set_ticklabels([])\n",
    "# ax.w_yaxis.set_ticklabels([])\n",
    "# ax.w_zaxis.set_ticklabels([])\n",
    "\n",
    "plt.plot(pca_score, )\n",
    "\n",
    "plt.show()\n"
   ]
  },
  {
   "cell_type": "code",
   "execution_count": null,
   "metadata": {
    "collapsed": true
   },
   "outputs": [],
   "source": []
  },
  {
   "cell_type": "code",
   "execution_count": null,
   "metadata": {
    "collapsed": true
   },
   "outputs": [],
   "source": []
  },
  {
   "cell_type": "code",
   "execution_count": null,
   "metadata": {
    "collapsed": true
   },
   "outputs": [],
   "source": [
    "def classify_pixel(images, float64=False):\n",
    "    \"\"\" \n",
    "    Implement the decision tree of Norman Mueller et al, to clssify a pixel with 6-bands input.\n",
    "    Produce a water classification image from the supplied images (6 bands of an NBAR, multiband Landsat image)\n",
    "    This method evaluates N.Mueller's 7-depth decision tree as follows:\n",
    "\n",
    "\n",
    "                    -----------------------------N1---------------------------------\n",
    "                    |                                                              |\n",
    "                    |                                                              |\n",
    "                 ---N2-----                                           -------------N21---------------------\n",
    "                 |        |                                           |                                   |\n",
    "                 |        |                                           |                                   |\n",
    "       ----------N4----   N3                                    ------N22---                           ---N35-------\n",
    "       |              |                                         |          |                           |           |\n",
    "       |              |                                         |          |                           |           |\n",
    "    ---N5---       ---N8--------------                       ---N24----    N23                      ---N37------   N36\n",
    "    |      |       |                 |                       |        |                             |          |\n",
    "    |      |       |                 |                       |        |                             |          |\n",
    "    N6     N7   ---N12------------   N9             ---------N26---   N25                        ---N39-----   N38\n",
    "                |                |                  |             |                              |         |\n",
    "                |                |                  |             |                              |         |\n",
    "             ---N16---        ---N13---             N27   --------N28---                   ------N41---    N40\n",
    "             |       |        |       |                   |            |                   |          |\n",
    "             |       |        |       |                   |            |                   |          |\n",
    "             N17  ---N18---   N14     N15              ---N29---    ---N30---           ---N43---     N42\n",
    "                  |       |                            |       |    |       |           |       |\n",
    "                  |       |                            |       |    |       |           |       |\n",
    "                  N19     N20                          N31     N32  N33     N34         N44     N45\n",
    "\n",
    "\n",
    ":param images:\n",
    "    A 3D numpy array ordered in (bands,rows,columns), containing the spectral data.\n",
    "    It is assumed that the spectral bands follow Landsat 5 & 7, Band 1, Band 2, Band 3, Band 4, Band 5, Band 7.\n",
    "\n",
    ":param float64:\n",
    "    Boolean keyword. If set to True then the data will be converted to type float64 if not already float64.\n",
    "    Default is False.\n",
    "\n",
    ":return:\n",
    "    A 2D numpy array of type UInt8.  Values will be 0 for No Water, 1 for Unclassified and 128 for water.\n",
    "\n",
    ":notes:\n",
    "    The input array will be converted to type float32 if not already float32.\n",
    "    If images is of type float64, then images datatype will be left as is.\n",
    "\n",
    ":transcription:\n",
    "    Transcribed from a Tree diagram output by CART www.salford-systems.com\n",
    "    Josh Sixsmith; joshua.sixsmith@ga.gov.au\n",
    "\n",
    "    \"\"\"\n",
    "\n",
    "#     logger = logging.getLogger(\"WaterClasserfier\")\n",
    "#     logger.debug(\"Started\")\n",
    "\n",
    "    def band_ratio(a,b):\n",
    "        \"\"\"\n",
    "        Calculates a normalised ratio index.\n",
    "        \"\"\"\n",
    "        c = (a - b) / (a + b)\n",
    "        return c\n",
    "\n",
    "    dims = images.shape\n",
    "    if len(dims) == 3:\n",
    "        bands = dims[0]\n",
    "        rows  = dims[1]\n",
    "        cols  = dims[2]\n",
    "    else:\n",
    "        rows = dims[0]\n",
    "        cols = dims[1]\n",
    "\n",
    "    dtype = images.dtype\n",
    "\n",
    "    # Check whether to enforce float64 calcs, unless the datatype is already float64\n",
    "    # Otherwise force float32\n",
    "    if float64:\n",
    "        if (dtype != 'float64'):\n",
    "            images = images.astype('float64')\n",
    "    else:\n",
    "        if (dtype == 'float64'):\n",
    "            # Do nothing, leave as float64\n",
    "            images = images\n",
    "        elif (dtype != 'float32'):\n",
    "            images = images.astype('float32')\n",
    "\n",
    "    classified = numpy.ones((rows,cols), dtype='uint8')\n",
    "\n",
    "    NDI_52 = band_ratio(images[4], images[1])\n",
    "    NDI_43 = band_ratio(images[3], images[2])\n",
    "    NDI_72 = band_ratio(images[5], images[1])\n",
    "\n",
    "    b1 = images[0]\n",
    "    b2 = images[1]\n",
    "    b3 = images[2]\n",
    "    b4 = images[3]\n",
    "    b5 = images[4]\n",
    "    b7 = images[5]\n",
    "\n",
    "    # Lets start going down the trees left branch, finishing nodes as needed\n",
    "    # Lots of result arrays eg r1, r2 etc of type bool are created\n",
    "    # These could be recycled to save memory, but at the moment they serve to show the tree structure\n",
    "    # Temporary arrays of type bool (_tmp, _tmp2) are used to combine the boolean decisions\n",
    "    r1 = NDI_52 <= -0.01\n",
    "\n",
    "    r2 = b1 <= 2083.5\n",
    "    classified[r1 & ~r2] = 0 # Node 3\n",
    "\n",
    "    r3 = b7 <= 323.5\n",
    "    _tmp = r1 & r2\n",
    "    _tmp2 = _tmp & r3\n",
    "    _tmp &= ~r3\n",
    "\n",
    "    r4 = NDI_43 <= 0.61\n",
    "    classified[_tmp2 & r4]  = 128 # Node 6\n",
    "    classified[_tmp2 & ~r4] = 0 # Node 7\n",
    "\n",
    "    r5 = b1 <= 1400.5\n",
    "    _tmp2 = _tmp & ~r5\n",
    "    r6 = NDI_43 <= -0.01\n",
    "    classified[_tmp2 & r6]  = 128 # Node 10\n",
    "    classified[_tmp2 & ~r6] = 0 # Node 11\n",
    "\n",
    "    _tmp &= r5\n",
    "\n",
    "    r7 = NDI_72 <= -0.23\n",
    "    _tmp2 = _tmp & ~r7\n",
    "    r8 = b1 <= 379\n",
    "    classified[_tmp2 & r8]  = 128 # Node 14\n",
    "    classified[_tmp2 & ~r8] = 0 # Node 15\n",
    "\n",
    "    _tmp &= r7\n",
    "\n",
    "    r9 = NDI_43 <= 0.22\n",
    "    classified[_tmp & r9] = 128 # Node 17\n",
    "\n",
    "    _tmp &= ~r9\n",
    "\n",
    "    r10 = b1 <= 473\n",
    "    classified[_tmp & r10]  = 128 # Node 19\n",
    "    classified[_tmp & ~r10] = 0 # Node 20\n",
    "\n",
    "    # Left branch is completed; cleanup\n",
    "    #logger.debug(\"B4 cleanup 1\")\n",
    "    del r2, r3, r4, r5, r6, r7, r8, r9, r10\n",
    "    gc.collect()\n",
    "    #logger.debug(\"cleanup 1 done\")\n",
    "\n",
    "    # Right branch of the tree\n",
    "    r1 = ~r1\n",
    "\n",
    "    r11 = NDI_52 <= 0.23\n",
    "    _tmp = r1 & r11\n",
    "\n",
    "    r12 = b1 <= 334.5\n",
    "    _tmp2 = _tmp & ~r12\n",
    "    classified[_tmp2] = 0 # Node 23\n",
    "\n",
    "    _tmp &= r12\n",
    "\n",
    "    r13 = NDI_43 <= 0.54\n",
    "    _tmp2 = _tmp & ~r13\n",
    "    classified[_tmp2] = 0 # Node 25\n",
    "\n",
    "    _tmp &= r13\n",
    "\n",
    "    r14 = NDI_52 <= 0.12\n",
    "    _tmp2 = _tmp & r14\n",
    "    classified[_tmp2] = 128 # Node 27\n",
    "\n",
    "    _tmp &= ~r14\n",
    "\n",
    "    r15 = b3 <= 364.5\n",
    "    _tmp2 = _tmp & r15\n",
    "\n",
    "    r16 = b1 <= 129.5\n",
    "    classified[_tmp2 & r16]  = 128 # Node 31\n",
    "    classified[_tmp2 & ~r16] = 0 # Node 32\n",
    "\n",
    "    _tmp &= ~r15\n",
    "\n",
    "    r17 = b1 <= 300.5\n",
    "    _tmp2 = _tmp & ~r17\n",
    "    _tmp &= r17\n",
    "    classified[_tmp]  = 128 # Node 33\n",
    "    classified[_tmp2] = 0 # Node 34\n",
    "\n",
    "    _tmp = r1 & ~r11\n",
    "\n",
    "    r18 = NDI_52 <= 0.34\n",
    "    classified[_tmp & ~r18] = 0 # Node 36\n",
    "    _tmp &= r18\n",
    "\n",
    "    r19 = b1 <= 249.5\n",
    "    classified[_tmp & ~r19] = 0 # Node 38\n",
    "    _tmp &= r19\n",
    "\n",
    "    r20 = NDI_43 <= 0.45\n",
    "    classified[_tmp & ~r20] = 0 # Node 40\n",
    "    _tmp &= r20\n",
    "\n",
    "    r21 = b3 <= 364.5\n",
    "    classified[_tmp & ~r21] = 0 # Node 42\n",
    "    _tmp &= r21\n",
    "\n",
    "    r22 = b1 <= 129.5\n",
    "    classified[_tmp & r22]  = 128 # Node 44\n",
    "    classified[_tmp & ~r22] = 0 # Node 45\n",
    "\n",
    "    #logger.debug(\"completed\")\n",
    "\n",
    "    return classified\n"
   ]
  },
  {
   "cell_type": "markdown",
   "metadata": {},
   "source": [
    "## Select Perfect Pix Data to Analyse "
   ]
  },
  {
   "cell_type": "code",
   "execution_count": null,
   "metadata": {
    "collapsed": false
   },
   "outputs": [],
   "source": [
    "perf_pix= pdf[pdf['Mean_PQMas'] == 16383.0]  # where(Mean_PQMas=16383)\n",
    "\n",
    "# change W_* into Water; all other classes into NotWater. Binary classes\n",
    "perf_pix.ix[perf_pix.Class_name.str.match('W_*'), 'Class2'] = 'Water'\n",
    "\n",
    "# change non 'W_*' into NoWater\n",
    "perf_pix.ix[perf_pix.Class_name.str.match('^W_*')==False, 'Class2'] = 'NoWater'\n",
    "\n",
    "# Group by Pixel Class_name, then count the number of rows in each group\n",
    "perf_pix.groupby('Class2').count()"
   ]
  },
  {
   "cell_type": "code",
   "execution_count": null,
   "metadata": {
    "collapsed": false
   },
   "outputs": [],
   "source": [
    "# Apply a ML algorithm to the pdf type\n",
    "from sklearn import tree\n",
    "from IPython.display import Image \n",
    "from sklearn.externals.six import StringIO  \n",
    "import pydot \n",
    "    \n",
    "def apply_ml(pdf):\n",
    "    #get the column names as list    \n",
    "    clm_list = []\n",
    "    for column in pdf.columns: clm_list.append(column)\n",
    "    print (clm_list[7],clm_list[10],clm_list[12])\n",
    "    \n",
    "    #select the columns values into numpy array\n",
    "    #X = pdf[clm_list[3:14]].values\n",
    "    # select 3 most important features\n",
    "    X= pdf[[clm_list[7],clm_list[10],clm_list[12]] ].values\n",
    "    Y = pdf[clm_list[1]].values\n",
    "\n",
    "    print X.shape, type(X)\n",
    "    print Y.shape\n",
    "\n",
    "    clf = tree.DecisionTreeClassifier(max_depth=5)\n",
    "    clf= clf.fit(X,Y)\n",
    "    \n",
    "    # evaluate the model using function predict\n",
    "    # isample=123\n",
    "    # Or get a random sample to compare\n",
    "    isample=np.random.random_integers(0,999)\n",
    "\n",
    "    print (isample, clf.predict(X[isample,:].reshape(1, -1) ), Y[isample])\n",
    "\n",
    "    dot_filename=\"de_tree.dot\"\n",
    "    with open(dot_filename, 'w') as f: f = tree.export_graphviz(clf, out_file=f)\n",
    "\n",
    "    \n",
    "    # !dot -Tpdf de_tree.dot -o de_tree.pdf\n",
    "    return  dot_filename"
   ]
  },
  {
   "cell_type": "code",
   "execution_count": null,
   "metadata": {
    "collapsed": false
   },
   "outputs": [],
   "source": [
    "apply_ml(perf_pix)\n",
    "\n",
    "!dot -Tpdf de_tree.dot -o de_tree.pdf"
   ]
  }
 ],
 "metadata": {
  "kernelspec": {
   "display_name": "Python 2",
   "language": "python",
   "name": "python2"
  },
  "language_info": {
   "codemirror_mode": {
    "name": "ipython",
    "version": 2
   },
   "file_extension": ".py",
   "mimetype": "text/x-python",
   "name": "python",
   "nbconvert_exporter": "python",
   "pygments_lexer": "ipython2",
   "version": "2.7.11"
  }
 },
 "nbformat": 4,
 "nbformat_minor": 0
}
