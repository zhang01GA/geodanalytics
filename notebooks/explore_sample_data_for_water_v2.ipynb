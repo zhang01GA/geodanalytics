{
 "cells": [
  {
   "cell_type": "markdown",
   "metadata": {},
   "source": [
    "# Explore samples, classified data characters"
   ]
  },
  {
   "cell_type": "markdown",
   "metadata": {},
   "source": [
    "## Analyse perfect Water/NonWater pixels characteristics"
   ]
  },
  {
   "cell_type": "code",
   "execution_count": 1,
   "metadata": {
    "collapsed": true
   },
   "outputs": [],
   "source": [
    "from __future__ import print_function\n",
    "\n",
    "import os, sys\n",
    "\n",
    "import numpy as np\n",
    "\n",
    "from numpy import genfromtxt\n",
    "\n",
    "import pandas as pd\n",
    "#import pandas.io.data\n",
    "from pandas_datareader import data, wb\n",
    "from pandas import DataFrame\n",
    "\n",
    "\n",
    "\n",
    "%matplotlib inline\n",
    "import matplotlib.pyplot as plt\n",
    "from pylab import rcParams\n",
    "rcParams['figure.figsize'] = 10, 10 # increase plot size a bit...\n",
    "rcParams['axes.formatter.useoffset'] = False  # disable scalar formatter / offset in axes labels"
   ]
  },
  {
   "cell_type": "code",
   "execution_count": 2,
   "metadata": {
    "collapsed": false
   },
   "outputs": [
    {
     "name": "stdout",
     "output_type": "stream",
     "text": [
      "all_samples_6bands_pq_class.csv  all_samples.csv  orig_copy\r\n"
     ]
    }
   ],
   "source": [
    "!ls /g/data/u46/fxz547/wofs_training_sample_data/\n",
    "#my_file_csv='/g/data/u46/fxz547/wofs_training_sample_data/orig_copy/Test_Tile_samples_20140203.csv'\n",
    "my_file_csv='/g/data/u46/fxz547/wofs_training_sample_data/all_samples_6bands_pq_class.csv'"
   ]
  },
  {
   "cell_type": "code",
   "execution_count": 3,
   "metadata": {
    "collapsed": false
   },
   "outputs": [],
   "source": [
    "df = pd.read_csv(my_file_csv)\n",
    "    "
   ]
  },
  {
   "cell_type": "code",
   "execution_count": 4,
   "metadata": {
    "collapsed": false
   },
   "outputs": [
    {
     "data": {
      "text/html": [
       "<div>\n",
       "<table border=\"1\" class=\"dataframe\">\n",
       "  <thead>\n",
       "    <tr style=\"text-align: right;\">\n",
       "      <th></th>\n",
       "      <th>Class_name</th>\n",
       "      <th>Mean_PQMas</th>\n",
       "      <th>Mean_tm1c</th>\n",
       "      <th>Mean_tm2c</th>\n",
       "      <th>Mean_tm3c</th>\n",
       "      <th>Mean_tm4c</th>\n",
       "      <th>Mean_tm5c</th>\n",
       "      <th>Mean_tm7c</th>\n",
       "    </tr>\n",
       "  </thead>\n",
       "  <tbody>\n",
       "    <tr>\n",
       "      <th>0</th>\n",
       "      <td>CloudShadow_Bare</td>\n",
       "      <td>16383.0</td>\n",
       "      <td>360.0</td>\n",
       "      <td>491.0</td>\n",
       "      <td>497.0</td>\n",
       "      <td>822.0</td>\n",
       "      <td>946.0</td>\n",
       "      <td>562.0</td>\n",
       "    </tr>\n",
       "    <tr>\n",
       "      <th>1</th>\n",
       "      <td>CloudShadow_Bare</td>\n",
       "      <td>16383.0</td>\n",
       "      <td>377.0</td>\n",
       "      <td>459.0</td>\n",
       "      <td>548.0</td>\n",
       "      <td>856.0</td>\n",
       "      <td>1060.0</td>\n",
       "      <td>594.0</td>\n",
       "    </tr>\n",
       "    <tr>\n",
       "      <th>2</th>\n",
       "      <td>CloudShadow_Bare</td>\n",
       "      <td>16383.0</td>\n",
       "      <td>410.0</td>\n",
       "      <td>555.0</td>\n",
       "      <td>600.0</td>\n",
       "      <td>890.0</td>\n",
       "      <td>1014.0</td>\n",
       "      <td>690.0</td>\n",
       "    </tr>\n",
       "    <tr>\n",
       "      <th>3</th>\n",
       "      <td>CloudShadow_Veg</td>\n",
       "      <td>16383.0</td>\n",
       "      <td>551.0</td>\n",
       "      <td>742.0</td>\n",
       "      <td>829.0</td>\n",
       "      <td>1089.0</td>\n",
       "      <td>1080.0</td>\n",
       "      <td>720.0</td>\n",
       "    </tr>\n",
       "    <tr>\n",
       "      <th>4</th>\n",
       "      <td>W_LargeBody</td>\n",
       "      <td>16383.0</td>\n",
       "      <td>408.0</td>\n",
       "      <td>842.0</td>\n",
       "      <td>807.0</td>\n",
       "      <td>1193.0</td>\n",
       "      <td>558.0</td>\n",
       "      <td>242.0</td>\n",
       "    </tr>\n",
       "  </tbody>\n",
       "</table>\n",
       "</div>"
      ],
      "text/plain": [
       "         Class_name  Mean_PQMas  Mean_tm1c  Mean_tm2c  Mean_tm3c  Mean_tm4c  \\\n",
       "0  CloudShadow_Bare     16383.0      360.0      491.0      497.0      822.0   \n",
       "1  CloudShadow_Bare     16383.0      377.0      459.0      548.0      856.0   \n",
       "2  CloudShadow_Bare     16383.0      410.0      555.0      600.0      890.0   \n",
       "3   CloudShadow_Veg     16383.0      551.0      742.0      829.0     1089.0   \n",
       "4       W_LargeBody     16383.0      408.0      842.0      807.0     1193.0   \n",
       "\n",
       "   Mean_tm5c  Mean_tm7c  \n",
       "0      946.0      562.0  \n",
       "1     1060.0      594.0  \n",
       "2     1014.0      690.0  \n",
       "3     1080.0      720.0  \n",
       "4      558.0      242.0  "
      ]
     },
     "execution_count": 4,
     "metadata": {},
     "output_type": "execute_result"
    }
   ],
   "source": [
    "df.head()"
   ]
  },
  {
   "cell_type": "code",
   "execution_count": 5,
   "metadata": {
    "collapsed": false
   },
   "outputs": [
    {
     "data": {
      "text/plain": [
       "array([ 16383.,  15871.,   8191.,   4095.,  16367.,  12287.,  15359.,\n",
       "        16255.,  16127.,  14847.,  15743.,  16382.,  10239.,  14335.,\n",
       "        16031.,  16111.,  13311.,   4079.,   3967.,  14334.,  15615.,\n",
       "        15855.,  16378.,  15358.,  12799.,  13310.,  16239.,  13306.,\n",
       "        14318.,  14319.,  16366.,  15354.,  15344.,  15346.,  16370.,\n",
       "        16368.,  13296.,  13298.,  14330.])"
      ]
     },
     "execution_count": 5,
     "metadata": {},
     "output_type": "execute_result"
    }
   ],
   "source": [
    "df.Mean_PQMas.unique()"
   ]
  },
  {
   "cell_type": "code",
   "execution_count": 6,
   "metadata": {
    "collapsed": false
   },
   "outputs": [
    {
     "data": {
      "text/plain": [
       "(6234960, 8)"
      ]
     },
     "execution_count": 6,
     "metadata": {},
     "output_type": "execute_result"
    }
   ],
   "source": [
    "df.shape"
   ]
  },
  {
   "cell_type": "code",
   "execution_count": 7,
   "metadata": {
    "collapsed": false
   },
   "outputs": [],
   "source": [
    "# add a column for Xu's MDWI (B2-B5)/(B2+B5)     Bgreen B Bshortwaveinfrared1\n",
    "import math\n",
    "\n",
    "df['MDWI_XU']=(df.Mean_tm2c - df.Mean_tm5c)/(df.Mean_tm5c + df.Mean_tm2c)\n",
    "\n",
    "#new normalized XU water index\n",
    "\n",
    "V_NORM = math.sqrt(1+1)  #The vector (1,-1)\n",
    "rscale= 1.0/V_NORM\n",
    "df['MDWI_XU_NEW']= rscale*(df.Mean_tm2c - df.Mean_tm5c)/np.sqrt(df.Mean_tm5c**2 + df.Mean_tm2c**2)"
   ]
  },
  {
   "cell_type": "code",
   "execution_count": 8,
   "metadata": {
    "collapsed": false
   },
   "outputs": [
    {
     "data": {
      "text/html": [
       "<div>\n",
       "<table border=\"1\" class=\"dataframe\">\n",
       "  <thead>\n",
       "    <tr style=\"text-align: right;\">\n",
       "      <th></th>\n",
       "      <th>Class_name</th>\n",
       "      <th>Mean_PQMas</th>\n",
       "      <th>Mean_tm1c</th>\n",
       "      <th>Mean_tm2c</th>\n",
       "      <th>Mean_tm3c</th>\n",
       "      <th>Mean_tm4c</th>\n",
       "      <th>Mean_tm5c</th>\n",
       "      <th>Mean_tm7c</th>\n",
       "      <th>MDWI_XU</th>\n",
       "      <th>MDWI_XU_NEW</th>\n",
       "    </tr>\n",
       "  </thead>\n",
       "  <tbody>\n",
       "    <tr>\n",
       "      <th>0</th>\n",
       "      <td>CloudShadow_Bare</td>\n",
       "      <td>16383.0</td>\n",
       "      <td>360.0</td>\n",
       "      <td>491.0</td>\n",
       "      <td>497.0</td>\n",
       "      <td>822.0</td>\n",
       "      <td>946.0</td>\n",
       "      <td>562.0</td>\n",
       "      <td>-0.316632</td>\n",
       "      <td>-0.301862</td>\n",
       "    </tr>\n",
       "    <tr>\n",
       "      <th>1</th>\n",
       "      <td>CloudShadow_Bare</td>\n",
       "      <td>16383.0</td>\n",
       "      <td>377.0</td>\n",
       "      <td>459.0</td>\n",
       "      <td>548.0</td>\n",
       "      <td>856.0</td>\n",
       "      <td>1060.0</td>\n",
       "      <td>594.0</td>\n",
       "      <td>-0.395655</td>\n",
       "      <td>-0.367905</td>\n",
       "    </tr>\n",
       "    <tr>\n",
       "      <th>2</th>\n",
       "      <td>CloudShadow_Bare</td>\n",
       "      <td>16383.0</td>\n",
       "      <td>410.0</td>\n",
       "      <td>555.0</td>\n",
       "      <td>600.0</td>\n",
       "      <td>890.0</td>\n",
       "      <td>1014.0</td>\n",
       "      <td>690.0</td>\n",
       "      <td>-0.292543</td>\n",
       "      <td>-0.280775</td>\n",
       "    </tr>\n",
       "    <tr>\n",
       "      <th>3</th>\n",
       "      <td>CloudShadow_Veg</td>\n",
       "      <td>16383.0</td>\n",
       "      <td>551.0</td>\n",
       "      <td>742.0</td>\n",
       "      <td>829.0</td>\n",
       "      <td>1089.0</td>\n",
       "      <td>1080.0</td>\n",
       "      <td>720.0</td>\n",
       "      <td>-0.185510</td>\n",
       "      <td>-0.182398</td>\n",
       "    </tr>\n",
       "    <tr>\n",
       "      <th>4</th>\n",
       "      <td>W_LargeBody</td>\n",
       "      <td>16383.0</td>\n",
       "      <td>408.0</td>\n",
       "      <td>842.0</td>\n",
       "      <td>807.0</td>\n",
       "      <td>1193.0</td>\n",
       "      <td>558.0</td>\n",
       "      <td>242.0</td>\n",
       "      <td>0.202857</td>\n",
       "      <td>0.198808</td>\n",
       "    </tr>\n",
       "  </tbody>\n",
       "</table>\n",
       "</div>"
      ],
      "text/plain": [
       "         Class_name  Mean_PQMas  Mean_tm1c  Mean_tm2c  Mean_tm3c  Mean_tm4c  \\\n",
       "0  CloudShadow_Bare     16383.0      360.0      491.0      497.0      822.0   \n",
       "1  CloudShadow_Bare     16383.0      377.0      459.0      548.0      856.0   \n",
       "2  CloudShadow_Bare     16383.0      410.0      555.0      600.0      890.0   \n",
       "3   CloudShadow_Veg     16383.0      551.0      742.0      829.0     1089.0   \n",
       "4       W_LargeBody     16383.0      408.0      842.0      807.0     1193.0   \n",
       "\n",
       "   Mean_tm5c  Mean_tm7c   MDWI_XU  MDWI_XU_NEW  \n",
       "0      946.0      562.0 -0.316632    -0.301862  \n",
       "1     1060.0      594.0 -0.395655    -0.367905  \n",
       "2     1014.0      690.0 -0.292543    -0.280775  \n",
       "3     1080.0      720.0 -0.185510    -0.182398  \n",
       "4      558.0      242.0  0.202857     0.198808  "
      ]
     },
     "execution_count": 8,
     "metadata": {},
     "output_type": "execute_result"
    }
   ],
   "source": [
    "df.head()"
   ]
  },
  {
   "cell_type": "code",
   "execution_count": 9,
   "metadata": {
    "collapsed": false
   },
   "outputs": [
    {
     "name": "stdout",
     "output_type": "stream",
     "text": [
      "Ref Vector Norm =  3.43693177122\n"
     ]
    }
   ],
   "source": [
    "#add the AWEI shadow Feyisa etc 2104\n",
    "df['AWEISH_FEYISA'] = (df.Mean_tm1c + 2.5*df.Mean_tm2c -1.5*df.Mean_tm4c -1.5*df.Mean_tm5c -0.25*df.Mean_tm7c)\n",
    "\n",
    "#new normalized FEYISA water shadow index\n",
    "\n",
    "V_NORM = math.sqrt(1 + 2.5*2.5 + 1.5*1.5 +1.5*1.5 + 0.25*0.25 )  #The Ref Vector (1, 2.5, -1.5, -1.5, -0.25)\n",
    "print(\"Ref Vector Norm = \", V_NORM)\n",
    "rscale= 1.0/V_NORM\n",
    "# scaled by the Band Vect Norm\n",
    "df['AWEISH_FEYISA_NEW'] = rscale*(df.Mean_tm1c + 2.5*df.Mean_tm2c -1.5*df.Mean_tm4c -1.5*df.Mean_tm5c -0.25*df.Mean_tm7c)/np.sqrt(df.Mean_tm1c**2 + df.Mean_tm2c**2 + df.Mean_tm4c**2 +df.Mean_tm5c**2 + df.Mean_tm7c**2)\n"
   ]
  },
  {
   "cell_type": "code",
   "execution_count": 10,
   "metadata": {
    "collapsed": false
   },
   "outputs": [
    {
     "data": {
      "text/html": [
       "<div>\n",
       "<table border=\"1\" class=\"dataframe\">\n",
       "  <thead>\n",
       "    <tr style=\"text-align: right;\">\n",
       "      <th></th>\n",
       "      <th>AWEISH_FEYISA</th>\n",
       "      <th>AWEISH_FEYISA_NEW</th>\n",
       "    </tr>\n",
       "  </thead>\n",
       "  <tbody>\n",
       "    <tr>\n",
       "      <th>0</th>\n",
       "      <td>-1205.0</td>\n",
       "      <td>-0.233366</td>\n",
       "    </tr>\n",
       "    <tr>\n",
       "      <th>1</th>\n",
       "      <td>-1498.0</td>\n",
       "      <td>-0.272303</td>\n",
       "    </tr>\n",
       "    <tr>\n",
       "      <th>2</th>\n",
       "      <td>-1231.0</td>\n",
       "      <td>-0.215105</td>\n",
       "    </tr>\n",
       "    <tr>\n",
       "      <th>3</th>\n",
       "      <td>-1027.5</td>\n",
       "      <td>-0.154901</td>\n",
       "    </tr>\n",
       "    <tr>\n",
       "      <th>4</th>\n",
       "      <td>-174.0</td>\n",
       "      <td>-0.030991</td>\n",
       "    </tr>\n",
       "  </tbody>\n",
       "</table>\n",
       "</div>"
      ],
      "text/plain": [
       "   AWEISH_FEYISA  AWEISH_FEYISA_NEW\n",
       "0        -1205.0          -0.233366\n",
       "1        -1498.0          -0.272303\n",
       "2        -1231.0          -0.215105\n",
       "3        -1027.5          -0.154901\n",
       "4         -174.0          -0.030991"
      ]
     },
     "execution_count": 10,
     "metadata": {},
     "output_type": "execute_result"
    }
   ],
   "source": [
    "df.iloc[:,[-2,-1]].head()"
   ]
  },
  {
   "cell_type": "code",
   "execution_count": 11,
   "metadata": {
    "collapsed": false
   },
   "outputs": [
    {
     "name": "stdout",
     "output_type": "stream",
     "text": [
      "Ref Vector Norm =  203.017240647\n"
     ]
    }
   ],
   "source": [
    "# Add A Fisher etal Linear Discrenant WI\n",
    "df['LDWI_FISHER'] = 1.7204 +171*df.Mean_tm2c + 3*df.Mean_tm3c -70*df.Mean_tm4c -45*df.Mean_tm5c -71*df.Mean_tm7c\n",
    "\n",
    "#new normalized Fisher's water shadow index, without the shift 1.7204\n",
    "\n",
    "V_NORM = math.sqrt(171*171 + 3*3 +70*70 + 45*45 + 71*71 )  #The Ref Vector (171, 3, -70, -45, -71)\n",
    "print(\"Ref Vector Norm = \", V_NORM)\n",
    "rscale= 1.0/V_NORM\n",
    "# scaled by the Band Vect Norm\n",
    "df['LDWI_FISHER_NEW'] = rscale*(171*df.Mean_tm2c + 3*df.Mean_tm3c -70*df.Mean_tm4c -45*df.Mean_tm5c -71*df.Mean_tm7c)/np.sqrt(df.Mean_tm2c**2 + df.Mean_tm3c**2 + df.Mean_tm4c**2 +df.Mean_tm5c**2 + df.Mean_tm7c**2)\n"
   ]
  },
  {
   "cell_type": "code",
   "execution_count": 12,
   "metadata": {
    "collapsed": false
   },
   "outputs": [
    {
     "data": {
      "text/html": [
       "<div>\n",
       "<table border=\"1\" class=\"dataframe\">\n",
       "  <thead>\n",
       "    <tr style=\"text-align: right;\">\n",
       "      <th></th>\n",
       "      <th>MDWI_XU</th>\n",
       "      <th>MDWI_XU_NEW</th>\n",
       "      <th>AWEISH_FEYISA</th>\n",
       "      <th>AWEISH_FEYISA_NEW</th>\n",
       "      <th>LDWI_FISHER</th>\n",
       "      <th>LDWI_FISHER_NEW</th>\n",
       "    </tr>\n",
       "  </thead>\n",
       "  <tbody>\n",
       "    <tr>\n",
       "      <th>0</th>\n",
       "      <td>-0.316632</td>\n",
       "      <td>-0.301862</td>\n",
       "      <td>-1205.0</td>\n",
       "      <td>-0.233366</td>\n",
       "      <td>-54558.2796</td>\n",
       "      <td>-0.174402</td>\n",
       "    </tr>\n",
       "    <tr>\n",
       "      <th>1</th>\n",
       "      <td>-0.395655</td>\n",
       "      <td>-0.367905</td>\n",
       "      <td>-1498.0</td>\n",
       "      <td>-0.272303</td>\n",
       "      <td>-69659.2796</td>\n",
       "      <td>-0.208046</td>\n",
       "    </tr>\n",
       "    <tr>\n",
       "      <th>2</th>\n",
       "      <td>-0.292543</td>\n",
       "      <td>-0.280775</td>\n",
       "      <td>-1231.0</td>\n",
       "      <td>-0.215105</td>\n",
       "      <td>-60213.2796</td>\n",
       "      <td>-0.172267</td>\n",
       "    </tr>\n",
       "    <tr>\n",
       "      <th>3</th>\n",
       "      <td>-0.185510</td>\n",
       "      <td>-0.182398</td>\n",
       "      <td>-1027.5</td>\n",
       "      <td>-0.154901</td>\n",
       "      <td>-46579.2796</td>\n",
       "      <td>-0.113196</td>\n",
       "    </tr>\n",
       "    <tr>\n",
       "      <th>4</th>\n",
       "      <td>0.202857</td>\n",
       "      <td>0.198808</td>\n",
       "      <td>-174.0</td>\n",
       "      <td>-0.030991</td>\n",
       "      <td>20602.7204</td>\n",
       "      <td>0.057143</td>\n",
       "    </tr>\n",
       "  </tbody>\n",
       "</table>\n",
       "</div>"
      ],
      "text/plain": [
       "    MDWI_XU  MDWI_XU_NEW  AWEISH_FEYISA  AWEISH_FEYISA_NEW  LDWI_FISHER  \\\n",
       "0 -0.316632    -0.301862        -1205.0          -0.233366  -54558.2796   \n",
       "1 -0.395655    -0.367905        -1498.0          -0.272303  -69659.2796   \n",
       "2 -0.292543    -0.280775        -1231.0          -0.215105  -60213.2796   \n",
       "3 -0.185510    -0.182398        -1027.5          -0.154901  -46579.2796   \n",
       "4  0.202857     0.198808         -174.0          -0.030991   20602.7204   \n",
       "\n",
       "   LDWI_FISHER_NEW  \n",
       "0        -0.174402  \n",
       "1        -0.208046  \n",
       "2        -0.172267  \n",
       "3        -0.113196  \n",
       "4         0.057143  "
      ]
     },
     "execution_count": 12,
     "metadata": {},
     "output_type": "execute_result"
    }
   ],
   "source": [
    "df.iloc[:,-6:].head()"
   ]
  },
  {
   "cell_type": "code",
   "execution_count": null,
   "metadata": {
    "collapsed": true
   },
   "outputs": [],
   "source": []
  },
  {
   "cell_type": "code",
   "execution_count": 13,
   "metadata": {
    "collapsed": true
   },
   "outputs": [],
   "source": [
    "# select the GA-good pixels according to the PQ flag=16383\n",
    "pdf= df[df['Mean_PQMas'] == 16383.0]  # where(Mean_PQMas=16383)"
   ]
  },
  {
   "cell_type": "code",
   "execution_count": 14,
   "metadata": {
    "collapsed": false
   },
   "outputs": [
    {
     "data": {
      "text/plain": [
       "(4937172, 14)"
      ]
     },
     "execution_count": 14,
     "metadata": {},
     "output_type": "execute_result"
    }
   ],
   "source": [
    "pdf.shape"
   ]
  },
  {
   "cell_type": "code",
   "execution_count": 15,
   "metadata": {
    "collapsed": false
   },
   "outputs": [
    {
     "data": {
      "text/html": [
       "<div>\n",
       "<table border=\"1\" class=\"dataframe\">\n",
       "  <thead>\n",
       "    <tr style=\"text-align: right;\">\n",
       "      <th></th>\n",
       "      <th>Mean_PQMas</th>\n",
       "      <th>Mean_tm1c</th>\n",
       "      <th>Mean_tm2c</th>\n",
       "      <th>Mean_tm3c</th>\n",
       "      <th>Mean_tm4c</th>\n",
       "      <th>Mean_tm5c</th>\n",
       "      <th>Mean_tm7c</th>\n",
       "      <th>MDWI_XU</th>\n",
       "      <th>MDWI_XU_NEW</th>\n",
       "      <th>AWEISH_FEYISA</th>\n",
       "      <th>AWEISH_FEYISA_NEW</th>\n",
       "      <th>LDWI_FISHER</th>\n",
       "      <th>LDWI_FISHER_NEW</th>\n",
       "    </tr>\n",
       "    <tr>\n",
       "      <th>Class_name</th>\n",
       "      <th></th>\n",
       "      <th></th>\n",
       "      <th></th>\n",
       "      <th></th>\n",
       "      <th></th>\n",
       "      <th></th>\n",
       "      <th></th>\n",
       "      <th></th>\n",
       "      <th></th>\n",
       "      <th></th>\n",
       "      <th></th>\n",
       "      <th></th>\n",
       "      <th></th>\n",
       "    </tr>\n",
       "  </thead>\n",
       "  <tbody>\n",
       "    <tr>\n",
       "      <th>Bare</th>\n",
       "      <td>823985</td>\n",
       "      <td>823985</td>\n",
       "      <td>823985</td>\n",
       "      <td>823985</td>\n",
       "      <td>823985</td>\n",
       "      <td>823985</td>\n",
       "      <td>823985</td>\n",
       "      <td>823985</td>\n",
       "      <td>823985</td>\n",
       "      <td>823985</td>\n",
       "      <td>823985</td>\n",
       "      <td>823985</td>\n",
       "      <td>823985</td>\n",
       "    </tr>\n",
       "    <tr>\n",
       "      <th>BldShadow</th>\n",
       "      <td>5348</td>\n",
       "      <td>5348</td>\n",
       "      <td>5348</td>\n",
       "      <td>5348</td>\n",
       "      <td>5348</td>\n",
       "      <td>5348</td>\n",
       "      <td>5348</td>\n",
       "      <td>5348</td>\n",
       "      <td>5348</td>\n",
       "      <td>5348</td>\n",
       "      <td>5348</td>\n",
       "      <td>5348</td>\n",
       "      <td>5348</td>\n",
       "    </tr>\n",
       "    <tr>\n",
       "      <th>CloudShadow_Bare</th>\n",
       "      <td>35265</td>\n",
       "      <td>35265</td>\n",
       "      <td>35265</td>\n",
       "      <td>35265</td>\n",
       "      <td>35265</td>\n",
       "      <td>35265</td>\n",
       "      <td>35265</td>\n",
       "      <td>35265</td>\n",
       "      <td>35265</td>\n",
       "      <td>35265</td>\n",
       "      <td>35265</td>\n",
       "      <td>35265</td>\n",
       "      <td>35265</td>\n",
       "    </tr>\n",
       "    <tr>\n",
       "      <th>CloudShadow_Veg</th>\n",
       "      <td>30765</td>\n",
       "      <td>30765</td>\n",
       "      <td>30765</td>\n",
       "      <td>30765</td>\n",
       "      <td>30765</td>\n",
       "      <td>30765</td>\n",
       "      <td>30765</td>\n",
       "      <td>30765</td>\n",
       "      <td>30765</td>\n",
       "      <td>30765</td>\n",
       "      <td>30765</td>\n",
       "      <td>30765</td>\n",
       "      <td>30765</td>\n",
       "    </tr>\n",
       "    <tr>\n",
       "      <th>CloudShadow_Water</th>\n",
       "      <td>651</td>\n",
       "      <td>651</td>\n",
       "      <td>651</td>\n",
       "      <td>651</td>\n",
       "      <td>651</td>\n",
       "      <td>651</td>\n",
       "      <td>651</td>\n",
       "      <td>651</td>\n",
       "      <td>651</td>\n",
       "      <td>651</td>\n",
       "      <td>651</td>\n",
       "      <td>651</td>\n",
       "      <td>651</td>\n",
       "    </tr>\n",
       "    <tr>\n",
       "      <th>Cropping_Bare</th>\n",
       "      <td>120054</td>\n",
       "      <td>120054</td>\n",
       "      <td>120054</td>\n",
       "      <td>120054</td>\n",
       "      <td>120054</td>\n",
       "      <td>120054</td>\n",
       "      <td>120054</td>\n",
       "      <td>120054</td>\n",
       "      <td>120054</td>\n",
       "      <td>120054</td>\n",
       "      <td>120054</td>\n",
       "      <td>120054</td>\n",
       "      <td>120054</td>\n",
       "    </tr>\n",
       "    <tr>\n",
       "      <th>Cropping_DenseVeg</th>\n",
       "      <td>67931</td>\n",
       "      <td>67931</td>\n",
       "      <td>67931</td>\n",
       "      <td>67931</td>\n",
       "      <td>67931</td>\n",
       "      <td>67931</td>\n",
       "      <td>67931</td>\n",
       "      <td>67931</td>\n",
       "      <td>67931</td>\n",
       "      <td>67931</td>\n",
       "      <td>67931</td>\n",
       "      <td>67931</td>\n",
       "      <td>67931</td>\n",
       "    </tr>\n",
       "    <tr>\n",
       "      <th>Dark_Soil</th>\n",
       "      <td>87163</td>\n",
       "      <td>87163</td>\n",
       "      <td>87163</td>\n",
       "      <td>87163</td>\n",
       "      <td>87163</td>\n",
       "      <td>87163</td>\n",
       "      <td>87163</td>\n",
       "      <td>87163</td>\n",
       "      <td>87163</td>\n",
       "      <td>87163</td>\n",
       "      <td>87163</td>\n",
       "      <td>87163</td>\n",
       "      <td>87163</td>\n",
       "    </tr>\n",
       "    <tr>\n",
       "      <th>Road</th>\n",
       "      <td>12707</td>\n",
       "      <td>12707</td>\n",
       "      <td>12707</td>\n",
       "      <td>12707</td>\n",
       "      <td>12707</td>\n",
       "      <td>12707</td>\n",
       "      <td>12707</td>\n",
       "      <td>12707</td>\n",
       "      <td>12707</td>\n",
       "      <td>12707</td>\n",
       "      <td>12707</td>\n",
       "      <td>12707</td>\n",
       "      <td>12707</td>\n",
       "    </tr>\n",
       "    <tr>\n",
       "      <th>Salt</th>\n",
       "      <td>35467</td>\n",
       "      <td>35467</td>\n",
       "      <td>35467</td>\n",
       "      <td>35467</td>\n",
       "      <td>35467</td>\n",
       "      <td>35467</td>\n",
       "      <td>35467</td>\n",
       "      <td>35467</td>\n",
       "      <td>35467</td>\n",
       "      <td>35467</td>\n",
       "      <td>35467</td>\n",
       "      <td>35467</td>\n",
       "      <td>35467</td>\n",
       "    </tr>\n",
       "    <tr>\n",
       "      <th>Snow</th>\n",
       "      <td>30948</td>\n",
       "      <td>30948</td>\n",
       "      <td>30948</td>\n",
       "      <td>30948</td>\n",
       "      <td>30948</td>\n",
       "      <td>30948</td>\n",
       "      <td>30948</td>\n",
       "      <td>30948</td>\n",
       "      <td>30948</td>\n",
       "      <td>30948</td>\n",
       "      <td>30948</td>\n",
       "      <td>30948</td>\n",
       "      <td>30948</td>\n",
       "    </tr>\n",
       "    <tr>\n",
       "      <th>TerrainShadow_Bare</th>\n",
       "      <td>397216</td>\n",
       "      <td>397216</td>\n",
       "      <td>397216</td>\n",
       "      <td>397216</td>\n",
       "      <td>397216</td>\n",
       "      <td>397216</td>\n",
       "      <td>397216</td>\n",
       "      <td>397216</td>\n",
       "      <td>397216</td>\n",
       "      <td>397216</td>\n",
       "      <td>397216</td>\n",
       "      <td>397216</td>\n",
       "      <td>397216</td>\n",
       "    </tr>\n",
       "    <tr>\n",
       "      <th>TerrainShadow_Snow</th>\n",
       "      <td>7708</td>\n",
       "      <td>7708</td>\n",
       "      <td>7708</td>\n",
       "      <td>7708</td>\n",
       "      <td>7708</td>\n",
       "      <td>7708</td>\n",
       "      <td>7708</td>\n",
       "      <td>7708</td>\n",
       "      <td>7708</td>\n",
       "      <td>7708</td>\n",
       "      <td>7708</td>\n",
       "      <td>7708</td>\n",
       "      <td>7708</td>\n",
       "    </tr>\n",
       "    <tr>\n",
       "      <th>TerrainShadow_Veg</th>\n",
       "      <td>171524</td>\n",
       "      <td>171524</td>\n",
       "      <td>171524</td>\n",
       "      <td>171524</td>\n",
       "      <td>171524</td>\n",
       "      <td>171524</td>\n",
       "      <td>171524</td>\n",
       "      <td>171524</td>\n",
       "      <td>171524</td>\n",
       "      <td>171524</td>\n",
       "      <td>171524</td>\n",
       "      <td>171524</td>\n",
       "      <td>171524</td>\n",
       "    </tr>\n",
       "    <tr>\n",
       "      <th>V_Forest</th>\n",
       "      <td>1089362</td>\n",
       "      <td>1089362</td>\n",
       "      <td>1089362</td>\n",
       "      <td>1089362</td>\n",
       "      <td>1089362</td>\n",
       "      <td>1089362</td>\n",
       "      <td>1089362</td>\n",
       "      <td>1089362</td>\n",
       "      <td>1089362</td>\n",
       "      <td>1089362</td>\n",
       "      <td>1089362</td>\n",
       "      <td>1089362</td>\n",
       "      <td>1089362</td>\n",
       "    </tr>\n",
       "    <tr>\n",
       "      <th>V_Grassland</th>\n",
       "      <td>979305</td>\n",
       "      <td>979305</td>\n",
       "      <td>979305</td>\n",
       "      <td>979305</td>\n",
       "      <td>979305</td>\n",
       "      <td>979305</td>\n",
       "      <td>979305</td>\n",
       "      <td>979305</td>\n",
       "      <td>979305</td>\n",
       "      <td>979305</td>\n",
       "      <td>979305</td>\n",
       "      <td>979305</td>\n",
       "      <td>979305</td>\n",
       "    </tr>\n",
       "    <tr>\n",
       "      <th>V_Riparian</th>\n",
       "      <td>94196</td>\n",
       "      <td>94196</td>\n",
       "      <td>94196</td>\n",
       "      <td>94196</td>\n",
       "      <td>94196</td>\n",
       "      <td>94196</td>\n",
       "      <td>94196</td>\n",
       "      <td>94196</td>\n",
       "      <td>94196</td>\n",
       "      <td>94196</td>\n",
       "      <td>94196</td>\n",
       "      <td>94196</td>\n",
       "      <td>94196</td>\n",
       "    </tr>\n",
       "    <tr>\n",
       "      <th>W_Dark</th>\n",
       "      <td>45764</td>\n",
       "      <td>45764</td>\n",
       "      <td>45764</td>\n",
       "      <td>45764</td>\n",
       "      <td>45764</td>\n",
       "      <td>45764</td>\n",
       "      <td>45764</td>\n",
       "      <td>45764</td>\n",
       "      <td>45764</td>\n",
       "      <td>45764</td>\n",
       "      <td>45764</td>\n",
       "      <td>45764</td>\n",
       "      <td>45764</td>\n",
       "    </tr>\n",
       "    <tr>\n",
       "      <th>W_Estuary</th>\n",
       "      <td>70229</td>\n",
       "      <td>70229</td>\n",
       "      <td>70229</td>\n",
       "      <td>70229</td>\n",
       "      <td>70229</td>\n",
       "      <td>70229</td>\n",
       "      <td>70229</td>\n",
       "      <td>70229</td>\n",
       "      <td>70229</td>\n",
       "      <td>70229</td>\n",
       "      <td>70229</td>\n",
       "      <td>70229</td>\n",
       "      <td>70229</td>\n",
       "    </tr>\n",
       "    <tr>\n",
       "      <th>W_LargeBody</th>\n",
       "      <td>258073</td>\n",
       "      <td>258073</td>\n",
       "      <td>258073</td>\n",
       "      <td>258073</td>\n",
       "      <td>258073</td>\n",
       "      <td>258073</td>\n",
       "      <td>258073</td>\n",
       "      <td>258073</td>\n",
       "      <td>258073</td>\n",
       "      <td>258073</td>\n",
       "      <td>258073</td>\n",
       "      <td>258073</td>\n",
       "      <td>258073</td>\n",
       "    </tr>\n",
       "    <tr>\n",
       "      <th>W_River</th>\n",
       "      <td>81021</td>\n",
       "      <td>81021</td>\n",
       "      <td>81021</td>\n",
       "      <td>81021</td>\n",
       "      <td>81021</td>\n",
       "      <td>81021</td>\n",
       "      <td>81021</td>\n",
       "      <td>81021</td>\n",
       "      <td>81021</td>\n",
       "      <td>81021</td>\n",
       "      <td>81021</td>\n",
       "      <td>81021</td>\n",
       "      <td>81021</td>\n",
       "    </tr>\n",
       "    <tr>\n",
       "      <th>W_SalineFlats</th>\n",
       "      <td>7618</td>\n",
       "      <td>7618</td>\n",
       "      <td>7618</td>\n",
       "      <td>7618</td>\n",
       "      <td>7618</td>\n",
       "      <td>7618</td>\n",
       "      <td>7618</td>\n",
       "      <td>7618</td>\n",
       "      <td>7618</td>\n",
       "      <td>7618</td>\n",
       "      <td>7618</td>\n",
       "      <td>7618</td>\n",
       "      <td>7618</td>\n",
       "    </tr>\n",
       "    <tr>\n",
       "      <th>W_Salt_Lake</th>\n",
       "      <td>128659</td>\n",
       "      <td>128659</td>\n",
       "      <td>128659</td>\n",
       "      <td>128659</td>\n",
       "      <td>128659</td>\n",
       "      <td>128659</td>\n",
       "      <td>128659</td>\n",
       "      <td>128659</td>\n",
       "      <td>128659</td>\n",
       "      <td>128659</td>\n",
       "      <td>128659</td>\n",
       "      <td>128659</td>\n",
       "      <td>128659</td>\n",
       "    </tr>\n",
       "    <tr>\n",
       "      <th>W_Sea</th>\n",
       "      <td>2435</td>\n",
       "      <td>2435</td>\n",
       "      <td>2435</td>\n",
       "      <td>2435</td>\n",
       "      <td>2435</td>\n",
       "      <td>2435</td>\n",
       "      <td>2435</td>\n",
       "      <td>2435</td>\n",
       "      <td>2435</td>\n",
       "      <td>2435</td>\n",
       "      <td>2435</td>\n",
       "      <td>2435</td>\n",
       "      <td>2435</td>\n",
       "    </tr>\n",
       "    <tr>\n",
       "      <th>W_SmallBody</th>\n",
       "      <td>51333</td>\n",
       "      <td>51333</td>\n",
       "      <td>51333</td>\n",
       "      <td>51333</td>\n",
       "      <td>51333</td>\n",
       "      <td>51333</td>\n",
       "      <td>51333</td>\n",
       "      <td>51333</td>\n",
       "      <td>51333</td>\n",
       "      <td>51333</td>\n",
       "      <td>51333</td>\n",
       "      <td>51333</td>\n",
       "      <td>51333</td>\n",
       "    </tr>\n",
       "    <tr>\n",
       "      <th>W_Swamp</th>\n",
       "      <td>61668</td>\n",
       "      <td>61668</td>\n",
       "      <td>61668</td>\n",
       "      <td>61668</td>\n",
       "      <td>61668</td>\n",
       "      <td>61668</td>\n",
       "      <td>61668</td>\n",
       "      <td>61668</td>\n",
       "      <td>61668</td>\n",
       "      <td>61668</td>\n",
       "      <td>61668</td>\n",
       "      <td>61668</td>\n",
       "      <td>61668</td>\n",
       "    </tr>\n",
       "    <tr>\n",
       "      <th>W_Turbid</th>\n",
       "      <td>206742</td>\n",
       "      <td>206742</td>\n",
       "      <td>206742</td>\n",
       "      <td>206742</td>\n",
       "      <td>206742</td>\n",
       "      <td>206742</td>\n",
       "      <td>206742</td>\n",
       "      <td>206742</td>\n",
       "      <td>206742</td>\n",
       "      <td>206742</td>\n",
       "      <td>206742</td>\n",
       "      <td>206742</td>\n",
       "      <td>206742</td>\n",
       "    </tr>\n",
       "    <tr>\n",
       "      <th>W_VegMix</th>\n",
       "      <td>34035</td>\n",
       "      <td>34035</td>\n",
       "      <td>34035</td>\n",
       "      <td>34035</td>\n",
       "      <td>34035</td>\n",
       "      <td>34035</td>\n",
       "      <td>34035</td>\n",
       "      <td>34035</td>\n",
       "      <td>34035</td>\n",
       "      <td>34035</td>\n",
       "      <td>34035</td>\n",
       "      <td>34035</td>\n",
       "      <td>34035</td>\n",
       "    </tr>\n",
       "  </tbody>\n",
       "</table>\n",
       "</div>"
      ],
      "text/plain": [
       "                    Mean_PQMas  Mean_tm1c  Mean_tm2c  Mean_tm3c  Mean_tm4c  \\\n",
       "Class_name                                                                   \n",
       "Bare                    823985     823985     823985     823985     823985   \n",
       "BldShadow                 5348       5348       5348       5348       5348   \n",
       "CloudShadow_Bare         35265      35265      35265      35265      35265   \n",
       "CloudShadow_Veg          30765      30765      30765      30765      30765   \n",
       "CloudShadow_Water          651        651        651        651        651   \n",
       "Cropping_Bare           120054     120054     120054     120054     120054   \n",
       "Cropping_DenseVeg        67931      67931      67931      67931      67931   \n",
       "Dark_Soil                87163      87163      87163      87163      87163   \n",
       "Road                     12707      12707      12707      12707      12707   \n",
       "Salt                     35467      35467      35467      35467      35467   \n",
       "Snow                     30948      30948      30948      30948      30948   \n",
       "TerrainShadow_Bare      397216     397216     397216     397216     397216   \n",
       "TerrainShadow_Snow        7708       7708       7708       7708       7708   \n",
       "TerrainShadow_Veg       171524     171524     171524     171524     171524   \n",
       "V_Forest               1089362    1089362    1089362    1089362    1089362   \n",
       "V_Grassland             979305     979305     979305     979305     979305   \n",
       "V_Riparian               94196      94196      94196      94196      94196   \n",
       "W_Dark                   45764      45764      45764      45764      45764   \n",
       "W_Estuary                70229      70229      70229      70229      70229   \n",
       "W_LargeBody             258073     258073     258073     258073     258073   \n",
       "W_River                  81021      81021      81021      81021      81021   \n",
       "W_SalineFlats             7618       7618       7618       7618       7618   \n",
       "W_Salt_Lake             128659     128659     128659     128659     128659   \n",
       "W_Sea                     2435       2435       2435       2435       2435   \n",
       "W_SmallBody              51333      51333      51333      51333      51333   \n",
       "W_Swamp                  61668      61668      61668      61668      61668   \n",
       "W_Turbid                206742     206742     206742     206742     206742   \n",
       "W_VegMix                 34035      34035      34035      34035      34035   \n",
       "\n",
       "                    Mean_tm5c  Mean_tm7c  MDWI_XU  MDWI_XU_NEW  AWEISH_FEYISA  \\\n",
       "Class_name                                                                      \n",
       "Bare                   823985     823985   823985       823985         823985   \n",
       "BldShadow                5348       5348     5348         5348           5348   \n",
       "CloudShadow_Bare        35265      35265    35265        35265          35265   \n",
       "CloudShadow_Veg         30765      30765    30765        30765          30765   \n",
       "CloudShadow_Water         651        651      651          651            651   \n",
       "Cropping_Bare          120054     120054   120054       120054         120054   \n",
       "Cropping_DenseVeg       67931      67931    67931        67931          67931   \n",
       "Dark_Soil               87163      87163    87163        87163          87163   \n",
       "Road                    12707      12707    12707        12707          12707   \n",
       "Salt                    35467      35467    35467        35467          35467   \n",
       "Snow                    30948      30948    30948        30948          30948   \n",
       "TerrainShadow_Bare     397216     397216   397216       397216         397216   \n",
       "TerrainShadow_Snow       7708       7708     7708         7708           7708   \n",
       "TerrainShadow_Veg      171524     171524   171524       171524         171524   \n",
       "V_Forest              1089362    1089362  1089362      1089362        1089362   \n",
       "V_Grassland            979305     979305   979305       979305         979305   \n",
       "V_Riparian              94196      94196    94196        94196          94196   \n",
       "W_Dark                  45764      45764    45764        45764          45764   \n",
       "W_Estuary               70229      70229    70229        70229          70229   \n",
       "W_LargeBody            258073     258073   258073       258073         258073   \n",
       "W_River                 81021      81021    81021        81021          81021   \n",
       "W_SalineFlats            7618       7618     7618         7618           7618   \n",
       "W_Salt_Lake            128659     128659   128659       128659         128659   \n",
       "W_Sea                    2435       2435     2435         2435           2435   \n",
       "W_SmallBody             51333      51333    51333        51333          51333   \n",
       "W_Swamp                 61668      61668    61668        61668          61668   \n",
       "W_Turbid               206742     206742   206742       206742         206742   \n",
       "W_VegMix                34035      34035    34035        34035          34035   \n",
       "\n",
       "                    AWEISH_FEYISA_NEW  LDWI_FISHER  LDWI_FISHER_NEW  \n",
       "Class_name                                                           \n",
       "Bare                           823985       823985           823985  \n",
       "BldShadow                        5348         5348             5348  \n",
       "CloudShadow_Bare                35265        35265            35265  \n",
       "CloudShadow_Veg                 30765        30765            30765  \n",
       "CloudShadow_Water                 651          651              651  \n",
       "Cropping_Bare                  120054       120054           120054  \n",
       "Cropping_DenseVeg               67931        67931            67931  \n",
       "Dark_Soil                       87163        87163            87163  \n",
       "Road                            12707        12707            12707  \n",
       "Salt                            35467        35467            35467  \n",
       "Snow                            30948        30948            30948  \n",
       "TerrainShadow_Bare             397216       397216           397216  \n",
       "TerrainShadow_Snow               7708         7708             7708  \n",
       "TerrainShadow_Veg              171524       171524           171524  \n",
       "V_Forest                      1089362      1089362          1089362  \n",
       "V_Grassland                    979305       979305           979305  \n",
       "V_Riparian                      94196        94196            94196  \n",
       "W_Dark                          45764        45764            45764  \n",
       "W_Estuary                       70229        70229            70229  \n",
       "W_LargeBody                    258073       258073           258073  \n",
       "W_River                         81021        81021            81021  \n",
       "W_SalineFlats                    7618         7618             7618  \n",
       "W_Salt_Lake                    128659       128659           128659  \n",
       "W_Sea                            2435         2435             2435  \n",
       "W_SmallBody                     51333        51333            51333  \n",
       "W_Swamp                         61668        61668            61668  \n",
       "W_Turbid                       206742       206742           206742  \n",
       "W_VegMix                        34035        34035            34035  "
      ]
     },
     "execution_count": 15,
     "metadata": {},
     "output_type": "execute_result"
    }
   ],
   "source": [
    "# Group by Pixel Class_name, then count the number of rows in each group\n",
    "pdf.groupby('Class_name').count()"
   ]
  },
  {
   "cell_type": "code",
   "execution_count": 16,
   "metadata": {
    "collapsed": false
   },
   "outputs": [
    {
     "data": {
      "text/html": [
       "<div>\n",
       "<table border=\"1\" class=\"dataframe\">\n",
       "  <thead>\n",
       "    <tr style=\"text-align: right;\">\n",
       "      <th></th>\n",
       "      <th>Class_name</th>\n",
       "      <th>Mean_tm1c</th>\n",
       "      <th>Mean_tm2c</th>\n",
       "      <th>Mean_tm3c</th>\n",
       "      <th>Mean_tm4c</th>\n",
       "      <th>Mean_tm5c</th>\n",
       "      <th>Mean_tm7c</th>\n",
       "      <th>MDWI_XU</th>\n",
       "      <th>MDWI_XU_NEW</th>\n",
       "      <th>AWEISH_FEYISA</th>\n",
       "      <th>AWEISH_FEYISA_NEW</th>\n",
       "      <th>LDWI_FISHER</th>\n",
       "      <th>LDWI_FISHER_NEW</th>\n",
       "    </tr>\n",
       "    <tr>\n",
       "      <th>Mean_PQMas</th>\n",
       "      <th></th>\n",
       "      <th></th>\n",
       "      <th></th>\n",
       "      <th></th>\n",
       "      <th></th>\n",
       "      <th></th>\n",
       "      <th></th>\n",
       "      <th></th>\n",
       "      <th></th>\n",
       "      <th></th>\n",
       "      <th></th>\n",
       "      <th></th>\n",
       "      <th></th>\n",
       "    </tr>\n",
       "  </thead>\n",
       "  <tbody>\n",
       "    <tr>\n",
       "      <th>16383.0</th>\n",
       "      <td>4937172</td>\n",
       "      <td>4937172</td>\n",
       "      <td>4937172</td>\n",
       "      <td>4937172</td>\n",
       "      <td>4937172</td>\n",
       "      <td>4937172</td>\n",
       "      <td>4937172</td>\n",
       "      <td>4937172</td>\n",
       "      <td>4937172</td>\n",
       "      <td>4937172</td>\n",
       "      <td>4937172</td>\n",
       "      <td>4937172</td>\n",
       "      <td>4937172</td>\n",
       "    </tr>\n",
       "  </tbody>\n",
       "</table>\n",
       "</div>"
      ],
      "text/plain": [
       "            Class_name  Mean_tm1c  Mean_tm2c  Mean_tm3c  Mean_tm4c  Mean_tm5c  \\\n",
       "Mean_PQMas                                                                      \n",
       "16383.0        4937172    4937172    4937172    4937172    4937172    4937172   \n",
       "\n",
       "            Mean_tm7c  MDWI_XU  MDWI_XU_NEW  AWEISH_FEYISA  AWEISH_FEYISA_NEW  \\\n",
       "Mean_PQMas                                                                      \n",
       "16383.0       4937172  4937172      4937172        4937172            4937172   \n",
       "\n",
       "            LDWI_FISHER  LDWI_FISHER_NEW  \n",
       "Mean_PQMas                                \n",
       "16383.0         4937172          4937172  "
      ]
     },
     "execution_count": 16,
     "metadata": {},
     "output_type": "execute_result"
    }
   ],
   "source": [
    "pdf.groupby('Mean_PQMas').count()  # perfect good pixels"
   ]
  },
  {
   "cell_type": "code",
   "execution_count": 17,
   "metadata": {
    "collapsed": false
   },
   "outputs": [
    {
     "data": {
      "text/plain": [
       "'0b11111111111111'"
      ]
     },
     "execution_count": 17,
     "metadata": {},
     "output_type": "execute_result"
    }
   ],
   "source": [
    "#perfect pixel has a quality flag 13683 in the column Mean_PQMa\n",
    "bin(16383)"
   ]
  },
  {
   "cell_type": "markdown",
   "metadata": {},
   "source": [
    "# Explore  and Discover the classified datasets characteristics \n",
    "\n",
    "See http://pandas.pydata.org/pandas-docs/stable/visualization.html\n"
   ]
  },
  {
   "cell_type": "code",
   "execution_count": 18,
   "metadata": {
    "collapsed": true
   },
   "outputs": [],
   "source": [
    "def analyze_df_subset(pdf, classname, colnames, share_x=False):\n",
    "    \"\"\"\n",
    "    Analyse a subset of the sample data, pandas dataframe pdf\n",
    "    selecting the rows with attribute value classname, and a list of columnnames\n",
    "    \"\"\"\n",
    "    # colnames =['MDWI_XU', 'AWEISH_FEYISA', 'LDWI_FISHER']\n",
    "    # classname= 'W_Sea'\n",
    "    subpdf = pdf[pdf['Class_name'] ==classname]\n",
    "    \n",
    "    Fig_Title = classname\n",
    "        \n",
    "    \n",
    "    subpdf[colnames].hist(layout=(3,1),bins=100, sharex=share_x )\n",
    "    \n",
    "    ax = plt.gca()\n",
    "    ax.set_xlim(-1, 1)\n",
    "    #ax.set_ylim(0, 1)\n",
    "\n",
    "    plt.title('Histograms for Training Sample Pixels Class Type: %s '%Fig_Title)\n",
    "\n",
    "    output_figure_name = classname+'.jpg'\n",
    "    plt.savefig(output_figure_name)\n",
    "    #subpdf[colnames].plot()\n",
    "    "
   ]
  },
  {
   "cell_type": "code",
   "execution_count": 19,
   "metadata": {
    "collapsed": false
   },
   "outputs": [],
   "source": [
    "\n",
    "colnames =['MDWI_XU', 'AWEISH_FEYISA', 'LDWI_FISHER']\n",
    "\n",
    "colnames_new =['MDWI_XU_NEW', 'AWEISH_FEYISA_NEW', 'LDWI_FISHER_NEW']\n"
   ]
  },
  {
   "cell_type": "code",
   "execution_count": 20,
   "metadata": {
    "collapsed": false
   },
   "outputs": [
    {
     "data": {
      "image/png": "[encoded data removed]",
      "text/plain": [
       "<matplotlib.figure.Figure at 0x7f2839560e10>"
      ]
     },
     "metadata": {},
     "output_type": "display_data"
    },
    {
     "data": {
      "image/png": "[encoded data removed]",
      "text/plain": [
       "<matplotlib.figure.Figure at 0x7f28234e6f10>"
      ]
     },
     "metadata": {},
     "output_type": "display_data"
    }
   ],
   "source": [
    "#colnames_new =['MDWI_XU_NEW', 'AWEISH_FEYISA_NEW', 'LDWI_FISHER_NEW']\n",
    "analyze_df_subset(pdf, 'W_Sea', colnames)\n",
    "analyze_df_subset(pdf, 'W_Sea', colnames_new, share_x=True)"
   ]
  },
  {
   "cell_type": "code",
   "execution_count": 21,
   "metadata": {
    "collapsed": false
   },
   "outputs": [
    {
     "name": "stdout",
     "output_type": "stream",
     "text": [
      "['CloudShadow_Bare' 'CloudShadow_Veg' 'W_LargeBody' 'W_Sea' 'W_Swamp'\n",
      " 'BldShadow' 'W_Estuary' 'Dark_Soil' 'W_Salt_Lake' 'CloudShadow_Water'\n",
      " 'TerrainShadow_Veg' 'W_River' 'W_SmallBody' 'W_SalineFlats' 'W_Turbid'\n",
      " 'W_Dark' 'W_VegMix' 'Road' 'Snow' 'TerrainShadow_Snow' 'Bare'\n",
      " 'Cropping_DenseVeg' 'V_Grassland' 'V_Riparian' 'V_Forest' 'Salt'\n",
      " 'TerrainShadow_Bare' 'Cropping_Bare']\n"
     ]
    }
   ],
   "source": [
    "CLS_NAME=pdf.Class_name.unique()\n",
    "print (CLS_NAME)\n",
    "ic=0"
   ]
  },
  {
   "cell_type": "code",
   "execution_count": 22,
   "metadata": {
    "collapsed": false
   },
   "outputs": [
    {
     "name": "stdout",
     "output_type": "stream",
     "text": [
      "Looking at  CloudShadow_Bare\n"
     ]
    },
    {
     "data": {
      "image/png": "[encoded data removed]",
      "text/plain": [
       "<matplotlib.figure.Figure at 0x7f2823228e10>"
      ]
     },
     "metadata": {},
     "output_type": "display_data"
    },
    {
     "data": {
      "image/png": "[encoded data removed]",
      "text/plain": [
       "<matplotlib.figure.Figure at 0x7f282233c950>"
      ]
     },
     "metadata": {},
     "output_type": "display_data"
    }
   ],
   "source": [
    "# loop over all classes to show histograms \n",
    "if (ic >= len(CLS_NAME)):\n",
    "    ic=0\n",
    "else:\n",
    "    pass\n",
    "\n",
    "cname=CLS_NAME[ic]\n",
    "print ('Looking at ',cname)\n",
    "\n",
    "analyze_df_subset(pdf, cname, colnames)\n",
    "\n",
    "analyze_df_subset(pdf, cname, colnames_new, share_x=True)\n",
    "\n",
    "#dfs.shape\n",
    "\n",
    "# X_ = dfs[pred_cols].values\n",
    "\n",
    "# print len(X_)\n",
    "# prod = proj2pe(X_)\n",
    "\n",
    "ic=ic+1\n"
   ]
  },
  {
   "cell_type": "code",
   "execution_count": null,
   "metadata": {
    "collapsed": true
   },
   "outputs": [],
   "source": []
  },
  {
   "cell_type": "code",
   "execution_count": null,
   "metadata": {
    "collapsed": true
   },
   "outputs": [],
   "source": []
  },
  {
   "cell_type": "markdown",
   "metadata": {},
   "source": [
    "# Separate the Water and NonWater Pixels"
   ]
  },
  {
   "cell_type": "code",
   "execution_count": 23,
   "metadata": {
    "collapsed": false
   },
   "outputs": [
    {
     "name": "stderr",
     "output_type": "stream",
     "text": [
      "/g/data1/u46/users/fxz547/anaconda2/lib/python2.7/site-packages/ipykernel/__main__.py:3: SettingWithCopyWarning: \n",
      "A value is trying to be set on a copy of a slice from a DataFrame.\n",
      "Try using .loc[row_indexer,col_indexer] = value instead\n",
      "\n",
      "See the caveats in the documentation: http://pandas.pydata.org/pandas-docs/stable/indexing.html#indexing-view-versus-copy\n",
      "  app.launch_new_instance()\n",
      "/g/data1/u46/users/fxz547/anaconda2/lib/python2.7/site-packages/ipykernel/__main__.py:5: SettingWithCopyWarning: \n",
      "A value is trying to be set on a copy of a slice from a DataFrame.\n",
      "Try using .loc[row_indexer,col_indexer] = value instead\n",
      "\n",
      "See the caveats in the documentation: http://pandas.pydata.org/pandas-docs/stable/indexing.html#indexing-view-versus-copy\n",
      "/g/data/u46/fxz547/anaconda2/lib/python2.7/site-packages/pandas/core/indexing.py:461: SettingWithCopyWarning: \n",
      "A value is trying to be set on a copy of a slice from a DataFrame.\n",
      "Try using .loc[row_indexer,col_indexer] = value instead\n",
      "\n",
      "See the caveats in the documentation: http://pandas.pydata.org/pandas-docs/stable/indexing.html#indexing-view-versus-copy\n",
      "  self.obj[item] = s\n"
     ]
    },
    {
     "name": "stdout",
     "output_type": "stream",
     "text": [
      "(948228, 15) (3988944, 15)\n"
     ]
    }
   ],
   "source": [
    "# Add a new column  Assign W_* into Water; all other classes into NotWater. Binary classes\n",
    "\n",
    "pdf['water01'] = 0 # add a new column myclass\n",
    "# change the column myclass to datatype uint8\n",
    "pdf['water01'] =pdf['water01'].astype('uint8')\n",
    "\n",
    "w_condition= pdf.Class_name.str.startswith('W') | pdf.Class_name.str.endswith('_Water')   #match('^W_*') and CloudShadow_Water\n",
    "\n",
    "pdf.loc[w_condition, 'water01'] = 128 #redefine 'Water'\n",
    "\n",
    "\n",
    "dfwater=pdf[pdf['water01'] == 128]\n",
    "dfnowater= pdf[pdf['water01'] ==0]\n",
    "\n",
    "print(dfwater.shape, dfnowater.shape)"
   ]
  },
  {
   "cell_type": "code",
   "execution_count": 24,
   "metadata": {
    "collapsed": false
   },
   "outputs": [
    {
     "data": {
      "text/plain": [
       "dtype('uint8')"
      ]
     },
     "execution_count": 24,
     "metadata": {},
     "output_type": "execute_result"
    }
   ],
   "source": [
    "dfwater.water01.dtype"
   ]
  },
  {
   "cell_type": "code",
   "execution_count": 25,
   "metadata": {
    "collapsed": false
   },
   "outputs": [
    {
     "data": {
      "text/html": [
       "<div>\n",
       "<table border=\"1\" class=\"dataframe\">\n",
       "  <thead>\n",
       "    <tr style=\"text-align: right;\">\n",
       "      <th></th>\n",
       "      <th>Class_name</th>\n",
       "      <th>Mean_PQMas</th>\n",
       "      <th>Mean_tm1c</th>\n",
       "      <th>Mean_tm2c</th>\n",
       "      <th>Mean_tm3c</th>\n",
       "      <th>Mean_tm4c</th>\n",
       "      <th>Mean_tm5c</th>\n",
       "      <th>Mean_tm7c</th>\n",
       "      <th>MDWI_XU</th>\n",
       "      <th>MDWI_XU_NEW</th>\n",
       "      <th>AWEISH_FEYISA</th>\n",
       "      <th>AWEISH_FEYISA_NEW</th>\n",
       "      <th>LDWI_FISHER</th>\n",
       "      <th>LDWI_FISHER_NEW</th>\n",
       "      <th>water01</th>\n",
       "    </tr>\n",
       "  </thead>\n",
       "  <tbody>\n",
       "    <tr>\n",
       "      <th>0</th>\n",
       "      <td>CloudShadow_Bare</td>\n",
       "      <td>16383.0</td>\n",
       "      <td>360.0</td>\n",
       "      <td>491.0</td>\n",
       "      <td>497.0</td>\n",
       "      <td>822.0</td>\n",
       "      <td>946.0</td>\n",
       "      <td>562.0</td>\n",
       "      <td>-0.316632</td>\n",
       "      <td>-0.301862</td>\n",
       "      <td>-1205.0</td>\n",
       "      <td>-0.233366</td>\n",
       "      <td>-54558.2796</td>\n",
       "      <td>-0.174402</td>\n",
       "      <td>0</td>\n",
       "    </tr>\n",
       "    <tr>\n",
       "      <th>1</th>\n",
       "      <td>CloudShadow_Bare</td>\n",
       "      <td>16383.0</td>\n",
       "      <td>377.0</td>\n",
       "      <td>459.0</td>\n",
       "      <td>548.0</td>\n",
       "      <td>856.0</td>\n",
       "      <td>1060.0</td>\n",
       "      <td>594.0</td>\n",
       "      <td>-0.395655</td>\n",
       "      <td>-0.367905</td>\n",
       "      <td>-1498.0</td>\n",
       "      <td>-0.272303</td>\n",
       "      <td>-69659.2796</td>\n",
       "      <td>-0.208046</td>\n",
       "      <td>0</td>\n",
       "    </tr>\n",
       "    <tr>\n",
       "      <th>2</th>\n",
       "      <td>CloudShadow_Bare</td>\n",
       "      <td>16383.0</td>\n",
       "      <td>410.0</td>\n",
       "      <td>555.0</td>\n",
       "      <td>600.0</td>\n",
       "      <td>890.0</td>\n",
       "      <td>1014.0</td>\n",
       "      <td>690.0</td>\n",
       "      <td>-0.292543</td>\n",
       "      <td>-0.280775</td>\n",
       "      <td>-1231.0</td>\n",
       "      <td>-0.215105</td>\n",
       "      <td>-60213.2796</td>\n",
       "      <td>-0.172267</td>\n",
       "      <td>0</td>\n",
       "    </tr>\n",
       "    <tr>\n",
       "      <th>3</th>\n",
       "      <td>CloudShadow_Veg</td>\n",
       "      <td>16383.0</td>\n",
       "      <td>551.0</td>\n",
       "      <td>742.0</td>\n",
       "      <td>829.0</td>\n",
       "      <td>1089.0</td>\n",
       "      <td>1080.0</td>\n",
       "      <td>720.0</td>\n",
       "      <td>-0.185510</td>\n",
       "      <td>-0.182398</td>\n",
       "      <td>-1027.5</td>\n",
       "      <td>-0.154901</td>\n",
       "      <td>-46579.2796</td>\n",
       "      <td>-0.113196</td>\n",
       "      <td>0</td>\n",
       "    </tr>\n",
       "    <tr>\n",
       "      <th>4</th>\n",
       "      <td>W_LargeBody</td>\n",
       "      <td>16383.0</td>\n",
       "      <td>408.0</td>\n",
       "      <td>842.0</td>\n",
       "      <td>807.0</td>\n",
       "      <td>1193.0</td>\n",
       "      <td>558.0</td>\n",
       "      <td>242.0</td>\n",
       "      <td>0.202857</td>\n",
       "      <td>0.198808</td>\n",
       "      <td>-174.0</td>\n",
       "      <td>-0.030991</td>\n",
       "      <td>20602.7204</td>\n",
       "      <td>0.057143</td>\n",
       "      <td>128</td>\n",
       "    </tr>\n",
       "  </tbody>\n",
       "</table>\n",
       "</div>"
      ],
      "text/plain": [
       "         Class_name  Mean_PQMas  Mean_tm1c  Mean_tm2c  Mean_tm3c  Mean_tm4c  \\\n",
       "0  CloudShadow_Bare     16383.0      360.0      491.0      497.0      822.0   \n",
       "1  CloudShadow_Bare     16383.0      377.0      459.0      548.0      856.0   \n",
       "2  CloudShadow_Bare     16383.0      410.0      555.0      600.0      890.0   \n",
       "3   CloudShadow_Veg     16383.0      551.0      742.0      829.0     1089.0   \n",
       "4       W_LargeBody     16383.0      408.0      842.0      807.0     1193.0   \n",
       "\n",
       "   Mean_tm5c  Mean_tm7c   MDWI_XU  MDWI_XU_NEW  AWEISH_FEYISA  \\\n",
       "0      946.0      562.0 -0.316632    -0.301862        -1205.0   \n",
       "1     1060.0      594.0 -0.395655    -0.367905        -1498.0   \n",
       "2     1014.0      690.0 -0.292543    -0.280775        -1231.0   \n",
       "3     1080.0      720.0 -0.185510    -0.182398        -1027.5   \n",
       "4      558.0      242.0  0.202857     0.198808         -174.0   \n",
       "\n",
       "   AWEISH_FEYISA_NEW  LDWI_FISHER  LDWI_FISHER_NEW  water01  \n",
       "0          -0.233366  -54558.2796        -0.174402        0  \n",
       "1          -0.272303  -69659.2796        -0.208046        0  \n",
       "2          -0.215105  -60213.2796        -0.172267        0  \n",
       "3          -0.154901  -46579.2796        -0.113196        0  \n",
       "4          -0.030991   20602.7204         0.057143      128  "
      ]
     },
     "execution_count": 25,
     "metadata": {},
     "output_type": "execute_result"
    }
   ],
   "source": [
    "pdf.head()"
   ]
  },
  {
   "cell_type": "code",
   "execution_count": 26,
   "metadata": {
    "collapsed": false
   },
   "outputs": [
    {
     "data": {
      "text/plain": [
       "array([[<matplotlib.axes._subplots.AxesSubplot object at 0x7f2822956190>],\n",
       "       [<matplotlib.axes._subplots.AxesSubplot object at 0x7f28226cd050>],\n",
       "       [<matplotlib.axes._subplots.AxesSubplot object at 0x7f28226e8610>]], dtype=object)"
      ]
     },
     "execution_count": 26,
     "metadata": {},
     "output_type": "execute_result"
    },
    {
     "data": {
      "image/png": "[encoded data removed]",
      "text/plain": [
       "<matplotlib.figure.Figure at 0x7f28229561d0>"
      ]
     },
     "metadata": {},
     "output_type": "display_data"
    }
   ],
   "source": [
    "dfwater[colnames_new].hist(layout=(3,1),bins=100, sharex=True )"
   ]
  },
  {
   "cell_type": "code",
   "execution_count": 27,
   "metadata": {
    "collapsed": false
   },
   "outputs": [
    {
     "data": {
      "text/plain": [
       "array([[<matplotlib.axes._subplots.AxesSubplot object at 0x7f2823532f90>],\n",
       "       [<matplotlib.axes._subplots.AxesSubplot object at 0x7f2823df3610>],\n",
       "       [<matplotlib.axes._subplots.AxesSubplot object at 0x7f2822ca69d0>]], dtype=object)"
      ]
     },
     "execution_count": 27,
     "metadata": {},
     "output_type": "execute_result"
    },
    {
     "data": {
      "image/png": "[encoded data removed]",
      "text/plain": [
       "<matplotlib.figure.Figure at 0x7f282251c850>"
      ]
     },
     "metadata": {},
     "output_type": "display_data"
    }
   ],
   "source": [
    "dfnowater[colnames_new].hist(layout=(3,1),bins=100, sharex=True )"
   ]
  },
  {
   "cell_type": "code",
   "execution_count": 28,
   "metadata": {
    "collapsed": false
   },
   "outputs": [
    {
     "data": {
      "text/plain": [
       "array([[<matplotlib.axes._subplots.AxesSubplot object at 0x7f2822956bd0>],\n",
       "       [<matplotlib.axes._subplots.AxesSubplot object at 0x7f2822feba50>],\n",
       "       [<matplotlib.axes._subplots.AxesSubplot object at 0x7f2822b6b2d0>]], dtype=object)"
      ]
     },
     "execution_count": 28,
     "metadata": {},
     "output_type": "execute_result"
    },
    {
     "data": {
      "image/png": "[encoded data removed]",
      "text/plain": [
       "<matplotlib.figure.Figure at 0x7f28229dd550>"
      ]
     },
     "metadata": {},
     "output_type": "display_data"
    }
   ],
   "source": [
    "pdf[colnames_new].hist(layout=(3,1),bins=100, sharex=True )"
   ]
  },
  {
   "cell_type": "code",
   "execution_count": 29,
   "metadata": {
    "collapsed": false
   },
   "outputs": [
    {
     "data": {
      "text/plain": [
       "array([[<matplotlib.axes._subplots.AxesSubplot object at 0x7f28233abad0>],\n",
       "       [<matplotlib.axes._subplots.AxesSubplot object at 0x7f2822077ad0>],\n",
       "       [<matplotlib.axes._subplots.AxesSubplot object at 0x7f27b1545e50>]], dtype=object)"
      ]
     },
     "execution_count": 29,
     "metadata": {},
     "output_type": "execute_result"
    },
    {
     "data": {
      "image/png": "[encoded data removed]",
      "text/plain": [
       "<matplotlib.figure.Figure at 0x7f282252b390>"
      ]
     },
     "metadata": {},
     "output_type": "display_data"
    }
   ],
   "source": [
    "dfnowater[colnames].hist(layout=(3,1),bins=100, sharex=False )"
   ]
  },
  {
   "cell_type": "code",
   "execution_count": 30,
   "metadata": {
    "collapsed": false
   },
   "outputs": [
    {
     "data": {
      "text/plain": [
       "<matplotlib.axes._subplots.AxesSubplot at 0x7f2823194190>"
      ]
     },
     "execution_count": 30,
     "metadata": {},
     "output_type": "execute_result"
    },
    {
     "data": {
      "image/png": "[encoded data removed]",
      "text/plain": [
       "<matplotlib.figure.Figure at 0x7f27b143a890>"
      ]
     },
     "metadata": {},
     "output_type": "display_data"
    }
   ],
   "source": [
    "\n",
    "ax= dfnowater.plot.scatter(x='Mean_tm5c', y='Mean_tm2c',color='Orange', label='Non-Water') #,marker = '*');\n",
    "\n",
    "dfwater.plot.scatter(x='Mean_tm5c', y='Mean_tm2c',  color='Blue', label='Water', ax=ax)"
   ]
  },
  {
   "cell_type": "code",
   "execution_count": null,
   "metadata": {
    "collapsed": true
   },
   "outputs": [],
   "source": []
  },
  {
   "cell_type": "code",
   "execution_count": null,
   "metadata": {
    "collapsed": false
   },
   "outputs": [],
   "source": []
  },
  {
   "cell_type": "markdown",
   "metadata": {
    "collapsed": true
   },
   "source": [
    "# Feature Selection"
   ]
  },
  {
   "cell_type": "code",
   "execution_count": 31,
   "metadata": {
    "collapsed": false
   },
   "outputs": [
    {
     "data": {
      "text/plain": [
       "Index([u'Class_name', u'Mean_PQMas', u'Mean_tm1c', u'Mean_tm2c', u'Mean_tm3c',\n",
       "       u'Mean_tm4c', u'Mean_tm5c', u'Mean_tm7c', u'MDWI_XU', u'MDWI_XU_NEW',\n",
       "       u'AWEISH_FEYISA', u'AWEISH_FEYISA_NEW', u'LDWI_FISHER',\n",
       "       u'LDWI_FISHER_NEW', u'water01'],\n",
       "      dtype='object')"
      ]
     },
     "execution_count": 31,
     "metadata": {},
     "output_type": "execute_result"
    }
   ],
   "source": [
    "pdf.columns"
   ]
  },
  {
   "cell_type": "code",
   "execution_count": 32,
   "metadata": {
    "collapsed": false
   },
   "outputs": [
    {
     "name": "stdout",
     "output_type": "stream",
     "text": [
      "['Class_name', 'Mean_PQMas', 'Mean_tm1c', 'Mean_tm2c', 'Mean_tm3c', 'Mean_tm4c', 'Mean_tm5c', 'Mean_tm7c', 'MDWI_XU', 'MDWI_XU_NEW', 'AWEISH_FEYISA', 'AWEISH_FEYISA_NEW', 'LDWI_FISHER', 'LDWI_FISHER_NEW', 'water01']\n"
     ]
    }
   ],
   "source": [
    "clm_list = []\n",
    "for column in pdf.columns: clm_list.append(column)\n",
    "    \n",
    "print (clm_list)"
   ]
  },
  {
   "cell_type": "code",
   "execution_count": 33,
   "metadata": {
    "collapsed": false
   },
   "outputs": [
    {
     "name": "stdout",
     "output_type": "stream",
     "text": [
      "['Mean_tm1c', 'Mean_tm2c', 'Mean_tm3c', 'Mean_tm4c', 'Mean_tm5c', 'Mean_tm7c', 'MDWI_XU', 'MDWI_XU_NEW', 'AWEISH_FEYISA', 'AWEISH_FEYISA_NEW', 'LDWI_FISHER', 'LDWI_FISHER_NEW']\n"
     ]
    }
   ],
   "source": [
    "#  feature attributes as predictive columns\n",
    "# Note that the order of these variables does not matter. The same decision tree will be arrived\n",
    "pred_cols =clm_list[2:-1]\n",
    "\n",
    "print (pred_cols)"
   ]
  },
  {
   "cell_type": "code",
   "execution_count": 34,
   "metadata": {
    "collapsed": false
   },
   "outputs": [
    {
     "name": "stdout",
     "output_type": "stream",
     "text": [
      "(4937172, 12) <type 'numpy.ndarray'> float64\n",
      "(4937172,) uint8\n"
     ]
    }
   ],
   "source": [
    "#select the columns values into numpy array, in preparation for scikit-learn \n",
    "\n",
    "X= pdf[pred_cols].values\n",
    "\n",
    "y = pdf['water01'].values  # the new column myclass\n",
    "       \n",
    "print (X.shape, type(X), X.dtype)\n",
    "print (y.shape, y.dtype)"
   ]
  },
  {
   "cell_type": "code",
   "execution_count": 35,
   "metadata": {
    "collapsed": false
   },
   "outputs": [
    {
     "name": "stdout",
     "output_type": "stream",
     "text": [
      "[ True  True False False  True False False False False False False False]\n",
      "[ 1  1  2  5  1  3  7  8  4  9  6 10]\n"
     ]
    }
   ],
   "source": [
    "\n",
    "# Recursive Feature Elimination\n",
    "from sklearn import datasets\n",
    "from sklearn.feature_selection import RFE\n",
    "from sklearn.linear_model import LogisticRegression\n",
    "# load the iris datasets\n",
    "dataset = datasets.load_iris()\n",
    "# create a base classifier used to evaluate a subset of attributes\n",
    "model = LogisticRegression()\n",
    "# create the RFE model and select 3 attributes\n",
    "rfe = RFE(model, 3)\n",
    "#Orig  rfe = rfe.fit(dataset.data, dataset.target)\n",
    "rfe = rfe.fit(X, y)\n",
    "# summarize the selection of the attributes\n",
    "print(rfe.support_)\n",
    "print(rfe.ranking_)"
   ]
  },
  {
   "cell_type": "code",
   "execution_count": 36,
   "metadata": {
    "collapsed": false
   },
   "outputs": [
    {
     "name": "stdout",
     "output_type": "stream",
     "text": [
      "[ 0.02049598  0.0215369   0.01929127  0.0202224   0.11355921  0.06708693\n",
      "  0.11987607  0.14614417  0.14001307  0.11718229  0.08026994  0.13432175]\n"
     ]
    }
   ],
   "source": [
    "from sklearn import datasets\n",
    "from sklearn import metrics\n",
    "from sklearn.ensemble import ExtraTreesClassifier\n",
    "# load the iris datasets\n",
    "dataset = datasets.load_iris()\n",
    "# fit an Extra Trees model to the data\n",
    "model = ExtraTreesClassifier()\n",
    "\n",
    "### model.fit(dataset.data, dataset.target)\n",
    "model.fit(X, y)\n",
    "\n",
    "# display the relative importance of each attribute\n",
    "print(model.feature_importances_)"
   ]
  },
  {
   "cell_type": "code",
   "execution_count": 37,
   "metadata": {
    "collapsed": true
   },
   "outputs": [],
   "source": [
    "MaxDepth=3\n",
    "from sklearn import tree\n",
    "def detree_of(MaxDepth):\n",
    "    clf = tree.DecisionTreeClassifier(max_depth= MaxDepth)\n",
    "    clf = clf.fit(X, y)\n",
    "\n",
    "    print(clf.feature_importances_)\n",
    "    \n",
    "    return clf"
   ]
  },
  {
   "cell_type": "code",
   "execution_count": 38,
   "metadata": {
    "collapsed": false
   },
   "outputs": [
    {
     "name": "stdout",
     "output_type": "stream",
     "text": [
      "[ 0.  0.  0.  0.  0.  0.  1.  0.  0.  0.  0.  0.]\n",
      "[ 0.          0.          0.          0.06428538  0.          0.\n",
      "  0.91796432  0.0177503   0.          0.          0.          0.        ]\n",
      "[ 0.          0.          0.          0.06278389  0.0203938   0.00296293\n",
      "  0.01733571  0.89652368  0.          0.          0.          0.        ]\n",
      "[  3.89160422e-04   0.00000000e+00   2.80049243e-03   6.22459036e-02\n",
      "   2.01432986e-02   2.92633109e-03   8.85450142e-01   2.28186929e-02\n",
      "   0.00000000e+00   0.00000000e+00   3.22597863e-03   0.00000000e+00]\n",
      "[  4.63525287e-03   0.00000000e+00   2.79909911e-03   6.74161746e-02\n",
      "   2.00425207e-02   3.97554485e-03   8.97790548e-01   0.00000000e+00\n",
      "   1.15569932e-05   0.00000000e+00   3.32930291e-03   0.00000000e+00]\n",
      "[  6.88867735e-03   2.14083330e-03   2.77449765e-03   7.02056511e-02\n",
      "   1.98648005e-02   4.20257627e-03   2.23774404e-02   8.67876702e-01\n",
      "   1.14451088e-05   3.18391250e-05   3.52768173e-03   9.78555139e-05]\n",
      "[  7.36135271e-03   3.99737649e-03   3.25065502e-03   7.30012347e-02\n",
      "   2.08583738e-02   5.18140866e-03   8.74291666e-01   6.62147930e-03\n",
      "   1.44917891e-05   5.07333007e-04   4.48244481e-03   4.32183672e-04]\n",
      "[  7.56071543e-03   7.02106676e-03   4.42296409e-03   7.56270553e-02\n",
      "   2.07748979e-02   5.73207260e-03   8.49805293e-01   2.30338541e-02\n",
      "   1.63719629e-05   5.17297620e-04   4.56150907e-03   9.26902353e-04]\n",
      "[  9.02064131e-03   9.28560471e-03   6.17720189e-03   7.90783175e-02\n",
      "   2.05699653e-02   6.63198674e-03   8.40443015e-01   2.25608712e-02\n",
      "   1.23325693e-04   6.00576835e-04   4.56057349e-03   9.47920406e-04]\n",
      "[  1.07641168e-02   1.26365989e-02   7.24060859e-03   7.96546879e-02\n",
      "   2.07309497e-02   7.03967762e-03   8.37890454e-01   1.70044990e-02\n",
      "   1.83120739e-04   8.69609579e-04   4.76709211e-03   1.21858506e-03]\n"
     ]
    },
    {
     "data": {
      "text/plain": [
       "DecisionTreeClassifier(class_weight=None, criterion='gini', max_depth=10,\n",
       "            max_features=None, max_leaf_nodes=None, min_samples_leaf=1,\n",
       "            min_samples_split=2, min_weight_fraction_leaf=0.0,\n",
       "            presort=False, random_state=None, splitter='best')"
      ]
     },
     "execution_count": 38,
     "metadata": {},
     "output_type": "execute_result"
    }
   ],
   "source": [
    "detree_of(1)\n",
    "detree_of(2)\n",
    "detree_of(3)\n",
    "detree_of(4)\n",
    "detree_of(5)\n",
    "detree_of(6)\n",
    "detree_of(7)\n",
    "detree_of(8)\n",
    "detree_of(9)\n",
    "detree_of(10)"
   ]
  },
  {
   "cell_type": "code",
   "execution_count": 39,
   "metadata": {
    "collapsed": false
   },
   "outputs": [
    {
     "name": "stdout",
     "output_type": "stream",
     "text": [
      "which coluns are selected for ki=  1\n",
      "[[-0.30186156]\n",
      " [-0.36790511]\n",
      " [-0.28077507]\n",
      " [-0.18239844]\n",
      " [ 0.19880781]]\n",
      "which coluns are selected for ki=  2\n",
      "[[-0.31663187 -0.30186156]\n",
      " [-0.39565504 -0.36790511]\n",
      " [-0.29254302 -0.28077507]\n",
      " [-0.18551043 -0.18239844]\n",
      " [ 0.20285714  0.19880781]]\n",
      "which coluns are selected for ki=  3\n",
      "[[-0.31663187 -0.30186156 -0.17440231]\n",
      " [-0.39565504 -0.36790511 -0.20804621]\n",
      " [-0.29254302 -0.28077507 -0.1722669 ]\n",
      " [-0.18551043 -0.18239844 -0.11319647]\n",
      " [ 0.20285714  0.19880781  0.05714346]]\n",
      "which coluns are selected for ki=  4\n",
      "[[-0.31663187 -0.30186156 -0.2333664  -0.17440231]\n",
      " [-0.39565504 -0.36790511 -0.27230328 -0.20804621]\n",
      " [-0.29254302 -0.28077507 -0.21510461 -0.1722669 ]\n",
      " [-0.18551043 -0.18239844 -0.15490107 -0.11319647]\n",
      " [ 0.20285714  0.19880781 -0.03099104  0.05714346]]\n",
      "which coluns are selected for ki=  5\n",
      "[[ -3.16631872e-01  -3.01861556e-01  -1.20500000e+03  -2.33366402e-01\n",
      "   -1.74402315e-01]\n",
      " [ -3.95655036e-01  -3.67905113e-01  -1.49800000e+03  -2.72303276e-01\n",
      "   -2.08046205e-01]\n",
      " [ -2.92543021e-01  -2.80775068e-01  -1.23100000e+03  -2.15104611e-01\n",
      "   -1.72266896e-01]\n",
      " [ -1.85510428e-01  -1.82398435e-01  -1.02750000e+03  -1.54901073e-01\n",
      "   -1.13196466e-01]\n",
      " [  2.02857143e-01   1.98807809e-01  -1.74000000e+02  -3.09910428e-02\n",
      "    5.71434607e-02]]\n",
      "which coluns are selected for ki=  6\n",
      "[[ -3.16631872e-01  -3.01861556e-01  -1.20500000e+03  -2.33366402e-01\n",
      "   -5.45582796e+04  -1.74402315e-01]\n",
      " [ -3.95655036e-01  -3.67905113e-01  -1.49800000e+03  -2.72303276e-01\n",
      "   -6.96592796e+04  -2.08046205e-01]\n",
      " [ -2.92543021e-01  -2.80775068e-01  -1.23100000e+03  -2.15104611e-01\n",
      "   -6.02132796e+04  -1.72266896e-01]\n",
      " [ -1.85510428e-01  -1.82398435e-01  -1.02750000e+03  -1.54901073e-01\n",
      "   -4.65792796e+04  -1.13196466e-01]\n",
      " [  2.02857143e-01   1.98807809e-01  -1.74000000e+02  -3.09910428e-02\n",
      "    2.06027204e+04   5.71434607e-02]]\n"
     ]
    }
   ],
   "source": [
    "from sklearn.feature_selection import SelectKBest\n",
    "from sklearn.feature_selection import chi2\n",
    "# iris = load_iris()\n",
    "# X, y = iris.data, iris.target\n",
    "for ki in xrange(1,7):\n",
    "    \n",
    "    X_selected = SelectKBest(k=ki).fit_transform(X, y)\n",
    "    print('which coluns are selected for ki= ', ki)\n",
    "    print(X_selected[:5])"
   ]
  },
  {
   "cell_type": "raw",
   "metadata": {},
   "source": [
    "#select 3 most important\n",
    " \tClass_name \tMean_PQMas \tMean_tm1c \tMean_tm2c \tMean_tm3c \tMean_tm4c \tMean_tm5c \tMean_tm7c \tMDWI_XU \tMDWI_XU_NEW \tAWEISH_FEYISA \tAWEISH_FEYISA_NEW \tLDWI_FISHER \tLDWI_FISHER_NEW \twater01\n",
    "0 \tCloudShadow_Bare \t16383.0 \t360.0 \t491.0 \t497.0 \t822.0 \t946.0 \t562.0 \t-0.316632 \t-0.301862 \t-1205.0 \t-0.233366 \t-54558.2796 \t-0.174402 \t0\n",
    "1 \tCloudShadow_Bare \t16383.0 \t377.0 \t459.0 \t548.0 \t856.0 \t1060.0 \t594.0 \t-0.395655 \t-0.367905 \t-1498.0 \t-0.272303 \t-69659.2796 \t-0.208046 \t0\n",
    "2 \t"
   ]
  },
  {
   "cell_type": "code",
   "execution_count": null,
   "metadata": {
    "collapsed": true
   },
   "outputs": [],
   "source": []
  },
  {
   "cell_type": "code",
   "execution_count": 40,
   "metadata": {
    "collapsed": false
   },
   "outputs": [],
   "source": [
    "def plot_forest_importances(X,y):\n",
    "\n",
    "    \"\"\" plot_forest_importances.py\n",
    "    =========================================\n",
    "    Feature importances with forests of trees\n",
    "    =========================================\n",
    "\n",
    "    This examples shows the use of forests of trees to evaluate the importance of\n",
    "    features on an artificial classification task. The red bars are the feature\n",
    "    importances of the forest, along with their inter-trees variability.\n",
    "\n",
    "    As expected, the plot suggests that 3 features are informative, while the\n",
    "    remaining are not.\n",
    "    \"\"\"\n",
    "    #print(__doc__)\n",
    "\n",
    "    import numpy as np\n",
    "\n",
    "    from sklearn.datasets import make_classification\n",
    "    from sklearn.ensemble import ExtraTreesClassifier\n",
    "\n",
    "    # Build a classification task using 3 informative features\n",
    "#     X, y = make_classification(n_samples=1000,\n",
    "#                                n_features=10,\n",
    "#                                n_informative=3,\n",
    "#                                n_redundant=0,\n",
    "#                                n_repeated=0,\n",
    "#                                n_classes=2,\n",
    "#                                random_state=0,\n",
    "#                                shuffle=False)\n",
    "\n",
    "    # Build a forest and compute the feature importances\n",
    "    forest = ExtraTreesClassifier(n_estimators=250,\n",
    "                                  random_state=0)\n",
    "\n",
    "    forest.fit(X, y)\n",
    "    importances = forest.feature_importances_\n",
    "    std = np.std([tree.feature_importances_ for tree in forest.estimators_],\n",
    "                 axis=0)\n",
    "    indices = np.argsort(importances)[::-1]\n",
    "\n",
    "    # Print the feature ranking\n",
    "    print(\"Feature ranking:\")\n",
    "\n",
    "    for f in range(X.shape[1]):\n",
    "        print(\"%d. feature %d (%f)\" % (f + 1, indices[f], importances[indices[f]]))\n",
    "\n",
    "    # Plot the feature importances of the forest\n",
    "    plt.figure()\n",
    "    plt.title(\"Feature importances\")\n",
    "    plt.bar(range(X.shape[1]), importances[indices],\n",
    "           color=\"r\", yerr=std[indices], align=\"center\")\n",
    "    plt.xticks(range(X.shape[1]), indices)\n",
    "    plt.xlim([-1, X.shape[1]])\n",
    "    plt.show()"
   ]
  },
  {
   "cell_type": "code",
   "execution_count": 41,
   "metadata": {
    "collapsed": false
   },
   "outputs": [
    {
     "name": "stdout",
     "output_type": "stream",
     "text": [
      "Feature ranking:\n",
      "1. feature 7 (0.222135)\n",
      "2. feature 6 (0.196810)\n",
      "3. feature 9 (0.133580)\n",
      "4. feature 11 (0.115742)\n",
      "5. feature 4 (0.066678)\n",
      "6. feature 10 (0.057142)\n",
      "7. feature 8 (0.050305)\n",
      "8. feature 5 (0.049644)\n",
      "9. feature 3 (0.035705)\n",
      "10. feature 1 (0.027165)\n",
      "11. feature 0 (0.027130)\n",
      "12. feature 2 (0.017964)\n"
     ]
    },
    {
     "data": {
      "image/png": "[encoded data removed]",
      "text/plain": [
       "<matplotlib.figure.Figure at 0x7f27a8dea9d0>"
      ]
     },
     "metadata": {},
     "output_type": "display_data"
    }
   ],
   "source": [
    "plot_forest_importances(X,y)"
   ]
  },
  {
   "cell_type": "code",
   "execution_count": 42,
   "metadata": {
    "collapsed": false
   },
   "outputs": [
    {
     "data": {
      "text/plain": [
       "LinearDiscriminantAnalysis(n_components=None, priors=None, shrinkage=None,\n",
       "              solver='svd', store_covariance=False, tol=0.0001)"
      ]
     },
     "execution_count": 42,
     "metadata": {},
     "output_type": "execute_result"
    }
   ],
   "source": [
    "X_=X[:,:6]\n",
    "from sklearn.discriminant_analysis import LinearDiscriminantAnalysis\n",
    "\n",
    "clf = LinearDiscriminantAnalysis()\n",
    "clf.fit(X_, y)\n",
    "LinearDiscriminantAnalysis(n_components=None, priors=None, shrinkage=None,\n",
    "              solver='svd', store_covariance=False, tol=0.0001)\n",
    "#print(clf.predict([[-0.8, -1]]))\n",
    "\n",
    "clf\n"
   ]
  },
  {
   "cell_type": "code",
   "execution_count": 43,
   "metadata": {
    "collapsed": false
   },
   "outputs": [
    {
     "data": {
      "text/plain": [
       "array([[-0.01366641,  0.01757039, -0.00158612, -0.00308776, -0.00117563,\n",
       "        -0.00117834]])"
      ]
     },
     "execution_count": 43,
     "metadata": {},
     "output_type": "execute_result"
    }
   ],
   "source": [
    "clf.coef_"
   ]
  },
  {
   "cell_type": "code",
   "execution_count": 44,
   "metadata": {
    "collapsed": false
   },
   "outputs": [
    {
     "data": {
      "text/plain": [
       "(4937172, 6)"
      ]
     },
     "execution_count": 44,
     "metadata": {},
     "output_type": "execute_result"
    }
   ],
   "source": [
    "X_.shape"
   ]
  },
  {
   "cell_type": "code",
   "execution_count": null,
   "metadata": {
    "collapsed": true
   },
   "outputs": [],
   "source": []
  },
  {
   "cell_type": "code",
   "execution_count": null,
   "metadata": {
    "collapsed": true
   },
   "outputs": [],
   "source": []
  },
  {
   "cell_type": "code",
   "execution_count": null,
   "metadata": {
    "collapsed": true
   },
   "outputs": [],
   "source": []
  },
  {
   "cell_type": "code",
   "execution_count": 45,
   "metadata": {
    "collapsed": false
   },
   "outputs": [
    {
     "ename": "SyntaxError",
     "evalue": "invalid syntax (<ipython-input-45-895e091c6a91>, line 4)",
     "output_type": "error",
     "traceback": [
      "\u001b[1;36m  File \u001b[1;32m\"<ipython-input-45-895e091c6a91>\"\u001b[1;36m, line \u001b[1;32m4\u001b[0m\n\u001b[1;33m    Break - stop here\u001b[0m\n\u001b[1;37m                    ^\u001b[0m\n\u001b[1;31mSyntaxError\u001b[0m\u001b[1;31m:\u001b[0m invalid syntax\n"
     ]
    }
   ],
   "source": [
    "\n",
    "\n",
    "\n",
    "Break - stop here\n",
    "\n",
    "\n",
    "1) 2D PCA\n",
    "2) 3D, 4D PCA\n",
    "3) Features importance? \n",
    "3) systematic feature selection from a large number of 20 derived variables\n",
    "4) 1-indices decision tree? threshold values?\n",
    "5) arctan()\n",
    "6) Ortho-subsp CEM?\n",
    "7) multiple-targets: pure-Water  mix-water, seemingly-water/false water, nonwater (clearly non-water)\n",
    "\n"
   ]
  },
  {
   "cell_type": "code",
   "execution_count": null,
   "metadata": {
    "collapsed": false
   },
   "outputs": [],
   "source": [
    "colname= ['Mean_tm1c','Mean_tm2c','Mean_tm3c','Mean_tm4c','Mean_tm5c' ] #'NDI_72' #'NDI_52' # 'Bright'   #'Mean_PQMas' #'NDI_43' #'Mean_tm5c'\n",
    "plt.figure(); dfwater[colname].plot()"
   ]
  },
  {
   "cell_type": "code",
   "execution_count": null,
   "metadata": {
    "collapsed": false
   },
   "outputs": [],
   "source": [
    "pdf[[clm_list[10],clm_list[12]] ].hist(layout=(1,2),bins=100)  "
   ]
  },
  {
   "cell_type": "code",
   "execution_count": null,
   "metadata": {
    "collapsed": false
   },
   "outputs": [],
   "source": [
    "#get the column names as list\n",
    "clm_list = []\n",
    "for column in pdf.columns: clm_list.append(column)\n",
    "print clm_list[3:14]\n"
   ]
  },
  {
   "cell_type": "code",
   "execution_count": null,
   "metadata": {
    "collapsed": false
   },
   "outputs": [],
   "source": [
    "# histogram, distrubution of the variables\n",
    "dfwater[[clm_list[10],clm_list[12]] ].hist(layout=(1,2),bins=100)  "
   ]
  },
  {
   "cell_type": "code",
   "execution_count": null,
   "metadata": {
    "collapsed": false
   },
   "outputs": [],
   "source": [
    "# histogram, distrubution of the ratios feature variables. \n",
    "# NDI_43 is close to normal distrib.\n",
    "# NDI_54 and 74 mostly negative for water\n",
    "dfwater[[clm_list[9],clm_list[11], clm_list[13] ] ].hist(layout=(1,3),bins=100) "
   ]
  },
  {
   "cell_type": "code",
   "execution_count": null,
   "metadata": {
    "collapsed": false
   },
   "outputs": [],
   "source": [
    "# Compare to Not Water pixels !!!\n",
    "dfnowater[[clm_list[10],clm_list[12]] ].hist(layout=(1,2),bins=100) "
   ]
  },
  {
   "cell_type": "code",
   "execution_count": null,
   "metadata": {
    "collapsed": false
   },
   "outputs": [],
   "source": [
    "# histogram for nowaterfeature variables distrubution\n",
    "# NDI_43  poitive\n",
    "# NDI_54 and 74 for no-water\n",
    "dfnowater[[clm_list[9],clm_list[11], clm_list[13] ] ].hist(layout=(1,3),bins=100) "
   ]
  },
  {
   "cell_type": "code",
   "execution_count": null,
   "metadata": {
    "collapsed": false
   },
   "outputs": [],
   "source": [
    "dfwater[[clm_list[3],clm_list[4],clm_list[5]] ].hist(layout=(1,3), bins=100)   # BGR distribution?"
   ]
  },
  {
   "cell_type": "code",
   "execution_count": null,
   "metadata": {
    "collapsed": false
   },
   "outputs": [],
   "source": [
    "dfwater[[clm_list[6],clm_list[7], clm_list[8] ]].hist(layout=(1,3),bins=100)  # not normal distribution"
   ]
  },
  {
   "cell_type": "code",
   "execution_count": null,
   "metadata": {
    "collapsed": false
   },
   "outputs": [],
   "source": [
    " dfwater.plot.scatter(x=clm_list[10], y=clm_list[12]);"
   ]
  },
  {
   "cell_type": "code",
   "execution_count": null,
   "metadata": {
    "collapsed": false
   },
   "outputs": [],
   "source": [
    "dfnowater.plot.scatter(x=clm_list[10], y=clm_list[12]);"
   ]
  },
  {
   "cell_type": "code",
   "execution_count": null,
   "metadata": {
    "collapsed": false
   },
   "outputs": [],
   "source": [
    "pdf.plot.scatter(x=clm_list[10], y=clm_list[12]);"
   ]
  },
  {
   "cell_type": "code",
   "execution_count": null,
   "metadata": {
    "collapsed": true
   },
   "outputs": [],
   "source": [
    "from pandas import DataFrame as df\n",
    "import matplotlib.pyplot as plt\n",
    "from mpl_toolkits.mplot3d import Axes3D"
   ]
  },
  {
   "cell_type": "code",
   "execution_count": null,
   "metadata": {
    "collapsed": false
   },
   "outputs": [],
   "source": [
    " dfnowater['NDI_72'].values"
   ]
  },
  {
   "cell_type": "code",
   "execution_count": null,
   "metadata": {
    "collapsed": false
   },
   "outputs": [],
   "source": [
    "fig = plt.figure()\n",
    "ax = fig.add_subplot(111, projection='3d')\n",
    "\n",
    "#notwork c=  pdf['Mean_tm5c'] color must be 2D\n",
    "#p = ax.scatter(dfwater['NDI_52'], dfwater['NDI_72'], dfwater['Mean_tm5c'], s=40, c=c)\n",
    "p = ax.scatter(pdf['NDI_52'], pdf['NDI_72'], pdf['Mean_tm5c'], s=40) #, c=c)\n",
    " \n",
    "# Add title and axis labels \n",
    "ax.set_xlabel(\"NDI52\")\n",
    "ax.set_ylabel(\"NDI72\")\n",
    "ax.set_zlabel(\"Band5\")\n",
    " \n",
    "# add colorbar and show\n",
    "#NOT WORK fig.colorbar(p)\n",
    "plt.show()"
   ]
  },
  {
   "cell_type": "markdown",
   "metadata": {},
   "source": [
    "# Apply Machine Learning Models"
   ]
  },
  {
   "cell_type": "code",
   "execution_count": null,
   "metadata": {
    "collapsed": true
   },
   "outputs": [],
   "source": [
    "# https://www.google.com.au/webhp?sourceid=chrome-instant&ion=1&espv=2&ie=UTF-8#q=how+to+design+Machine+learning+models+according+feature+stats"
   ]
  },
  {
   "cell_type": "markdown",
   "metadata": {},
   "source": [
    "## Prepare sample dataset for scikit analysis"
   ]
  },
  {
   "cell_type": "code",
   "execution_count": null,
   "metadata": {
    "collapsed": false
   },
   "outputs": [],
   "source": [
    "print (clm_list[9], clm_list[11], clm_list[13])"
   ]
  },
  {
   "cell_type": "code",
   "execution_count": null,
   "metadata": {
    "collapsed": false
   },
   "outputs": [],
   "source": [
    "#select the columns values into numpy array\n",
    "#X = pdf[clm_list[3:14]].values\n",
    "# select 3 most important features\n",
    "X = pdf[[clm_list[9],clm_list[11], clm_list[13]]].values\n",
    "# Y = pdf[clm_list[1]].values\n",
    "Y = pdf[clm_list[-1]].values  # the new column Class2\n",
    "       \n",
    "print (X.shape, type(X))\n",
    "print (Y.shape)"
   ]
  },
  {
   "cell_type": "markdown",
   "metadata": {},
   "source": [
    "##  Scikit-learn: model .fit, .predict, .score "
   ]
  },
  {
   "cell_type": "code",
   "execution_count": null,
   "metadata": {
    "collapsed": true
   },
   "outputs": [],
   "source": [
    "from sklearn import tree\n",
    "clf = tree.DecisionTreeClassifier(max_depth=3)"
   ]
  },
  {
   "cell_type": "code",
   "execution_count": null,
   "metadata": {
    "collapsed": true
   },
   "outputs": [],
   "source": [
    "# Traing the model with the sample data %time clf = clf.fit(X, Y)\n",
    "\n",
    "clf = clf.fit(X, Y)"
   ]
  },
  {
   "cell_type": "code",
   "execution_count": null,
   "metadata": {
    "collapsed": false
   },
   "outputs": [],
   "source": [
    "# verify the model using function predict\n",
    "isample= 227014\n",
    "# Or get a random sample to compare\n",
    "#isample=np.random.random_integers(0,999)\n",
    "\n",
    "print (isample, clf.predict(X[isample,:].reshape(1, -1) ), Y[isample], pdf.Class_name.iloc[isample])"
   ]
  },
  {
   "cell_type": "code",
   "execution_count": null,
   "metadata": {
    "collapsed": false
   },
   "outputs": [],
   "source": [
    "#3) Apply / evaluate\n",
    "clf.score(X,Y)"
   ]
  },
  {
   "cell_type": "code",
   "execution_count": null,
   "metadata": {
    "collapsed": false
   },
   "outputs": [],
   "source": [
    "clf.feature_importances_"
   ]
  },
  {
   "cell_type": "code",
   "execution_count": null,
   "metadata": {
    "collapsed": false
   },
   "outputs": [],
   "source": [
    "# Advanced_sklearn/Chapter%201/Classification.ipynb\n",
    "# more methods, split the samples , validation \n",
    "from sklearn.cross_validation import train_test_split\n",
    "X_train, X_test, y_train, y_test = train_test_split(X,Y)"
   ]
  },
  {
   "cell_type": "code",
   "execution_count": null,
   "metadata": {
    "collapsed": false
   },
   "outputs": [],
   "source": [
    "print (X_test.shape)\n",
    "clf.score(X_test,y_test)\n"
   ]
  },
  {
   "cell_type": "code",
   "execution_count": null,
   "metadata": {
    "collapsed": false
   },
   "outputs": [],
   "source": [
    "from sklearn.cross_validation import cross_val_score\n",
    "for classifier in [clf]:\n",
    "    scores = cross_val_score(classifier, X, Y, cv=10)\n",
    "    print(scores)\n",
    "    print(np.mean(scores))"
   ]
  },
  {
   "cell_type": "code",
   "execution_count": null,
   "metadata": {
    "collapsed": true
   },
   "outputs": [],
   "source": [
    "# Let's Generate the Tree.\n",
    "\n",
    "from IPython.display import Image \n",
    "from sklearn.externals.six import StringIO  \n",
    "import pydot \n",
    "with open(\"de_tree.dot\", 'w') as f: f = tree.export_graphviz(clf, out_file=f)\n",
    "\n",
    "    \n",
    "# dot -Tpdf iris.dot -o iris.pdf\n",
    "\n",
    "!dot -Tpdf de_tree.dot -o de_tree.pdf"
   ]
  },
  {
   "cell_type": "code",
   "execution_count": null,
   "metadata": {
    "collapsed": false
   },
   "outputs": [],
   "source": [
    "# Todo: show Tree in this notebook\n",
    "# http://scikit-learn.org/stable/modules/tree.html\n",
    "dot_data = StringIO()  \n",
    "tree.export_graphviz(clf, out_file=dot_data,  \n",
    "                         feature_names=[clm_list[10],clm_list[12], clm_list[7]],  \n",
    "                         class_names=Y[:],  \n",
    "                         filled=True, rounded=True,  \n",
    "                         special_characters=True)  \n",
    "graph = pydot.graph_from_dot_data(dot_data.getvalue())  \n",
    "Image(graph.create_png())  "
   ]
  },
  {
   "cell_type": "code",
   "execution_count": null,
   "metadata": {
    "collapsed": true
   },
   "outputs": [],
   "source": []
  },
  {
   "cell_type": "markdown",
   "metadata": {},
   "source": [
    "# Google search how to select important feature"
   ]
  },
  {
   "cell_type": "markdown",
   "metadata": {},
   "source": [
    "** http://machinelearningmastery.com/an-introduction-to-feature-selection/\n",
    "\n",
    "** http://scikit-learn.org/stable/modules/feature_selection.html\n",
    "    "
   ]
  },
  {
   "cell_type": "markdown",
   "metadata": {},
   "source": [
    "# you can pickle the clf tree for later use."
   ]
  },
  {
   "cell_type": "code",
   "execution_count": null,
   "metadata": {
    "collapsed": false
   },
   "outputs": [],
   "source": [
    "# http://scikit-learn.org/stable/modules/model_persistence.html\n",
    "\n",
    "# http://stackoverflow.com/questions/15564410/scikit-learn-svm-how-to-save-load-support-vectors\n",
    "# \n",
    "# show tree\n",
    "\n",
    "clf.tree_.__getstate__()['nodes']"
   ]
  },
  {
   "cell_type": "markdown",
   "metadata": {},
   "source": [
    "# Let's Try some other methods"
   ]
  },
  {
   "cell_type": "code",
   "execution_count": null,
   "metadata": {
    "collapsed": false
   },
   "outputs": [],
   "source": [
    "from sklearn.svm import LinearSVC\n",
    "svm = LinearSVC(C=0.1)\n",
    "svm.fit(X_train, y_train)\n"
   ]
  },
  {
   "cell_type": "code",
   "execution_count": null,
   "metadata": {
    "collapsed": false
   },
   "outputs": [],
   "source": [
    "print(svm.predict(X_train))\n",
    "print(y_train)"
   ]
  },
  {
   "cell_type": "code",
   "execution_count": null,
   "metadata": {
    "collapsed": false
   },
   "outputs": [],
   "source": [
    "svm.score(X_train, y_train)"
   ]
  },
  {
   "cell_type": "code",
   "execution_count": null,
   "metadata": {
    "collapsed": false
   },
   "outputs": [],
   "source": [
    "svm.score(X_test, y_test)"
   ]
  },
  {
   "cell_type": "markdown",
   "metadata": {
    "collapsed": true
   },
   "source": [
    "# Random Forest"
   ]
  },
  {
   "cell_type": "code",
   "execution_count": null,
   "metadata": {
    "collapsed": false
   },
   "outputs": [],
   "source": [
    "from sklearn.ensemble import RandomForestClassifier\n",
    "rf = RandomForestClassifier(n_estimators=50)\n",
    "rf.fit(X_train, y_train)"
   ]
  },
  {
   "cell_type": "code",
   "execution_count": null,
   "metadata": {
    "collapsed": false
   },
   "outputs": [],
   "source": [
    "rf.predict(X_test)"
   ]
  },
  {
   "cell_type": "code",
   "execution_count": null,
   "metadata": {
    "collapsed": false
   },
   "outputs": [],
   "source": [
    "rf.score(X_test, y_test)"
   ]
  },
  {
   "cell_type": "code",
   "execution_count": null,
   "metadata": {
    "collapsed": true
   },
   "outputs": [],
   "source": [
    "Stop here. Do acuracy comparison:\n",
    "    \n",
    "Random Forest 99.310%  Train slow\n",
    "LinearSVM 90.799%\n",
    "DecisionTree(depth=7) 96.756%  Train very fast. Complex tree"
   ]
  },
  {
   "cell_type": "markdown",
   "metadata": {},
   "source": [
    "# Cross Validation\n",
    "Advanced_sklearn/Chapter%201/Cross%20Validation.ipynb"
   ]
  },
  {
   "cell_type": "code",
   "execution_count": null,
   "metadata": {
    "collapsed": false
   },
   "outputs": [],
   "source": [
    "from sklearn.cross_validation import cross_val_score\n",
    "for classifier in [clf, svm, rf]:\n",
    "    scores = cross_val_score(classifier, X, Y, cv=5)\n",
    "    print(scores)\n",
    "    print(np.mean(scores))\n",
    "\n",
    "# Results with my_file_csv='/g/data/u46/fxz547/wofs_training_sample_data/orig_copy/Test_Tile_samples_20140203.csv'\n",
    "# random forest is no better than clf. svm is no good.\n",
    "# [ 0.93761947  0.9168854   0.93080083  0.96054265  0.97094193]\n",
    "# cls:  0.943358053934\n",
    "# [ 0.84295027  0.93209894  0.90567316  0.90808262  0.90809689]\n",
    "# svm:  0.899380377677\n",
    "# [ 0.92633591  0.91465293  0.94864626  0.94893796  0.97848818]\n",
    "# rf: 0.943412249083"
   ]
  },
  {
   "cell_type": "code",
   "execution_count": null,
   "metadata": {
    "collapsed": false
   },
   "outputs": [],
   "source": [
    "!ls -ltr"
   ]
  },
  {
   "cell_type": "code",
   "execution_count": null,
   "metadata": {
    "collapsed": true
   },
   "outputs": [],
   "source": []
  },
  {
   "cell_type": "markdown",
   "metadata": {},
   "source": [
    "# PCA analysis"
   ]
  },
  {
   "cell_type": "code",
   "execution_count": null,
   "metadata": {
    "collapsed": false
   },
   "outputs": [],
   "source": [
    "#sample function\n",
    "\n",
    "def sample_PCA(X=None, y=None):\n",
    "    \"\"\"\n",
    "    Code source: Gaël Varoquaux. License: BSD 3 clause\n",
    "    \"\"\"\n",
    "    \n",
    "    import numpy as np\n",
    "    import matplotlib.pyplot as plt\n",
    "    from mpl_toolkits.mplot3d import Axes3D\n",
    "\n",
    "\n",
    "    from sklearn import decomposition\n",
    "    from sklearn import datasets\n",
    "\n",
    "    np.random.seed(5)\n",
    "\n",
    "    #centers = [[1, 1], [-1, -1], [1, -1]]\n",
    "    \n",
    "    iris = datasets.load_iris()\n",
    "    if (X is None):\n",
    "        X = iris.data\n",
    "        y = iris.target\n",
    "    else:\n",
    "        pass\n",
    "    \n",
    "\n",
    "    fig = plt.figure(1, figsize=(4, 3))\n",
    "    plt.clf()  # clear figure\n",
    "    ax = Axes3D(fig, rect=[0, 0, .95, 1], elev=48, azim=134)\n",
    "\n",
    "    plt.cla()\n",
    "    pca = decomposition.PCA(n_components=3)\n",
    "    pca.fit(X)\n",
    "    X = pca.transform(X)\n",
    "\n",
    "   for name, label in [('Setosa', 0), ('Versicolour', 1), ('Virginica', 2)]:\n",
    "        ax.text3D(X[y == label, 0].mean(),\n",
    "                  X[y == label, 1].mean() + 1.5,\n",
    "                  X[y == label, 2].mean(), name,\n",
    "                  horizontalalignment='center',\n",
    "                  bbox=dict(alpha=.5, edgecolor='w', facecolor='w'))\n",
    "\n",
    "    # Reorder the labels to have colors matching the cluster results\n",
    "    y = np.choose(y, [1, 2, 0]).astype(np.float)\n",
    "    ax.scatter(X[:, 0], X[:, 1], X[:, 2], c=y, cmap=plt.cm.spectral)\n",
    "\n",
    "    x_surf = [X[:, 0].min(), X[:, 0].max(),\n",
    "              X[:, 0].min(), X[:, 0].max()]\n",
    "    y_surf = [X[:, 0].max(), X[:, 0].max(),\n",
    "              X[:, 0].min(), X[:, 0].min()]\n",
    "    x_surf = np.array(x_surf)\n",
    "    y_surf = np.array(y_surf)\n",
    "    v0 = pca.transform(pca.components_[[0]])\n",
    "    v0 /= v0[-1]\n",
    "    v1 = pca.transform(pca.components_[[1]])\n",
    "    v1 /= v1[-1]\n",
    "\n",
    "    ax.w_xaxis.set_ticklabels([])\n",
    "    ax.w_yaxis.set_ticklabels([])\n",
    "    ax.w_zaxis.set_ticklabels([])\n",
    "\n",
    "    plt.show()\n",
    "    \n",
    "    return\n",
    "\n",
    "    \n",
    "sample_PCA()"
   ]
  },
  {
   "cell_type": "code",
   "execution_count": null,
   "metadata": {
    "collapsed": false
   },
   "outputs": [],
   "source": []
  },
  {
   "cell_type": "code",
   "execution_count": null,
   "metadata": {
    "collapsed": false
   },
   "outputs": [],
   "source": [
    "print (X.shape)"
   ]
  },
  {
   "cell_type": "code",
   "execution_count": null,
   "metadata": {
    "collapsed": false
   },
   "outputs": [],
   "source": [
    "# See wofs/Zlocaltest/water_pixels_classification_1.ipynb\n",
    "\n",
    "#http://stackoverflow.com/questions/27699545/scikit-learn-pca\n",
    "\n",
    "from sklearn.decomposition import PCA\n",
    "\n",
    "from mpl_toolkits.mplot3d import Axes3D\n",
    "import numpy as np\n",
    "import matplotlib.pyplot as plt\n",
    "from scipy import stats\n",
    "\n",
    "fig = plt.figure(1, figsize=(4, 3))\n",
    "plt.clf()  # clear figure\n",
    "\n",
    "\n",
    "pca = PCA(n_components=3)\n",
    "pca.fit(X)\n",
    "pca_score = pca.explained_variance_ratio_   #Eigenvalues \n",
    "V = pca.components_   #Eigenvectors(normalized)\n",
    "\n",
    "print (pca_score)\n",
    "\n",
    "print (V)\n",
    "\n",
    "print(pca.get_covariance()) #Covariance Matrix\n",
    "# x_pca_axis, y_pca_axis, z_pca_axis = V.T * pca_score / pca_score.min()\n",
    "\n",
    "# x_pca_axis, y_pca_axis, z_pca_axis = 3 * V.T\n",
    "# x_pca_plane = np.r_[x_pca_axis[:2], - x_pca_axis[1::-1]]\n",
    "# y_pca_plane = np.r_[y_pca_axis[:2], - y_pca_axis[1::-1]]\n",
    "# z_pca_plane = np.r_[z_pca_axis[:2], - z_pca_axis[1::-1]]\n",
    "# x_pca_plane.shape = (2, 2)\n",
    "# y_pca_plane.shape = (2, 2)\n",
    "# z_pca_plane.shape = (2, 2)\n",
    "    \n",
    "# ax.plot_surface(x_pca_plane, y_pca_plane, z_pca_plane)\n",
    "# ax.w_xaxis.set_ticklabels([])\n",
    "# ax.w_yaxis.set_ticklabels([])\n",
    "# ax.w_zaxis.set_ticklabels([])\n",
    "\n",
    "plt.plot(pca_score, )\n",
    "\n",
    "plt.show()\n"
   ]
  },
  {
   "cell_type": "code",
   "execution_count": null,
   "metadata": {
    "collapsed": true
   },
   "outputs": [],
   "source": []
  },
  {
   "cell_type": "code",
   "execution_count": null,
   "metadata": {
    "collapsed": true
   },
   "outputs": [],
   "source": []
  },
  {
   "cell_type": "code",
   "execution_count": null,
   "metadata": {
    "collapsed": true
   },
   "outputs": [],
   "source": [
    "#Breakp\n",
    "\n",
    "def classify_pixel(images, float64=False):\n",
    "    \"\"\" \n",
    "    Implement the decision tree of Norman Mueller et al, to clssify a pixel with 6-bands input.\n",
    "    Produce a water classification image from the supplied images (6 bands of an NBAR, multiband Landsat image)\n",
    "    This method evaluates N.Mueller's 7-depth decision tree as follows:\n",
    "\n",
    "\n",
    "                    -----------------------------N1---------------------------------\n",
    "                    |                                                              |\n",
    "                    |                                                              |\n",
    "                 ---N2-----                                           -------------N21---------------------\n",
    "                 |        |                                           |                                   |\n",
    "                 |        |                                           |                                   |\n",
    "       ----------N4----   N3                                    ------N22---                           ---N35-------\n",
    "       |              |                                         |          |                           |           |\n",
    "       |              |                                         |          |                           |           |\n",
    "    ---N5---       ---N8--------------                       ---N24----    N23                      ---N37------   N36\n",
    "    |      |       |                 |                       |        |                             |          |\n",
    "    |      |       |                 |                       |        |                             |          |\n",
    "    N6     N7   ---N12------------   N9             ---------N26---   N25                        ---N39-----   N38\n",
    "                |                |                  |             |                              |         |\n",
    "                |                |                  |             |                              |         |\n",
    "             ---N16---        ---N13---             N27   --------N28---                   ------N41---    N40\n",
    "             |       |        |       |                   |            |                   |          |\n",
    "             |       |        |       |                   |            |                   |          |\n",
    "             N17  ---N18---   N14     N15              ---N29---    ---N30---           ---N43---     N42\n",
    "                  |       |                            |       |    |       |           |       |\n",
    "                  |       |                            |       |    |       |           |       |\n",
    "                  N19     N20                          N31     N32  N33     N34         N44     N45\n",
    "\n",
    "\n",
    ":param images:\n",
    "    A 3D numpy array ordered in (bands,rows,columns), containing the spectral data.\n",
    "    It is assumed that the spectral bands follow Landsat 5 & 7, Band 1, Band 2, Band 3, Band 4, Band 5, Band 7.\n",
    "\n",
    ":param float64:\n",
    "    Boolean keyword. If set to True then the data will be converted to type float64 if not already float64.\n",
    "    Default is False.\n",
    "\n",
    ":return:\n",
    "    A 2D numpy array of type UInt8.  Values will be 0 for No Water, 1 for Unclassified and 128 for water.\n",
    "\n",
    ":notes:\n",
    "    The input array will be converted to type float32 if not already float32.\n",
    "    If images is of type float64, then images datatype will be left as is.\n",
    "\n",
    ":transcription:\n",
    "    Transcribed from a Tree diagram output by CART www.salford-systems.com\n",
    "    Josh Sixsmith; joshua.sixsmith@ga.gov.au\n",
    "\n",
    "    \"\"\"\n",
    "\n",
    "#     logger = logging.getLogger(\"WaterClasserfier\")\n",
    "#     logger.debug(\"Started\")\n",
    "\n",
    "    def band_ratio(a,b):\n",
    "        \"\"\"\n",
    "        Calculates a normalised ratio index.\n",
    "        \"\"\"\n",
    "        c = (a - b) / (a + b)\n",
    "        return c\n",
    "\n",
    "    dims = images.shape\n",
    "    if len(dims) == 3:\n",
    "        bands = dims[0]\n",
    "        rows  = dims[1]\n",
    "        cols  = dims[2]\n",
    "    else:\n",
    "        rows = dims[0]\n",
    "        cols = dims[1]\n",
    "\n",
    "    dtype = images.dtype\n",
    "\n",
    "    # Check whether to enforce float64 calcs, unless the datatype is already float64\n",
    "    # Otherwise force float32\n",
    "    if float64:\n",
    "        if (dtype != 'float64'):\n",
    "            images = images.astype('float64')\n",
    "    else:\n",
    "        if (dtype == 'float64'):\n",
    "            # Do nothing, leave as float64\n",
    "            images = images\n",
    "        elif (dtype != 'float32'):\n",
    "            images = images.astype('float32')\n",
    "\n",
    "    classified = numpy.ones((rows,cols), dtype='uint8')\n",
    "\n",
    "    NDI_52 = band_ratio(images[4], images[1])\n",
    "    NDI_43 = band_ratio(images[3], images[2])\n",
    "    NDI_72 = band_ratio(images[5], images[1])\n",
    "\n",
    "    b1 = images[0]\n",
    "    b2 = images[1]\n",
    "    b3 = images[2]\n",
    "    b4 = images[3]\n",
    "    b5 = images[4]\n",
    "    b7 = images[5]\n",
    "\n",
    "    # Lets start going down the trees left branch, finishing nodes as needed\n",
    "    # Lots of result arrays eg r1, r2 etc of type bool are created\n",
    "    # These could be recycled to save memory, but at the moment they serve to show the tree structure\n",
    "    # Temporary arrays of type bool (_tmp, _tmp2) are used to combine the boolean decisions\n",
    "    r1 = NDI_52 <= -0.01\n",
    "\n",
    "    r2 = b1 <= 2083.5\n",
    "    classified[r1 & ~r2] = 0 # Node 3\n",
    "\n",
    "    r3 = b7 <= 323.5\n",
    "    _tmp = r1 & r2\n",
    "    _tmp2 = _tmp & r3\n",
    "    _tmp &= ~r3\n",
    "\n",
    "    r4 = NDI_43 <= 0.61\n",
    "    classified[_tmp2 & r4]  = 128 # Node 6\n",
    "    classified[_tmp2 & ~r4] = 0 # Node 7\n",
    "\n",
    "    r5 = b1 <= 1400.5\n",
    "    _tmp2 = _tmp & ~r5\n",
    "    r6 = NDI_43 <= -0.01\n",
    "    classified[_tmp2 & r6]  = 128 # Node 10\n",
    "    classified[_tmp2 & ~r6] = 0 # Node 11\n",
    "\n",
    "    _tmp &= r5\n",
    "\n",
    "    r7 = NDI_72 <= -0.23\n",
    "    _tmp2 = _tmp & ~r7\n",
    "    r8 = b1 <= 379\n",
    "    classified[_tmp2 & r8]  = 128 # Node 14\n",
    "    classified[_tmp2 & ~r8] = 0 # Node 15\n",
    "\n",
    "    _tmp &= r7\n",
    "\n",
    "    r9 = NDI_43 <= 0.22\n",
    "    classified[_tmp & r9] = 128 # Node 17\n",
    "\n",
    "    _tmp &= ~r9\n",
    "\n",
    "    r10 = b1 <= 473\n",
    "    classified[_tmp & r10]  = 128 # Node 19\n",
    "    classified[_tmp & ~r10] = 0 # Node 20\n",
    "\n",
    "    # Left branch is completed; cleanup\n",
    "    #logger.debug(\"B4 cleanup 1\")\n",
    "    del r2, r3, r4, r5, r6, r7, r8, r9, r10\n",
    "    gc.collect()\n",
    "    #logger.debug(\"cleanup 1 done\")\n",
    "\n",
    "    # Right branch of the tree\n",
    "    r1 = ~r1\n",
    "\n",
    "    r11 = NDI_52 <= 0.23\n",
    "    _tmp = r1 & r11\n",
    "\n",
    "    r12 = b1 <= 334.5\n",
    "    _tmp2 = _tmp & ~r12\n",
    "    classified[_tmp2] = 0 # Node 23\n",
    "\n",
    "    _tmp &= r12\n",
    "\n",
    "    r13 = NDI_43 <= 0.54\n",
    "    _tmp2 = _tmp & ~r13\n",
    "    classified[_tmp2] = 0 # Node 25\n",
    "\n",
    "    _tmp &= r13\n",
    "\n",
    "    r14 = NDI_52 <= 0.12\n",
    "    _tmp2 = _tmp & r14\n",
    "    classified[_tmp2] = 128 # Node 27\n",
    "\n",
    "    _tmp &= ~r14\n",
    "\n",
    "    r15 = b3 <= 364.5\n",
    "    _tmp2 = _tmp & r15\n",
    "\n",
    "    r16 = b1 <= 129.5\n",
    "    classified[_tmp2 & r16]  = 128 # Node 31\n",
    "    classified[_tmp2 & ~r16] = 0 # Node 32\n",
    "\n",
    "    _tmp &= ~r15\n",
    "\n",
    "    r17 = b1 <= 300.5\n",
    "    _tmp2 = _tmp & ~r17\n",
    "    _tmp &= r17\n",
    "    classified[_tmp]  = 128 # Node 33\n",
    "    classified[_tmp2] = 0 # Node 34\n",
    "\n",
    "    _tmp = r1 & ~r11\n",
    "\n",
    "    r18 = NDI_52 <= 0.34\n",
    "    classified[_tmp & ~r18] = 0 # Node 36\n",
    "    _tmp &= r18\n",
    "\n",
    "    r19 = b1 <= 249.5\n",
    "    classified[_tmp & ~r19] = 0 # Node 38\n",
    "    _tmp &= r19\n",
    "\n",
    "    r20 = NDI_43 <= 0.45\n",
    "    classified[_tmp & ~r20] = 0 # Node 40\n",
    "    _tmp &= r20\n",
    "\n",
    "    r21 = b3 <= 364.5\n",
    "    classified[_tmp & ~r21] = 0 # Node 42\n",
    "    _tmp &= r21\n",
    "\n",
    "    r22 = b1 <= 129.5\n",
    "    classified[_tmp & r22]  = 128 # Node 44\n",
    "    classified[_tmp & ~r22] = 0 # Node 45\n",
    "\n",
    "    #logger.debug(\"completed\")\n",
    "\n",
    "    return classified\n"
   ]
  },
  {
   "cell_type": "markdown",
   "metadata": {},
   "source": [
    "## Select Perfect Pix Data to Analyse "
   ]
  },
  {
   "cell_type": "code",
   "execution_count": null,
   "metadata": {
    "collapsed": false
   },
   "outputs": [],
   "source": [
    "perf_pix= pdf[pdf['Mean_PQMas'] == 16383.0]  # where(Mean_PQMas=16383)\n",
    "\n",
    "# change W_* into Water; all other classes into NotWater. Binary classes\n",
    "perf_pix.ix[perf_pix.Class_name.str.match('W_*'), 'Class2'] = 'Water'\n",
    "\n",
    "# change non 'W_*' into NoWater\n",
    "perf_pix.ix[perf_pix.Class_name.str.match('^W_*')==False, 'Class2'] = 'NoWater'\n",
    "\n",
    "# Group by Pixel Class_name, then count the number of rows in each group\n",
    "perf_pix.groupby('Class2').count()"
   ]
  },
  {
   "cell_type": "code",
   "execution_count": null,
   "metadata": {
    "collapsed": false
   },
   "outputs": [],
   "source": [
    "# Apply a ML algorithm to the pdf type\n",
    "from sklearn import tree\n",
    "from IPython.display import Image \n",
    "from sklearn.externals.six import StringIO  \n",
    "import pydot \n",
    "    \n",
    "def apply_ml(pdf):\n",
    "    #get the column names as list    \n",
    "    clm_list = []\n",
    "    for column in pdf.columns: clm_list.append(column)\n",
    "    print (clm_list[7],clm_list[10],clm_list[12])\n",
    "    \n",
    "    #select the columns values into numpy array\n",
    "    #X = pdf[clm_list[3:14]].values\n",
    "    # select 3 most important features\n",
    "    X= pdf[[clm_list[7],clm_list[10],clm_list[12]] ].values\n",
    "    Y = pdf[clm_list[1]].values\n",
    "\n",
    "    print X.shape, type(X)\n",
    "    print Y.shape\n",
    "\n",
    "    clf = tree.DecisionTreeClassifier(max_depth=5)\n",
    "    clf= clf.fit(X,Y)\n",
    "    \n",
    "    # evaluate the model using function predict\n",
    "    # isample=123\n",
    "    # Or get a random sample to compare\n",
    "    isample=np.random.random_integers(0,999)\n",
    "\n",
    "    print (isample, clf.predict(X[isample,:].reshape(1, -1) ), Y[isample])\n",
    "\n",
    "    dot_filename=\"de_tree.dot\"\n",
    "    with open(dot_filename, 'w') as f: f = tree.export_graphviz(clf, out_file=f)\n",
    "\n",
    "    \n",
    "    # !dot -Tpdf de_tree.dot -o de_tree.pdf\n",
    "    return  dot_filename"
   ]
  },
  {
   "cell_type": "code",
   "execution_count": null,
   "metadata": {
    "collapsed": false
   },
   "outputs": [],
   "source": [
    "apply_ml(perf_pix)\n",
    "\n",
    "!dot -Tpdf de_tree.dot -o de_tree.pdf"
   ]
  }
 ],
 "metadata": {
  "kernelspec": {
   "display_name": "Python 2",
   "language": "python",
   "name": "python2"
  },
  "language_info": {
   "codemirror_mode": {
    "name": "ipython",
    "version": 2
   },
   "file_extension": ".py",
   "mimetype": "text/x-python",
   "name": "python",
   "nbconvert_exporter": "python",
   "pygments_lexer": "ipython2",
   "version": "2.7.13"
  }
 },
 "nbformat": 4,
 "nbformat_minor": 0
}
