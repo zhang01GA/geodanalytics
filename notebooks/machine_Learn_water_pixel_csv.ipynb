{
 "cells": [
  {
   "cell_type": "markdown",
   "metadata": {},
   "source": [
    "# Apply Machine Learning Algorithms over Sample Data "
   ]
  },
  {
   "cell_type": "markdown",
   "metadata": {},
   "source": [
    "### fei.zhang@ga.gov.au\n",
    "### June 2016"
   ]
  },
  {
   "cell_type": "code",
   "execution_count": 1,
   "metadata": {},
   "outputs": [],
   "source": [
    "import os, sys\n",
    "import pickle\n",
    "import numpy as np\n",
    "\n",
    "from numpy import genfromtxt\n",
    "\n",
    "import pandas as pd\n",
    "#import pandas.io.data\n",
    "from pandas_datareader import data, wb\n",
    "from pandas import DataFrame\n",
    "\n",
    "\n",
    "\n",
    "%matplotlib inline\n",
    "import matplotlib.pyplot as plt\n",
    "from pylab import rcParams\n",
    "rcParams['figure.figsize'] = 10, 10 # increase plot size a bit...\n",
    "rcParams['axes.formatter.useoffset'] = False  # disable scalar formatter / offset in axes labels"
   ]
  },
  {
   "cell_type": "markdown",
   "metadata": {},
   "source": []
  },
  {
   "cell_type": "code",
   "execution_count": 10,
   "metadata": {},
   "outputs": [],
   "source": [
    "# import your own modules by providing path\n",
    "sys.path.append('../python')\n",
    "\n",
    "import apply_detree\n",
    "\n",
    "#import imp; imp.reload(apply_detree)  # force the interpreter to re-import if apply_detree.py changed"
   ]
  },
  {
   "cell_type": "code",
   "execution_count": 8,
   "metadata": {},
   "outputs": [
    {
     "name": "stdout",
     "output_type": "stream",
     "text": [
      "-rw-r--r-- 1 fxz547 ha3 1638229394 Mar 14  2018 /g/data/ha3/fxz547/Githubz/SUMMAR.CSV\r\n"
     ]
    }
   ],
   "source": [
    "!ls -l /g/data/ha3/fxz547/Githubz/SUMMAR.CSV\n",
    "#my_file_csv='/g/data/u46/fxz547/wofs_training_sample_data/orig_copy/Test_Tile_samples_20140203.csv'\n"
   ]
  },
  {
   "cell_type": "code",
   "execution_count": 11,
   "metadata": {},
   "outputs": [
    {
     "name": "stderr",
     "output_type": "stream",
     "text": [
      "/g/data1a/ha3/fxz547/miniconda3/lib/python3.6/site-packages/IPython/core/interactiveshell.py:2901: DtypeWarning: Columns (0,2,3,4,5,6,7,8,10,11) have mixed types. Specify dtype option on import or set low_memory=False.\n",
      "  if self.run_code(code, result):\n"
     ]
    }
   ],
   "source": [
    "my_file_csv='/g/data/ha3/fxz547/Githubz/SUMMAR.CSV'\n",
    "pdf = apply_detree.get_pdf_from_csv(my_file_csv)\n",
    "# todo: keep the old class_label. how to add a new_class column?"
   ]
  },
  {
   "cell_type": "code",
   "execution_count": 12,
   "metadata": {},
   "outputs": [
    {
     "data": {
      "text/plain": [
       "(4572697, 12)"
      ]
     },
     "execution_count": 12,
     "metadata": {},
     "output_type": "execute_result"
    }
   ],
   "source": [
    "pdf.shape"
   ]
  },
  {
   "cell_type": "code",
   "execution_count": 13,
   "metadata": {},
   "outputs": [],
   "source": [
    "#  Assign W_* into Water; all other classes into NotWater. Binary classes\n",
    "\n",
    "pdf['myclass'] = 0 # add a new column myclass\n",
    "# change the column myclass to datatype uint8\n",
    "pdf[['myclass']] =pdf[['myclass']].astype('uint8')\n",
    "\n",
    "w_condition= pdf.Class_name.str.startswith('W') | pdf.Class_name.str.endswith('_Water')  #match('^W_*') and CloudShadow_Water\n",
    "\n",
    "pdf.loc[w_condition, 'myclass'] = 128 #'Water'\n"
   ]
  },
  {
   "cell_type": "code",
   "execution_count": 14,
   "metadata": {},
   "outputs": [
    {
     "data": {
      "text/plain": [
       "Bright        object\n",
       "Class_name    object\n",
       "Mean_PQMas    object\n",
       "Mean_tm1c     object\n",
       "Mean_tm2c     object\n",
       "Mean_tm3c     object\n",
       "Mean_tm4c     object\n",
       "Mean_tm5c     object\n",
       "Mean_tm7c     object\n",
       "Scene_Name    object\n",
       "X_Min_Pxl     object\n",
       "Y_Min_Pxl     object\n",
       "myclass        uint8\n",
       "dtype: object"
      ]
     },
     "execution_count": 14,
     "metadata": {},
     "output_type": "execute_result"
    }
   ],
   "source": [
    "# df[['id']] = df[['id']].astype(int)\n",
    "\n",
    "pdf.dtypes"
   ]
  },
  {
   "cell_type": "code",
   "execution_count": 15,
   "metadata": {},
   "outputs": [
    {
     "data": {
      "text/plain": [
       "dtype('uint8')"
      ]
     },
     "execution_count": 15,
     "metadata": {},
     "output_type": "execute_result"
    }
   ],
   "source": [
    "pdf['myclass'].dtypes"
   ]
  },
  {
   "cell_type": "code",
   "execution_count": 16,
   "metadata": {},
   "outputs": [
    {
     "data": {
      "text/html": [
       "<div>\n",
       "<table border=\"1\" class=\"dataframe\">\n",
       "  <thead>\n",
       "    <tr style=\"text-align: right;\">\n",
       "      <th></th>\n",
       "      <th>Bright</th>\n",
       "      <th>Class_name</th>\n",
       "      <th>Mean_PQMas</th>\n",
       "      <th>Mean_tm1c</th>\n",
       "      <th>Mean_tm2c</th>\n",
       "      <th>Mean_tm3c</th>\n",
       "      <th>Mean_tm4c</th>\n",
       "      <th>Mean_tm5c</th>\n",
       "      <th>Mean_tm7c</th>\n",
       "      <th>Scene_Name</th>\n",
       "      <th>X_Min_Pxl</th>\n",
       "      <th>Y_Min_Pxl</th>\n",
       "    </tr>\n",
       "    <tr>\n",
       "      <th>myclass</th>\n",
       "      <th></th>\n",
       "      <th></th>\n",
       "      <th></th>\n",
       "      <th></th>\n",
       "      <th></th>\n",
       "      <th></th>\n",
       "      <th></th>\n",
       "      <th></th>\n",
       "      <th></th>\n",
       "      <th></th>\n",
       "      <th></th>\n",
       "      <th></th>\n",
       "    </tr>\n",
       "  </thead>\n",
       "  <tbody>\n",
       "    <tr>\n",
       "      <th>0</th>\n",
       "      <td>3753600</td>\n",
       "      <td>3753600</td>\n",
       "      <td>3753600</td>\n",
       "      <td>3753600</td>\n",
       "      <td>3753600</td>\n",
       "      <td>3753600</td>\n",
       "      <td>3753600</td>\n",
       "      <td>3753600</td>\n",
       "      <td>3753600</td>\n",
       "      <td>3753600</td>\n",
       "      <td>3753600</td>\n",
       "      <td>3753600</td>\n",
       "    </tr>\n",
       "    <tr>\n",
       "      <th>128</th>\n",
       "      <td>819097</td>\n",
       "      <td>819097</td>\n",
       "      <td>819097</td>\n",
       "      <td>819097</td>\n",
       "      <td>819097</td>\n",
       "      <td>819097</td>\n",
       "      <td>819097</td>\n",
       "      <td>819097</td>\n",
       "      <td>819097</td>\n",
       "      <td>819097</td>\n",
       "      <td>819097</td>\n",
       "      <td>819097</td>\n",
       "    </tr>\n",
       "  </tbody>\n",
       "</table>\n",
       "</div>"
      ],
      "text/plain": [
       "          Bright  Class_name  Mean_PQMas  Mean_tm1c  Mean_tm2c  Mean_tm3c  \\\n",
       "myclass                                                                     \n",
       "0        3753600     3753600     3753600    3753600    3753600    3753600   \n",
       "128       819097      819097      819097     819097     819097     819097   \n",
       "\n",
       "         Mean_tm4c  Mean_tm5c  Mean_tm7c  Scene_Name  X_Min_Pxl  Y_Min_Pxl  \n",
       "myclass                                                                     \n",
       "0          3753600    3753600    3753600     3753600    3753600    3753600  \n",
       "128         819097     819097     819097      819097     819097     819097  "
      ]
     },
     "execution_count": 16,
     "metadata": {},
     "output_type": "execute_result"
    }
   ],
   "source": [
    "# Group by Pixel Class_name, then count the number of rows in each group\n",
    "pdf.groupby('myclass').count()"
   ]
  },
  {
   "cell_type": "code",
   "execution_count": 17,
   "metadata": {},
   "outputs": [
    {
     "data": {
      "text/html": [
       "<div>\n",
       "<table border=\"1\" class=\"dataframe\">\n",
       "  <thead>\n",
       "    <tr style=\"text-align: right;\">\n",
       "      <th></th>\n",
       "      <th>Bright</th>\n",
       "      <th>Class_name</th>\n",
       "      <th>Mean_tm1c</th>\n",
       "      <th>Mean_tm2c</th>\n",
       "      <th>Mean_tm3c</th>\n",
       "      <th>Mean_tm4c</th>\n",
       "      <th>Mean_tm5c</th>\n",
       "      <th>Mean_tm7c</th>\n",
       "      <th>Scene_Name</th>\n",
       "      <th>X_Min_Pxl</th>\n",
       "      <th>Y_Min_Pxl</th>\n",
       "      <th>myclass</th>\n",
       "    </tr>\n",
       "    <tr>\n",
       "      <th>Mean_PQMas</th>\n",
       "      <th></th>\n",
       "      <th></th>\n",
       "      <th></th>\n",
       "      <th></th>\n",
       "      <th></th>\n",
       "      <th></th>\n",
       "      <th></th>\n",
       "      <th></th>\n",
       "      <th></th>\n",
       "      <th></th>\n",
       "      <th></th>\n",
       "      <th></th>\n",
       "    </tr>\n",
       "  </thead>\n",
       "  <tbody>\n",
       "    <tr>\n",
       "      <th>16383.0</th>\n",
       "      <td>4572697</td>\n",
       "      <td>4572697</td>\n",
       "      <td>4572697</td>\n",
       "      <td>4572697</td>\n",
       "      <td>4572697</td>\n",
       "      <td>4572697</td>\n",
       "      <td>4572697</td>\n",
       "      <td>4572697</td>\n",
       "      <td>4572697</td>\n",
       "      <td>4572697</td>\n",
       "      <td>4572697</td>\n",
       "      <td>4572697</td>\n",
       "    </tr>\n",
       "  </tbody>\n",
       "</table>\n",
       "</div>"
      ],
      "text/plain": [
       "             Bright  Class_name  Mean_tm1c  Mean_tm2c  Mean_tm3c  Mean_tm4c  \\\n",
       "Mean_PQMas                                                                    \n",
       "16383.0     4572697     4572697    4572697    4572697    4572697    4572697   \n",
       "\n",
       "            Mean_tm5c  Mean_tm7c  Scene_Name  X_Min_Pxl  Y_Min_Pxl  myclass  \n",
       "Mean_PQMas                                                                   \n",
       "16383.0       4572697    4572697     4572697    4572697    4572697  4572697  "
      ]
     },
     "execution_count": 17,
     "metadata": {},
     "output_type": "execute_result"
    }
   ],
   "source": [
    "pdf.groupby('Mean_PQMas').count()  # perfect good pixels"
   ]
  },
  {
   "cell_type": "code",
   "execution_count": 18,
   "metadata": {},
   "outputs": [
    {
     "data": {
      "text/html": [
       "<div>\n",
       "<table border=\"1\" class=\"dataframe\">\n",
       "  <thead>\n",
       "    <tr style=\"text-align: right;\">\n",
       "      <th></th>\n",
       "      <th>Bright</th>\n",
       "      <th>Mean_PQMas</th>\n",
       "      <th>Mean_tm1c</th>\n",
       "      <th>Mean_tm2c</th>\n",
       "      <th>Mean_tm3c</th>\n",
       "      <th>Mean_tm4c</th>\n",
       "      <th>Mean_tm5c</th>\n",
       "      <th>Mean_tm7c</th>\n",
       "      <th>Scene_Name</th>\n",
       "      <th>X_Min_Pxl</th>\n",
       "      <th>Y_Min_Pxl</th>\n",
       "      <th>myclass</th>\n",
       "    </tr>\n",
       "    <tr>\n",
       "      <th>Class_name</th>\n",
       "      <th></th>\n",
       "      <th></th>\n",
       "      <th></th>\n",
       "      <th></th>\n",
       "      <th></th>\n",
       "      <th></th>\n",
       "      <th></th>\n",
       "      <th></th>\n",
       "      <th></th>\n",
       "      <th></th>\n",
       "      <th></th>\n",
       "      <th></th>\n",
       "    </tr>\n",
       "  </thead>\n",
       "  <tbody>\n",
       "    <tr>\n",
       "      <th>Bare</th>\n",
       "      <td>784802</td>\n",
       "      <td>784802</td>\n",
       "      <td>784802</td>\n",
       "      <td>784802</td>\n",
       "      <td>784802</td>\n",
       "      <td>784802</td>\n",
       "      <td>784802</td>\n",
       "      <td>784802</td>\n",
       "      <td>784802</td>\n",
       "      <td>784802</td>\n",
       "      <td>784802</td>\n",
       "      <td>784802</td>\n",
       "    </tr>\n",
       "    <tr>\n",
       "      <th>BldShadow</th>\n",
       "      <td>5332</td>\n",
       "      <td>5332</td>\n",
       "      <td>5332</td>\n",
       "      <td>5332</td>\n",
       "      <td>5332</td>\n",
       "      <td>5332</td>\n",
       "      <td>5332</td>\n",
       "      <td>5332</td>\n",
       "      <td>5332</td>\n",
       "      <td>5332</td>\n",
       "      <td>5332</td>\n",
       "      <td>5332</td>\n",
       "    </tr>\n",
       "    <tr>\n",
       "      <th>CloudShadow_Bare</th>\n",
       "      <td>34395</td>\n",
       "      <td>34395</td>\n",
       "      <td>34395</td>\n",
       "      <td>34395</td>\n",
       "      <td>34395</td>\n",
       "      <td>34395</td>\n",
       "      <td>34395</td>\n",
       "      <td>34395</td>\n",
       "      <td>34395</td>\n",
       "      <td>34395</td>\n",
       "      <td>34395</td>\n",
       "      <td>34395</td>\n",
       "    </tr>\n",
       "    <tr>\n",
       "      <th>CloudShadow_Veg</th>\n",
       "      <td>29516</td>\n",
       "      <td>29516</td>\n",
       "      <td>29516</td>\n",
       "      <td>29516</td>\n",
       "      <td>29516</td>\n",
       "      <td>29516</td>\n",
       "      <td>29516</td>\n",
       "      <td>29516</td>\n",
       "      <td>29516</td>\n",
       "      <td>29516</td>\n",
       "      <td>29516</td>\n",
       "      <td>29516</td>\n",
       "    </tr>\n",
       "    <tr>\n",
       "      <th>CloudShadow_Water</th>\n",
       "      <td>651</td>\n",
       "      <td>651</td>\n",
       "      <td>651</td>\n",
       "      <td>651</td>\n",
       "      <td>651</td>\n",
       "      <td>651</td>\n",
       "      <td>651</td>\n",
       "      <td>651</td>\n",
       "      <td>651</td>\n",
       "      <td>651</td>\n",
       "      <td>651</td>\n",
       "      <td>651</td>\n",
       "    </tr>\n",
       "    <tr>\n",
       "      <th>Cropping_Bare</th>\n",
       "      <td>107755</td>\n",
       "      <td>107755</td>\n",
       "      <td>107755</td>\n",
       "      <td>107755</td>\n",
       "      <td>107755</td>\n",
       "      <td>107755</td>\n",
       "      <td>107755</td>\n",
       "      <td>107755</td>\n",
       "      <td>107755</td>\n",
       "      <td>107755</td>\n",
       "      <td>107755</td>\n",
       "      <td>107755</td>\n",
       "    </tr>\n",
       "    <tr>\n",
       "      <th>Cropping_DenseVeg</th>\n",
       "      <td>60621</td>\n",
       "      <td>60621</td>\n",
       "      <td>60621</td>\n",
       "      <td>60621</td>\n",
       "      <td>60621</td>\n",
       "      <td>60621</td>\n",
       "      <td>60621</td>\n",
       "      <td>60621</td>\n",
       "      <td>60621</td>\n",
       "      <td>60621</td>\n",
       "      <td>60621</td>\n",
       "      <td>60621</td>\n",
       "    </tr>\n",
       "    <tr>\n",
       "      <th>Dark_Soil</th>\n",
       "      <td>75623</td>\n",
       "      <td>75623</td>\n",
       "      <td>75623</td>\n",
       "      <td>75623</td>\n",
       "      <td>75623</td>\n",
       "      <td>75623</td>\n",
       "      <td>75623</td>\n",
       "      <td>75623</td>\n",
       "      <td>75623</td>\n",
       "      <td>75623</td>\n",
       "      <td>75623</td>\n",
       "      <td>75623</td>\n",
       "    </tr>\n",
       "    <tr>\n",
       "      <th>Road</th>\n",
       "      <td>10405</td>\n",
       "      <td>10405</td>\n",
       "      <td>10405</td>\n",
       "      <td>10405</td>\n",
       "      <td>10405</td>\n",
       "      <td>10405</td>\n",
       "      <td>10405</td>\n",
       "      <td>10405</td>\n",
       "      <td>10405</td>\n",
       "      <td>10405</td>\n",
       "      <td>10405</td>\n",
       "      <td>10405</td>\n",
       "    </tr>\n",
       "    <tr>\n",
       "      <th>Salt</th>\n",
       "      <td>35467</td>\n",
       "      <td>35467</td>\n",
       "      <td>35467</td>\n",
       "      <td>35467</td>\n",
       "      <td>35467</td>\n",
       "      <td>35467</td>\n",
       "      <td>35467</td>\n",
       "      <td>35467</td>\n",
       "      <td>35467</td>\n",
       "      <td>35467</td>\n",
       "      <td>35467</td>\n",
       "      <td>35467</td>\n",
       "    </tr>\n",
       "    <tr>\n",
       "      <th>Snow</th>\n",
       "      <td>29843</td>\n",
       "      <td>29843</td>\n",
       "      <td>29843</td>\n",
       "      <td>29843</td>\n",
       "      <td>29843</td>\n",
       "      <td>29843</td>\n",
       "      <td>29843</td>\n",
       "      <td>29843</td>\n",
       "      <td>29843</td>\n",
       "      <td>29843</td>\n",
       "      <td>29843</td>\n",
       "      <td>29843</td>\n",
       "    </tr>\n",
       "    <tr>\n",
       "      <th>TerrainShadow_Bare</th>\n",
       "      <td>378545</td>\n",
       "      <td>378545</td>\n",
       "      <td>378545</td>\n",
       "      <td>378545</td>\n",
       "      <td>378545</td>\n",
       "      <td>378545</td>\n",
       "      <td>378545</td>\n",
       "      <td>378545</td>\n",
       "      <td>378545</td>\n",
       "      <td>378545</td>\n",
       "      <td>378545</td>\n",
       "      <td>378545</td>\n",
       "    </tr>\n",
       "    <tr>\n",
       "      <th>TerrainShadow_Snow</th>\n",
       "      <td>7702</td>\n",
       "      <td>7702</td>\n",
       "      <td>7702</td>\n",
       "      <td>7702</td>\n",
       "      <td>7702</td>\n",
       "      <td>7702</td>\n",
       "      <td>7702</td>\n",
       "      <td>7702</td>\n",
       "      <td>7702</td>\n",
       "      <td>7702</td>\n",
       "      <td>7702</td>\n",
       "      <td>7702</td>\n",
       "    </tr>\n",
       "    <tr>\n",
       "      <th>TerrainShadow_Veg</th>\n",
       "      <td>155010</td>\n",
       "      <td>155010</td>\n",
       "      <td>155010</td>\n",
       "      <td>155010</td>\n",
       "      <td>155010</td>\n",
       "      <td>155010</td>\n",
       "      <td>155010</td>\n",
       "      <td>155010</td>\n",
       "      <td>155010</td>\n",
       "      <td>155010</td>\n",
       "      <td>155010</td>\n",
       "      <td>155010</td>\n",
       "    </tr>\n",
       "    <tr>\n",
       "      <th>V_Forest</th>\n",
       "      <td>1010696</td>\n",
       "      <td>1010696</td>\n",
       "      <td>1010696</td>\n",
       "      <td>1010696</td>\n",
       "      <td>1010696</td>\n",
       "      <td>1010696</td>\n",
       "      <td>1010696</td>\n",
       "      <td>1010696</td>\n",
       "      <td>1010696</td>\n",
       "      <td>1010696</td>\n",
       "      <td>1010696</td>\n",
       "      <td>1010696</td>\n",
       "    </tr>\n",
       "    <tr>\n",
       "      <th>V_Grassland</th>\n",
       "      <td>940233</td>\n",
       "      <td>940233</td>\n",
       "      <td>940233</td>\n",
       "      <td>940233</td>\n",
       "      <td>940233</td>\n",
       "      <td>940233</td>\n",
       "      <td>940233</td>\n",
       "      <td>940233</td>\n",
       "      <td>940233</td>\n",
       "      <td>940233</td>\n",
       "      <td>940233</td>\n",
       "      <td>940233</td>\n",
       "    </tr>\n",
       "    <tr>\n",
       "      <th>V_Riparian</th>\n",
       "      <td>87655</td>\n",
       "      <td>87655</td>\n",
       "      <td>87655</td>\n",
       "      <td>87655</td>\n",
       "      <td>87655</td>\n",
       "      <td>87655</td>\n",
       "      <td>87655</td>\n",
       "      <td>87655</td>\n",
       "      <td>87655</td>\n",
       "      <td>87655</td>\n",
       "      <td>87655</td>\n",
       "      <td>87655</td>\n",
       "    </tr>\n",
       "    <tr>\n",
       "      <th>W_Dark</th>\n",
       "      <td>45764</td>\n",
       "      <td>45764</td>\n",
       "      <td>45764</td>\n",
       "      <td>45764</td>\n",
       "      <td>45764</td>\n",
       "      <td>45764</td>\n",
       "      <td>45764</td>\n",
       "      <td>45764</td>\n",
       "      <td>45764</td>\n",
       "      <td>45764</td>\n",
       "      <td>45764</td>\n",
       "      <td>45764</td>\n",
       "    </tr>\n",
       "    <tr>\n",
       "      <th>W_Estuary</th>\n",
       "      <td>70229</td>\n",
       "      <td>70229</td>\n",
       "      <td>70229</td>\n",
       "      <td>70229</td>\n",
       "      <td>70229</td>\n",
       "      <td>70229</td>\n",
       "      <td>70229</td>\n",
       "      <td>70229</td>\n",
       "      <td>70229</td>\n",
       "      <td>70229</td>\n",
       "      <td>70229</td>\n",
       "      <td>70229</td>\n",
       "    </tr>\n",
       "    <tr>\n",
       "      <th>W_LargeBody</th>\n",
       "      <td>224292</td>\n",
       "      <td>224292</td>\n",
       "      <td>224292</td>\n",
       "      <td>224292</td>\n",
       "      <td>224292</td>\n",
       "      <td>224292</td>\n",
       "      <td>224292</td>\n",
       "      <td>224292</td>\n",
       "      <td>224292</td>\n",
       "      <td>224292</td>\n",
       "      <td>224292</td>\n",
       "      <td>224292</td>\n",
       "    </tr>\n",
       "    <tr>\n",
       "      <th>W_River</th>\n",
       "      <td>41887</td>\n",
       "      <td>41887</td>\n",
       "      <td>41887</td>\n",
       "      <td>41887</td>\n",
       "      <td>41887</td>\n",
       "      <td>41887</td>\n",
       "      <td>41887</td>\n",
       "      <td>41887</td>\n",
       "      <td>41887</td>\n",
       "      <td>41887</td>\n",
       "      <td>41887</td>\n",
       "      <td>41887</td>\n",
       "    </tr>\n",
       "    <tr>\n",
       "      <th>W_SalineFlats</th>\n",
       "      <td>7618</td>\n",
       "      <td>7618</td>\n",
       "      <td>7618</td>\n",
       "      <td>7618</td>\n",
       "      <td>7618</td>\n",
       "      <td>7618</td>\n",
       "      <td>7618</td>\n",
       "      <td>7618</td>\n",
       "      <td>7618</td>\n",
       "      <td>7618</td>\n",
       "      <td>7618</td>\n",
       "      <td>7618</td>\n",
       "    </tr>\n",
       "    <tr>\n",
       "      <th>W_Salt_Lake</th>\n",
       "      <td>117331</td>\n",
       "      <td>117331</td>\n",
       "      <td>117331</td>\n",
       "      <td>117331</td>\n",
       "      <td>117331</td>\n",
       "      <td>117331</td>\n",
       "      <td>117331</td>\n",
       "      <td>117331</td>\n",
       "      <td>117331</td>\n",
       "      <td>117331</td>\n",
       "      <td>117331</td>\n",
       "      <td>117331</td>\n",
       "    </tr>\n",
       "    <tr>\n",
       "      <th>W_Sea</th>\n",
       "      <td>2435</td>\n",
       "      <td>2435</td>\n",
       "      <td>2435</td>\n",
       "      <td>2435</td>\n",
       "      <td>2435</td>\n",
       "      <td>2435</td>\n",
       "      <td>2435</td>\n",
       "      <td>2435</td>\n",
       "      <td>2435</td>\n",
       "      <td>2435</td>\n",
       "      <td>2435</td>\n",
       "      <td>2435</td>\n",
       "    </tr>\n",
       "    <tr>\n",
       "      <th>W_SmallBody</th>\n",
       "      <td>50244</td>\n",
       "      <td>50244</td>\n",
       "      <td>50244</td>\n",
       "      <td>50244</td>\n",
       "      <td>50244</td>\n",
       "      <td>50244</td>\n",
       "      <td>50244</td>\n",
       "      <td>50244</td>\n",
       "      <td>50244</td>\n",
       "      <td>50244</td>\n",
       "      <td>50244</td>\n",
       "      <td>50244</td>\n",
       "    </tr>\n",
       "    <tr>\n",
       "      <th>W_Swamp</th>\n",
       "      <td>60883</td>\n",
       "      <td>60883</td>\n",
       "      <td>60883</td>\n",
       "      <td>60883</td>\n",
       "      <td>60883</td>\n",
       "      <td>60883</td>\n",
       "      <td>60883</td>\n",
       "      <td>60883</td>\n",
       "      <td>60883</td>\n",
       "      <td>60883</td>\n",
       "      <td>60883</td>\n",
       "      <td>60883</td>\n",
       "    </tr>\n",
       "    <tr>\n",
       "      <th>W_Turbid</th>\n",
       "      <td>185642</td>\n",
       "      <td>185642</td>\n",
       "      <td>185642</td>\n",
       "      <td>185642</td>\n",
       "      <td>185642</td>\n",
       "      <td>185642</td>\n",
       "      <td>185642</td>\n",
       "      <td>185642</td>\n",
       "      <td>185642</td>\n",
       "      <td>185642</td>\n",
       "      <td>185642</td>\n",
       "      <td>185642</td>\n",
       "    </tr>\n",
       "    <tr>\n",
       "      <th>W_VegMix</th>\n",
       "      <td>12121</td>\n",
       "      <td>12121</td>\n",
       "      <td>12121</td>\n",
       "      <td>12121</td>\n",
       "      <td>12121</td>\n",
       "      <td>12121</td>\n",
       "      <td>12121</td>\n",
       "      <td>12121</td>\n",
       "      <td>12121</td>\n",
       "      <td>12121</td>\n",
       "      <td>12121</td>\n",
       "      <td>12121</td>\n",
       "    </tr>\n",
       "  </tbody>\n",
       "</table>\n",
       "</div>"
      ],
      "text/plain": [
       "                     Bright  Mean_PQMas  Mean_tm1c  Mean_tm2c  Mean_tm3c  \\\n",
       "Class_name                                                                 \n",
       "Bare                 784802      784802     784802     784802     784802   \n",
       "BldShadow              5332        5332       5332       5332       5332   \n",
       "CloudShadow_Bare      34395       34395      34395      34395      34395   \n",
       "CloudShadow_Veg       29516       29516      29516      29516      29516   \n",
       "CloudShadow_Water       651         651        651        651        651   \n",
       "Cropping_Bare        107755      107755     107755     107755     107755   \n",
       "Cropping_DenseVeg     60621       60621      60621      60621      60621   \n",
       "Dark_Soil             75623       75623      75623      75623      75623   \n",
       "Road                  10405       10405      10405      10405      10405   \n",
       "Salt                  35467       35467      35467      35467      35467   \n",
       "Snow                  29843       29843      29843      29843      29843   \n",
       "TerrainShadow_Bare   378545      378545     378545     378545     378545   \n",
       "TerrainShadow_Snow     7702        7702       7702       7702       7702   \n",
       "TerrainShadow_Veg    155010      155010     155010     155010     155010   \n",
       "V_Forest            1010696     1010696    1010696    1010696    1010696   \n",
       "V_Grassland          940233      940233     940233     940233     940233   \n",
       "V_Riparian            87655       87655      87655      87655      87655   \n",
       "W_Dark                45764       45764      45764      45764      45764   \n",
       "W_Estuary             70229       70229      70229      70229      70229   \n",
       "W_LargeBody          224292      224292     224292     224292     224292   \n",
       "W_River               41887       41887      41887      41887      41887   \n",
       "W_SalineFlats          7618        7618       7618       7618       7618   \n",
       "W_Salt_Lake          117331      117331     117331     117331     117331   \n",
       "W_Sea                  2435        2435       2435       2435       2435   \n",
       "W_SmallBody           50244       50244      50244      50244      50244   \n",
       "W_Swamp               60883       60883      60883      60883      60883   \n",
       "W_Turbid             185642      185642     185642     185642     185642   \n",
       "W_VegMix              12121       12121      12121      12121      12121   \n",
       "\n",
       "                    Mean_tm4c  Mean_tm5c  Mean_tm7c  Scene_Name  X_Min_Pxl  \\\n",
       "Class_name                                                                   \n",
       "Bare                   784802     784802     784802      784802     784802   \n",
       "BldShadow                5332       5332       5332        5332       5332   \n",
       "CloudShadow_Bare        34395      34395      34395       34395      34395   \n",
       "CloudShadow_Veg         29516      29516      29516       29516      29516   \n",
       "CloudShadow_Water         651        651        651         651        651   \n",
       "Cropping_Bare          107755     107755     107755      107755     107755   \n",
       "Cropping_DenseVeg       60621      60621      60621       60621      60621   \n",
       "Dark_Soil               75623      75623      75623       75623      75623   \n",
       "Road                    10405      10405      10405       10405      10405   \n",
       "Salt                    35467      35467      35467       35467      35467   \n",
       "Snow                    29843      29843      29843       29843      29843   \n",
       "TerrainShadow_Bare     378545     378545     378545      378545     378545   \n",
       "TerrainShadow_Snow       7702       7702       7702        7702       7702   \n",
       "TerrainShadow_Veg      155010     155010     155010      155010     155010   \n",
       "V_Forest              1010696    1010696    1010696     1010696    1010696   \n",
       "V_Grassland            940233     940233     940233      940233     940233   \n",
       "V_Riparian              87655      87655      87655       87655      87655   \n",
       "W_Dark                  45764      45764      45764       45764      45764   \n",
       "W_Estuary               70229      70229      70229       70229      70229   \n",
       "W_LargeBody            224292     224292     224292      224292     224292   \n",
       "W_River                 41887      41887      41887       41887      41887   \n",
       "W_SalineFlats            7618       7618       7618        7618       7618   \n",
       "W_Salt_Lake            117331     117331     117331      117331     117331   \n",
       "W_Sea                    2435       2435       2435        2435       2435   \n",
       "W_SmallBody             50244      50244      50244       50244      50244   \n",
       "W_Swamp                 60883      60883      60883       60883      60883   \n",
       "W_Turbid               185642     185642     185642      185642     185642   \n",
       "W_VegMix                12121      12121      12121       12121      12121   \n",
       "\n",
       "                    Y_Min_Pxl  myclass  \n",
       "Class_name                              \n",
       "Bare                   784802   784802  \n",
       "BldShadow                5332     5332  \n",
       "CloudShadow_Bare        34395    34395  \n",
       "CloudShadow_Veg         29516    29516  \n",
       "CloudShadow_Water         651      651  \n",
       "Cropping_Bare          107755   107755  \n",
       "Cropping_DenseVeg       60621    60621  \n",
       "Dark_Soil               75623    75623  \n",
       "Road                    10405    10405  \n",
       "Salt                    35467    35467  \n",
       "Snow                    29843    29843  \n",
       "TerrainShadow_Bare     378545   378545  \n",
       "TerrainShadow_Snow       7702     7702  \n",
       "TerrainShadow_Veg      155010   155010  \n",
       "V_Forest              1010696  1010696  \n",
       "V_Grassland            940233   940233  \n",
       "V_Riparian              87655    87655  \n",
       "W_Dark                  45764    45764  \n",
       "W_Estuary               70229    70229  \n",
       "W_LargeBody            224292   224292  \n",
       "W_River                 41887    41887  \n",
       "W_SalineFlats            7618     7618  \n",
       "W_Salt_Lake            117331   117331  \n",
       "W_Sea                    2435     2435  \n",
       "W_SmallBody             50244    50244  \n",
       "W_Swamp                 60883    60883  \n",
       "W_Turbid               185642   185642  \n",
       "W_VegMix                12121    12121  "
      ]
     },
     "execution_count": 18,
     "metadata": {},
     "output_type": "execute_result"
    }
   ],
   "source": [
    "pdf.groupby('Class_name').count()"
   ]
  },
  {
   "cell_type": "code",
   "execution_count": 19,
   "metadata": {},
   "outputs": [
    {
     "data": {
      "text/plain": [
       "'0b11111111111111'"
      ]
     },
     "execution_count": 19,
     "metadata": {},
     "output_type": "execute_result"
    }
   ],
   "source": [
    "#perfect pixel has a quality flag 13683 in the column Mean_PQMa\n",
    "bin(16383)"
   ]
  },
  {
   "cell_type": "code",
   "execution_count": 20,
   "metadata": {},
   "outputs": [
    {
     "data": {
      "text/plain": [
       "(224292, 13)"
      ]
     },
     "execution_count": 20,
     "metadata": {},
     "output_type": "execute_result"
    }
   ],
   "source": [
    "df_wlargebody= pdf[pdf['Class_name'] =='W_LargeBody']\n",
    "df_wlargebody.shape"
   ]
  },
  {
   "cell_type": "code",
   "execution_count": null,
   "metadata": {
    "collapsed": true
   },
   "outputs": [],
   "source": []
  },
  {
   "cell_type": "markdown",
   "metadata": {},
   "source": [
    "# Separate the Water and NonWater data"
   ]
  },
  {
   "cell_type": "code",
   "execution_count": 21,
   "metadata": {},
   "outputs": [],
   "source": [
    "dfwater=pdf[pdf['myclass'] ==128]\n",
    "dfnowater= pdf[pdf['myclass'] == 0]"
   ]
  },
  {
   "cell_type": "code",
   "execution_count": 22,
   "metadata": {},
   "outputs": [
    {
     "data": {
      "text/plain": [
       "(819097, 13)"
      ]
     },
     "execution_count": 22,
     "metadata": {},
     "output_type": "execute_result"
    }
   ],
   "source": [
    "dfwater.shape"
   ]
  },
  {
   "cell_type": "code",
   "execution_count": 23,
   "metadata": {},
   "outputs": [
    {
     "data": {
      "text/plain": [
       "(3753600, 13)"
      ]
     },
     "execution_count": 23,
     "metadata": {},
     "output_type": "execute_result"
    }
   ],
   "source": [
    "dfnowater.shape"
   ]
  },
  {
   "cell_type": "markdown",
   "metadata": {},
   "source": [
    "# Plotting the values\n",
    "\n",
    "See http://pandas.pydata.org/pandas-docs/stable/visualization.html\n"
   ]
  },
  {
   "cell_type": "markdown",
   "metadata": {},
   "source": [
    "# How to design best ML models accordingly?"
   ]
  },
  {
   "cell_type": "code",
   "execution_count": 19,
   "metadata": {
    "collapsed": true
   },
   "outputs": [],
   "source": [
    "# https://www.google.com.au/webhp?sourceid=chrome-instant&ion=1&espv=2&ie=UTF-8#q=how+to+design+Machine+learning+models+according+feature+stats"
   ]
  },
  {
   "cell_type": "markdown",
   "metadata": {},
   "source": [
    "## Prepare sample dataset for scikit analysis"
   ]
  },
  {
   "cell_type": "code",
   "execution_count": 25,
   "metadata": {},
   "outputs": [
    {
     "name": "stdout",
     "output_type": "stream",
     "text": [
      "['Bright', 'Class_name', 'Mean_PQMas', 'Mean_tm1c', 'Mean_tm2c', 'Mean_tm3c', 'Mean_tm4c', 'Mean_tm5c', 'Mean_tm7c', 'Scene_Name', 'X_Min_Pxl', 'Y_Min_Pxl', 'myclass']\n"
     ]
    }
   ],
   "source": [
    "clm_list = []\n",
    "for column in pdf.columns: clm_list.append(column)\n",
    "    \n",
    "print (clm_list)"
   ]
  },
  {
   "cell_type": "code",
   "execution_count": 26,
   "metadata": {},
   "outputs": [
    {
     "name": "stdout",
     "output_type": "stream",
     "text": [
      "['X_Min_Pxl', 'myclass', 'Mean_tm4c', 'Mean_tm5c']\n"
     ]
    }
   ],
   "source": [
    "# select 3 most important feature attributes as predictive columns\n",
    "# Note that the order of these variables does not matter. The same decision tree will be arrived\n",
    "pred_cols= [ clm_list[10],clm_list[12], clm_list[6], clm_list[7]]\n",
    "print(pred_cols)"
   ]
  },
  {
   "cell_type": "code",
   "execution_count": 28,
   "metadata": {},
   "outputs": [
    {
     "name": "stdout",
     "output_type": "stream",
     "text": [
      "(4572697, 4) <class 'numpy.ndarray'> object\n",
      "(4572697,) uint8\n"
     ]
    }
   ],
   "source": [
    "#select the columns values into numpy array\n",
    "\n",
    "X= pdf[pred_cols].values\n",
    "\n",
    "Y = pdf['myclass'].values  # the new column myclass\n",
    "       \n",
    "print (X.shape, type(X), X.dtype)\n",
    "print (Y.shape, Y.dtype)"
   ]
  },
  {
   "cell_type": "code",
   "execution_count": 22,
   "metadata": {},
   "outputs": [
    {
     "data": {
      "text/plain": [
       "array([[  3.16631872e-01,   6.74264008e-02,   8.22000000e+02,\n",
       "          9.46000000e+02],\n",
       "       [  3.95655036e-01,   1.28205128e-01,   8.56000000e+02,\n",
       "          1.06000000e+03]])"
      ]
     },
     "execution_count": 22,
     "metadata": {},
     "output_type": "execute_result"
    }
   ],
   "source": [
    "X[:2]"
   ]
  },
  {
   "cell_type": "code",
   "execution_count": 29,
   "metadata": {},
   "outputs": [],
   "source": [
    "Xw = dfwater[pred_cols].values"
   ]
  },
  {
   "cell_type": "code",
   "execution_count": 30,
   "metadata": {},
   "outputs": [
    {
     "data": {
      "text/plain": [
       "array([[3104.0, 128, 1193.0, 558.0],\n",
       "       [3131.0, 128, 2236.0, 535.0]], dtype=object)"
      ]
     },
     "execution_count": 30,
     "metadata": {},
     "output_type": "execute_result"
    }
   ],
   "source": [
    "Xw[:2]"
   ]
  },
  {
   "cell_type": "markdown",
   "metadata": {},
   "source": [
    "## Scikit-learn"
   ]
  },
  {
   "cell_type": "code",
   "execution_count": 31,
   "metadata": {},
   "outputs": [],
   "source": [
    "from sklearn import tree\n",
    "clf = tree.DecisionTreeClassifier(max_depth=7)\n",
    "\n",
    "# Traing the model with the sample data %time clf = clf.fit(X, Y)\n",
    "\n",
    "clf = clf.fit(X, Y)"
   ]
  },
  {
   "cell_type": "code",
   "execution_count": 32,
   "metadata": {},
   "outputs": [
    {
     "name": "stdout",
     "output_type": "stream",
     "text": [
      "227014 [128] 128 W_Dark\n"
     ]
    }
   ],
   "source": [
    "# verify the model using function predict\n",
    "isample= 227014\n",
    "# Or get a random sample to compare\n",
    "#isample=np.random.random_integers(0,999)\n",
    "\n",
    "print (isample, clf.predict(X[isample,:].reshape(1, -1) ), Y[isample], pdf.Class_name.iloc[isample])"
   ]
  },
  {
   "cell_type": "code",
   "execution_count": 33,
   "metadata": {},
   "outputs": [
    {
     "data": {
      "text/plain": [
       "1.0"
      ]
     },
     "execution_count": 33,
     "metadata": {},
     "output_type": "execute_result"
    }
   ],
   "source": [
    "#3) Apply / evaluate\n",
    "clf.score(X,Y)"
   ]
  },
  {
   "cell_type": "code",
   "execution_count": 38,
   "metadata": {},
   "outputs": [],
   "source": [
    "# new import sklearn.model_selection\n",
    "#ModuleNotFoundError: No module named 'sklearn.cross_validation'"
   ]
  },
  {
   "cell_type": "code",
   "execution_count": 36,
   "metadata": {},
   "outputs": [],
   "source": [
    "# Advanced_sklearn/Chapter%201/Classification.ipynb\n",
    "# more methods, split the samples , validation  \n",
    "from sklearn.model_selection import train_test_split\n",
    "X_train, X_test, y_train, y_test = train_test_split(X,Y)"
   ]
  },
  {
   "cell_type": "code",
   "execution_count": 39,
   "metadata": {},
   "outputs": [
    {
     "name": "stdout",
     "output_type": "stream",
     "text": [
      "(1143175, 4)\n"
     ]
    },
    {
     "data": {
      "text/plain": [
       "1.0"
      ]
     },
     "execution_count": 39,
     "metadata": {},
     "output_type": "execute_result"
    }
   ],
   "source": [
    "print (X_test.shape)\n",
    "clf.score(X_test,y_test)\n"
   ]
  },
  {
   "cell_type": "code",
   "execution_count": 41,
   "metadata": {},
   "outputs": [
    {
     "name": "stdout",
     "output_type": "stream",
     "text": [
      "[1. 1. 1. 1. 1.]\n",
      "1.0\n"
     ]
    }
   ],
   "source": [
    "# Cross validation\n",
    "from sklearn.model_selection import cross_val_score\n",
    "\n",
    "for classifier in [clf] :\n",
    "    scores = cross_val_score(classifier, X, Y, cv=5)\n",
    "    print(scores)\n",
    "    print(np.mean(scores))"
   ]
  },
  {
   "cell_type": "code",
   "execution_count": 42,
   "metadata": {},
   "outputs": [
    {
     "ename": "ModuleNotFoundError",
     "evalue": "No module named 'pydot'",
     "output_type": "error",
     "traceback": [
      "\u001b[0;31m---------------------------------------------------------------------------\u001b[0m",
      "\u001b[0;31mModuleNotFoundError\u001b[0m                       Traceback (most recent call last)",
      "\u001b[0;32m<ipython-input-42-30f3bd55a2bd>\u001b[0m in \u001b[0;36m<module>\u001b[0;34m()\u001b[0m\n\u001b[1;32m      3\u001b[0m \u001b[0;32mfrom\u001b[0m \u001b[0mIPython\u001b[0m\u001b[0;34m.\u001b[0m\u001b[0mdisplay\u001b[0m \u001b[0;32mimport\u001b[0m \u001b[0mImage\u001b[0m\u001b[0;34m\u001b[0m\u001b[0m\n\u001b[1;32m      4\u001b[0m \u001b[0;32mfrom\u001b[0m \u001b[0msklearn\u001b[0m\u001b[0;34m.\u001b[0m\u001b[0mexternals\u001b[0m\u001b[0;34m.\u001b[0m\u001b[0msix\u001b[0m \u001b[0;32mimport\u001b[0m \u001b[0mStringIO\u001b[0m\u001b[0;34m\u001b[0m\u001b[0m\n\u001b[0;32m----> 5\u001b[0;31m \u001b[0;32mimport\u001b[0m \u001b[0mpydot\u001b[0m\u001b[0;34m\u001b[0m\u001b[0m\n\u001b[0m\u001b[1;32m      6\u001b[0m \u001b[0;32mwith\u001b[0m \u001b[0mopen\u001b[0m\u001b[0;34m(\u001b[0m\u001b[0;34m\"de_tree.dot\"\u001b[0m\u001b[0;34m,\u001b[0m \u001b[0;34m'w'\u001b[0m\u001b[0;34m)\u001b[0m \u001b[0;32mas\u001b[0m \u001b[0mf\u001b[0m\u001b[0;34m:\u001b[0m \u001b[0mf\u001b[0m \u001b[0;34m=\u001b[0m \u001b[0mtree\u001b[0m\u001b[0;34m.\u001b[0m\u001b[0mexport_graphviz\u001b[0m\u001b[0;34m(\u001b[0m\u001b[0mclf\u001b[0m\u001b[0;34m,\u001b[0m \u001b[0mout_file\u001b[0m\u001b[0;34m=\u001b[0m\u001b[0mf\u001b[0m\u001b[0;34m)\u001b[0m\u001b[0;34m\u001b[0m\u001b[0m\n\u001b[1;32m      7\u001b[0m \u001b[0;34m\u001b[0m\u001b[0m\n",
      "\u001b[0;31mModuleNotFoundError\u001b[0m: No module named 'pydot'"
     ]
    }
   ],
   "source": [
    "# Let's Generate the Tree.\n",
    "\n",
    "from IPython.display import Image \n",
    "from sklearn.externals.six import StringIO  \n",
    "import pydot \n",
    "with open(\"de_tree.dot\", 'w') as f: f = tree.export_graphviz(clf, out_file=f)\n",
    "\n",
    "    \n",
    "# dot -Tpdf iris.dot -o iris.pdf\n",
    "\n",
    "!dot -Tpdf de_tree.dot -o de_tree4v7Dep.pdf"
   ]
  },
  {
   "cell_type": "code",
   "execution_count": null,
   "metadata": {},
   "outputs": [],
   "source": []
  },
  {
   "cell_type": "raw",
   "metadata": {},
   "source": [
    "# Todo: show Tree in this notebook\n",
    "# http://scikit-learn.org/stable/modules/tree.html\n",
    "dot_data = StringIO()  \n",
    "tree.export_graphviz(clf, out_file=dot_data,  \n",
    "                         feature_names=[clm_list[10],clm_list[12], clm_list[7]],  \n",
    "                         class_names=Y[:],  \n",
    "                         filled=True, rounded=True,  \n",
    "                         special_characters=True)  \n",
    "graph = pydot.graph_from_dot_data(dot_data.getvalue())  \n",
    "Image(graph.create_png())  "
   ]
  },
  {
   "cell_type": "code",
   "execution_count": 36,
   "metadata": {},
   "outputs": [],
   "source": [
    "# http://scikit-learn.org/stable/modules/model_persistence.html\n",
    "import pickle\n",
    "s = pickle.dumps(clf)\n",
    "\n",
    "#print(s)\n",
    "#to unpickle clf2 = pickle.loads(s)\n",
    "#clf2.predict(X[0:1])\n",
    "#array([0])\n"
   ]
  },
  {
   "cell_type": "code",
   "execution_count": 43,
   "metadata": {},
   "outputs": [
    {
     "ename": "NameError",
     "evalue": "name 's' is not defined",
     "output_type": "error",
     "traceback": [
      "\u001b[0;31m---------------------------------------------------------------------------\u001b[0m",
      "\u001b[0;31mNameError\u001b[0m                                 Traceback (most recent call last)",
      "\u001b[0;32m<ipython-input-43-b9f35f2e1f1f>\u001b[0m in \u001b[0;36m<module>\u001b[0;34m()\u001b[0m\n\u001b[1;32m      1\u001b[0m \u001b[0;31m# unpickle\u001b[0m\u001b[0;34m\u001b[0m\u001b[0;34m\u001b[0m\u001b[0m\n\u001b[0;32m----> 2\u001b[0;31m \u001b[0mclf1\u001b[0m \u001b[0;34m=\u001b[0m \u001b[0mpickle\u001b[0m\u001b[0;34m.\u001b[0m\u001b[0mloads\u001b[0m\u001b[0;34m(\u001b[0m\u001b[0ms\u001b[0m\u001b[0;34m)\u001b[0m\u001b[0;34m\u001b[0m\u001b[0m\n\u001b[0m",
      "\u001b[0;31mNameError\u001b[0m: name 's' is not defined"
     ]
    }
   ],
   "source": [
    "# unpickle\n",
    "clf1 = pickle.loads(s)"
   ]
  },
  {
   "cell_type": "code",
   "execution_count": 38,
   "metadata": {},
   "outputs": [
    {
     "data": {
      "text/plain": [
       "['detreedep5.pkl',\n",
       " 'detreedep5.pkl_01.npy',\n",
       " 'detreedep5.pkl_02.npy',\n",
       " 'detreedep5.pkl_03.npy',\n",
       " 'detreedep5.pkl_04.npy']"
      ]
     },
     "execution_count": 38,
     "metadata": {},
     "output_type": "execute_result"
    }
   ],
   "source": [
    "from sklearn.externals import joblib\n",
    "joblib.dump(clf, 'detreedep5.pkl') \n",
    "\n",
    "#Later you can load back the pickled model (possibly in another Python process) with:\n",
    "#clf = joblib.load('detreedep5.pkl')\n",
    "\n",
    "# Note joblib.dump returns a list of filenames. Each individual numpy array contained in the clf object is serialized as a separate file on the filesystem. All files are required in the same folder when reloading the model with joblib.load."
   ]
  },
  {
   "cell_type": "code",
   "execution_count": 39,
   "metadata": {
    "collapsed": true
   },
   "outputs": [],
   "source": [
    "clf2 = joblib.load('detreedep5.pkl')"
   ]
  },
  {
   "cell_type": "code",
   "execution_count": 40,
   "metadata": {},
   "outputs": [],
   "source": [
    "with open('detree_clf.pickle', 'wb') as f:\n",
    "    # Pickle the 'data' dictionary using the highest protocol available.\n",
    "    pickle.dump(clf, f, pickle.HIGHEST_PROTOCOL)"
   ]
  },
  {
   "cell_type": "code",
   "execution_count": 41,
   "metadata": {},
   "outputs": [],
   "source": [
    "\n",
    "with open('detree_clf.pickle', 'rb') as f:\n",
    "    # The protocol version used is detected automatically, so we do not\n",
    "    # have to specify it.\n",
    "    clf3 = pickle.load(f)"
   ]
  },
  {
   "cell_type": "code",
   "execution_count": 42,
   "metadata": {},
   "outputs": [
    {
     "name": "stdout",
     "output_type": "stream",
     "text": [
      "(DecisionTreeClassifier(class_weight=None, criterion='gini', max_depth=3,\n",
      "            max_features=None, max_leaf_nodes=None, min_samples_leaf=1,\n",
      "            min_samples_split=2, min_weight_fraction_leaf=0.0,\n",
      "            presort=False, random_state=None, splitter='best'), DecisionTreeClassifier(class_weight=None, criterion='gini', max_depth=3,\n",
      "            max_features=None, max_leaf_nodes=None, min_samples_leaf=1,\n",
      "            min_samples_split=2, min_weight_fraction_leaf=0.0,\n",
      "            presort=False, random_state=None, splitter='best'), DecisionTreeClassifier(class_weight=None, criterion='gini', max_depth=3,\n",
      "            max_features=None, max_leaf_nodes=None, min_samples_leaf=1,\n",
      "            min_samples_split=2, min_weight_fraction_leaf=0.0,\n",
      "            presort=False, random_state=None, splitter='best'), DecisionTreeClassifier(class_weight=None, criterion='gini', max_depth=3,\n",
      "            max_features=None, max_leaf_nodes=None, min_samples_leaf=1,\n",
      "            min_samples_split=2, min_weight_fraction_leaf=0.0,\n",
      "            presort=False, random_state=None, splitter='best'))\n"
     ]
    }
   ],
   "source": [
    "print (clf,clf1,clf2,clf3)"
   ]
  },
  {
   "cell_type": "code",
   "execution_count": 43,
   "metadata": {},
   "outputs": [
    {
     "name": "stdout",
     "output_type": "stream",
     "text": [
      "This may not worked?\n"
     ]
    }
   ],
   "source": [
    "if clf2 ==clf1:  # This object comparison does not work correctly\n",
    "    print (\"unpickled OK\")\n",
    "else:\n",
    "    print(\"This may not worked?\")"
   ]
  },
  {
   "cell_type": "code",
   "execution_count": 44,
   "metadata": {},
   "outputs": [
    {
     "name": "stdout",
     "output_type": "stream",
     "text": [
      "(104971, array([128], dtype=uint8), 128, 'W_SalineFlats')\n",
      "(104971, array([128], dtype=uint8), 128, 'W_SalineFlats')\n",
      "(104971, array([128], dtype=uint8), 128, 'W_SalineFlats')\n",
      "(104971, array([128], dtype=uint8), 128, 'W_SalineFlats')\n"
     ]
    }
   ],
   "source": [
    "isample= 104971\n",
    "\n",
    "print (isample, clf.predict(X[isample,:].reshape(1, -1) ), Y[isample], pdf.Class_name.iloc[isample])\n",
    "\n",
    "print (isample, clf1.predict(X[isample,:].reshape(1, -1) ), Y[isample], pdf.Class_name.iloc[isample])\n",
    "print (isample, clf2.predict(X[isample,:].reshape(1, -1) ), Y[isample], pdf.Class_name.iloc[isample])\n",
    "print (isample, clf3.predict(X[isample,:].reshape(1, -1) ), Y[isample], pdf.Class_name.iloc[isample])"
   ]
  },
  {
   "cell_type": "markdown",
   "metadata": {},
   "source": [
    "# Google search how to select important feature"
   ]
  },
  {
   "cell_type": "markdown",
   "metadata": {},
   "source": [
    "** http://machinelearningmastery.com/an-introduction-to-feature-selection/\n",
    "\n",
    "** http://scikit-learn.org/stable/modules/feature_selection.html\n",
    "    "
   ]
  },
  {
   "cell_type": "markdown",
   "metadata": {},
   "source": [
    "# you can pickle the clf tree for later use."
   ]
  },
  {
   "cell_type": "code",
   "execution_count": 44,
   "metadata": {},
   "outputs": [
    {
     "data": {
      "text/plain": [
       "array([( 1,  2,  1, 64., 0.29408202, 4572697, 4572697.),\n",
       "       (-1, -1, -2, -2., 0.        , 3753600, 3753600.),\n",
       "       (-1, -1, -2, -2., 0.        ,  819097,  819097.)],\n",
       "      dtype=[('left_child', '<i8'), ('right_child', '<i8'), ('feature', '<i8'), ('threshold', '<f8'), ('impurity', '<f8'), ('n_node_samples', '<i8'), ('weighted_n_node_samples', '<f8')])"
      ]
     },
     "execution_count": 44,
     "metadata": {},
     "output_type": "execute_result"
    }
   ],
   "source": [
    "# http://scikit-learn.org/stable/modules/model_persistence.html\n",
    "\n",
    "# http://stackoverflow.com/questions/15564410/scikit-learn-svm-how-to-save-load-support-vectors\n",
    "# \n",
    "# show tree\n",
    "\n",
    "clf.tree_.__getstate__()['nodes']"
   ]
  },
  {
   "cell_type": "markdown",
   "metadata": {},
   "source": [
    "# Let's Try some other methods"
   ]
  },
  {
   "cell_type": "code",
   "execution_count": 46,
   "metadata": {},
   "outputs": [],
   "source": [
    "# from sklearn.svm import LinearSVC\n",
    "# svm = LinearSVC(C=0.1)\n",
    "# svm.fit(X_train, y_train)\n",
    "\n",
    "\n",
    "# print(svm.predict(X_train))\n",
    "# print(y_train)\n",
    "\n",
    "# svm.score(X_train, y_train)\n",
    "\n",
    "# svm.score(X_test, y_test)"
   ]
  },
  {
   "cell_type": "markdown",
   "metadata": {
    "collapsed": true
   },
   "source": [
    "# Random Forest"
   ]
  },
  {
   "cell_type": "code",
   "execution_count": null,
   "metadata": {},
   "outputs": [],
   "source": [
    "from sklearn.ensemble import RandomForestClassifier\n",
    "rf = RandomForestClassifier(n_estimators=50)\n",
    "rf.fit(X_train, y_train)\n",
    "rf.predict(X_test)\n",
    "\n",
    "rf.score(X_test, y_test)\n"
   ]
  },
  {
   "cell_type": "code",
   "execution_count": 49,
   "metadata": {},
   "outputs": [
    {
     "name": "stderr",
     "output_type": "stream",
     "text": [
      "/home/547/fxz547/.local/lib/python3.6/site-packages/sklearn/svm/base.py:929: ConvergenceWarning: Liblinear failed to converge, increase the number of iterations.\n",
      "  \"the number of iterations.\", ConvergenceWarning)\n"
     ]
    },
    {
     "name": "stdout",
     "output_type": "stream",
     "text": [
      "[  0 128 128 ...   0 128   0]\n",
      "[  0 128 128 ...   0 128   0]\n"
     ]
    },
    {
     "data": {
      "text/plain": [
       "0.9999991252432917"
      ]
     },
     "execution_count": 49,
     "metadata": {},
     "output_type": "execute_result"
    }
   ],
   "source": [
    "from sklearn.svm import LinearSVC\n",
    "svm = LinearSVC(C=0.1)\n",
    "svm.fit(X_train, y_train)\n",
    "\n",
    "\n",
    "print(svm.predict(X_train))\n",
    "print(y_train)\n",
    "\n",
    "# svm.score(X_train, y_train)\n",
    "\n",
    "svm.score(X_test, y_test)\n",
    "\n",
    "\n",
    "#Stop here. Do acuracy comparison:\n",
    "    \n",
    "# Random Forest 99.310%  Train slow\n",
    "# LinearSVM 90.799%\n",
    "# DecisionTree(depth=7) 96.756%  Train very fast. Complex tree"
   ]
  },
  {
   "cell_type": "markdown",
   "metadata": {},
   "source": [
    "# Cross Validation\n",
    "Advanced_sklearn/Chapter%201/Cross%20Validation.ipynb"
   ]
  },
  {
   "cell_type": "code",
   "execution_count": 50,
   "metadata": {},
   "outputs": [
    {
     "name": "stdout",
     "output_type": "stream",
     "text": [
      "[1. 1. 1. 1. 1.]\n",
      "1.0\n"
     ]
    }
   ],
   "source": [
    "# compute resource limit problem \n",
    "from sklearn.model_selection import cross_val_score\n",
    "\n",
    "#for classifier in [clf, svm, rf]:\n",
    "for classifier in [clf] :\n",
    "    scores = cross_val_score(classifier, X, Y, cv=5)\n",
    "    print(scores)\n",
    "    print(np.mean(scores))\n",
    "\n",
    "# Results with my_file_csv='/g/data/u46/fxz547/wofs_training_sample_data/orig_copy/Test_Tile_samples_20140203.csv'\n",
    "# random forest is no better than clf. svm is no good.\n",
    "# [ 0.93761947  0.9168854   0.93080083  0.96054265  0.97094193]\n",
    "# cls:  0.943358053934\n",
    "# [ 0.84295027  0.93209894  0.90567316  0.90808262  0.90809689]\n",
    "# svm:  0.899380377677\n",
    "# [ 0.92633591  0.91465293  0.94864626  0.94893796  0.97848818]\n",
    "# rf: 0.943412249083"
   ]
  },
  {
   "cell_type": "code",
   "execution_count": 51,
   "metadata": {},
   "outputs": [
    {
     "name": "stdout",
     "output_type": "stream",
     "text": [
      "total 3740\r\n",
      "-rw-r--r-- 1 fxz547 ha3  49657 Jun  4 15:04 visualize_geotiff_files.ipynb\r\n",
      "-rw-r--r-- 1 fxz547 ha3  99687 Jun  4 15:04 NCI_Training_GA_Jan2016.ipynb\r\n",
      "-rwxr-xr-x 1 fxz547 ha3 618344 Jun  4 15:04 machine_Learn_water_data.ipynb\r\n",
      "-rw-r--r-- 1 fxz547 ha3  22037 Jun  4 15:04 feature_selection_howto.ipynb\r\n",
      "-rw-r--r-- 1 fxz547 ha3 482913 Jun  4 15:04 explore_water_datas.ipynb\r\n",
      "-rw-r--r-- 1 fxz547 ha3 566670 Jun  4 15:04 explore_sample_data_for_water_v2.ipynb\r\n",
      "-rw-r--r-- 1 fxz547 ha3 622030 Jun  4 15:04 explore_sample_data_for_water.ipynb\r\n",
      "-rw-r--r-- 1 fxz547 ha3  76691 Jun  4 15:04 explore_netcdf_stack_tile.ipynb\r\n",
      "-rwxr-xr-x 1 fxz547 ha3  88626 Jun  4 15:04 explore_csv_data.ipynb\r\n",
      "-rwxr-xr-x 1 fxz547 ha3 216462 Jun  4 15:04 analyse_water_yearlysummary_csv2.ipynb\r\n",
      "-rw-r--r-- 1 fxz547 ha3 277370 Jun  4 15:04 analyse_water_yearlysummary_csv1.ipynb\r\n",
      "-rw-r--r-- 1 fxz547 ha3  27998 Jun  4 15:14 water_pixel_images_classif.ipynb\r\n",
      "-rw-r--r-- 1 fxz547 ha3 608373 Jun  4 16:01 machine_Learn_water_pixel_csv.ipynb\r\n"
     ]
    }
   ],
   "source": [
    "!ls -ltr"
   ]
  },
  {
   "cell_type": "code",
   "execution_count": 53,
   "metadata": {},
   "outputs": [
    {
     "ename": "NameError",
     "evalue": "name 'clf3' is not defined",
     "output_type": "error",
     "traceback": [
      "\u001b[0;31m---------------------------------------------------------------------------\u001b[0m",
      "\u001b[0;31mNameError\u001b[0m                                 Traceback (most recent call last)",
      "\u001b[0;32m<ipython-input-53-361544863472>\u001b[0m in \u001b[0;36m<module>\u001b[0;34m()\u001b[0m\n\u001b[0;32m----> 1\u001b[0;31m \u001b[0mprint\u001b[0m \u001b[0;34m(\u001b[0m\u001b[0mclf3\u001b[0m\u001b[0;34m)\u001b[0m\u001b[0;34m\u001b[0m\u001b[0m\n\u001b[0m",
      "\u001b[0;31mNameError\u001b[0m: name 'clf3' is not defined"
     ]
    }
   ],
   "source": []
  },
  {
   "cell_type": "code",
   "execution_count": null,
   "metadata": {
    "collapsed": true
   },
   "outputs": [],
   "source": []
  },
  {
   "cell_type": "code",
   "execution_count": null,
   "metadata": {
    "collapsed": true
   },
   "outputs": [],
   "source": []
  },
  {
   "cell_type": "code",
   "execution_count": null,
   "metadata": {
    "collapsed": true
   },
   "outputs": [],
   "source": []
  },
  {
   "cell_type": "markdown",
   "metadata": {},
   "source": [
    "## Select Data to Analyse "
   ]
  }
 ],
 "metadata": {
  "kernelspec": {
   "display_name": "Python 3",
   "language": "python",
   "name": "python3"
  },
  "language_info": {
   "codemirror_mode": {
    "name": "ipython",
    "version": 3
   },
   "file_extension": ".py",
   "mimetype": "text/x-python",
   "name": "python",
   "nbconvert_exporter": "python",
   "pygments_lexer": "ipython3",
   "version": "3.6.6"
  }
 },
 "nbformat": 4,
 "nbformat_minor": 1
}
