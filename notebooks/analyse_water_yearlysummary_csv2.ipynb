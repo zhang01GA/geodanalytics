{
 "cells": [
  {
   "cell_type": "markdown",
   "metadata": {},
   "source": [
    "# Analyse Yearly Water Observation Summary Stats over cells"
   ]
  },
  {
   "cell_type": "code",
   "execution_count": 1,
   "metadata": {
    "collapsed": false
   },
   "outputs": [],
   "source": [
    "import os, sys\n",
    "\n",
    "import numpy as np\n",
    "\n",
    "from numpy import genfromtxt\n",
    "\n",
    "import pandas as pd\n",
    "#import pandas.io.data\n",
    "from pandas_datareader import data, wb\n",
    "from pandas import DataFrame\n",
    "\n",
    "\n",
    "%matplotlib inline\n",
    "import matplotlib.pyplot as plt\n",
    "import matplotlib\n",
    "matplotlib.style.use('ggplot')\n",
    "\n",
    "\n",
    "from pylab import rcParams\n",
    "rcParams['figure.figsize'] = 10, 10 # increase plot size a bit...\n",
    "rcParams['axes.formatter.useoffset'] = False  # disable scalar formatter / offset in axes labels"
   ]
  },
  {
   "cell_type": "code",
   "execution_count": 2,
   "metadata": {
    "collapsed": false
   },
   "outputs": [
    {
     "name": "stdout",
     "output_type": "stream",
     "text": [
      "/home/547/fxz547/myGithub/geodanalytics/data/wofsstats_by_cell_yearly_Oct2Sept_2D_Grids.csv\n"
     ]
    }
   ],
   "source": [
    "infile='wofsstats_by_cell_yearly_Oct2Sept_2D_Grids.csv'\n",
    "\n",
    "#my_file_csv = os.path.join('/Softdata/data/water_extents', infile) \n",
    "my_file_csv = os.path.join('/home/547/fxz547/myGithub/geodanalytics/data', infile) \n",
    "\n",
    "print(my_file_csv)"
   ]
  },
  {
   "cell_type": "markdown",
   "metadata": {},
   "source": [
    "# Using Pandas  to handle heterogeneous tabular data structure with labeled axes \n",
    "http://pandas.pydata.org/pandas-docs/stable/cookbook.html#cookbook"
   ]
  },
  {
   "cell_type": "code",
   "execution_count": 3,
   "metadata": {
    "collapsed": true
   },
   "outputs": [],
   "source": [
    "pdf = pd.read_csv(my_file_csv)"
   ]
  },
  {
   "cell_type": "code",
   "execution_count": 4,
   "metadata": {
    "collapsed": true
   },
   "outputs": [],
   "source": [
    "pdf['waterpct'] = (100.0*pdf.waterobs)/pdf.clearobs"
   ]
  },
  {
   "cell_type": "code",
   "execution_count": 5,
   "metadata": {
    "collapsed": false
   },
   "outputs": [
    {
     "data": {
      "text/html": [
       "<div>\n",
       "<table border=\"1\" class=\"dataframe\">\n",
       "  <thead>\n",
       "    <tr style=\"text-align: right;\">\n",
       "      <th></th>\n",
       "      <th>year</th>\n",
       "      <th>longitude</th>\n",
       "      <th>latitude</th>\n",
       "      <th>waterpix</th>\n",
       "      <th>clearpix</th>\n",
       "      <th>waterobs</th>\n",
       "      <th>clearobs</th>\n",
       "      <th>waterpct</th>\n",
       "    </tr>\n",
       "  </thead>\n",
       "  <tbody>\n",
       "    <tr>\n",
       "      <th>0</th>\n",
       "      <td>2014</td>\n",
       "      <td>144</td>\n",
       "      <td>-16</td>\n",
       "      <td>212647</td>\n",
       "      <td>12237774</td>\n",
       "      <td>1192606</td>\n",
       "      <td>162951368</td>\n",
       "      <td>0.731878</td>\n",
       "    </tr>\n",
       "    <tr>\n",
       "      <th>1</th>\n",
       "      <td>1987</td>\n",
       "      <td>143</td>\n",
       "      <td>-33</td>\n",
       "      <td>73606</td>\n",
       "      <td>15998159</td>\n",
       "      <td>203443</td>\n",
       "      <td>223908841</td>\n",
       "      <td>0.090860</td>\n",
       "    </tr>\n",
       "    <tr>\n",
       "      <th>2</th>\n",
       "      <td>1987</td>\n",
       "      <td>144</td>\n",
       "      <td>-42</td>\n",
       "      <td>10394</td>\n",
       "      <td>1635415</td>\n",
       "      <td>17123</td>\n",
       "      <td>2995284</td>\n",
       "      <td>0.571665</td>\n",
       "    </tr>\n",
       "    <tr>\n",
       "      <th>3</th>\n",
       "      <td>1987</td>\n",
       "      <td>123</td>\n",
       "      <td>-35</td>\n",
       "      <td>6989</td>\n",
       "      <td>21195</td>\n",
       "      <td>15135</td>\n",
       "      <td>55136</td>\n",
       "      <td>27.450305</td>\n",
       "    </tr>\n",
       "    <tr>\n",
       "      <th>4</th>\n",
       "      <td>1987</td>\n",
       "      <td>129</td>\n",
       "      <td>-16</td>\n",
       "      <td>782258</td>\n",
       "      <td>14238574</td>\n",
       "      <td>4656771</td>\n",
       "      <td>203970601</td>\n",
       "      <td>2.283060</td>\n",
       "    </tr>\n",
       "  </tbody>\n",
       "</table>\n",
       "</div>"
      ],
      "text/plain": [
       "   year  longitude  latitude  waterpix  clearpix  waterobs   clearobs  \\\n",
       "0  2014        144       -16    212647  12237774   1192606  162951368   \n",
       "1  1987        143       -33     73606  15998159    203443  223908841   \n",
       "2  1987        144       -42     10394   1635415     17123    2995284   \n",
       "3  1987        123       -35      6989     21195     15135      55136   \n",
       "4  1987        129       -16    782258  14238574   4656771  203970601   \n",
       "\n",
       "    waterpct  \n",
       "0   0.731878  \n",
       "1   0.090860  \n",
       "2   0.571665  \n",
       "3  27.450305  \n",
       "4   2.283060  "
      ]
     },
     "execution_count": 5,
     "metadata": {},
     "output_type": "execute_result"
    }
   ],
   "source": [
    "pdf.head()"
   ]
  },
  {
   "cell_type": "code",
   "execution_count": 6,
   "metadata": {
    "collapsed": false
   },
   "outputs": [
    {
     "data": {
      "text/plain": [
       "(26784, 8)"
      ]
     },
     "execution_count": 6,
     "metadata": {},
     "output_type": "execute_result"
    }
   ],
   "source": [
    "pdf.shape"
   ]
  },
  {
   "cell_type": "code",
   "execution_count": 7,
   "metadata": {
    "collapsed": false
   },
   "outputs": [
    {
     "data": {
      "text/plain": [
       "year           int64\n",
       "longitude      int64\n",
       "latitude       int64\n",
       "waterpix       int64\n",
       "clearpix       int64\n",
       "waterobs       int64\n",
       "clearobs       int64\n",
       "waterpct     float64\n",
       "dtype: object"
      ]
     },
     "execution_count": 7,
     "metadata": {},
     "output_type": "execute_result"
    }
   ],
   "source": [
    "pdf.dtypes\n"
   ]
  },
  {
   "cell_type": "code",
   "execution_count": null,
   "metadata": {
    "collapsed": true
   },
   "outputs": [],
   "source": []
  },
  {
   "cell_type": "code",
   "execution_count": 8,
   "metadata": {
    "collapsed": false
   },
   "outputs": [],
   "source": [
    "# Group by year, the sum the values in each group\n",
    "df_aus_yearly=pdf.groupby('year').sum()"
   ]
  },
  {
   "cell_type": "code",
   "execution_count": 9,
   "metadata": {
    "collapsed": false
   },
   "outputs": [
    {
     "data": {
      "text/plain": [
       "5133012185249"
      ]
     },
     "execution_count": 9,
     "metadata": {},
     "output_type": "execute_result"
    }
   ],
   "source": [
    "df_aus_yearly['clearobs'].sum()  # 5x10^12 clear pix obs over 28 years"
   ]
  },
  {
   "cell_type": "code",
   "execution_count": 10,
   "metadata": {
    "collapsed": false
   },
   "outputs": [
    {
     "data": {
      "text/plain": [
       "<matplotlib.axes._subplots.AxesSubplot at 0x7f04d49452d0>"
      ]
     },
     "execution_count": 10,
     "metadata": {},
     "output_type": "execute_result"
    },
    {
     "data": {
      "image/png": "[encoded data removed]",
      "text/plain": [
       "<matplotlib.figure.Figure at 0x7f04de2959d0>"
      ]
     },
     "metadata": {},
     "output_type": "display_data"
    }
   ],
   "source": [
    "# Unique water pixels of water over years in Australia continent, showing a peak at 2010, the year with plenty rainfall\n",
    "df_aus_yearly['waterpix'].plot(kind='bar')"
   ]
  },
  {
   "cell_type": "code",
   "execution_count": null,
   "metadata": {
    "collapsed": false
   },
   "outputs": [],
   "source": []
  },
  {
   "cell_type": "code",
   "execution_count": 11,
   "metadata": {
    "collapsed": false
   },
   "outputs": [],
   "source": [
    "# Percentage of water observed. Or frequency of observing water.\n",
    "# shows peak in 2000 and 2010. 10 year draught in between.\n",
    "df_aus_yearly['waterpct'] = 100.0*df_aus_yearly.waterobs/df_aus_yearly.clearobs"
   ]
  },
  {
   "cell_type": "code",
   "execution_count": 12,
   "metadata": {
    "collapsed": false
   },
   "outputs": [
    {
     "data": {
      "text/plain": [
       "<matplotlib.axes._subplots.AxesSubplot at 0x7f04d4835290>"
      ]
     },
     "execution_count": 12,
     "metadata": {},
     "output_type": "execute_result"
    },
    {
     "data": {
      "image/png": "[encoded data removed]",
      "text/plain": [
       "<matplotlib.figure.Figure at 0x7f04d47c9210>"
      ]
     },
     "metadata": {},
     "output_type": "display_data"
    }
   ],
   "source": [
    "# The percentage of Water Pixel Obs, showing a peak in 2010, the year break draught\n",
    "df_aus_yearly['waterpct'].plot(kind='bar')"
   ]
  },
  {
   "cell_type": "markdown",
   "metadata": {},
   "source": [
    "# the In-land region Canberra, impacted by 10-year draught clearly seen"
   ]
  },
  {
   "cell_type": "code",
   "execution_count": 13,
   "metadata": {
    "collapsed": true
   },
   "outputs": [],
   "source": [
    "# select rows with conditions\n",
    "# http://stackoverflow.com/questions/15315452/selecting-with-complex-criteria-from-pandas-dataframe"
   ]
  },
  {
   "cell_type": "code",
   "execution_count": 14,
   "metadata": {
    "collapsed": false
   },
   "outputs": [],
   "source": [
    "#select certain rows\n",
    "my_long =149  #Canberra\n",
    "my_lat=-36\n",
    "\n",
    "df_cell= pdf[pdf['longitude']==my_long ].set_index('year')"
   ]
  },
  {
   "cell_type": "code",
   "execution_count": 15,
   "metadata": {
    "collapsed": false
   },
   "outputs": [
    {
     "data": {
      "text/html": [
       "<div>\n",
       "<table border=\"1\" class=\"dataframe\">\n",
       "  <thead>\n",
       "    <tr style=\"text-align: right;\">\n",
       "      <th></th>\n",
       "      <th>longitude</th>\n",
       "      <th>latitude</th>\n",
       "      <th>waterpix</th>\n",
       "      <th>clearpix</th>\n",
       "      <th>waterobs</th>\n",
       "      <th>clearobs</th>\n",
       "      <th>waterpct</th>\n",
       "    </tr>\n",
       "    <tr>\n",
       "      <th>year</th>\n",
       "      <th></th>\n",
       "      <th></th>\n",
       "      <th></th>\n",
       "      <th></th>\n",
       "      <th></th>\n",
       "      <th></th>\n",
       "      <th></th>\n",
       "    </tr>\n",
       "  </thead>\n",
       "  <tbody>\n",
       "    <tr>\n",
       "      <th>1987</th>\n",
       "      <td>149</td>\n",
       "      <td>-29</td>\n",
       "      <td>726334</td>\n",
       "      <td>15999505</td>\n",
       "      <td>1081557</td>\n",
       "      <td>214615202</td>\n",
       "      <td>0.503952</td>\n",
       "    </tr>\n",
       "    <tr>\n",
       "      <th>1987</th>\n",
       "      <td>149</td>\n",
       "      <td>-35</td>\n",
       "      <td>33135</td>\n",
       "      <td>13885253</td>\n",
       "      <td>111526</td>\n",
       "      <td>106080561</td>\n",
       "      <td>0.105133</td>\n",
       "    </tr>\n",
       "    <tr>\n",
       "      <th>1987</th>\n",
       "      <td>149</td>\n",
       "      <td>-37</td>\n",
       "      <td>69169</td>\n",
       "      <td>11139440</td>\n",
       "      <td>347937</td>\n",
       "      <td>77651757</td>\n",
       "      <td>0.448074</td>\n",
       "    </tr>\n",
       "    <tr>\n",
       "      <th>1987</th>\n",
       "      <td>149</td>\n",
       "      <td>-36</td>\n",
       "      <td>142665</td>\n",
       "      <td>12237061</td>\n",
       "      <td>360660</td>\n",
       "      <td>86501369</td>\n",
       "      <td>0.416941</td>\n",
       "    </tr>\n",
       "    <tr>\n",
       "      <th>1987</th>\n",
       "      <td>149</td>\n",
       "      <td>-30</td>\n",
       "      <td>236388</td>\n",
       "      <td>15998109</td>\n",
       "      <td>649214</td>\n",
       "      <td>148814119</td>\n",
       "      <td>0.436258</td>\n",
       "    </tr>\n",
       "  </tbody>\n",
       "</table>\n",
       "</div>"
      ],
      "text/plain": [
       "      longitude  latitude  waterpix  clearpix  waterobs   clearobs  waterpct\n",
       "year                                                                        \n",
       "1987        149       -29    726334  15999505   1081557  214615202  0.503952\n",
       "1987        149       -35     33135  13885253    111526  106080561  0.105133\n",
       "1987        149       -37     69169  11139440    347937   77651757  0.448074\n",
       "1987        149       -36    142665  12237061    360660   86501369  0.416941\n",
       "1987        149       -30    236388  15998109    649214  148814119  0.436258"
      ]
     },
     "execution_count": 15,
     "metadata": {},
     "output_type": "execute_result"
    }
   ],
   "source": [
    "df_cell.head()"
   ]
  },
  {
   "cell_type": "code",
   "execution_count": 16,
   "metadata": {
    "collapsed": false
   },
   "outputs": [],
   "source": [
    "dfcell = df_cell[df_cell.latitude ==my_lat]"
   ]
  },
  {
   "cell_type": "code",
   "execution_count": 17,
   "metadata": {
    "collapsed": false
   },
   "outputs": [
    {
     "data": {
      "text/html": [
       "<div>\n",
       "<table border=\"1\" class=\"dataframe\">\n",
       "  <thead>\n",
       "    <tr style=\"text-align: right;\">\n",
       "      <th></th>\n",
       "      <th>longitude</th>\n",
       "      <th>latitude</th>\n",
       "      <th>waterpix</th>\n",
       "      <th>clearpix</th>\n",
       "      <th>waterobs</th>\n",
       "      <th>clearobs</th>\n",
       "      <th>waterpct</th>\n",
       "    </tr>\n",
       "    <tr>\n",
       "      <th>year</th>\n",
       "      <th></th>\n",
       "      <th></th>\n",
       "      <th></th>\n",
       "      <th></th>\n",
       "      <th></th>\n",
       "      <th></th>\n",
       "      <th></th>\n",
       "    </tr>\n",
       "  </thead>\n",
       "  <tbody>\n",
       "    <tr>\n",
       "      <th>1987</th>\n",
       "      <td>149</td>\n",
       "      <td>-36</td>\n",
       "      <td>142665</td>\n",
       "      <td>12237061</td>\n",
       "      <td>360660</td>\n",
       "      <td>86501369</td>\n",
       "      <td>0.416941</td>\n",
       "    </tr>\n",
       "    <tr>\n",
       "      <th>1988</th>\n",
       "      <td>149</td>\n",
       "      <td>-36</td>\n",
       "      <td>300977</td>\n",
       "      <td>12231948</td>\n",
       "      <td>1594460</td>\n",
       "      <td>87621302</td>\n",
       "      <td>1.819717</td>\n",
       "    </tr>\n",
       "    <tr>\n",
       "      <th>1989</th>\n",
       "      <td>149</td>\n",
       "      <td>-36</td>\n",
       "      <td>299262</td>\n",
       "      <td>12163924</td>\n",
       "      <td>1022815</td>\n",
       "      <td>52532470</td>\n",
       "      <td>1.947015</td>\n",
       "    </tr>\n",
       "    <tr>\n",
       "      <th>1990</th>\n",
       "      <td>149</td>\n",
       "      <td>-36</td>\n",
       "      <td>335708</td>\n",
       "      <td>12236919</td>\n",
       "      <td>2476140</td>\n",
       "      <td>114248730</td>\n",
       "      <td>2.167324</td>\n",
       "    </tr>\n",
       "    <tr>\n",
       "      <th>1991</th>\n",
       "      <td>149</td>\n",
       "      <td>-36</td>\n",
       "      <td>468122</td>\n",
       "      <td>12221562</td>\n",
       "      <td>1476507</td>\n",
       "      <td>68383127</td>\n",
       "      <td>2.159169</td>\n",
       "    </tr>\n",
       "  </tbody>\n",
       "</table>\n",
       "</div>"
      ],
      "text/plain": [
       "      longitude  latitude  waterpix  clearpix  waterobs   clearobs  waterpct\n",
       "year                                                                        \n",
       "1987        149       -36    142665  12237061    360660   86501369  0.416941\n",
       "1988        149       -36    300977  12231948   1594460   87621302  1.819717\n",
       "1989        149       -36    299262  12163924   1022815   52532470  1.947015\n",
       "1990        149       -36    335708  12236919   2476140  114248730  2.167324\n",
       "1991        149       -36    468122  12221562   1476507   68383127  2.159169"
      ]
     },
     "execution_count": 17,
     "metadata": {},
     "output_type": "execute_result"
    }
   ],
   "source": [
    "dfcell.head()"
   ]
  },
  {
   "cell_type": "code",
   "execution_count": 18,
   "metadata": {
    "collapsed": false
   },
   "outputs": [
    {
     "data": {
      "text/plain": [
       "(28, 7)"
      ]
     },
     "execution_count": 18,
     "metadata": {},
     "output_type": "execute_result"
    }
   ],
   "source": [
    "dfcell.shape"
   ]
  },
  {
   "cell_type": "code",
   "execution_count": 19,
   "metadata": {
    "collapsed": false
   },
   "outputs": [
    {
     "data": {
      "text/plain": [
       "<matplotlib.axes._subplots.AxesSubplot at 0x7f04d46b8c90>"
      ]
     },
     "execution_count": 19,
     "metadata": {},
     "output_type": "execute_result"
    },
    {
     "data": {
      "image/png": "[encoded data removed]",
      "text/plain": [
       "<matplotlib.figure.Figure at 0x7f04d487f690>"
      ]
     },
     "metadata": {},
     "output_type": "display_data"
    }
   ],
   "source": [
    "dfcell['waterpix'].plot(kind='bar')  # Unique water pixels observed yearly"
   ]
  },
  {
   "cell_type": "code",
   "execution_count": 21,
   "metadata": {
    "collapsed": false
   },
   "outputs": [
    {
     "data": {
      "text/plain": [
       "<matplotlib.axes._subplots.AxesSubplot at 0x7f04d4875350>"
      ]
     },
     "execution_count": 21,
     "metadata": {},
     "output_type": "execute_result"
    },
    {
     "data": {
      "image/png": "[encoded data removed]",
      "text/plain": [
       "<matplotlib.figure.Figure at 0x7f04d540a1d0>"
      ]
     },
     "metadata": {},
     "output_type": "display_data"
    }
   ],
   "source": [
    "# the In-land region Canberra, impacted by 10-year draught clearly seen\n",
    "\n",
    "dfcell['waterpct'].plot(kind='bar') "
   ]
  },
  {
   "cell_type": "markdown",
   "metadata": {},
   "source": [
    "# Focus a cell (lan, lon)"
   ]
  },
  {
   "cell_type": "code",
   "execution_count": 35,
   "metadata": {
    "collapsed": false
   },
   "outputs": [],
   "source": [
    "def focus_cell(lon,lat):\n",
    "    \n",
    "    latlonmask= (pdf['latitude'] == lat) & (pdf['longitude']==lon)  #select certain rows\n",
    "    \n",
    "    df_cell = pdf.loc[latlonmask]\n",
    "\n",
    "    #df_cell['waterpct'] = 100.0*df_cell.waterobs/df_cell.clearobs\n",
    "    \n",
    "    df_cell['waterpct'].plot(kind='bar') \n",
    "    \n",
    "    return df_cell\n"
   ]
  },
  {
   "cell_type": "code",
   "execution_count": 36,
   "metadata": {
    "collapsed": false
   },
   "outputs": [
    {
     "data": {
      "image/png": "[encoded data removed]",
      "text/plain": [
       "<matplotlib.figure.Figure at 0x7f04d46c2a90>"
      ]
     },
     "metadata": {},
     "output_type": "display_data"
    }
   ],
   "source": [
    "\n",
    "my_df = focus_cell(149, -36)"
   ]
  },
  {
   "cell_type": "code",
   "execution_count": 37,
   "metadata": {
    "collapsed": false
   },
   "outputs": [
    {
     "data": {
      "image/png": "[encoded data removed]",
      "text/plain": [
       "<matplotlib.figure.Figure at 0x7f04b12e28d0>"
      ]
     },
     "metadata": {},
     "output_type": "display_data"
    }
   ],
   "source": [
    "\n",
    "my_df = focus_cell(149, -31)"
   ]
  },
  {
   "cell_type": "code",
   "execution_count": 25,
   "metadata": {
    "collapsed": false
   },
   "outputs": [],
   "source": [
    "# http://www.bom.gov.au/climate/updates/articles/a010-southern-rainfall-decline.shtml"
   ]
  },
  {
   "cell_type": "code",
   "execution_count": 38,
   "metadata": {
    "collapsed": false
   },
   "outputs": [
    {
     "data": {
      "text/html": [
       "<div>\n",
       "<table border=\"1\" class=\"dataframe\">\n",
       "  <thead>\n",
       "    <tr style=\"text-align: right;\">\n",
       "      <th></th>\n",
       "      <th>year</th>\n",
       "      <th>longitude</th>\n",
       "      <th>latitude</th>\n",
       "      <th>waterpix</th>\n",
       "      <th>clearpix</th>\n",
       "      <th>waterobs</th>\n",
       "      <th>clearobs</th>\n",
       "      <th>waterpct</th>\n",
       "    </tr>\n",
       "  </thead>\n",
       "  <tbody>\n",
       "    <tr>\n",
       "      <th>917</th>\n",
       "      <td>1987</td>\n",
       "      <td>149</td>\n",
       "      <td>-31</td>\n",
       "      <td>101830</td>\n",
       "      <td>15951004</td>\n",
       "      <td>297142</td>\n",
       "      <td>152319034</td>\n",
       "      <td>0.195079</td>\n",
       "    </tr>\n",
       "    <tr>\n",
       "      <th>1866</th>\n",
       "      <td>1988</td>\n",
       "      <td>149</td>\n",
       "      <td>-31</td>\n",
       "      <td>97403</td>\n",
       "      <td>15951070</td>\n",
       "      <td>356916</td>\n",
       "      <td>180339314</td>\n",
       "      <td>0.197914</td>\n",
       "    </tr>\n",
       "    <tr>\n",
       "      <th>2814</th>\n",
       "      <td>1989</td>\n",
       "      <td>149</td>\n",
       "      <td>-31</td>\n",
       "      <td>168579</td>\n",
       "      <td>15950995</td>\n",
       "      <td>407943</td>\n",
       "      <td>138055259</td>\n",
       "      <td>0.295493</td>\n",
       "    </tr>\n",
       "    <tr>\n",
       "      <th>3759</th>\n",
       "      <td>1990</td>\n",
       "      <td>149</td>\n",
       "      <td>-31</td>\n",
       "      <td>143771</td>\n",
       "      <td>15951137</td>\n",
       "      <td>474868</td>\n",
       "      <td>203370048</td>\n",
       "      <td>0.233499</td>\n",
       "    </tr>\n",
       "    <tr>\n",
       "      <th>4711</th>\n",
       "      <td>1991</td>\n",
       "      <td>149</td>\n",
       "      <td>-31</td>\n",
       "      <td>82045</td>\n",
       "      <td>15951080</td>\n",
       "      <td>399848</td>\n",
       "      <td>192262068</td>\n",
       "      <td>0.207970</td>\n",
       "    </tr>\n",
       "  </tbody>\n",
       "</table>\n",
       "</div>"
      ],
      "text/plain": [
       "      year  longitude  latitude  waterpix  clearpix  waterobs   clearobs  \\\n",
       "917   1987        149       -31    101830  15951004    297142  152319034   \n",
       "1866  1988        149       -31     97403  15951070    356916  180339314   \n",
       "2814  1989        149       -31    168579  15950995    407943  138055259   \n",
       "3759  1990        149       -31    143771  15951137    474868  203370048   \n",
       "4711  1991        149       -31     82045  15951080    399848  192262068   \n",
       "\n",
       "      waterpct  \n",
       "917   0.195079  \n",
       "1866  0.197914  \n",
       "2814  0.295493  \n",
       "3759  0.233499  \n",
       "4711  0.207970  "
      ]
     },
     "execution_count": 38,
     "metadata": {},
     "output_type": "execute_result"
    }
   ],
   "source": [
    "my_df.head()\n"
   ]
  },
  {
   "cell_type": "code",
   "execution_count": 39,
   "metadata": {
    "collapsed": false
   },
   "outputs": [
    {
     "name": "stdout",
     "output_type": "stream",
     "text": [
      "(112, 153)\n",
      "(-45, -11)\n"
     ]
    }
   ],
   "source": [
    "X_MIN = pdf.longitude.min()\n",
    "X_MAX =pdf.longitude.max()\n",
    "\n",
    "Y_MIN= pdf.latitude.min()\n",
    "Y_MAX= pdf.latitude.max()\n",
    "\n",
    "print (X_MIN, X_MAX)\n",
    "print(Y_MIN, Y_MAX)"
   ]
  },
  {
   "cell_type": "code",
   "execution_count": 28,
   "metadata": {
    "collapsed": true
   },
   "outputs": [],
   "source": [
    "YSIZE=  Y_MAX - Y_MIN +1\n",
    "XSIZE= X_MAX - X_MIN +1\n",
    "mywater=np.zeros((YSIZE, XSIZE), float)"
   ]
  },
  {
   "cell_type": "code",
   "execution_count": 190,
   "metadata": {
    "collapsed": false
   },
   "outputs": [],
   "source": [
    "def water_year(ayear):\n",
    "    from mpl_toolkits.axes_grid1 import make_axes_locatable\n",
    "    #ayear=2010\n",
    "    \n",
    "    mywater=np.empty((YSIZE, XSIZE), float)  #empty has weired value .zero if want a particular value 0\n",
    "    mywater.fill(np.nan)  # initialize with np.nan, then other functions will take it as no-value\n",
    "\n",
    "    pdf_ayear = pdf.loc[pdf['year'] == ayear]\n",
    "\n",
    "\n",
    "    #pdf_ayear.head()\n",
    "\n",
    "    # iterate a pandas data frame over rows\n",
    "    for index, row in pdf_ayear.iterrows():\n",
    "        #print (row.year, row.longitude, row.latitude, row.waterpix)\n",
    "        \n",
    "        #mywater[Y_MAX - row.latitude, row.longitude-X_MIN] = row.waterpix\n",
    "        \n",
    "        mywater[Y_MAX - row.latitude, row.longitude-X_MIN] = row.waterpct\n",
    "        \n",
    "#         if  row.clearobs ==0 :\n",
    "#             pass\n",
    "#             #print (row.year, row.longitude, row.latitude, row.clearobs)\n",
    "#         else:\n",
    "#             mywater[Y_MAX - row.latitude, row.longitude-X_MIN] = (100.0*row.waterobs)/row.clearobs\n",
    "\n",
    "    \n",
    "    plt.figure()\n",
    "    ax = plt.gca()\n",
    "    im = ax.imshow(mywater, interpolation='none', vmin=0, vmax=10, cmap='jet')  # for percentage\n",
    "    #im = ax.imshow(mywater,  vmin=0, vmax=10000000, cmap='jet')  #interpolation='none',\n",
    "    plt.grid(False)\n",
    "\n",
    "\n",
    "# create an axes on the right side of ax. The width of cax will be 5%\n",
    "# of ax and the padding between cax and ax will be fixed at 0.05 inch.\n",
    "    divider = make_axes_locatable(ax)\n",
    "    cax = divider.append_axes(\"right\", size=\"5%\", pad=0.05)\n",
    "\n",
    "    plt.colorbar(im, cax=cax)\n",
    "    \n",
    "    return mywater"
   ]
  },
  {
   "cell_type": "code",
   "execution_count": 46,
   "metadata": {
    "collapsed": true
   },
   "outputs": [],
   "source": [
    "ayear=pdf.year.min()"
   ]
  },
  {
   "cell_type": "code",
   "execution_count": 217,
   "metadata": {
    "collapsed": false
   },
   "outputs": [
    {
     "name": "stdout",
     "output_type": "stream",
     "text": [
      "1988\n"
     ]
    },
    {
     "name": "stderr",
     "output_type": "stream",
     "text": [
      "/g/data1/u46/users/fxz547/anaconda2/lib/python2.7/site-packages/ipykernel/__main__.py:19: DeprecationWarning: using a non-integer number instead of an integer will result in an error in the future\n"
     ]
    },
    {
     "data": {
      "image/png": "[encoded data removed]",
      "text/plain": [
       "<matplotlib.figure.Figure at 0x7f04b116f4d0>"
      ]
     },
     "metadata": {},
     "output_type": "display_data"
    }
   ],
   "source": [
    "print (ayear)\n",
    "mywater = water_year(ayear)\n",
    "ayear +=1\n",
    "if ayear >= pdf.year.max():\n",
    "    ayear = pdf.year.min()\n"
   ]
  },
  {
   "cell_type": "code",
   "execution_count": 221,
   "metadata": {
    "collapsed": false
   },
   "outputs": [],
   "source": [
    "mask= mywater>=1"
   ]
  },
  {
   "cell_type": "code",
   "execution_count": 33,
   "metadata": {
    "collapsed": false
   },
   "outputs": [
    {
     "data": {
      "text/plain": [
       "(35, 42)"
      ]
     },
     "execution_count": 33,
     "metadata": {},
     "output_type": "execute_result"
    }
   ],
   "source": [
    "mask.shape"
   ]
  },
  {
   "cell_type": "code",
   "execution_count": 222,
   "metadata": {
    "collapsed": false
   },
   "outputs": [
    {
     "data": {
      "text/plain": [
       "<matplotlib.image.AxesImage at 0x7f04b0f23910>"
      ]
     },
     "execution_count": 222,
     "metadata": {},
     "output_type": "execute_result"
    },
    {
     "data": {
      "image/png": "[encoded data removed]",
      "text/plain": [
       "<matplotlib.figure.Figure at 0x7f04b1069250>"
      ]
     },
     "metadata": {},
     "output_type": "display_data"
    }
   ],
   "source": [
    "plt.imshow(mask)"
   ]
  },
  {
   "cell_type": "code",
   "execution_count": null,
   "metadata": {
    "collapsed": true
   },
   "outputs": [],
   "source": []
  },
  {
   "cell_type": "code",
   "execution_count": null,
   "metadata": {
    "collapsed": true
   },
   "outputs": [],
   "source": []
  },
  {
   "cell_type": "code",
   "execution_count": null,
   "metadata": {
    "collapsed": true
   },
   "outputs": [],
   "source": []
  },
  {
   "cell_type": "code",
   "execution_count": null,
   "metadata": {
    "collapsed": true
   },
   "outputs": [],
   "source": []
  },
  {
   "cell_type": "code",
   "execution_count": null,
   "metadata": {
    "collapsed": true
   },
   "outputs": [],
   "source": []
  }
 ],
 "metadata": {
  "kernelspec": {
   "display_name": "Python 2",
   "language": "python",
   "name": "python2"
  },
  "language_info": {
   "codemirror_mode": {
    "name": "ipython",
    "version": 2
   },
   "file_extension": ".py",
   "mimetype": "text/x-python",
   "name": "python",
   "nbconvert_exporter": "python",
   "pygments_lexer": "ipython2",
   "version": "2.7.13"
  }
 },
 "nbformat": 4,
 "nbformat_minor": 0
}
