{
 "cells": [
  {
   "cell_type": "markdown",
   "metadata": {},
   "source": [
    "# OpenACC: 2X in 4 Steps (for C)\n",
    "\n",
    "In this self-paced, hands-on lab, we will use [OpenACC](http://openacc.org/) directives to port a basic C program to an accelerator in four simple steps, achieving *at least* a two-fold speed-up.\n",
    "\n",
    "Lab created by John Coombs, Mark Harris, and Mark Ebersole (Follow [@CUDAHamster](https://twitter.com/@cudahamster) on Twitter)"
   ]
  },
  {
   "cell_type": "markdown",
   "metadata": {},
   "source": [
    "The following timer counts down to a five minute warning before the lab instance shuts down.  You should get a pop up at the five minute warning reminding you to save your work!"
   ]
  },
  {
   "cell_type": "markdown",
   "metadata": {},
   "source": [
    "<script src=\"files/countdown_v5.0/countdown.js\"></script>\n",
    "<div id=\"clock\" align=\"center\"></div>\n",
    "<script>\n",
    "myDate = new Date();\n",
    "curTime = Date.UTC(myDate.getUTCFullYear(), \n",
    "                   myDate.getUTCMonth(), \n",
    "                   myDate.getUTCDate(), \n",
    "                   myDate.getUTCHours(), \n",
    "                   myDate.getUTCMinutes(),\n",
    "                   myDate.getUTCSeconds(),\n",
    "                   myDate.getUTCMilliseconds());\n",
    "\n",
    "function countdownComplete(){\n",
    "  \talert(\"You only have five minutes left in the lab! Time to save your work - see the Post Lab section near the bottom.\");\n",
    "}\n",
    "var myCD = new Countdown({\n",
    "                         time  \t: (1487297227753+110*60000-curTime)/1000,\n",
    "                         target\t \t: \"clock\",\n",
    "                         onComplete\t: countdownComplete,\n",
    "                         rangeHi  : \"minute\",\n",
    "                         hideLine\t: true,\n",
    "                         hideLabels\t: false,\n",
    "                         height\t \t: 60,\n",
    "                         width     : 150,\n",
    "                         style     : \"boring\",\n",
    "                    });\n",
    " </script>"
   ]
  },
  {
   "cell_type": "markdown",
   "metadata": {},
   "source": [
    "---\n",
    "Before we begin, let's verify [WebSockets](http://en.wikipedia.org/wiki/WebSocket) are working on your system.  To do this, execute the cell block *below* by giving it focus (clicking on it with your mouse), and hitting Ctrl-Enter, or by pressing the play button in the toolbar *above*.  If all goes well, you should see get some output returned below the grey cell.  If not, please consult the [Self-paced Lab Troubleshooting FAQ](https://developer.nvidia.com/self-paced-labs-faq#Troubleshooting) to debug the issue."
   ]
  },
  {
   "cell_type": "code",
   "execution_count": 1,
   "metadata": {
    "collapsed": false
   },
   "outputs": [
    {
     "name": "stdout",
     "output_type": "stream",
     "text": [
      "The answer should be three: 3\n"
     ]
    }
   ],
   "source": [
    "print \"The answer should be three: \" + str(1+2)"
   ]
  },
  {
   "cell_type": "markdown",
   "metadata": {},
   "source": [
    "Next let's get information about the GPUs on the server by executing the cell below."
   ]
  },
  {
   "cell_type": "code",
   "execution_count": 2,
   "metadata": {
    "collapsed": false
   },
   "outputs": [
    {
     "name": "stdout",
     "output_type": "stream",
     "text": [
      "Fri Feb 17 02:09:46 2017       \r\n",
      "+------------------------------------------------------+                       \r\n",
      "| NVIDIA-SMI 340.29     Driver Version: 340.29         |                       \r\n",
      "|-------------------------------+----------------------+----------------------+\r\n",
      "| GPU  Name        Persistence-M| Bus-Id        Disp.A | Volatile Uncorr. ECC |\r\n",
      "| Fan  Temp  Perf  Pwr:Usage/Cap|         Memory-Usage | GPU-Util  Compute M. |\r\n",
      "|===============================+======================+======================|\r\n",
      "|   0  GRID K520           On   | 0000:00:03.0     Off |                  N/A |\r\n",
      "| N/A   30C    P8    18W / 125W |     10MiB /  4095MiB |      0%      Default |\r\n",
      "+-------------------------------+----------------------+----------------------+\r\n",
      "                                                                               \r\n",
      "+-----------------------------------------------------------------------------+\r\n",
      "| Compute processes:                                               GPU Memory |\r\n",
      "|  GPU       PID  Process name                                     Usage      |\r\n",
      "|=============================================================================|\r\n",
      "|  No running compute processes found                                         |\r\n",
      "+-----------------------------------------------------------------------------+\r\n"
     ]
    }
   ],
   "source": [
    "!nvidia-smi"
   ]
  },
  {
   "cell_type": "markdown",
   "metadata": {},
   "source": [
    "---\n",
    "<p class=\"hint_trigger\">If you have never before taken an IPython Notebook based self-paced lab from NVIDIA, click this green box.\n",
    "      <div class=\"toggle_container\"><div class=\"input_area box-flex1\"><div class=\\\"highlight\\\">The following video will explain the infrastructure we are using for this self-paced lab, as well as give some tips on it's usage.  If you've never taken a lab on this system before, it's highly encourage you watch this short video first.<br><br>\n",
    "<div align=\"center\"><iframe width=\"640\" height=\"390\" src=\"http://www.youtube.com/embed/ZMrDaLSFqpY\" frameborder=\"0\" allowfullscreen></iframe></div>\n",
    "<br>\n",
    "<h2 style=\"text-align:center;color:red;\">Attention Firefox Users</h2><div style=\"text-align:center; margin: 0px 25px 0px 25px;\">There is a bug with Firefox related to setting focus in any text editors embedded in this lab. Even though the cursor may be blinking in the text editor, focus for the keyboard may not be there, and any keys you press may be applying to the previously selected cell.  To work around this issue, you'll need to first click in the margin of the browser window (where there are no cells) and then in the text editor.  Sorry for this inconvenience, we're working on getting this fixed.</div></div></div></div></p>"
   ]
  },
  {
   "cell_type": "markdown",
   "metadata": {},
   "source": [
    "## Introduction to OpenACC\n",
    "\n",
    "Open-specification OpenACC directives are a straightforward way to accelerate existing Fortran and C applications. With OpenACC directives, you provide hints via compiler directives (or 'pragmas') to tell the compiler where -- and how -- it should parallelize compute-intensive code for execution on an accelerator. \n",
    "\n",
    "If you've done parallel programming using OpenMP, OpenACC is very similar: using directives, applications can be parallelized *incrementally*, with little or no change to the Fortran, C or C++ source. Debugging and code maintenance are easier. OpenACC directives are designed for *portability* across operating systems, host CPUs, and accelerators. You can use OpenACC directives with GPU accelerated libraries, explicit parallel programming languages (e.g., CUDA), MPI, and OpenMP, *all in the same program.*\n",
    "\n",
    "Watch the following short video introduction to OpenACC:\n",
    "\n",
    "<div align=\"center\"><iframe width=\"640\" height=\"390\" style=\"margin: 0 auto;\" src=\"http://www.youtube.com/embed/c9WYCFEt_Uo\" frameborder=\"0\" allowfullscreen></iframe></div>\n",
    "\n",
    "This hands-on lab walks you through a short sample of a scientific code, and demonstrates how you can employ OpenACC directives using a four-step process. You will make modifications to a simple C program, then compile and execute the newly enhanced code in each step. Along the way, hints and solution are provided, so you can check your work, or take a peek if you get lost.\n",
    "\n",
    "If you are confused now, or at any point in this lab, you can consult the <a href=\"#FAQ\">FAQ</a> located at the bottom of this page."
   ]
  },
  {
   "cell_type": "markdown",
   "metadata": {},
   "source": [
    "## The Value of 2X in 4 Steps\n",
    "\n",
    "You can accelerate your applications using OpenACC directives and achieve *at least* a 2X speed-up, using 4 straightforward steps:\n",
    "\n",
    "1. Characterize your application\n",
    "2. Add compute directives\n",
    "3. Minimize data movement\n",
    "4. Optimize kernel scheduling\n",
    "\n",
    "The content of these steps and their order will be familiar if you have ever done parallel programming on other platforms. Parallel programmers deal with the same issues whenever they tackle a new set of code, no matter what platform they are parallelizing an application for. These issues include:\n",
    "\n",
    "+ optimizing and benchmarking the serial version of an application\n",
    "+ profiling to identify the compute-intensive portions of the program that can be executed concurrently\n",
    "+ expressing concurrency using a parallel programming notation (e.g., OpenACC directives)\n",
    "+ compiling and benchmarking each new/parallel version of the application\n",
    "+ locating problem areas and making improvements iteratively until the target level of performance is reached\n",
    "\n",
    "The programming manual for some other parallel platform you've used may have suggested five steps, or fifteen. Whether you are an expert or new to parallel programming, we recommend that you walk through the four steps here as a good way to begin accelerating applications by at least 2X using OpenACC directives. We believe *being more knowledgeable about the four steps* will make the process of programming for an accelerator more understandable *and* more manageable. The 2X in 4 Steps process will help you use OpenACC on your own codes more productively, and get significantly better speed-ups in less time."
   ]
  },
  {
   "cell_type": "markdown",
   "metadata": {},
   "source": [
    "## Step 1 - Characterize Your Application"
   ]
  },
  {
   "cell_type": "markdown",
   "metadata": {},
   "source": [
    "The most difficult part of accelerator programming begins before the first line of code is written. If your program is not highly parallel, an accelerator or coprocesor won't be much use. Understanding the code structure is crucial if you are going to *identify opportunities* and *successfully* parallelize a piece of code. The first step in OpenACC programming then is to *characterize the application*. This includes:\n",
    "\n",
    "+ benchmarking the single-thread, CPU-only version of the application\n",
    "+ understanding the program structure and how data is passed through the call tree\n",
    "+ profiling the application and identifying computationally-intense \"hot spots\"\n",
    "    + which loop nests dominate the runtime?\n",
    "    + what are the minimum/average/maximum tripcounts through these loop nests?\n",
    "    + are the loop nests suitable for an accelerator?\n",
    "+ insuring that the algorithms you are considering for acceleration are *safely* parallel\n",
    "\n",
    "Note: what we've just said may sound a little scary, so please note that as parallel programming methods go OpenACC is really pretty friendly: think of it as a sandbox you can play in. Because OpenACC directives are incremental, you can add one or two directives at a time and see how things work: the compiler provides a *lot* of feedback. The right software plus good tools plus educational experiences like this one should put you on the path to successfully accelerating your programs.\n",
    "\n",
    "We will be accelerating a 2D-stencil called the Jacobi Iteration. Jacobi Iteration is a standard method for finding solutions to a system of linear equations. The basic concepts behind a Jacobi Iteration are described in the following video:\n",
    "\n",
    "<div align=\"center\"><iframe width=\"640\" height=\"390\" src=\"http://www.youtube.com/embed/UOSYi3oLlRs\" frameborder=\"0\" allowfullscreen></iframe></div>"
   ]
  },
  {
   "cell_type": "markdown",
   "metadata": {},
   "source": [
    "Here is the serial C code for our Jacobi Iteration:\n",
    "\n",
    "    #include <math.h>\n",
    "    #include <string.h>\n",
    "    #include <openacc.h>\n",
    "    #include \"timer.h\"\n",
    "    #include <stdio.h>\n",
    "\n",
    "    #define NN 1024\n",
    "    #define NM 1024\n",
    "\n",
    "    float A[NN][NM];\n",
    "    float Anew[NN][NM];\n",
    "\n",
    "    int main(int argc, char** argv)\n",
    "    {\n",
    "        int i,j;\n",
    "        const int n = NN;\n",
    "        const int m = NM;\n",
    "        const int iter_max = 1000;\n",
    "        const double tol = 1.0e-6;\n",
    "        double error     = 1.0;\n",
    "    \n",
    "        memset(A, 0, n * m * sizeof(float));\n",
    "        memset(Anew, 0, n * m * sizeof(float));\n",
    "        \n",
    "        for (j = 0; j < n; j++)\n",
    "        {\n",
    "            A[j][0]    = 1.0;\n",
    "            Anew[j][0] = 1.0;\n",
    "        }\n",
    "    \n",
    "        printf(\"Jacobi relaxation Calculation: %d x %d mesh\\n\", n, m);\n",
    "    \n",
    "        StartTimer();\n",
    "        int iter = 0;\n",
    "    \n",
    "        while ( error > tol && iter < iter_max )\n",
    "        {\n",
    "            error = 0.0;\n",
    "\n",
    "            for( j = 1; j < n-1; j++)\n",
    "            {\n",
    "                for( i = 1; i < m-1; i++ )\n",
    "                {\n",
    "                    Anew[j][i] = 0.25 * ( A[j][i+1] + A[j][i-1]\n",
    "                                    + A[j-1][i] + A[j+1][i]);\n",
    "                    error = fmax( error, fabs(Anew[j][i] - A[j][i]));\n",
    "                }\n",
    "            }\n",
    "        \n",
    "            for( j = 1; j < n-1; j++)\n",
    "            {\n",
    "                for( i = 1; i < m-1; i++ )\n",
    "                {\n",
    "                     A[j][i] = Anew[j][i];    \n",
    "                }\n",
    "            }\n",
    "\n",
    "                if(iter % 100 == 0) printf(\"%5d, %0.6f\\n\", iter, error);\n",
    "        \n",
    "            iter++;\n",
    "        }\n",
    "\n",
    "        double runtime = GetTimer();\n",
    " \n",
    "        printf(\" total: %f s\\n\", runtime / 1000);\n",
    "    }\n",
    "\n",
    "In this code, the outer 'while' loop iterates until the solution has converged, by comparing the computed error to a specified error tolerance, *tol*. The first of two sets of inner nested loops applies a 2D Laplace operator at each element of a 2D grid, while the second set copies the output back to the input for the next iteration."
   ]
  },
  {
   "cell_type": "markdown",
   "metadata": {},
   "source": [
    "###Benchmarking\n",
    "\n",
    "Before you start modifying code and adding OpenACC directives, you should benchmark the serial version of the program. To facilitate benchmarking after this and every other step in our parallel porting effort, we have built a timing routine around the main structure of our program -- a process we recommend you follow in your own efforts. Let's run the `task1.c` file without making any changes -- using the *-fast* set of compiler options on the serial version of the Jacobi Iteration program -- and see how fast the serial program executes. This will establish a baseline for future comparisons.  Execute the following two cells to compile and run the program."
   ]
  },
  {
   "cell_type": "code",
   "execution_count": null,
   "metadata": {
    "collapsed": false
   },
   "outputs": [],
   "source": [
    "# To be sure we see some output from the compiler, we'll echo out \"Compiled Successfully!\" \n",
    "#(if the compile does not return an error)\n",
    "!pgcc -fast -o task1_pre_out task1/task1.c && echo \"Compiled Successfully!\""
   ]
  },
  {
   "cell_type": "code",
   "execution_count": null,
   "metadata": {
    "collapsed": false
   },
   "outputs": [],
   "source": [
    "# Execute our single-thread CPU-only Jacobi Iteration to get timing information.  Make sure you compiled successfully in the \n",
    "# above cell first.\n",
    "!./task1_pre_out"
   ]
  },
  {
   "cell_type": "markdown",
   "metadata": {},
   "source": [
    "### Quality Checking/Keeping a Record\n",
    "\n",
    "This is a good time to briefly talk about having a quality check in your code before starting to offload computation to an accelerator (or do any optimizations, for that matter).  It doesn't do you any good to make an application run faster if it does not return the correct results.  It is thus very important to have a quality check built into your application before you start accelerating or optimizing.  This can be a simple value print out (one you can compare to a non-accelerated version of the algorithm) or something else.\n",
    "\n",
    "In our case, on every 100th iteration of the outer `while` loop, we print the current max error. (You just saw an example when we executed *task1_pre_out*.) As we add directives to accelerate our code later in this lab, you can look back at these values to verify that we're getting the correct answer.  These print-outs also help us verify that we are converging on a solution -- which means that we should see, as we proceed, that the values are approaching zero.\n",
    "\n",
    "**Note:** NVIDIA GPUs implement IEEE-754 compliant floating point arithmetic just like most modern CPUs. However, because floating point arithmetic is not associative, the order of operations can affect the rounding error inherent with floating-point operations: you may not get exactly the same answer when you move to a different processor. Therefore, you'll want to make sure to verify your answer within an acceptable error bound. Please read [this](https://developer.nvidia.com/content/precision-performance-floating-point-and-ieee-754-compliance-nvidia-gpus) article at a later time, if you would like more details.\n",
    "\n",
    "*After each step*, we will record the results from our benchmarking and correctness tests in a table like this one: \n",
    "\n",
    "|Step| Execution       | ExecutionTime (s)     | Speedup vs. 1 CPU Thread       | Correct? | Programming Time |\n",
    "|:--:| --------------- | ---------------------:| ------------------------------:|:--------:| -----------------|\n",
    "|1   | CPU 1 thread    | 3.130             |                                | Yes      |                |  |\n",
    "\n",
    "*Note: Problem Size: 1024 x 1024; System Information: GK104; Compiler: PGI 14.3*\n",
    "\n",
    "(The execution times quoted will be times we got running on our GK104 -- your times throughout the lab may vary for one reason or another.)\n",
    "\n",
    "You may also want to track how much time you spend porting your application, step by step, so a column has been included for recording time spent."
   ]
  },
  {
   "cell_type": "markdown",
   "metadata": {},
   "source": [
    "### Profiling\n",
    "\n",
    "Back to our lab. Your objective in the step after this one (Step 2) will be to modify `task2.c` in a way that moves the most computationally intensive, independent loops to the accelerator. With a simple code, you can identify which loops are candidates for acceleration with a little bit of code inspection. On more complex codes, a great way to find these computationally intense areas is to use a profiler (such as PGI's PGPROF or open-source *gprof*) to determine which functions are consuming the largest amounts of compute time. To profile a C program on your own workstation, you'd type the lines below on the command line, but in this workshop, you just need to execute the following cell, and then click on the link below it to see the pgprof interface"
   ]
  },
  {
   "cell_type": "code",
   "execution_count": null,
   "metadata": {
    "collapsed": false
   },
   "outputs": [],
   "source": [
    "%%bash\n",
    "pgcc -Minfo=ccff -o task1/task1_simple_out task1/task1_simple.c\n",
    "pgcollect task1/task1_simple_out"
   ]
  },
  {
   "cell_type": "markdown",
   "metadata": {},
   "source": [
    "In this lab, to open the PGI profiler in a new window <a href=\"/vnc\" onclick=\"window.open(this.href, 'Profiler',\n",
    "'left=20,top=20,width=1028,height=772,toolbar=1,resizable=0'); return false;\">click here</a>."
   ]
  },
  {
   "cell_type": "markdown",
   "metadata": {},
   "source": [
    "As in real life, in this lab you may need to tell pgprof where various files are in your directory structure.\n",
    "\n",
    "<div align=\"center\"><img src=\"files/profiling_parameters_c.png\" width=\"60%\"></div>\n",
    "\n",
    "If so, click on *file*, then *open profile*. Use the browser buttons to navigate to *pgprof.out* and *task1_simple_out.exe* in the folder task1, then edit the source to match. Close the window by pressing OK. The profiler window should now look like this:\n",
    "\n",
    "<div align=\"center\"><img src=\"files/profiler_window_c.png\" width=\"60%\"></div>\n",
    "\n",
    "Clicking on *main* in the pgprof.out pane will show you how much time your system is spending executing each line of task1.c:\n",
    "\n",
    "<div align=\"center\"><img src=\"files/profiler_task1_c.png\" width=\"60%\"></div>"
   ]
  },
  {
   "cell_type": "markdown",
   "metadata": {},
   "source": [
    "In our Jacobi code sample, you can see that lines 42, 45 and 46 in loop one, and line 54 in loop two account for nearly all of our execution time. The compute-intensive part of our code is the two for-loops nested inside the while loop in the function *main*. (The profiler is a pretty useful tool!)\n",
    "\n",
    "Let's see what it takes to accelerate those loops."
   ]
  },
  {
   "cell_type": "markdown",
   "metadata": {},
   "source": [
    "## Step 2 - Add Compute Directives"
   ]
  },
  {
   "cell_type": "markdown",
   "metadata": {},
   "source": [
    "In C, an OpenACC directive is indicated in the code by '#pragma acc *your directive*'. This is very similar to OpenMP programming and gives hints to the compiler on how to handle the compilation of your source. If you are using a compiler which does not support OpenACC directives, it will simply ignore the '#pragma acc' directives and move on with the compilation.\n",
    "\n",
    "In Step 2, you will add compute regions around your expensive parallel loop(s). The first OpenACC directive you're going to learn about is the *kernels* directive. The kernels directive gives the compiler a lot of freedom in how it tries to accelerate your code - it basically says, \"Compiler, I believe the code in the following region is parallelizable, so I want you to try and accelerate it as best you can.\"\n",
    "\n",
    "Like most OpenACC directives in C/C++, the kernels directive applies to the structured code block immediately following the #pragma acc *directive*. For example, each of the following code samples instructs the compiler to generate a kernel -- from suitable loops -- for execution on an accelerator:\n",
    "\n",
    "    #pragma acc kernels\n",
    "    {\n",
    "        // accelerate suitable loops here  \n",
    "    }\n",
    "    // but not these loops\n",
    "\n",
    "or\n",
    "\n",
    "    #pragma acc kernels\n",
    "    for ( int i = 0; i < n; ++i ) \n",
    "      {  // body of for-loop\n",
    "        ... // The for-loop is a structured block, so this code will be accelerated\n",
    "      }\n",
    "    ... // Any code here will not be accelerated since it is outside of the for-loop"
   ]
  },
  {
   "cell_type": "markdown",
   "metadata": {},
   "source": [
    "One, two or several loops may be inside the structured block, the kernels directive will try to parallelize it, telling you what it found and generating as many kernels as it thinks it safely can. At some point, you will encounter the OpenACC *parallel* directive, which provides another method for defining compute regions in OpenACC. For now, let's drop in a simple OpenACC `kernels` directive in front of and embracing *both* the two for-loop codeblocks that follow the while loop. The kernels directive is designed to find the parallel acceleration opportunities implicit in the for-loops in the Jacobi Iteration code.  \n",
    "\n",
    "To get some hints about how and where to place your kernels directives, click on the green boxes below.  When you feel you are done, **make sure to save the task2.c file you've modified with File -> Save, and continue on.**  If you get completely stuck, you can look at task2_solution.c to see the answer."
   ]
  },
  {
   "cell_type": "markdown",
   "metadata": {},
   "source": [
    "<p class=\"hint_trigger\">Hint #1\n",
    "      <div class=\"toggle_container\"><div class=\"input_area box-flex1\"><div class=\\\"highlight\\\">Remember that in C, an OpenACC directive applies to the next structured code block.  So for example, the following applies the <code>kernels</code> directive to the outer <code>for</code> loop and everything inside of it:<pre><code>  #pragma acc kernels\n",
    "    for ( int i = 0; i < n-1; i++ )\n",
    "    {\n",
    "        for ( int j = 0; j < n-1; j++)\n",
    "            ...\n",
    "    }</code></pre></div></div></div></p>\n",
    "<p class=\"hint_trigger\">Hint #2\n",
    "      <div class=\"toggle_container\"><div class=\"input_area box-flex1\"><div class=\\\"highlight\\\">If you choose to use only one `#pragma acc kernels` region -- which we recommend, because it demonstrates the power of the *kernels* directive -- you will need to add some additional `{ }` brackets so it applies to the correct region of code.  </div></div></div></p>"
   ]
  },
  {
   "cell_type": "markdown",
   "metadata": {},
   "source": [
    "<iframe id=\"task2\" src=\"task2\" width=\"100%\" height=\"500px\">\n",
    "  <p>Your browser does not support iframes.</p>\n",
    "</iframe>"
   ]
  },
  {
   "cell_type": "markdown",
   "metadata": {},
   "source": [
    "Let's now compile our task2.c file by executing the cell below with Ctrl-Enter (or press the play button in the toolbar above)."
   ]
  },
  {
   "cell_type": "code",
   "execution_count": null,
   "metadata": {
    "collapsed": false
   },
   "outputs": [],
   "source": [
    "# Compile the task2.c file with the pgcc compiler\n",
    "# -acc tells the compiler to process the source recognizing #pragma acc directives\n",
    "# -Minfo tells the compiler to share information about the compilation process\n",
    "!pgcc -acc -Minfo -o task2_out task2/task2.c && echo \"Compiled Successfully\""
   ]
  },
  {
   "cell_type": "markdown",
   "metadata": {},
   "source": [
    "If you successfully added `#pragma acc kernels` in the proper spots, you should see the following in the output of the compiler:\n",
    "\n",
    "    main:\n",
    "         36, Generating present_or_copyin(Anew[1:1022][1:1022])\n",
    "             Generating copyin(A[:][:])\n",
    "             Generating copyout(A[1:1022][1:1022])\n",
    "             Generating NVIDIA code\n",
    "         41, Loop is parallelizable\n",
    "         43, Loop is parallelizable\n",
    "             Accelerator kernel generated\n",
    "             41, #pragma acc loop gang /* blockIdx.y */\n",
    "             43, #pragma acc loop gang, vector(128) /* blockIdx.x threadIdx.x */\n",
    "             47, Max reduction generated for error\n",
    "         52, Loop is parallelizable\n",
    "         54, Loop is parallelizable\n",
    "             Accelerator kernel generated\n",
    "             52, #pragma acc loop gang /* blockIdx.y */\n",
    "             54, #pragma acc loop gang, vector(128) /* blockIdx.x threadIdx.x */\n",
    "             Memory copy idiom, loop replaced by call to __c_mcopy4\n",
    "             \n",
    "If you do not get similar output, please check your work and try re-compiling.  If you're stuck, you can compare what you have to task2_solution.c in the editor above.\n",
    "\n",
    "*The output provided by the compiler is extremely useful, and should not be ignored when accelerating your own code with OpenACC.*  Let's break it down a bit and see what it's telling us.\n",
    "\n",
    "1. First since we used the `-Minfo` command-line option, we will see all output from the compiler.  If we were to use `-Minfo=accel` we would only see the output corresponding to the accelerator, in this case an NVIDIA GPU.\n",
    "2. The first line of the output, *main*, tells us which function the following information is in reference to.\n",
    "3. The line starting with `41, Loop is parallelizable` of the output tells us that on line `41` in our source, an accelerated kernel was generated.  This is the the loop just after where we put our `#pragma acc kernels`.\n",
    "4. The following lines provide more details on the accelerator kernel on line 42.  It shows we created a parallel OpenACC `loop`. This loop is made up of gangs (a grid of blocks in CUDA language) and vector parallelism (threads in CUDA language) with the vector size being 128 per gang.\n",
    "5. At line 54, the compiler tells us it found another loop to accelerate.\n",
    "6. The rest of the information concerns data movement which we'll get into later in this lab.\n",
    "\n",
    "So as you can see, lots of useful information is provided by the compiler, and it's very important that you carefuly inspect this information to make sure the compiler is doing what you've asked of it.\n",
    "\n",
    "Finally, let's execute this program to verify we are getting the correct answer (execute the cell below). "
   ]
  },
  {
   "cell_type": "markdown",
   "metadata": {},
   "source": [
    "Once you feel your code is correct, try running it by executing the cell block below.  You'll want to review our quality check from the beginning of task2 to make sure you didn't break the functionality of your application."
   ]
  },
  {
   "cell_type": "code",
   "execution_count": null,
   "metadata": {
    "collapsed": false
   },
   "outputs": [],
   "source": [
    "!./task2_out"
   ]
  },
  {
   "cell_type": "markdown",
   "metadata": {},
   "source": [
    "Let's record our results in the table:\n",
    "\n",
    "|Step| Execution    | Time(s)     | Speedup vs. 1 CPU Thread  | Correct? | Programming Time |\n",
    "| -- || ------------ | ----------- | ------------------------- | -------- | ---------------- |\n",
    "|1| CPU 1 thread |3.139      |                           |          | |\n",
    "|2| Add kernels directive  |4.697      | 0.67X                    | Yes      | ||\n",
    "\n",
    "*Note: Problem Size: 1024x1024; System Information: GK104; Compiler: PGI 14.3*\n",
    "\n",
    "\n",
    "Now, if your solution is similar to the one in task2_solution.c, you have probably noticed that we're executing **slower** than the non-accelerated, CPU-only version we started with.  What gives?!\n",
    "\n",
    "The compiler feedback we collected earlier tells you quite a bit about data movement, and you can collect even more by setting an environment variable (**export PGI_ACC_TIME=1**) and then running the compiled code. (We'll use this later in Step 4.) The reason for our slowdown in this step is *excessive data movement*: both regions spent the majority of their time *copying data*. (As in all modern computing, the movement of data is where applications spend most of their time and the host's computing power.)  This problem of copying back and forth on every iteration of a loop is sometimes called \"data sloshing\".\n",
    "\n",
    "The OpenACC compiler can only work with the information we have given it.  It knows we need the `A` and `Anew` arrays on the GPU for each of our two accelerated sections, but we didn't tell it anything about what happens to the data outside of those sections.  Without this knowledge, it has to copy the full arrays *to the GPU and back to the CPU* for each accelerated section, *every time* it went through the while loop.  That is a LOT of wasted data transfers.\n",
    "\n",
    "Ideally, we would just transfer `A` and `Anew` to the GPU at the beginning of the Jacobi Iteration, and then only transfer `A` back to the CPU at the end.\n",
    "\n",
    "Because overall accelerator performance is detetermined largely by how well memory transfers are optimized, the OpenACC specification defines the `data` directive and several modifying clauses to manage all the various forms of data movement."
   ]
  },
  {
   "cell_type": "markdown",
   "metadata": {},
   "source": [
    "\n",
    "## Step 3 - Manage Data Movement\n",
    "\n",
    "We need to give the compiler more information about how to reduce unnecessary data movement for the Jacobi Iteration.  We are going to do this with the OpenACC `data` directive and some modifying clauses defined in the OpenACC specification. \n",
    "\n",
    "In C, the `data` directive applies to the next structured code block.  The compiler will manage data according to the provided clauses.  It does this at the beginning of the `data` directive code block, and then again at the end.  Some of the clauses available for use with the `data` directive are:\n",
    "\n",
    "* `copy( list )` - Allocates memory on GPU and copies data from host to GPU when entering region and copies data to the host when exiting region.\n",
    "* `copyin( list )` - Allocates memory on GPU and copies data from host to GPU when entering region.\n",
    "* `copyout( list )` - Allocates memory on GPU and copies data to the host when exiting region.\n",
    "* `create( list )` - Allocates memory on GPU but does not copy.\n",
    "* `present( list )` - Data is already present on GPU from another containing data region.\n",
    "\n",
    "As an example, the following directive copies array A to the GPU at the beginning of the code block, and back to the CPU at the end.  It also copies arrays B and C *to the CPU* at the *end* of the code block, but does **not** copy them both to the GPU at the beginning:\n",
    "\n",
    "<pre><code>#pragma acc data copy( A ), copyout( B, C )\n",
    "{\n",
    "   ....\n",
    "}</code></pre>\n",
    "\n",
    "For detailed information on the `data` directive clauses, you can refer to the OpenACC [1.0](http://www.openacc.org/sites/default/files/OpenACC.1.0_0.pdf) or [2.0](http://www.openacc.org/sites/default/files/OpenACC%202%200.pdf) specifications.\n",
    "\n",
    "In the text editor below, see if you can add in a `data` directive to minimize data transfers in the Jacobi Iteration. There's a place for  the `create` clause in this exercise too.   As usual, there are some hints provided, and you can look at task3_solution.c to see the answer if you get stuck or want to check your work.  **Don't forget to save with File -> Save in the editor below before moving on.**"
   ]
  },
  {
   "cell_type": "markdown",
   "metadata": {},
   "source": [
    "<p class=\"hint_trigger\">Hint #1\n",
    "      <div class=\"toggle_container\"><div class=\"input_area box-flex1\"><div class=\\\"highlight\\\">You should only have to worry about managing the transfer of data in arrays <code>A</code> and <code>Anew</code>.</div></div></div></p>\n",
    "<p class=\"hint_trigger\">Hint #2\n",
    "      <div class=\"toggle_container\"><div class=\"input_area box-flex1\"><div class=\\\"highlight\\\">You want to put the data directive just above the outer <code>while</code> loop.</div></div></div></p>\n",
    "<p class=\"hint_trigger\">Hint #3\n",
    "      <div class=\"toggle_container\"><div class=\"input_area box-flex1\"><div class=\\\"highlight\\\">You'll want to `copy( A )` so it is transferred to the GPU and back again after the final iterations through the `data` region.  But you only need to `create( Anew )` as it is just used for temporary storage on the GPU, so there is no need to ever transfer it back and forth.</div></div></div></p>      "
   ]
  },
  {
   "cell_type": "markdown",
   "metadata": {},
   "source": [
    "<iframe id=\"task3\" src=\"task3\" width=\"100%\" height=\"500px\">\n",
    "  <p>Your browser does not support iframes.</p>\n",
    "</iframe>"
   ]
  },
  {
   "cell_type": "markdown",
   "metadata": {},
   "source": [
    "Once you think you have task3.c saved with a directive to manage data transfer, compile it with the below cell and note the changes in the compiler output in the areas discussing data movement (lines starting with `Generating ...`). Then modify Anew using the `create` clause, if you haven't yet, and compile again."
   ]
  },
  {
   "cell_type": "code",
   "execution_count": null,
   "metadata": {
    "collapsed": false
   },
   "outputs": [],
   "source": [
    "!pgcc -fast -acc -Minfo=accel -o task3_out task3/task3.c && echo \"Compiled Successfully\""
   ]
  },
  {
   "cell_type": "markdown",
   "metadata": {},
   "source": [
    "How are we doing on our timings? Let's execute our step 3 program and see if we have indeed accelerated the application versus the execution time we recorded after Step #2."
   ]
  },
  {
   "cell_type": "code",
   "execution_count": null,
   "metadata": {
    "collapsed": false
   },
   "outputs": [],
   "source": [
    "!./task3_out"
   ]
  },
  {
   "cell_type": "markdown",
   "metadata": {},
   "source": [
    "After making these changes, our accelerator code is much faster -- with just a few lines of OpenACC directives we have made our code more than twice as fast by running it on an accelerator, as shown in this table.\n",
    "\n",
    "|Step| Execution                 | Time (s)               | Speedup vs. 1 CPU thread | Correct? | Programming Time |\n",
    "| -- | ------------------------- | ---------------------- | ------------------------ | -------- | ---------------- |\n",
    "|1| CPU 1 thread              | 3.130                |                          |          | |\n",
    "|2| Add kernels directive     | 4.697                  |  0.67X                   |          | |\n",
    "|3| Manage data movement        | 0.628                  |  4.98X                  | Yes      | ||\n",
    "\n",
    "*Note: Problem Size: 1024x1024; System Information: GK104; Compiler: PGI 14.3*\n",
    "\n",
    "We are making good progress, but we can still improve performance."
   ]
  },
  {
   "cell_type": "markdown",
   "metadata": {},
   "source": [
    "## Step 4 - Optimize Kernel Scheduling"
   ]
  },
  {
   "cell_type": "markdown",
   "metadata": {},
   "source": [
    "The final step in our tuning process is to tune the OpenACC compute region schedules using the *gang* and *vector* clauses. These clauses let us use OpenACC directives to take more explicit control over how the compiler parallelizes our code *for the accelerator we will be using*. \n",
    "\n",
    "Kernel scheduling optimizations *may* give you significantly higher speedup, but be aware that these particular optimizations can significantly reduce performance portability. The vast majority of the time, the default kernel schedules chosen by the OpenACC compilers are quite good, but other times the compiler doesn't do as well. Let's spend a little time examining how we could do better, if we were in a situation where we felt we needed to. \n",
    "\n",
    "First, we need to get some additional insight into how our Jacobi Iteration code with the data optimizations is running on the accelerator. Let's run the C code with all your data movement optimizations on the accelerator again, this time setting the environment variable PGI_ACC_TIME that we mentioned in Step 2."
   ]
  },
  {
   "cell_type": "code",
   "execution_count": null,
   "metadata": {
    "collapsed": false
   },
   "outputs": [],
   "source": [
    "%%bash\n",
    "export PGI_ACC_TIME=1\n",
    "pgcc -acc -Minfo=accel -o accel_timing_out task3/task3.c\n",
    "./accel_timing_out"
   ]
  },
  {
   "cell_type": "markdown",
   "metadata": {},
   "source": [
    "This generates some information we haven't seen previously from the PGI compiler:"
   ]
  },
  {
   "cell_type": "markdown",
   "metadata": {},
   "source": [
    "    Accelerator Kernel Timing data\n",
    "    /home/gpudev1/notebook/task3/task3_solution.c\n",
    "      main  NVIDIA  devicenum=0\n",
    "        time(us): 391,494\n",
    "        34: data region reached 1 time\n",
    "            34: data copyin reached 1 time\n",
    "                 device time(us): total=479 max=479 min=479 avg=479\n",
    "            68: data copyout reached 1 time\n",
    "                 device time(us): total=519 max=519 min=519 avg=519\n",
    "        37: compute region reached 1000 times\n",
    "            44: kernel launched 1000 times\n",
    "                grid: [8x1022]  block: [128]\n",
    "                 device time(us): total=248,508 max=268 min=242 avg=248\n",
    "                elapsed time(us): total=258,569 max=453 min=255 avg=258\n",
    "            44: reduction kernel launched 1000 times\n",
    "                grid: [1]  block: [256]\n",
    "                 device time(us): total=27,531 max=83 min=25 avg=27\n",
    "                elapsed time(us): total=37,589 max=93 min=35 avg=37\n",
    "            55: kernel launched 1000 times\n",
    "                grid: [8x1022]  block: [128]\n",
    "                 device time(us): total=114,457 max=170 min=110 avg=114\n",
    "                elapsed time(us): total=124,880 max=303 min=121 avg=124"
   ]
  },
  {
   "cell_type": "markdown",
   "metadata": {},
   "source": [
    "There is a lot of information here about how the compiler mapped the computational kernels in our program to our particular accelerator (in this case, an NVIDIA GPU). We can see three regions. The first one is the memcopy loop nest starting on line 34, which takes only a tiny fraction of the 0.39 seconds of total system time. The second region is the nested computation loop starting on line 44, which takes about 0.25 seconds. The copyback (*copyout*) loop then executes beginning with line 68. We can see that region takes very little time -- which tells us there is no other part of the program that takes significant time. If we look at the main loop nests, we can see these lines: "
   ]
  },
  {
   "cell_type": "raw",
   "metadata": {},
   "source": [
    "grid: [8x1022]  block[128]"
   ]
  },
  {
   "cell_type": "markdown",
   "metadata": {},
   "source": [
    "The terms *grid* and *block* come from the CUDA programming model. A GPU executes groups of threads called *thread blocks*. To execute a kernel, the application launches a *grid* of these thread blocks. Each block runs on one of the GPUs *multiprocessors* and is assigned a certain range of IDs that it uses to address a unique data range. In this case our thread blocks have 128 threads each. The grid the compiler has constructed is also 2D, 8 blocks wide and 1022 blocks tall. This is just enough to cover our 1024x1024 grid. But we don't really need that many blocks -- if we tell the compiler to launch fewer, it will automatically generate a sequential loop over data blocks within the kernel code run by each thread.\n",
    "\n",
    "*Note: You can let the compiler do the hard work of mapping loop nests, unless you are certain you can do it better (and portability is not a concern.) When you decide to intervene, think about different parallelization strategies (loop schedules): in nested loops, distributing the work of the outer loops to the GPU multiprocessors (on PGI = gangs) in 1D grids. Similarly, think about mapping the work of the inner loops to the cores of the multiprocessors (CUDA threads, vectors)  in 1D blocks. The grids (gangs) and block (vector) sizes can be viewed by setting the environment variable ACC_NOTIFY. To get you started, here are some experiments we conducted for these computational kernels and this accelerator:*\n",
    "\n",
    "| Accelerator | Grid          |Outer Loop Gang | Outer Loop Vector | Inner Loop Gang | Inner Loop Vector | Seconds |\n",
    "| ----------- | ------------- |------------- | --------------- | ------------- | --------------- | ------- |\n",
    "| GK104       | 1024x1024     |              |               8 |               |              32 | 0.516   |\n",
    "|             |               |              |               4 |               |              64 | 0.516   |\n",
    "|             |               |              |                 |            8  |              32 | 0.516   |\n",
    "|             |               |              |                 |           16  |              32 | 0.585  |\n",
    "|             |               |              |                 |            4  |              64 | 0.676   |\n",
    "\n",
    "Try to modify the code for the main computational loop nests in the window below. You'll be using the openacc loop constructs `gang()` and  `vector()`. Look at task4_solution.c if you get stuck:\n"
   ]
  },
  {
   "cell_type": "markdown",
   "metadata": {},
   "source": [
    "<p class=\"hint_trigger\">Hint #1\n",
    "      <div class=\"toggle_container\"><div class=\"input_area box-flex1\"><div class=\\\"highlight\\\">You'll want a gang() and vector() clause on the inner loops, but you may want to let the compiler decide the dimensions of the outer loops.In that case, you can use a loop directive without any modifying clauses.</div></div></div></p>"
   ]
  },
  {
   "cell_type": "markdown",
   "metadata": {},
   "source": [
    "<iframe id=\"task4\" src=\"task4\" width=\"100%\" height=\"500px\">\n",
    "  <p>Your browser does not support iframes.</p>\n",
    "</iframe>"
   ]
  },
  {
   "cell_type": "markdown",
   "metadata": {},
   "source": [
    "After you've made some changes, save your work, then compile and run in the boxes below:"
   ]
  },
  {
   "cell_type": "code",
   "execution_count": null,
   "metadata": {
    "collapsed": false
   },
   "outputs": [],
   "source": [
    "!pgcc -acc -Minfo=accel -o task4_out task4/task4.c && echo \"Compiled Successfully\""
   ]
  },
  {
   "cell_type": "code",
   "execution_count": null,
   "metadata": {
    "collapsed": false
   },
   "outputs": [],
   "source": [
    "!./task4_out"
   ]
  },
  {
   "cell_type": "markdown",
   "metadata": {},
   "source": [
    "Looking at task4_solution.c, the gang(8) clause on the inner loop tells it to launch 8 blocks in the X(column) direction. The vector(32) clause on the inner loop tells the compiler to use blocks that are 32 threads (one warp) wide. The absence of clause on the outer loop lets the compiler decide how many rows of threads and how many blocks to use in the Y(row) direction. We can see what it says, again, with:"
   ]
  },
  {
   "cell_type": "code",
   "execution_count": null,
   "metadata": {
    "collapsed": false
   },
   "outputs": [],
   "source": [
    "%%bash\n",
    "export PGI_ACC_TIME=1\n",
    "./task4_out"
   ]
  },
  {
   "cell_type": "markdown",
   "metadata": {},
   "source": [
    "*Note: we usually want the inner loop to be vectorized, because it allows coalesced loading of data from global memory. This is almost guaranteed to give a big performance increase. Other optimizations are often trial and error. When selecting grid sizes, the most obvious mapping is to have*\n",
    "\n",
    "    the number of gangs * the number of workers * the number of vectors = the total problem size. \n",
    "    \n",
    "*We may choose to manipulate this number, as we are doing here, so that each thread does multiple pieces of work -- this helps amortize the cost of setup for simple kernels.*\n",
    "\n",
    "*Note: Low-level languages like CUDA C/C++ offer more direct control of the hardware. You can consider optimizing your most critical loops in CUDA C/C++ if you need to extract every last bit of performance from your application, while recognizing that doing so may impact the portability of your code. OpenACC and CUDA C/C++ are fully interoperable.*\n",
    "\n",
    "A similar change to the copy loop nest benefits performance by a small amount. After you've made all your changes (look at task4_solution.c to be sure) compile your code below:"
   ]
  },
  {
   "cell_type": "code",
   "execution_count": null,
   "metadata": {
    "collapsed": false
   },
   "outputs": [],
   "source": [
    "!pgcc -acc -Minfo=accel -o task4_out task4/task4.c  & echo \"Compiled Successfully\""
   ]
  },
  {
   "cell_type": "markdown",
   "metadata": {},
   "source": [
    "Then run it and record the run time of the optimized code in the table:"
   ]
  },
  {
   "cell_type": "code",
   "execution_count": null,
   "metadata": {
    "collapsed": false
   },
   "outputs": [],
   "source": [
    "!./task4_out"
   ]
  },
  {
   "cell_type": "markdown",
   "metadata": {},
   "source": [
    "Here is the perfomance after these final optimizations:\n",
    "\n",
    "|Step| Execution            | Time (s)      | Speedup vs. 1 CPU Thread        | Correct? | Programming Time |\n",
    "| -- | -------------------- | ------------- | ------------------------------- | -------- | ---------------- |\n",
    "|1| CPU 1 thread         | 3.130       |                                 |          | |\n",
    "|2| Add kernels directive     | 4.697                  |  0.67X                   |          | |\n",
    "|3| Manage data movement        | 0.628                  |  4.98X                  |           | |\n",
    "|4| Optimize kernel scheduling | 0.518          | 6.04X                       | Yes      | ||\n",
    "\n",
    "*Note: Problem Size: 1024x1024; System Information: GK104; Compiler: PGI 14.3*\n"
   ]
  },
  {
   "cell_type": "markdown",
   "metadata": {},
   "source": [
    "At this point, some of you may be wondering what kind of speed-up we get against the OpenMP version of this code.  If you look at task3_omp.c in the text editor above, you can see a simple OpenMP version of the Jacobi Iteration code.  Running this using 8-OpenMP threads on an Intel Xeon x5570, our Kepler GK104 is just slightly slower.  The reason for this is that in this lab so far we've been using a rather small matrix in our example: 1024x1024.  This size was chosen in the interest of keeping the time you are spending here reasonable, as larger matrices take longer to run, especially before we optimize for data movement.\n",
    "\n",
    "If we scale the matrix up to a more realistic size, say 4096x4096, our Kepler GK104 GPU becomes significantly faster than the 8-OpenMP thread version.  If you have some time remaining in this lab, feel free to compile & run the OpenMP and OpenACC versions below with the larger matrices.\n",
    "\n",
    "First, compile the OpenMP version, with two threads on each of the 4 cores of the SandyBridge CPUs:"
   ]
  },
  {
   "cell_type": "code",
   "execution_count": null,
   "metadata": {
    "collapsed": false
   },
   "outputs": [],
   "source": [
    "%%bash\n",
    "export OMP_NUM_THREADS=8\n",
    "pgcc -fast -mp -Minfo -o task4_4096_omp task4/task4_4096_omp.c"
   ]
  },
  {
   "cell_type": "markdown",
   "metadata": {},
   "source": [
    "Now run the OpenMP code you just created, and record your results in the new table for the larger matrix.\n",
    "\n",
    "*Note: because our dataset has now grown by 16-fold your CPU may not seem as responsive. We're using `-Minfo` in the compile so you can see that something is indeed happening, but you may need to be patient*."
   ]
  },
  {
   "cell_type": "code",
   "execution_count": null,
   "metadata": {
    "collapsed": false
   },
   "outputs": [],
   "source": [
    "!./task4_4096_omp"
   ]
  },
  {
   "cell_type": "markdown",
   "metadata": {},
   "source": [
    "Now, compile and run the OpenACC solution for the larger 4096x4096 matrix using the next two boxes:"
   ]
  },
  {
   "cell_type": "code",
   "execution_count": null,
   "metadata": {
    "collapsed": false
   },
   "outputs": [],
   "source": [
    "!pgcc -acc -Minfo=accel -o task4_4096_out task4/task4_4096_solution.c && echo \"Compiled Successfully\""
   ]
  },
  {
   "cell_type": "code",
   "execution_count": null,
   "metadata": {
    "collapsed": false
   },
   "outputs": [],
   "source": [
    "!./task4_4096_out"
   ]
  },
  {
   "cell_type": "markdown",
   "metadata": {},
   "source": [
    "Here's our comparison with the larger matrix size:\n",
    "\n",
    "| Execution            | matrix size | Time (s) | Speedup vs. 8 CPU threads | Correct? | Programming Time |\n",
    "| -------------------- | ----------- | -------- | ------------------------- |          | |\n",
    "| CPU 8   threads      | 4096x4096       | 55.504     |                           |          | |\n",
    "| GPU optimized kernel | 4096x4096        | 3.605      | 15.40X                       |   Yes    | ||\n",
    "\n",
    "*Note: System Information: GK104; Compiler: PGI 14.3*"
   ]
  },
  {
   "cell_type": "markdown",
   "metadata": {},
   "source": [
    "## Learn More\n",
    "\n",
    "If you are interested in learning more about OpenACC, you can use the following resources:\n",
    "\n",
    "* [openacc.org](http://openacc.org/)\n",
    "* [OpenACC on CUDA Zone](https://developer.nvidia.com/openacc)\n",
    "* Search or ask questions on [Stackoverflow](http://stackoverflow.com/questions/tagged/openacc) using the openacc tag\n",
    "* Get a [30-day trial](http://www.nvidia.com/object/openacc-gpu-directives.html) of the PGI OpenACC compiler *and* visit the PGI support forums at www.pgroup.com/userforum\n",
    "* Attend an in-depth workshop offered by XSEDE (https://portal.xsede.org/overview) or a commercial provider (see the 'education' page at OpenACC.org)\n",
    "\n",
    "---\n",
    "\n",
    "<a id=\"post-lab\"></a>\n",
    "## Post-Lab\n",
    "\n",
    "Finally, don't forget to save your work from this lab before time runs out and the instance shuts down!!\n",
    "\n",
    "1. Save this IPython Notebook by going to `File -> Download as -> IPython (.ipynb)` at the top of this window\n",
    "2. You can execute the following cell block to create a zip-file of the files you've been working on, and download it with the link below."
   ]
  },
  {
   "cell_type": "code",
   "execution_count": null,
   "metadata": {
    "collapsed": false
   },
   "outputs": [],
   "source": [
    "%%bash\n",
    "rm -f openacc_files.zip\n",
    "zip -r openacc_files.zip task*/*.c task*/*.h"
   ]
  },
  {
   "cell_type": "markdown",
   "metadata": {},
   "source": [
    "**After** executing the above zip command, you should be able to download the zip file [here](files/openacc_files.zip)"
   ]
  },
  {
   "cell_type": "markdown",
   "metadata": {},
   "source": [
    "<a id=\"FAQ\"></a>\n",
    "---\n",
    "# Lab FAQ\n",
    "\n",
    "Q: I'm encountering issues executing the cells, or other technical problems?<br>\n",
    "A: Please see [this](https://developer.nvidia.com/self-paced-labs-faq#Troubleshooting) infrastructure FAQ."
   ]
  },
  {
   "cell_type": "markdown",
   "metadata": {},
   "source": [
    "<style>\n",
    "p.hint_trigger{\n",
    "  margin-bottom:7px;\n",
    "  margin-top:-5px;\n",
    "  background:#64E84D;\n",
    "}\n",
    ".toggle_container{\n",
    "  margin-bottom:0px;\n",
    "}\n",
    ".toggle_container p{\n",
    "  margin:2px;\n",
    "}\n",
    ".toggle_container{\n",
    "  background:#f0f0f0;\n",
    "  clear: both;\n",
    "  font-size:100%;\n",
    "}\n",
    "</style>\n",
    "<script>\n",
    "$(\"p.hint_trigger\").click(function(){\n",
    "   $(this).toggleClass(\"active\").next().slideToggle(\"normal\");\n",
    "});\n",
    "   \n",
    "$(\".toggle_container\").hide();\n",
    "</script>"
   ]
  }
 ],
 "metadata": {
  "anaconda-cloud": {},
  "kernelspec": {
   "display_name": "Python [default]",
   "language": "python",
   "name": "python2"
  },
  "language_info": {
   "codemirror_mode": {
    "name": "ipython",
    "version": 2
   },
   "file_extension": ".py",
   "mimetype": "text/x-python",
   "name": "python",
   "nbconvert_exporter": "python",
   "pygments_lexer": "ipython2",
   "version": "2.7.12"
  }
 },
 "nbformat": 4,
 "nbformat_minor": 0
}
